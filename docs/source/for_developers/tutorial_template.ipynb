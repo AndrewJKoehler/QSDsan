{
 "cells": [
  {
   "cell_type": "markdown",
   "metadata": {},
   "source": [
    "# Tutorial Template\n",
    "\n",
    "- **Prepared by:**\n",
    "    \n",
    "    - [Author 1](email_address@if_wanted.com)\n",
    "    - Author 2\n",
    "\n",
    "- **Covered topics:**\n",
    "\n",
    "    - 1. Section title\n",
    "    - 2. `Module XX`"
   ]
  },
  {
   "cell_type": "markdown",
   "metadata": {},
   "source": [
    "## 1. Section title"
   ]
  },
  {
   "cell_type": "markdown",
   "metadata": {},
   "source": [
    "## 2. `Module XX`"
   ]
  },
  {
   "cell_type": "code",
   "execution_count": 1,
   "metadata": {},
   "outputs": [
    {
     "name": "stdout",
     "output_type": "stream",
     "text": [
      "QSDsan version is v0.3.2.\n"
     ]
    }
   ],
   "source": [
    "import qsdsan as qs\n",
    "# This way other people will know which version you use when writing the tutorial\n",
    "print(f'QSDsan version is v{qs.__version__}.')"
   ]
  }
 ],
 "metadata": {
  "kernelspec": {
   "display_name": "Python 3",
   "language": "python",
   "name": "python3"
  },
  "language_info": {
   "codemirror_mode": {
    "name": "ipython",
    "version": 3
   },
   "file_extension": ".py",
   "mimetype": "text/x-python",
   "name": "python",
   "nbconvert_exporter": "python",
   "pygments_lexer": "ipython3",
   "version": "3.8.2"
  }
 },
 "nbformat": 4,
 "nbformat_minor": 4
}
