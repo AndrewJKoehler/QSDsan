{
 "cells": [
  {
   "cell_type": "markdown",
   "metadata": {},
   "source": [
    "# `Component` <a class=\"anchor\" id=\"top\"></a>\n",
    "\n",
    "- **Prepared by:**\n",
    "    \n",
    "    - [Yalin Li](zoe.yalin.li@gmail.com)\n",
    "    - [Joy Cheung](joycheung1994@gmail.com)\n",
    "\n",
    "- **Covered topics:**\n",
    "\n",
    "    - [0. Before getting started](#s0)\n",
    "    - [1. Component](#s1)\n",
    "    - [2. Components](#s2)\n",
    "    - [3. CompiledComponents](#s3)"
   ]
  },
  {
   "cell_type": "markdown",
   "metadata": {},
   "source": [
    "## 0. Before getting started <a class=\"anchor\" id=\"s0\"></a>\n",
    "Check out this [video](https://www.youtube.com/watch?v=mk3WNCxD6tI) here about `qsdsan`, make sure you understand the UML (unified modeling language) diagram."
   ]
  },
  {
   "cell_type": "code",
   "execution_count": 1,
   "metadata": {},
   "outputs": [
    {
     "data": {
      "text/html": [
       "<img src=\"https://lucid.app/publicSegments/view/c8de361f-7292-47e3-8870-d6f668691728/image.png\" width=\"800\"/>"
      ],
      "text/plain": [
       "<IPython.core.display.Image object>"
      ]
     },
     "execution_count": 1,
     "metadata": {},
     "output_type": "execute_result"
    }
   ],
   "source": [
    "from IPython.display import Image\n",
    "Image(url='https://lucid.app/publicSegments/view/c8de361f-7292-47e3-8870-d6f668691728/image.png', width=800)"
   ]
  },
  {
   "cell_type": "code",
   "execution_count": 2,
   "metadata": {},
   "outputs": [
    {
     "name": "stdout",
     "output_type": "stream",
     "text": [
      "This tutorial is made with qsdsan v0.3.2.\n"
     ]
    }
   ],
   "source": [
    "import qsdsan as qs\n",
    "print(f'This tutorial is made with qsdsan v{qs.__version__}.')"
   ]
  },
  {
   "cell_type": "markdown",
   "metadata": {},
   "source": [
    "**[Back to Top](#top)**"
   ]
  },
  {
   "cell_type": "markdown",
   "metadata": {},
   "source": [
    "## 1. `Component` <a class=\"anchor\" id=\"s1\"></a>\n",
    "As shown in the UML (unified modeling language) diagram, `Component` is the most basic class of `qsdsan`, it can represent a pure chemical (e.g., Water) or a group of chemicals that are of similiar properties (e.g., X_PAO, phosphorus accumulating organisms)."
   ]
  },
  {
   "cell_type": "code",
   "execution_count": 3,
   "metadata": {},
   "outputs": [],
   "source": [
    "# It's always good to read through the documentation\n",
    "qs.Component?"
   ]
  },
  {
   "cell_type": "markdown",
   "metadata": {},
   "source": [
    "### 1.1. `Component` from scratch\n",
    "You can make a `Component` object from scratch by providing relevant information upon initiation (i.e., creation) of the object.\n",
    "\n",
    "Four attributes, `ID`, `particle_size`, `degradability`, and `organic` are required (i.e., must be provided)."
   ]
  },
  {
   "cell_type": "code",
   "execution_count": 4,
   "metadata": {},
   "outputs": [
    {
     "name": "stdout",
     "output_type": "stream",
     "text": [
      "Component: XPAO (phase_ref='l') at phase='l'\n",
      "[Names]  CAS: XPAO\n",
      "         InChI: None\n",
      "         InChI_key: None\n",
      "         common_name: None\n",
      "         iupac_name: None\n",
      "         pubchemid: None\n",
      "         smiles: None\n",
      "         formula: C5H7O2N\n",
      "[Groups] Dortmund: <Empty>\n",
      "         UNIFAC: <Empty>\n",
      "         PSRK: <Empty>\n",
      "         NIST: <Empty>\n",
      "[Data]   MW: 113.11 g/mol\n",
      "         Tm: None\n",
      "         Tb: None\n",
      "         Tt: None\n",
      "         Tc: None\n",
      "         Pt: None\n",
      "         Pc: None\n",
      "         Vc: None\n",
      "         Hf: None\n",
      "         S0: 0 J/K/mol\n",
      "         LHV: None\n",
      "         HHV: None\n",
      "         Hfus: None\n",
      "         Sfus: None\n",
      "         omega: None\n",
      "         dipole: None\n",
      "         similarity_variable: None\n",
      "         iscyclic_aliphatic: None\n",
      "         combustion: None\n",
      "\n",
      "Component-specific properties:\n",
      "[Others] measured_as: COD\n",
      "         description: None\n",
      "         particle_size: Particulate\n",
      "         degradability: Biological\n",
      "         organic: True\n",
      "         i_C: 0.37535 g C/g COD\n",
      "         i_N: 0.087545 g N/g COD\n",
      "         i_P: 0 g P/g COD\n",
      "         i_K: 0 g K/g COD\n",
      "         i_Mg: 0 g Mg/g COD\n",
      "         i_Ca: 0 g Ca/g COD\n",
      "         i_mass: 0.70699 g mass/g COD\n",
      "         i_charge: 0 mol +/g COD\n",
      "         i_COD: 1 g COD/g COD\n",
      "         i_NOD: 0 g NOD/g COD\n",
      "         f_BOD5_COD: 0\n",
      "         f_uBOD_COD: 0\n",
      "         f_Vmass_Totmass: 0\n"
     ]
    }
   ],
   "source": [
    "XPAO = qs.Component('XPAO', formula = 'C5H7O2N', measured_as = 'COD', phase='l',\n",
    "                     particle_size = 'Particulate', degradability = 'Biological',\n",
    "                     organic = True)\n",
    "# XPAO\n",
    "XPAO.show(True)"
   ]
  },
  {
   "cell_type": "code",
   "execution_count": 5,
   "metadata": {},
   "outputs": [],
   "source": [
    "# If you want to know what a specific attribute means, you can check the documentation\n",
    "XPAO.MW?"
   ]
  },
  {
   "cell_type": "code",
   "execution_count": 6,
   "metadata": {},
   "outputs": [],
   "source": [
    "# If you provide some inputs that are not legit, you will likely receive an error\n",
    "# bad_CH4 = qs.Component.from_chemical(ID=None, search_ID='CH4', particle_size='Dissolved gas',\n",
    "#                                      degradability='Readily', organic=False)"
   ]
  },
  {
   "cell_type": "markdown",
   "metadata": {},
   "source": [
    "### 1.2 `Component` from `Chemical`\n",
    "You can convert a `Chemical` object (native to `biosteam`) to `Component` by providing the extra information needed."
   ]
  },
  {
   "cell_type": "code",
   "execution_count": 7,
   "metadata": {},
   "outputs": [
    {
     "name": "stdout",
     "output_type": "stream",
     "text": [
      "Chemical: H2O (phase_ref='l')\n",
      "[Names]  CAS: 7732-18-5\n",
      "         InChI: H2O/h1H2\n",
      "         InChI_key: XLYOFNOQVPJJNP-U...\n",
      "         common_name: water\n",
      "         iupac_name: ('oxidane',)\n",
      "         pubchemid: 962\n",
      "         smiles: O\n",
      "         formula: H2O\n",
      "[Groups] Dortmund: <1H2O>\n",
      "         UNIFAC: <1H2O>\n",
      "         PSRK: <1H2O>\n",
      "         NIST: <Empty>\n",
      "[Data]   MW: 18.015 g/mol\n",
      "         Tm: 273.15 K\n",
      "         Tb: 373.12 K\n",
      "         Tt: 273.15 K\n",
      "         Tc: 647.14 K\n",
      "         Pt: 610.71 Pa\n",
      "         Pc: 2.2048e+07 Pa\n",
      "         Vc: 5.6e-05 m^3/mol\n",
      "         Hf: -2.8582e+05 J/mol\n",
      "         S0: 70 J/K/mol\n",
      "         LHV: 44011 J/mol\n",
      "         HHV: 0 J/mol\n",
      "         Hfus: 6010 J/mol\n",
      "         Sfus: None\n",
      "         omega: 0.344\n",
      "         dipole: 1.85 Debye\n",
      "         similarity_variable: 0.16653\n",
      "         iscyclic_aliphatic: 0\n",
      "         combustion: {'H2O': 1.0}\n"
     ]
    }
   ],
   "source": [
    "H2O_chem = qs.Chemical('H2O')\n",
    "H2O_chem.show()"
   ]
  },
  {
   "cell_type": "code",
   "execution_count": 8,
   "metadata": {},
   "outputs": [
    {
     "data": {
      "text/plain": [
       "thermosteam._chemical.Chemical"
      ]
     },
     "execution_count": 8,
     "metadata": {},
     "output_type": "execute_result"
    }
   ],
   "source": [
    "type(H2O_chem)"
   ]
  },
  {
   "cell_type": "code",
   "execution_count": 9,
   "metadata": {},
   "outputs": [],
   "source": [
    "H2O = qs.Component.from_chemical(\n",
    "    'H2O', H2O_chem,  particle_size='Soluble', degradability='Undegradable', organic=False)"
   ]
  },
  {
   "cell_type": "code",
   "execution_count": 10,
   "metadata": {},
   "outputs": [
    {
     "name": "stdout",
     "output_type": "stream",
     "text": [
      "Component: SNH4 (phase_ref='l') at phase='l'\n",
      "[Names]  CAS: 14798-03-9\n",
      "         InChI: InChI=1S/H3N/h1H3/p+...\n",
      "         InChI_key: QGZKDVFQNNGYKY-U...\n",
      "         common_name: Ammonium\n",
      "         iupac_name: ('azane;hydron'...\n",
      "         pubchemid: 1.6741e+07\n",
      "         smiles: [NH4+]\n",
      "         formula: H4N+\n",
      "[Groups] Dortmund: <Empty>\n",
      "         UNIFAC: <Empty>\n",
      "         PSRK: <Empty>\n",
      "         NIST: <Empty>\n",
      "[Data]   MW: 18.039 g/mol\n",
      "         Tm: None\n",
      "         Tb: None\n",
      "         Tt: None\n",
      "         Tc: None\n",
      "         Pt: None\n",
      "         Pc: None\n",
      "         Vc: None\n",
      "         Hf: None\n",
      "         S0: 0 J/K/mol\n",
      "         LHV: None\n",
      "         HHV: None\n",
      "         Hfus: 0 J/mol\n",
      "         Sfus: None\n",
      "         omega: None\n",
      "         dipole: None\n",
      "         similarity_variable: 0.27718\n",
      "         iscyclic_aliphatic: 0\n",
      "         combustion: None\n",
      "\n",
      "Component-specific properties:\n",
      "[Others] measured_as: N\n",
      "         description: None\n",
      "         particle_size: Soluble\n",
      "         degradability: Undegradable\n",
      "         organic: False\n",
      "         i_C: 0 g C/g N\n",
      "         i_N: 1 g N/g N\n",
      "         i_P: 0 g P/g N\n",
      "         i_K: 0 g K/g N\n",
      "         i_Mg: 0 g Mg/g N\n",
      "         i_Ca: 0 g Ca/g N\n",
      "         i_mass: 1.2878 g mass/g N\n",
      "         i_charge: 0.071394 mol +/g N\n",
      "         i_COD: 0 g COD/g N\n",
      "         i_NOD: 0 g NOD/g N\n",
      "         f_BOD5_COD: 0\n",
      "         f_uBOD_COD: 0\n",
      "         f_Vmass_Totmass: 0\n"
     ]
    }
   ],
   "source": [
    "# Or you pass a `search_ID`\n",
    "SNH4 = qs.Component('SNH4', search_ID='Ammonium', measured_as='N', phase='l',\n",
    "                    particle_size='Soluble', degradability='Undegradable',\n",
    "                    organic=False)\n",
    "SNH4.show(True)"
   ]
  },
  {
   "cell_type": "markdown",
   "metadata": {},
   "source": [
    "---\n",
    "### Tip\n",
    "You may notice that sometimes I just put the values of positional arguments (often shortened to args), e.g.,\n",
    "\n",
    "> \"SNH4\"\n",
    "\n",
    "sometimes I put both the keyword arguments (kwargs) and their values e.g., \n",
    "\n",
    "> measured_as='N'\n",
    "\n",
    "If you don't give the keyword, all the values will be assumed to be in the correct order in the `__init__` method of the object, it is also really convenient for functions without too many arguments, but can be problematic if there are many kwargs with some default values, and you only want to update several values."
   ]
  },
  {
   "cell_type": "code",
   "execution_count": 11,
   "metadata": {},
   "outputs": [
    {
     "name": "stdout",
     "output_type": "stream",
     "text": [
      "Husky is a kind of dog\n"
     ]
    }
   ],
   "source": [
    "# Let's make a small function to compare,\n",
    "# \"foo\" is often used as a name for a dummy function,\n",
    "# note that Python is 0-indexed (e.g., counting from 0)\n",
    "def foo(param0='Husky', param1='is', param2='a', param3='kind', param4='of', param5='dog'):\n",
    "    print(' '.join((param0, param1, param2, param3, param4, param5)))\n",
    "\n",
    "foo()"
   ]
  },
  {
   "cell_type": "code",
   "execution_count": 12,
   "metadata": {},
   "outputs": [
    {
     "name": "stdout",
     "output_type": "stream",
     "text": [
      "Fuji is a kind of apple\n"
     ]
    }
   ],
   "source": [
    "# This can still make sense if we do\n",
    "foo(param0='Fuji', param5='apple')"
   ]
  },
  {
   "cell_type": "code",
   "execution_count": 13,
   "metadata": {},
   "outputs": [
    {
     "name": "stdout",
     "output_type": "stream",
     "text": [
      "Fuji apple a kind of dog\n"
     ]
    }
   ],
   "source": [
    "# But it won't make any sense if we take out the keyward part,\n",
    "# since 'apple' will be passed to `param1`\n",
    "foo('Fuji', 'apple')"
   ]
  },
  {
   "cell_type": "code",
   "execution_count": 14,
   "metadata": {},
   "outputs": [
    {
     "name": "stdout",
     "output_type": "stream",
     "text": [
      "Fuji is a kind of apple\n"
     ]
    }
   ],
   "source": [
    "# Also note that you can do this:\n",
    "foo('Fuji', param5='apple')"
   ]
  },
  {
   "cell_type": "code",
   "execution_count": 15,
   "metadata": {},
   "outputs": [],
   "source": [
    "# But you can't do this because Python doesn't know which argument you want pass \"apple\" to\n",
    "# foo(param0='Fuji', 'apple')"
   ]
  },
  {
   "cell_type": "markdown",
   "metadata": {},
   "source": [
    "---"
   ]
  },
  {
   "cell_type": "code",
   "execution_count": 16,
   "metadata": {},
   "outputs": [
    {
     "data": {
      "text/plain": [
       "0.0"
      ]
     },
     "execution_count": 16,
     "metadata": {},
     "output_type": "execute_result"
    }
   ],
   "source": [
    "# If you create a `Component` with molecular formula,\n",
    "# attributes such as `i_C`, `i_N` will be automatically calcualted,\n",
    "# and `qsdsan` will raise an error if you want to change the value\n",
    "H2O.i_C"
   ]
  },
  {
   "cell_type": "code",
   "execution_count": 17,
   "metadata": {},
   "outputs": [],
   "source": [
    "# H2O.i_C = 1"
   ]
  },
  {
   "cell_type": "code",
   "execution_count": 18,
   "metadata": {},
   "outputs": [],
   "source": [
    "# If you have two components of similiar properties, you can use the `copy` method\n",
    "CH4_g = qs.Component(\n",
    "    ID='CH4_g', search_ID='CH4', phase='g', particle_size='Dissolved gas', degradability='Readily', organic=False,\n",
    "    description='gas phase CH4')"
   ]
  },
  {
   "cell_type": "code",
   "execution_count": 19,
   "metadata": {},
   "outputs": [
    {
     "name": "stdout",
     "output_type": "stream",
     "text": [
      "Component: CH4_g (phase_ref='g') at phase='g'\n",
      "Component-specific properties:\n",
      "[Others] measured_as: None\n",
      "         description: gas phase CH4\n",
      "         particle_size: Dissolved gas\n",
      "         degradability: Readily\n",
      "         organic: False\n",
      "         i_C: 0.74868 g C/g \n",
      "         i_N: 0 g N/g \n",
      "         i_P: 0 g P/g \n",
      "         i_K: 0 g K/g \n",
      "         i_Mg: 0 g Mg/g \n",
      "         i_Ca: 0 g Ca/g \n",
      "         i_mass: 1 g mass/g \n",
      "         i_charge: 0 mol +/g \n",
      "         i_COD: 0 g COD/g \n",
      "         i_NOD: 0 g NOD/g \n",
      "         f_BOD5_COD: 0\n",
      "         f_uBOD_COD: 0\n",
      "         f_Vmass_Totmass: 0\n"
     ]
    }
   ],
   "source": [
    "CH4_g.show()"
   ]
  },
  {
   "cell_type": "code",
   "execution_count": 20,
   "metadata": {},
   "outputs": [],
   "source": [
    "CH4_l = CH4_g.copy('CH4_l', phase='l', particle_size='Soluble', description='liquid phase CH4')"
   ]
  },
  {
   "cell_type": "code",
   "execution_count": 21,
   "metadata": {},
   "outputs": [
    {
     "name": "stdout",
     "output_type": "stream",
     "text": [
      "Component: CH4_l (phase_ref='g') at phase='l'\n",
      "Component-specific properties:\n",
      "[Others] measured_as: None\n",
      "         description: liquid phase CH4\n",
      "         particle_size: Soluble\n",
      "         degradability: Readily\n",
      "         organic: False\n",
      "         i_C: 0.74868 g C/g \n",
      "         i_N: 0 g N/g \n",
      "         i_P: 0 g P/g \n",
      "         i_K: 0 g K/g \n",
      "         i_Mg: 0 g Mg/g \n",
      "         i_Ca: 0 g Ca/g \n",
      "         i_mass: 1 g mass/g \n",
      "         i_charge: 0 mol +/g \n",
      "         i_COD: 0 g COD/g \n",
      "         i_NOD: 0 g NOD/g \n",
      "         f_BOD5_COD: 0\n",
      "         f_uBOD_COD: 0\n",
      "         f_Vmass_Totmass: 0\n"
     ]
    }
   ],
   "source": [
    "CH4_l.show() # the only difference is that CH4_g is locked at gas phase while CH4_l at liquid phase"
   ]
  },
  {
   "cell_type": "markdown",
   "metadata": {},
   "source": [
    "---\n",
    "### Tip\n",
    "Why do we want to set the phase (or \"lock the state\") of a `Component`? This is to reduce the computation burden in thermodynamic simulation. If we are sure that a particular `Component` will predominantly stay in a particular phase, then setting it to that phase will erase its properties related to other phases, and `thermosteam` can ignore phase equilibrium."
   ]
  },
  {
   "cell_type": "markdown",
   "metadata": {},
   "source": [
    "---"
   ]
  },
  {
   "cell_type": "markdown",
   "metadata": {},
   "source": [
    "**[Back to Top](#top)**"
   ]
  },
  {
   "cell_type": "markdown",
   "metadata": {},
   "source": [
    "## 2. `Components` <a class=\"anchor\" id=\"s2\"></a>\n",
    "`Components` (note the **s**) objects are like a list (i.e., collection) of `Components`, we will want to use them to tell `qsdsan` what components we want to work with in the system."
   ]
  },
  {
   "cell_type": "markdown",
   "metadata": {},
   "source": [
    "### 2.1. `Components` from scratch\n",
    "You can create a `Components` object from scratch by specifying all the `Component` objects."
   ]
  },
  {
   "cell_type": "code",
   "execution_count": 22,
   "metadata": {},
   "outputs": [
    {
     "name": "stdout",
     "output_type": "stream",
     "text": [
      "Components([XPAO, SNH4])\n"
     ]
    }
   ],
   "source": [
    "cmps1 = qs.Components((XPAO, SNH4))\n",
    "cmps1"
   ]
  },
  {
   "cell_type": "code",
   "execution_count": 23,
   "metadata": {},
   "outputs": [
    {
     "name": "stdout",
     "output_type": "stream",
     "text": [
      "Component: XPAO (phase_ref='l') at phase='l'\n",
      "Component-specific properties:\n",
      "[Others] measured_as: COD\n",
      "         description: None\n",
      "         particle_size: Particulate\n",
      "         degradability: Biological\n",
      "         organic: True\n",
      "         i_C: 0.37535 g C/g COD\n",
      "         i_N: 0.087545 g N/g COD\n",
      "         i_P: 0 g P/g COD\n",
      "         i_K: 0 g K/g COD\n",
      "         i_Mg: 0 g Mg/g COD\n",
      "         i_Ca: 0 g Ca/g COD\n",
      "         i_mass: 0.70699 g mass/g COD\n",
      "         i_charge: 0 mol +/g COD\n",
      "         i_COD: 1 g COD/g COD\n",
      "         i_NOD: 0 g NOD/g COD\n",
      "         f_BOD5_COD: 0\n",
      "         f_uBOD_COD: 0\n",
      "         f_Vmass_Totmass: 0\n"
     ]
    }
   ],
   "source": [
    "# All the `Component` objects are stored as attributes of the `Components` object\n",
    "cmps1.XPAO"
   ]
  },
  {
   "cell_type": "code",
   "execution_count": 24,
   "metadata": {},
   "outputs": [
    {
     "name": "stdout",
     "output_type": "stream",
     "text": [
      "Components([XPAO, SNH4, H2O])\n"
     ]
    }
   ],
   "source": [
    "# You can add more `Component` objects by appending (adding one per time)\n",
    "# or extending (adding several per time)\n",
    "cmps1.append(H2O)\n",
    "cmps1"
   ]
  },
  {
   "cell_type": "code",
   "execution_count": 25,
   "metadata": {},
   "outputs": [
    {
     "name": "stdout",
     "output_type": "stream",
     "text": [
      "Components([XPAO, SNH4, H2O])\n"
     ]
    }
   ],
   "source": [
    "# Of course, you can make a copy\n",
    "cmps1_copy = cmps1.copy()\n",
    "cmps1_copy"
   ]
  },
  {
   "cell_type": "markdown",
   "metadata": {},
   "source": [
    "### 2.2. `Components` from `Chemicals`\n",
    "Similar to how you make `Component` from `Chemical`, you can also make `Components` from `Chemicals` using the `from_chemicals` method of `Components`."
   ]
  },
  {
   "cell_type": "markdown",
   "metadata": {},
   "source": [
    "---\n",
    "### Tip\n",
    "You may be wondering about the difference between \"function\" and \"method\", in Python, a function becomes a \"method\" if it belongs to a certain class. For example, `from_chemicals` is a \"method\" because it belongs to the `Components` class, but `foo` (remember Husky?) is just a function because there is no class associated with it.\n",
    "\n",
    "Methods can be further divide into instance method, class method, and staticmethod, you can search for those if you are interested."
   ]
  },
  {
   "cell_type": "markdown",
   "metadata": {},
   "source": [
    "---"
   ]
  },
  {
   "cell_type": "code",
   "execution_count": 26,
   "metadata": {},
   "outputs": [
    {
     "name": "stdout",
     "output_type": "stream",
     "text": [
      "Help on method from_chemicals in module qsdsan._components:\n",
      "\n",
      "from_chemicals(chemicals, **data) method of builtins.type instance\n",
      "    Return a new :class:`Components` from a :class:`thermosteam.Chemicals`\n",
      "    or :class:`thermosteam.CompiledChemicals` object.\n",
      "    \n",
      "    Parameters\n",
      "    ----------\n",
      "    chemicals: thermosteam.Chemicals\n",
      "        The :class:`thermosteam.Chemicals` object as the basis\n",
      "        for the new :class:`~.Components` object.\n",
      "        :class:`Component` objects will have the same ID as the corresponding\n",
      "        :class:`thermosteam.Chemical` object in the :class:`thermosteam.Chemicals`\n",
      "        object.\n",
      "    data : dict\n",
      "        A nested dict with keys being the new components and values being the inner dict,\n",
      "        keys and values of the inner dict are the attribute names and values, respectively.\n",
      "    \n",
      "    Examples\n",
      "    --------\n",
      "    >>> import qsdsan as qs\n",
      "    >>> chems = qs.Chemicals((qs.Chemical('Water'), qs.Chemical('Ethanol')))\n",
      "    >>> data = {'Water': {'particle_size': 'Soluble',\n",
      "    ...                   'degradability': 'Undegradable',\n",
      "    ...                   'organic': False},\n",
      "    ...         'Ethanol': {'particle_size': 'Soluble',\n",
      "    ...                     'degradability': 'Readily',\n",
      "    ...                     'organic': False}}\n",
      "    >>> cmps = qs.Components.from_chemicals(chems, **data)\n",
      "    >>> cmps\n",
      "    Components([Water, Ethanol])\n",
      "\n"
     ]
    }
   ],
   "source": [
    "# A good example can be found at the documentation of the `from_chemicals` method\n",
    "help(cmps1.from_chemicals)"
   ]
  },
  {
   "cell_type": "markdown",
   "metadata": {},
   "source": [
    "You can just copy the codes and run it, I just checked `cmps` to `cmps2` for clarity (and pseudo-OCD)."
   ]
  },
  {
   "cell_type": "code",
   "execution_count": 27,
   "metadata": {},
   "outputs": [
    {
     "name": "stdout",
     "output_type": "stream",
     "text": [
      "Components([Water, Ethanol])\n"
     ]
    }
   ],
   "source": [
    ">>> import qsdsan as qs\n",
    ">>> chems = qs.Chemicals((qs.Chemical('Water'), qs.Chemical('Ethanol')))\n",
    ">>> data = {'Water': {'particle_size': 'Soluble',\n",
    "...                   'degradability': 'Undegradable',\n",
    "...                   'organic': False},\n",
    "...         'Ethanol': {'particle_size': 'Soluble',\n",
    "...                     'degradability': 'Readily',\n",
    "...                     'organic': False}}\n",
    ">>> cmps = qs.Components.from_chemicals(chems, **data)\n",
    ">>> cmps"
   ]
  },
  {
   "cell_type": "code",
   "execution_count": 28,
   "metadata": {},
   "outputs": [],
   "source": [
    "# Note that it's fine to have the \">>>\" or \"...\" (indicates line continuation), in front of the code\n",
    "# (indication doesn't matter either) as long as you don't have comments\n",
    "# So the previous cell will work but this cell won't\n",
    "# >>> import qsdsan as qs\n",
    "# >>> chems = qs.Chemicals((qs.Chemical('Water'), qs.Chemical('Ethanol')))\n",
    "# >>> data = {'Water': {'particle_size': 'Soluble',\n",
    "# ...                   'degradability': 'Undegradable',\n",
    "# ...                   'organic': False},\n",
    "# ...         'Ethanol': {'particle_size': 'Soluble',\n",
    "# ...                     'degradability': 'Readily',\n",
    "# ...                     'organic': False}}\n",
    "# >>> cmps2 = qs.Components.from_chemicals(chems, **data)\n",
    "# >>> cmps2"
   ]
  },
  {
   "cell_type": "markdown",
   "metadata": {},
   "source": [
    "### 2.3. Loading default `Components`\n",
    "You can also load the default `Components`, which are the ones that commonly used in wastewater modeling."
   ]
  },
  {
   "cell_type": "code",
   "execution_count": 29,
   "metadata": {},
   "outputs": [
    {
     "name": "stdout",
     "output_type": "stream",
     "text": [
      "Components([S_H2, S_CH4, S_CH3OH, S_Ac, S_Prop, S_F, S_U_Inf, S_U_E, C_B_Subst, C_B_BAP, C_B_UAP, C_U_Inf, X_B_Subst, X_OHO_PHA, X_GAO_PHA, X_PAO_PHA, X_GAO_Gly, X_PAO_Gly, X_OHO, X_AOO, X_NOO, X_AMO, X_PAO, X_MEOLO, X_FO, X_ACO, X_HMO, X_PRO, X_U_Inf, X_U_OHO_E, X_U_PAO_E, X_Ig_ISS, X_MgCO3, X_CaCO3, X_MAP, X_HAP, X_HDP, X_FePO4, X_AlPO4, X_AlOH, X_FeOH, X_PAO_PP_Lo, X_PAO_PP_Hi, S_NH4, S_NO2, S_NO3, S_PO4, S_K, S_Ca, S_Mg, S_CO3, S_N2, S_O2, S_CAT, S_AN, H2O])\n"
     ]
    }
   ],
   "source": [
    "cmps3 = qs.Components.load_default(default_compile=False)\n",
    "cmps3"
   ]
  },
  {
   "cell_type": "markdown",
   "metadata": {},
   "source": [
    "**[Back to Top](#top)**"
   ]
  },
  {
   "cell_type": "markdown",
   "metadata": {},
   "source": [
    "## 3. `CompiledComponents` <a class=\"anchor\" id=\"s3\"></a>\n",
    "Finally, we need to \"compile\" `Components` into `CompiledComponents`, which can be easily done using the `compile` method.\n",
    "\n",
    "When executing the `compile` method, `thermosteam` will check if all `Component` objects have the properties needed for thermodynamic calculation."
   ]
  },
  {
   "cell_type": "code",
   "execution_count": 30,
   "metadata": {},
   "outputs": [],
   "source": [
    "# For example, we will receive an error if we try to compile cmps1,\n",
    "# because there is not enough data\n",
    "# cmps1.compile()"
   ]
  },
  {
   "cell_type": "code",
   "execution_count": 31,
   "metadata": {},
   "outputs": [
    {
     "name": "stdout",
     "output_type": "stream",
     "text": [
      "CompiledComponents([XPAO, SNH4, H2O])\n"
     ]
    }
   ],
   "source": [
    "# We can either provide the missing data as indicated in the error method,\n",
    "# or we can use the `default` method and copy some data from H2O (or other more relevant components)\n",
    "for i in cmps1:\n",
    "    if i is H2O:\n",
    "        continue # \"continue\" means skip the rest of the codes and continue with the next one in the loop\n",
    "    i.default()\n",
    "    i.copy_models_from(H2O, names=('sigma', 'epsilon', 'kappa', 'V', 'Cn', 'mu'))\n",
    "    \n",
    "# Now we can compile\n",
    "cmps1.compile()\n",
    "cmps1"
   ]
  },
  {
   "cell_type": "code",
   "execution_count": 32,
   "metadata": {},
   "outputs": [
    {
     "name": "stdout",
     "output_type": "stream",
     "text": [
      "CompiledComponents([S_H2, S_CH4, S_CH3OH, S_Ac, S_Prop, S_F, S_U_Inf, S_U_E, C_B_Subst, C_B_BAP, C_B_UAP, C_U_Inf, X_B_Subst, X_OHO_PHA, X_GAO_PHA, X_PAO_PHA, X_GAO_Gly, X_PAO_Gly, X_OHO, X_AOO, X_NOO, X_AMO, X_PAO, X_MEOLO, X_FO, X_ACO, X_HMO, X_PRO, X_U_Inf, X_U_OHO_E, X_U_PAO_E, X_Ig_ISS, X_MgCO3, X_CaCO3, X_MAP, X_HAP, X_HDP, X_FePO4, X_AlPO4, X_AlOH, X_FeOH, X_PAO_PP_Lo, X_PAO_PP_Hi, S_NH4, S_NO2, S_NO3, S_PO4, S_K, S_Ca, S_Mg, S_CO3, S_N2, S_O2, S_CAT, S_AN, H2O])\n"
     ]
    }
   ],
   "source": [
    "# For the default `Components` objects, the easy way is let it compile during loading\n",
    "cmps3 = qs.Components.load_default()\n",
    "cmps3"
   ]
  },
  {
   "cell_type": "code",
   "execution_count": 33,
   "metadata": {},
   "outputs": [],
   "source": [
    "# Once compiled, you can no longer add `Component` to it\n",
    "# cmps1.append(cmps3.S_H2)"
   ]
  },
  {
   "cell_type": "code",
   "execution_count": 34,
   "metadata": {},
   "outputs": [
    {
     "name": "stdout",
     "output_type": "stream",
     "text": [
      "Components([XPAO, SNH4, H2O, S_H2])\n"
     ]
    }
   ],
   "source": [
    "# If you really need to add something, the best way (other than adding it before compiling)\n",
    "# would be to make a new `Components` containing all the `Component` objects in the `CompiledComponent`\n",
    "cmps4 = qs.Components(cmps1)\n",
    "cmps4.append(cmps3.S_H2)\n",
    "cmps4"
   ]
  },
  {
   "cell_type": "markdown",
   "metadata": {},
   "source": [
    "---\n",
    "### Tip\n",
    "Why do we go through all the trouble to do the compilation? This is because compilation allows us to \"freezes\" the order of the properties (e.g., MW) and work with numbers only. It also allows us to use libraries like `numpy` and `numba` to speed things up.\n",
    "\n",
    "Maybe check out this [paper](https://www.nature.com/articles/s41586-020-2649-2) on scientific application of `numpy`."
   ]
  },
  {
   "cell_type": "markdown",
   "metadata": {},
   "source": [
    "---"
   ]
  },
  {
   "cell_type": "code",
   "execution_count": 35,
   "metadata": {},
   "outputs": [],
   "source": [
    "# Once compiled, you can set synonyms of `Component` so that you can find one component by any of its synonyms\n",
    "# note that its ID won't change\n",
    "cmps1.set_synonym('H2O', 'Water')"
   ]
  },
  {
   "cell_type": "code",
   "execution_count": 36,
   "metadata": {},
   "outputs": [
    {
     "data": {
      "text/plain": [
       "'H2O'"
      ]
     },
     "execution_count": 36,
     "metadata": {},
     "output_type": "execute_result"
    }
   ],
   "source": [
    "cmps1.H2O.ID"
   ]
  },
  {
   "cell_type": "code",
   "execution_count": 37,
   "metadata": {},
   "outputs": [
    {
     "data": {
      "text/plain": [
       "'H2O'"
      ]
     },
     "execution_count": 37,
     "metadata": {},
     "output_type": "execute_result"
    }
   ],
   "source": [
    "cmps1.Water.ID"
   ]
  },
  {
   "cell_type": "code",
   "execution_count": 38,
   "metadata": {},
   "outputs": [
    {
     "data": {
      "text/plain": [
       "True"
      ]
     },
     "execution_count": 38,
     "metadata": {},
     "output_type": "execute_result"
    }
   ],
   "source": [
    "# In fact, all of the synonyms point to the same object\n",
    "cmps1.H2O is cmps1.Water"
   ]
  },
  {
   "cell_type": "markdown",
   "metadata": {},
   "source": [
    "---\n",
    "### Tip\n",
    "Note that in Python, being the same object is much stricter, it compares the memory address of an object."
   ]
  },
  {
   "cell_type": "code",
   "execution_count": 39,
   "metadata": {},
   "outputs": [],
   "source": [
    "# We can make two identical lists, but they are not the same\n",
    "lst1 = [1, 2]\n",
    "lst2 = lst1.copy()"
   ]
  },
  {
   "cell_type": "code",
   "execution_count": 40,
   "metadata": {},
   "outputs": [
    {
     "data": {
      "text/plain": [
       "False"
      ]
     },
     "execution_count": 40,
     "metadata": {},
     "output_type": "execute_result"
    }
   ],
   "source": [
    "lst1 is lst2"
   ]
  },
  {
   "cell_type": "code",
   "execution_count": 41,
   "metadata": {},
   "outputs": [
    {
     "data": {
      "text/plain": [
       "True"
      ]
     },
     "execution_count": 41,
     "metadata": {},
     "output_type": "execute_result"
    }
   ],
   "source": [
    "lst1 == lst2"
   ]
  },
  {
   "cell_type": "code",
   "execution_count": 42,
   "metadata": {},
   "outputs": [
    {
     "data": {
      "text/plain": [
       "140261621613440"
      ]
     },
     "execution_count": 42,
     "metadata": {},
     "output_type": "execute_result"
    }
   ],
   "source": [
    "id(lst1)"
   ]
  },
  {
   "cell_type": "code",
   "execution_count": 43,
   "metadata": {},
   "outputs": [
    {
     "data": {
      "text/plain": [
       "140261853510400"
      ]
     },
     "execution_count": 43,
     "metadata": {},
     "output_type": "execute_result"
    }
   ],
   "source": [
    "id(lst2)"
   ]
  },
  {
   "cell_type": "markdown",
   "metadata": {},
   "source": [
    "---"
   ]
  },
  {
   "cell_type": "markdown",
   "metadata": {},
   "source": [
    "**[Back to Top](#top)**"
   ]
  }
 ],
 "metadata": {
  "kernelspec": {
   "display_name": "Python 3",
   "language": "python",
   "name": "python3"
  },
  "language_info": {
   "codemirror_mode": {
    "name": "ipython",
    "version": 3
   },
   "file_extension": ".py",
   "mimetype": "text/x-python",
   "name": "python",
   "nbconvert_exporter": "python",
   "pygments_lexer": "ipython3",
   "version": "3.8.2"
  }
 },
 "nbformat": 4,
 "nbformat_minor": 4
}
