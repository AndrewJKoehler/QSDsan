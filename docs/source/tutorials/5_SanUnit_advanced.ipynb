{
 "cells": [
  {
   "cell_type": "markdown",
   "metadata": {},
   "source": [
    "# `SanUnit` (advanced) <a class=\"anchor\" id=\"top\"></a>\n",
    "\n",
    "- **Prepared by:**\n",
    "    \n",
    "    - [Yalin Li](mailto:zoe.yalin.li@gmail.com)\n",
    "\n",
    "- **Covered topics:**\n",
    "\n",
    "    - [1. Python class creation 101](#s1)\n",
    "    - [2. Basic structure of SanUnit subclasses](#s2)\n",
    "    - [3. An exemplary subclass](#s3)"
   ]
  },
  {
   "cell_type": "code",
   "execution_count": 1,
   "metadata": {},
   "outputs": [
    {
     "name": "stdout",
     "output_type": "stream",
     "text": [
      "This tutorial is made with qsdsan v0.3.5.\n"
     ]
    }
   ],
   "source": [
    "import qsdsan as qs\n",
    "print(f'This tutorial is made with qsdsan v{qs.__version__}.')"
   ]
  },
  {
   "cell_type": "markdown",
   "metadata": {},
   "source": [
    "## 1. Python class creation 101 <a class=\"anchor\" id=\"s1\"></a>"
   ]
  },
  {
   "cell_type": "markdown",
   "metadata": {},
   "source": [
    "### 1.1. Syntax and methods"
   ]
  },
  {
   "cell_type": "code",
   "execution_count": 2,
   "metadata": {},
   "outputs": [],
   "source": [
    "# To make a new class, at the bare minimum, you just need to have\n",
    "class i_am_a_new_class:\n",
    "    pass"
   ]
  },
  {
   "cell_type": "code",
   "execution_count": 3,
   "metadata": {},
   "outputs": [
    {
     "data": {
      "text/plain": [
       "__main__.i_am_a_new_class"
      ]
     },
     "execution_count": 3,
     "metadata": {},
     "output_type": "execute_result"
    }
   ],
   "source": [
    "# Then you can make instances of the class\n",
    "instance1 = i_am_a_new_class()\n",
    "type(instance1)"
   ]
  },
  {
   "cell_type": "code",
   "execution_count": 4,
   "metadata": {},
   "outputs": [],
   "source": [
    "# To make this class more useful, we can add data and functions to the class\n",
    "class i_am_a_useful_class:\n",
    "    def do_something(self):\n",
    "        print(\"Thinking of what to do...\")"
   ]
  },
  {
   "cell_type": "code",
   "execution_count": 5,
   "metadata": {},
   "outputs": [
    {
     "data": {
      "text/plain": [
       "__main__.i_am_a_useful_class"
      ]
     },
     "execution_count": 5,
     "metadata": {},
     "output_type": "execute_result"
    }
   ],
   "source": [
    "instance2 = i_am_a_useful_class()\n",
    "type(instance2)"
   ]
  },
  {
   "cell_type": "code",
   "execution_count": 6,
   "metadata": {},
   "outputs": [
    {
     "name": "stdout",
     "output_type": "stream",
     "text": [
      "Thinking of what to do...\n"
     ]
    }
   ],
   "source": [
    "# Since we included a function to go with this class, we can at least do\n",
    "instance2.do_something()"
   ]
  },
  {
   "cell_type": "markdown",
   "metadata": {},
   "source": [
    "OK, it can do something!\n",
    "\n",
    "The `do_something` function, when it's associated with the `i_am_a_useful_class`, it is called a `method`. More specifically, when it's just written as:\n",
    "\n",
    "```python\n",
    "def FUNCTION_NAME(self):\n",
    "    SOME CODES\n",
    "```\n",
    "\n",
    "It is a `instance method`. This means it works on instances of the class (like `instance2`). The most salient feature is that it requires `self` as a method argument (you will know from later part of the tutorial how usefuel `self` is)."
   ]
  },
  {
   "cell_type": "code",
   "execution_count": 7,
   "metadata": {},
   "outputs": [],
   "source": [
    "# Of course, there can be other types of methods\n",
    "class i_am_a_more_useful_class:\n",
    "    @staticmethod\n",
    "    def i_dont_need_self_cls():\n",
    "        print('I am a static method, I can be called without `self` nor `cls`!')\n",
    "        \n",
    "    @classmethod\n",
    "    def i_need_cls(cls):\n",
    "        print(f'I am a class method, I need `cls` and the name of the class is {cls.__name__}.')\n",
    "        \n",
    "    def i_need_self(self):\n",
    "        print('I am an instance method, I need `self`, '\n",
    "              f'the name of my class is {type(self).__name__}.')\n",
    "        \n",
    "    @staticmethod\n",
    "    def print_cls(object):\n",
    "        print(f'The class of this object is {type(object).__name__}')\n",
    "        \n",
    "        \n",
    "instance3 = i_am_a_more_useful_class() # oh boy the name is so long..."
   ]
  },
  {
   "cell_type": "code",
   "execution_count": 8,
   "metadata": {},
   "outputs": [
    {
     "name": "stdout",
     "output_type": "stream",
     "text": [
      "I am a static method, I can be called without `self` nor `cls`!\n"
     ]
    }
   ],
   "source": [
    "# You will find that the `static method`, being indicated by the `decorator` (that `@`) `staticmethod`,\n",
    "# does not require `self` as the input!\n",
    "# `static method` can be useful if there is a function that you want to use with the class,\n",
    "# but it does not need the `self` as an argument\n",
    "instance3.i_dont_need_self_cls()"
   ]
  },
  {
   "cell_type": "markdown",
   "metadata": {},
   "source": [
    "**Minor tip:**\n",
    "\n",
    "`decorator` is an elegant and convinent way to add functionalities, for more details, just search for it, I personally like this [tutorial](https://www.programiz.com/python-programming/decorator)"
   ]
  },
  {
   "cell_type": "code",
   "execution_count": 9,
   "metadata": {},
   "outputs": [
    {
     "name": "stdout",
     "output_type": "stream",
     "text": [
      "I am an instance method, I need `self`, the name of my class is i_am_a_more_useful_class.\n"
     ]
    }
   ],
   "source": [
    "instance3.i_need_self()"
   ]
  },
  {
   "cell_type": "code",
   "execution_count": 10,
   "metadata": {},
   "outputs": [
    {
     "name": "stdout",
     "output_type": "stream",
     "text": [
      "I am a class method, I need `cls` and the name of the class is i_am_a_more_useful_class.\n",
      "I am a class method, I need `cls` and the name of the class is i_am_a_more_useful_class.\n"
     ]
    }
   ],
   "source": [
    "# For the `class method`, you will notice that it requires `cls` instead of `self` as an argument\n",
    "# it can work on both the class and the instance\n",
    "# This method is indeed helpful, since sometimes you'll want to figure out the name of a class\n",
    "instance3.i_need_cls()\n",
    "i_am_a_more_useful_class.i_need_cls()"
   ]
  },
  {
   "cell_type": "code",
   "execution_count": 11,
   "metadata": {},
   "outputs": [
    {
     "name": "stdout",
     "output_type": "stream",
     "text": [
      "<bound method i_am_a_more_useful_class.i_need_cls of <class '__main__.i_am_a_more_useful_class'>>\n",
      "<bound method i_am_a_more_useful_class.i_need_self of <__main__.i_am_a_more_useful_class object at 0x7f861605c640>>\n"
     ]
    }
   ],
   "source": [
    "# One interesting to note, is that instance and class methods are `bound methods`\n",
    "# (i.e., they are bound to this instance/class)\n",
    "print(instance3.i_need_cls) # see the printout, this belongs to the class\n",
    "print(instance3.i_need_self) # see the printout, this belongs to the object"
   ]
  },
  {
   "cell_type": "code",
   "execution_count": 12,
   "metadata": {},
   "outputs": [
    {
     "data": {
      "text/plain": [
       "<bound method Components.load_default of <class 'qsdsan._components.Components'>>"
      ]
     },
     "execution_count": 12,
     "metadata": {},
     "output_type": "execute_result"
    }
   ],
   "source": [
    "# If you recall how we load the default components\n",
    "cmps = qs.Components.load_default()\n",
    "qs.Components.load_default # aha!"
   ]
  },
  {
   "cell_type": "code",
   "execution_count": 13,
   "metadata": {},
   "outputs": [
    {
     "name": "stdout",
     "output_type": "stream",
     "text": [
      "<function i_am_a_more_useful_class.print_cls at 0x7f861605e1f0>\n",
      "The class of this object is int\n",
      "The class of this object is int\n",
      "The class of this object is int\n"
     ]
    }
   ],
   "source": [
    "# But static method is not, it's static regardless of the instance/class,\n",
    "# it can be used regardless of whether an object belongs to this class or not\n",
    "print(instance3.print_cls)\n",
    "i_am_five = 5\n",
    "print(f'The class of this object is {type(i_am_five).__name__}')\n",
    "instance3.print_cls(i_am_five)\n",
    "i_am_a_more_useful_class.print_cls(i_am_five)"
   ]
  },
  {
   "cell_type": "markdown",
   "metadata": {},
   "source": [
    "Fancinating, isn't it?"
   ]
  },
  {
   "cell_type": "markdown",
   "metadata": {},
   "source": [
    "### 1.2. Attributes and properties\n",
    "So we talked about how we can add methods to a class, then what if we want the class to remember some data?"
   ]
  },
  {
   "cell_type": "code",
   "execution_count": 14,
   "metadata": {},
   "outputs": [
    {
     "name": "stdout",
     "output_type": "stream",
     "text": [
      "My name is Gala, my color is red.\n",
      "My name is Granny Smith, my color is green.\n",
      "My name is Pink Lady, my color is pink.\n"
     ]
    }
   ],
   "source": [
    "# Let's see this example (yeah I just love apple...)\n",
    "class apple:\n",
    "    def __init__(self, argument_name, argument_color):\n",
    "        self.attribute_name = argument_name\n",
    "        self.attribute_color = argument_color\n",
    "        \n",
    "    def introduce(self):\n",
    "        print(f'My name is {self.attribute_name}, my color is {self.attribute_color}.')\n",
    "        \n",
    "gala = apple(argument_name='Gala', argument_color='red')\n",
    "granny_smith = apple(argument_name='Granny Smith', argument_color='green')\n",
    "pink_lady = apple(argument_name='Pink Lady', argument_color='pink')\n",
    "\n",
    "for i in (gala, granny_smith, pink_lady):\n",
    "    i.introduce()"
   ]
  },
  {
   "cell_type": "markdown",
   "metadata": {},
   "source": [
    "Here we use an `__init__` method, which is a builtin method and is called when you initialize (e.g., when you do `instance = class()`) an instance.\n",
    "\n",
    "In `__init__`, with `self.attribute_name = argument_name`, we actually did two things:\n",
    "- We added an attribute called `attribute_name` to `self` (i.e., the instance)\n",
    "- We pass the value of the argument `argument_name` to `attribute_name`"
   ]
  },
  {
   "cell_type": "markdown",
   "metadata": {},
   "source": [
    "You can think of it as anything that after the `.` of a class/instance. Attributes can be data, method, even modules.\n",
    "\n",
    "Similar to instance vs. class method, there are instance attribute and class attribute. For example"
   ]
  },
  {
   "cell_type": "code",
   "execution_count": 15,
   "metadata": {},
   "outputs": [],
   "source": [
    "class apple2(apple):\n",
    "    cls_attr = 'fruit'\n",
    "    \n",
    "    def __init__(self, argument_name, argument_color):\n",
    "        self.attribute_name = argument_name\n",
    "        self.attribute_color = argument_color"
   ]
  },
  {
   "cell_type": "code",
   "execution_count": 16,
   "metadata": {},
   "outputs": [
    {
     "name": "stdout",
     "output_type": "stream",
     "text": [
      "My name is Red Delicious, my color is red.\n"
     ]
    }
   ],
   "source": [
    "# See that `(apple)` after `apple2`? This means we are making `apple2` a subclass of `apple`.\n",
    "# Even without defining the `introduce` method, we can use it\n",
    "red_delicious = apple2('Red Delicious', 'red')\n",
    "red_delicious.introduce()"
   ]
  },
  {
   "cell_type": "code",
   "execution_count": 17,
   "metadata": {},
   "outputs": [
    {
     "name": "stdout",
     "output_type": "stream",
     "text": [
      "<bound method apple.introduce of <__main__.apple2 object at 0x7f861605cc40>>\n"
     ]
    }
   ],
   "source": [
    "# Indeed the method is coming from `apple`\n",
    "print(red_delicious.introduce)"
   ]
  },
  {
   "cell_type": "code",
   "execution_count": 18,
   "metadata": {},
   "outputs": [
    {
     "name": "stdout",
     "output_type": "stream",
     "text": [
      "fruit\n",
      "fruit\n"
     ]
    }
   ],
   "source": [
    "# The `cls_attr` there is a class attribute and can be accesible to the class and all its instances\n",
    "print(red_delicious.cls_attr)\n",
    "print(apple2.cls_attr)"
   ]
  },
  {
   "cell_type": "markdown",
   "metadata": {},
   "source": [
    "Another concept that you might have heard of property and get confused about the differences between it and attribute.\n",
    "\n",
    "You can think property as a special kind of attribute. Its specialty lies in the need for `getter`, `setter`, and `deleter` (functions to get values, set values, and delete values). For example"
   ]
  },
  {
   "cell_type": "code",
   "execution_count": 19,
   "metadata": {},
   "outputs": [
    {
     "name": "stdout",
     "output_type": "stream",
     "text": [
      "My name is Scarlet Gala, my color is scalet.\n"
     ]
    }
   ],
   "source": [
    "class apple3:\n",
    "    def __init__(self, argument_name, argument_color):\n",
    "        self.attribute_name = argument_name\n",
    "        self._attribute_color = argument_color\n",
    "        \n",
    "    def introduce(self):\n",
    "        print(f'My name is {self.attribute_name}, my color is {self.attribute_color}.')\n",
    "        \n",
    "    @property # decorator!\n",
    "    def attribute_color(self):\n",
    "        return self._attribute_color\n",
    "    @attribute_color.setter\n",
    "    def attribute_color(self, color):\n",
    "        self._attribute_color = color\n",
    "\n",
    "scarlet_gala = apple3('Scarlet Gala', 'scalet')\n",
    "scarlet_gala.introduce()"
   ]
  },
  {
   "cell_type": "code",
   "execution_count": 20,
   "metadata": {},
   "outputs": [
    {
     "data": {
      "text/plain": [
       "<property at 0x7f86087ff5e0>"
      ]
     },
     "execution_count": 20,
     "metadata": {},
     "output_type": "execute_result"
    }
   ],
   "source": [
    "apple3.attribute_color"
   ]
  },
  {
   "cell_type": "markdown",
   "metadata": {},
   "source": [
    "You can see that `attribute_color` is a property. Since it's value depends on the attribute `_attribute_color`, and Python doesn't know the value of it before you create the instance, so you cannot get the acutal value."
   ]
  },
  {
   "cell_type": "code",
   "execution_count": 21,
   "metadata": {},
   "outputs": [],
   "source": [
    "# Note that you'll get an error if you attempt to do the following,\n",
    "# because `_attribute_color` is an instance attribute\n",
    "# apple3._attribute_color"
   ]
  },
  {
   "cell_type": "markdown",
   "metadata": {},
   "source": [
    "However, why do we want to use property and add all those extra lines?\n",
    "\n",
    "First, because now `getter` is a function, we can add in other thing while we try to get the value, like"
   ]
  },
  {
   "cell_type": "code",
   "execution_count": 22,
   "metadata": {},
   "outputs": [
    {
     "name": "stdout",
     "output_type": "stream",
     "text": [
      "Trying to retrieving the value...\n",
      "My name is Empire, my color is red.\n"
     ]
    }
   ],
   "source": [
    "class apple4:\n",
    "    def __init__(self, argument_name, argument_color):\n",
    "        self.attribute_name = argument_name\n",
    "        self._attribute_color = argument_color\n",
    "        \n",
    "    def introduce(self):\n",
    "        print(f'My name is {self.attribute_name}, my color is {self.attribute_color}.')\n",
    "        \n",
    "    @property # decorator!\n",
    "    def attribute_color(self):\n",
    "        print('Trying to retrieving the value...')\n",
    "        return self._attribute_color\n",
    "    @attribute_color.setter\n",
    "    def attribute_color(self, color):\n",
    "        self._attribute_color = color\n",
    "\n",
    "empire = apple4('Empire', 'red')\n",
    "empire.introduce()"
   ]
  },
  {
   "cell_type": "markdown",
   "metadata": {},
   "source": [
    "Second, we can prevent the users from (accidentally) changing values"
   ]
  },
  {
   "cell_type": "code",
   "execution_count": 23,
   "metadata": {},
   "outputs": [
    {
     "name": "stdout",
     "output_type": "stream",
     "text": [
      "Trying to retrieving the value...\n",
      "My name is Empire, my color is green.\n"
     ]
    }
   ],
   "source": [
    "# Say that some user try to do\n",
    "empire.attribute_color = 'green'\n",
    "empire.introduce()"
   ]
  },
  {
   "cell_type": "markdown",
   "metadata": {},
   "source": [
    "But this is not right! [Empire](https://en.wikipedia.org/wiki/Empire_(apple)) is NOT green!\n",
    "\n",
    "To prevent the value of an attribute to be changed by the user, we can just take away (or more accurately, not implement) the `setter`."
   ]
  },
  {
   "cell_type": "code",
   "execution_count": 24,
   "metadata": {},
   "outputs": [
    {
     "name": "stdout",
     "output_type": "stream",
     "text": [
      "My name is Golden Delicious, my color is golden.\n"
     ]
    }
   ],
   "source": [
    "class apple5:\n",
    "    def __init__(self, argument_name, argument_color):\n",
    "        self.attribute_name = argument_name\n",
    "        self._attribute_color = argument_color\n",
    "        \n",
    "    def introduce(self):\n",
    "        print(f'My name is {self.attribute_name}, my color is {self.attribute_color}.')\n",
    "        \n",
    "    @property\n",
    "    def attribute_color(self):\n",
    "        return self._attribute_color\n",
    "    @attribute_color.setter\n",
    "    def attribute_color(self, color):\n",
    "        self._attribute_color = color\n",
    "\n",
    "golden_delicious = apple5('Golden Delicious', 'golden')\n",
    "golden_delicious.introduce()"
   ]
  },
  {
   "cell_type": "code",
   "execution_count": 25,
   "metadata": {},
   "outputs": [],
   "source": [
    "# Now you will get an error if you try to change the color\n",
    "# golden_delicious.attribute_color = 'green'"
   ]
  },
  {
   "cell_type": "code",
   "execution_count": 26,
   "metadata": {},
   "outputs": [
    {
     "name": "stdout",
     "output_type": "stream",
     "text": [
      "My name is Cosmic Crisp, my color is dark red.\n"
     ]
    }
   ],
   "source": [
    "# You can make it more helpful (or hurtful) by adding questions\n",
    "class apple6:\n",
    "    def __init__(self, argument_name, argument_color):\n",
    "        self.attribute_name = argument_name\n",
    "        self._attribute_color = argument_color\n",
    "        \n",
    "    def introduce(self):\n",
    "        print(f'My name is {self.attribute_name}, my color is {self.attribute_color}.')\n",
    "        \n",
    "    @property\n",
    "    def attribute_color(self):\n",
    "        return self._attribute_color\n",
    "    @attribute_color.setter\n",
    "    def attribute_color(self, color):\n",
    "        raise AttributeError(\"Nope I'm not letting you change the color!\")\n",
    "\n",
    "cosmic_crisp = apple6('Cosmic Crisp', 'dark red')\n",
    "cosmic_crisp.introduce()"
   ]
  },
  {
   "cell_type": "code",
   "execution_count": 27,
   "metadata": {
    "scrolled": true
   },
   "outputs": [],
   "source": [
    "# Ah, it hurts, doesn't it?\n",
    "# cosmic_crisp.attribute_color = 'red'"
   ]
  },
  {
   "cell_type": "markdown",
   "metadata": {},
   "source": [
    "[Back to top](#top)"
   ]
  },
  {
   "cell_type": "markdown",
   "metadata": {},
   "source": [
    "## 2. Basic structure of `SanUnit` subclasses <a class=\"anchor\" id=\"s2\"></a>\n",
    "Alright, equipped with the basics on `SanUnit` (assuming you are familiar with the topics covered in the [previous tutorial](https://qsdsan.readthedocs.io/en/latest/tutorials/4_SanUnit_basic.html) on `SanUnit`) and the syntax of creating Pythong classes, we can now learn more specifics about creating subclasses of `SanUnit`."
   ]
  },
  {
   "cell_type": "markdown",
   "metadata": {},
   "source": [
    "**NOTE: PENDING UPDATES**"
   ]
  },
  {
   "cell_type": "markdown",
   "metadata": {},
   "source": [
    "[Back to top](#top)"
   ]
  }
 ],
 "metadata": {
  "kernelspec": {
   "display_name": "Python 3 (ipykernel)",
   "language": "python",
   "name": "python3"
  },
  "language_info": {
   "codemirror_mode": {
    "name": "ipython",
    "version": 3
   },
   "file_extension": ".py",
   "mimetype": "text/x-python",
   "name": "python",
   "nbconvert_exporter": "python",
   "pygments_lexer": "ipython3",
   "version": "3.8.11"
  }
 },
 "nbformat": 4,
 "nbformat_minor": 4
}
