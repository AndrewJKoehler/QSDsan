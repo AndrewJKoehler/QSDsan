{
 "cells": [
  {
   "cell_type": "markdown",
   "metadata": {},
   "source": [
    "# `SanUnit` (advanced) <a class=\"anchor\" id=\"top\"></a>\n",
    "\n",
    "- **Prepared by:**\n",
    "    \n",
    "    - [Yalin Li](mailto:zoe.yalin.li@gmail.com)\n",
    "\n",
    "- **Covered topics:**\n",
    "\n",
    "    - [1. Python class creation 101](#s1)\n",
    "    - [2. Basic structure of SanUnit subclasses](#s2)\n",
    "    - [3. Making a simple AerobicReactor](#s3)\n",
    "    - [4. Other convenient features](#s4)"
   ]
  },
  {
   "cell_type": "code",
   "execution_count": 1,
   "metadata": {},
   "outputs": [
    {
     "name": "stdout",
     "output_type": "stream",
     "text": [
      "This tutorial is made with qsdsan v0.3.6.\n"
     ]
    }
   ],
   "source": [
    "import qsdsan as qs\n",
    "print(f'This tutorial is made with qsdsan v{qs.__version__}.')"
   ]
  },
  {
   "cell_type": "markdown",
   "metadata": {},
   "source": [
    "## 1. Python class creation 101 <a class=\"anchor\" id=\"s1\"></a>"
   ]
  },
  {
   "cell_type": "markdown",
   "metadata": {},
   "source": [
    "### 1.1. Syntax and methods"
   ]
  },
  {
   "cell_type": "code",
   "execution_count": 2,
   "metadata": {},
   "outputs": [],
   "source": [
    "# To make a new class, at the bare minimum, you just need to have\n",
    "class i_am_a_new_class:\n",
    "    pass"
   ]
  },
  {
   "cell_type": "code",
   "execution_count": 3,
   "metadata": {},
   "outputs": [
    {
     "data": {
      "text/plain": [
       "__main__.i_am_a_new_class"
      ]
     },
     "execution_count": 3,
     "metadata": {},
     "output_type": "execute_result"
    }
   ],
   "source": [
    "# Then you can make instances of the class\n",
    "instance1 = i_am_a_new_class()\n",
    "type(instance1)"
   ]
  },
  {
   "cell_type": "code",
   "execution_count": 4,
   "metadata": {},
   "outputs": [],
   "source": [
    "# To make this class more useful, we can add data and functions to the class\n",
    "class i_am_a_useful_class:\n",
    "    def do_something(self):\n",
    "        print(\"Thinking of what to do...\")"
   ]
  },
  {
   "cell_type": "code",
   "execution_count": 5,
   "metadata": {},
   "outputs": [
    {
     "data": {
      "text/plain": [
       "__main__.i_am_a_useful_class"
      ]
     },
     "execution_count": 5,
     "metadata": {},
     "output_type": "execute_result"
    }
   ],
   "source": [
    "instance2 = i_am_a_useful_class()\n",
    "type(instance2)"
   ]
  },
  {
   "cell_type": "code",
   "execution_count": 6,
   "metadata": {},
   "outputs": [
    {
     "name": "stdout",
     "output_type": "stream",
     "text": [
      "Thinking of what to do...\n"
     ]
    }
   ],
   "source": [
    "# Since we included a function to go with this class, we can at least do\n",
    "instance2.do_something()"
   ]
  },
  {
   "cell_type": "markdown",
   "metadata": {},
   "source": [
    "OK, it can do something!\n",
    "\n",
    "The `do_something` function, when it's associated with the `i_am_a_useful_class`, it is called a `method`. More specifically, when it's just written as:\n",
    "\n",
    "```python\n",
    "def FUNCTION_NAME(self):\n",
    "    SOME CODES\n",
    "```\n",
    "\n",
    "It is a `instance method`. This means it works on instances of the class (like `instance2`). The most salient feature is that it requires `self` as a method argument (you will know from later part of the tutorial how usefuel `self` is)."
   ]
  },
  {
   "cell_type": "code",
   "execution_count": 7,
   "metadata": {},
   "outputs": [],
   "source": [
    "# Of course, there can be other types of methods\n",
    "class i_am_a_more_useful_class:\n",
    "    @staticmethod\n",
    "    def i_dont_need_self_cls():\n",
    "        print('I am a static method, I can be called without `self` nor `cls`!')\n",
    "        \n",
    "    @classmethod\n",
    "    def i_need_cls(cls):\n",
    "        print(f'I am a class method, I need `cls` and the name of the class is {cls.__name__}.')\n",
    "        \n",
    "    def i_need_self(self):\n",
    "        print('I am an instance method, I need `self`, '\n",
    "              f'the name of my class is {type(self).__name__}.')\n",
    "        \n",
    "    @staticmethod\n",
    "    def print_cls(object):\n",
    "        print(f'The class of this object is {type(object).__name__}')\n",
    "        \n",
    "        \n",
    "instance3 = i_am_a_more_useful_class() # oh boy the name is so long..."
   ]
  },
  {
   "cell_type": "code",
   "execution_count": 8,
   "metadata": {},
   "outputs": [
    {
     "name": "stdout",
     "output_type": "stream",
     "text": [
      "I am a static method, I can be called without `self` nor `cls`!\n"
     ]
    }
   ],
   "source": [
    "# You will find that the `static method`, being indicated by the `decorator` (that `@`) `staticmethod`,\n",
    "# does not require `self` as the input!\n",
    "# `static method` can be useful if there is a function that you want to use with the class,\n",
    "# but it does not need the `self` as an argument\n",
    "instance3.i_dont_need_self_cls()"
   ]
  },
  {
   "cell_type": "markdown",
   "metadata": {},
   "source": [
    "**Minor tip:**\n",
    "\n",
    "`decorator` is an elegant and convinent way to add functionalities, for more details, just search for it, I personally like this [tutorial](https://www.programiz.com/python-programming/decorator)"
   ]
  },
  {
   "cell_type": "code",
   "execution_count": 9,
   "metadata": {},
   "outputs": [
    {
     "name": "stdout",
     "output_type": "stream",
     "text": [
      "I am an instance method, I need `self`, the name of my class is i_am_a_more_useful_class.\n"
     ]
    }
   ],
   "source": [
    "instance3.i_need_self()"
   ]
  },
  {
   "cell_type": "code",
   "execution_count": 10,
   "metadata": {},
   "outputs": [
    {
     "name": "stdout",
     "output_type": "stream",
     "text": [
      "I am a class method, I need `cls` and the name of the class is i_am_a_more_useful_class.\n",
      "I am a class method, I need `cls` and the name of the class is i_am_a_more_useful_class.\n"
     ]
    }
   ],
   "source": [
    "# For the `class method`, you will notice that it requires `cls` instead of `self` as an argument\n",
    "# it can work on both the class and the instance\n",
    "# This method is indeed helpful, since sometimes you'll want to figure out the name of a class\n",
    "instance3.i_need_cls()\n",
    "i_am_a_more_useful_class.i_need_cls()"
   ]
  },
  {
   "cell_type": "code",
   "execution_count": 11,
   "metadata": {},
   "outputs": [
    {
     "name": "stdout",
     "output_type": "stream",
     "text": [
      "<bound method i_am_a_more_useful_class.i_need_cls of <class '__main__.i_am_a_more_useful_class'>>\n",
      "<bound method i_am_a_more_useful_class.i_need_self of <__main__.i_am_a_more_useful_class object at 0x7fa98890f070>>\n"
     ]
    }
   ],
   "source": [
    "# One interesting to note, is that instance and class methods are `bound methods`\n",
    "# (i.e., they are bound to this instance/class)\n",
    "print(instance3.i_need_cls) # see the printout, this belongs to the class\n",
    "print(instance3.i_need_self) # see the printout, this belongs to the object"
   ]
  },
  {
   "cell_type": "code",
   "execution_count": 12,
   "metadata": {},
   "outputs": [
    {
     "data": {
      "text/plain": [
       "<bound method Components.load_default of <class 'qsdsan._components.Components'>>"
      ]
     },
     "execution_count": 12,
     "metadata": {},
     "output_type": "execute_result"
    }
   ],
   "source": [
    "# If you recall how we load the default components\n",
    "cmps = qs.Components.load_default()\n",
    "qs.Components.load_default # aha!"
   ]
  },
  {
   "cell_type": "code",
   "execution_count": 13,
   "metadata": {},
   "outputs": [
    {
     "name": "stdout",
     "output_type": "stream",
     "text": [
      "<function i_am_a_more_useful_class.print_cls at 0x7fa98890a670>\n",
      "The class of this object is int\n",
      "The class of this object is int\n",
      "The class of this object is int\n"
     ]
    }
   ],
   "source": [
    "# But static method is not, it's static regardless of the instance/class,\n",
    "# it can be used regardless of whether an object belongs to this class or not\n",
    "print(instance3.print_cls)\n",
    "i_am_five = 5\n",
    "print(f'The class of this object is {type(i_am_five).__name__}')\n",
    "instance3.print_cls(i_am_five)\n",
    "i_am_a_more_useful_class.print_cls(i_am_five)"
   ]
  },
  {
   "cell_type": "markdown",
   "metadata": {},
   "source": [
    "Fancinating, isn't it?"
   ]
  },
  {
   "cell_type": "markdown",
   "metadata": {},
   "source": [
    "### 1.2. Attributes and properties\n",
    "So we talked about how we can add methods to a class, then what if we want the class to remember some data?"
   ]
  },
  {
   "cell_type": "code",
   "execution_count": 14,
   "metadata": {},
   "outputs": [
    {
     "name": "stdout",
     "output_type": "stream",
     "text": [
      "My name is Gala, my color is red.\n",
      "My name is Granny Smith, my color is green.\n",
      "My name is Pink Lady, my color is pink.\n"
     ]
    }
   ],
   "source": [
    "# Let's see this example (yeah I just love apple...)\n",
    "class apple:\n",
    "    def __init__(self, argument_name, argument_color):\n",
    "        self.attribute_name = argument_name\n",
    "        self.attribute_color = argument_color\n",
    "        \n",
    "    def introduce(self):\n",
    "        print(f'My name is {self.attribute_name}, my color is {self.attribute_color}.')\n",
    "        \n",
    "gala = apple(argument_name='Gala', argument_color='red')\n",
    "granny_smith = apple(argument_name='Granny Smith', argument_color='green')\n",
    "pink_lady = apple(argument_name='Pink Lady', argument_color='pink')\n",
    "\n",
    "for i in (gala, granny_smith, pink_lady):\n",
    "    i.introduce()"
   ]
  },
  {
   "cell_type": "markdown",
   "metadata": {},
   "source": [
    "Here we use an `__init__` method, which is a builtin method and is called when you initialize (e.g., when you do `instance = class()`) an instance.\n",
    "\n",
    "In `__init__`, with `self.attribute_name = argument_name`, we actually did two things:\n",
    "- We added an attribute called `attribute_name` to `self` (i.e., the instance)\n",
    "- We pass the value of the argument `argument_name` to `attribute_name`"
   ]
  },
  {
   "cell_type": "markdown",
   "metadata": {},
   "source": [
    "You can think of it as anything that after the `.` of a class/instance. Attributes can be data, method, even modules.\n",
    "\n",
    "Similar to instance vs. class method, there are instance attribute and class attribute. For example"
   ]
  },
  {
   "cell_type": "code",
   "execution_count": 15,
   "metadata": {},
   "outputs": [],
   "source": [
    "class apple2(apple):\n",
    "    cls_attr = 'fruit'\n",
    "    \n",
    "    def __init__(self, argument_name, argument_color):\n",
    "        self.attribute_name = argument_name\n",
    "        self.attribute_color = argument_color"
   ]
  },
  {
   "cell_type": "code",
   "execution_count": 16,
   "metadata": {},
   "outputs": [
    {
     "name": "stdout",
     "output_type": "stream",
     "text": [
      "My name is Red Delicious, my color is red.\n"
     ]
    }
   ],
   "source": [
    "# See that `(apple)` after `apple2`? This means we are making `apple2` a subclass of `apple`.\n",
    "# Even without defining the `introduce` method, we can use it\n",
    "red_delicious = apple2('Red Delicious', 'red')\n",
    "red_delicious.introduce()"
   ]
  },
  {
   "cell_type": "code",
   "execution_count": 17,
   "metadata": {},
   "outputs": [
    {
     "name": "stdout",
     "output_type": "stream",
     "text": [
      "<bound method apple.introduce of <__main__.apple2 object at 0x7fa97a7f0ee0>>\n"
     ]
    }
   ],
   "source": [
    "# Indeed the method is coming from `apple`\n",
    "print(red_delicious.introduce)"
   ]
  },
  {
   "cell_type": "code",
   "execution_count": 18,
   "metadata": {},
   "outputs": [
    {
     "name": "stdout",
     "output_type": "stream",
     "text": [
      "fruit\n",
      "fruit\n"
     ]
    }
   ],
   "source": [
    "# The `cls_attr` there is a class attribute and can be accesible to the class and all its instances\n",
    "print(red_delicious.cls_attr)\n",
    "print(apple2.cls_attr)"
   ]
  },
  {
   "cell_type": "markdown",
   "metadata": {},
   "source": [
    "Another concept that you might have heard of property and get confused about the differences between it and attribute.\n",
    "\n",
    "You can think property as a special kind of attribute. Its specialty lies in the need for `getter`, `setter`, and `deleter` (functions to get values, set values, and delete values). For example"
   ]
  },
  {
   "cell_type": "code",
   "execution_count": 19,
   "metadata": {},
   "outputs": [
    {
     "name": "stdout",
     "output_type": "stream",
     "text": [
      "My name is Scarlet Gala, my color is scalet.\n"
     ]
    }
   ],
   "source": [
    "class apple3:\n",
    "    def __init__(self, argument_name, argument_color):\n",
    "        self.attribute_name = argument_name\n",
    "        self._attribute_color = argument_color\n",
    "        \n",
    "    def introduce(self):\n",
    "        print(f'My name is {self.attribute_name}, my color is {self.attribute_color}.')\n",
    "        \n",
    "    @property # decorator!\n",
    "    def attribute_color(self):\n",
    "        return self._attribute_color\n",
    "    @attribute_color.setter\n",
    "    def attribute_color(self, color):\n",
    "        self._attribute_color = color\n",
    "\n",
    "scarlet_gala = apple3('Scarlet Gala', 'scalet')\n",
    "scarlet_gala.introduce()"
   ]
  },
  {
   "cell_type": "code",
   "execution_count": 20,
   "metadata": {},
   "outputs": [
    {
     "data": {
      "text/plain": [
       "<property at 0x7fa97a811ae0>"
      ]
     },
     "execution_count": 20,
     "metadata": {},
     "output_type": "execute_result"
    }
   ],
   "source": [
    "apple3.attribute_color"
   ]
  },
  {
   "cell_type": "markdown",
   "metadata": {},
   "source": [
    "You can see that `attribute_color` is a property. Since it's value depends on the attribute `_attribute_color`, and Python doesn't know the value of it before you create the instance, so you cannot get the acutal value."
   ]
  },
  {
   "cell_type": "code",
   "execution_count": 21,
   "metadata": {},
   "outputs": [],
   "source": [
    "# Note that you'll get an error if you attempt to do the following,\n",
    "# because `_attribute_color` is an instance attribute\n",
    "# apple3._attribute_color"
   ]
  },
  {
   "cell_type": "markdown",
   "metadata": {},
   "source": [
    "However, why do we want to use property and add all those extra lines?\n",
    "\n",
    "First, because now `getter` is a function, we can add in other thing while we try to get the value, like"
   ]
  },
  {
   "cell_type": "code",
   "execution_count": 22,
   "metadata": {},
   "outputs": [
    {
     "name": "stdout",
     "output_type": "stream",
     "text": [
      "Trying to retrieving the value...\n",
      "My name is Empire, my color is red.\n"
     ]
    }
   ],
   "source": [
    "class apple4:\n",
    "    def __init__(self, argument_name, argument_color):\n",
    "        self.attribute_name = argument_name\n",
    "        self._attribute_color = argument_color\n",
    "        \n",
    "    def introduce(self):\n",
    "        print(f'My name is {self.attribute_name}, my color is {self.attribute_color}.')\n",
    "        \n",
    "    @property # decorator!\n",
    "    def attribute_color(self):\n",
    "        print('Trying to retrieving the value...')\n",
    "        return self._attribute_color\n",
    "    @attribute_color.setter\n",
    "    def attribute_color(self, color):\n",
    "        self._attribute_color = color\n",
    "\n",
    "empire = apple4('Empire', 'red')\n",
    "empire.introduce()"
   ]
  },
  {
   "cell_type": "markdown",
   "metadata": {},
   "source": [
    "Second, we can prevent the users from (accidentally) changing values"
   ]
  },
  {
   "cell_type": "code",
   "execution_count": 23,
   "metadata": {},
   "outputs": [
    {
     "name": "stdout",
     "output_type": "stream",
     "text": [
      "Trying to retrieving the value...\n",
      "My name is Empire, my color is green.\n"
     ]
    }
   ],
   "source": [
    "# Say that some user try to do\n",
    "empire.attribute_color = 'green'\n",
    "empire.introduce()"
   ]
  },
  {
   "cell_type": "markdown",
   "metadata": {},
   "source": [
    "But this is not right! [Empire](https://en.wikipedia.org/wiki/Empire_(apple)) is NOT green!\n",
    "\n",
    "To prevent the value of an attribute to be changed by the user, we can just take away (or more accurately, not implement) the `setter`."
   ]
  },
  {
   "cell_type": "code",
   "execution_count": 24,
   "metadata": {},
   "outputs": [
    {
     "name": "stdout",
     "output_type": "stream",
     "text": [
      "My name is Golden Delicious, my color is golden.\n"
     ]
    }
   ],
   "source": [
    "class apple5:\n",
    "    def __init__(self, argument_name, argument_color):\n",
    "        self.attribute_name = argument_name\n",
    "        self._attribute_color = argument_color\n",
    "        \n",
    "    def introduce(self):\n",
    "        print(f'My name is {self.attribute_name}, my color is {self.attribute_color}.')\n",
    "        \n",
    "    @property\n",
    "    def attribute_color(self):\n",
    "        return self._attribute_color\n",
    "    @attribute_color.setter\n",
    "    def attribute_color(self, color):\n",
    "        self._attribute_color = color\n",
    "\n",
    "golden_delicious = apple5('Golden Delicious', 'golden')\n",
    "golden_delicious.introduce()"
   ]
  },
  {
   "cell_type": "code",
   "execution_count": 25,
   "metadata": {},
   "outputs": [],
   "source": [
    "# Now you will get an error if you try to change the color\n",
    "# golden_delicious.attribute_color = 'green'"
   ]
  },
  {
   "cell_type": "code",
   "execution_count": 26,
   "metadata": {},
   "outputs": [
    {
     "name": "stdout",
     "output_type": "stream",
     "text": [
      "My name is Cosmic Crisp, my color is dark red.\n"
     ]
    }
   ],
   "source": [
    "# You can make it more helpful (or hurtful) by adding questions\n",
    "class apple6:\n",
    "    def __init__(self, argument_name, argument_color):\n",
    "        self.attribute_name = argument_name\n",
    "        self._attribute_color = argument_color\n",
    "        \n",
    "    def introduce(self):\n",
    "        print(f'My name is {self.attribute_name}, my color is {self.attribute_color}.')\n",
    "        \n",
    "    @property\n",
    "    def attribute_color(self):\n",
    "        return self._attribute_color\n",
    "    @attribute_color.setter\n",
    "    def attribute_color(self, color):\n",
    "        raise AttributeError(\"Nope I'm not letting you change the color!\")\n",
    "\n",
    "cosmic_crisp = apple6('Cosmic Crisp', 'dark red')\n",
    "cosmic_crisp.introduce()"
   ]
  },
  {
   "cell_type": "code",
   "execution_count": 27,
   "metadata": {
    "scrolled": true
   },
   "outputs": [],
   "source": [
    "# Ah, it hurts, doesn't it?\n",
    "# cosmic_crisp.attribute_color = 'red'"
   ]
  },
  {
   "cell_type": "markdown",
   "metadata": {},
   "source": [
    "[Back to top](#top)"
   ]
  },
  {
   "cell_type": "markdown",
   "metadata": {},
   "source": [
    "## 2. Basic structure of `SanUnit` subclasses <a class=\"anchor\" id=\"s2\"></a>\n",
    "Alright, equipped with the basics on `SanUnit` (assuming you are familiar with the topics covered in the [previous tutorial](https://qsdsan.readthedocs.io/en/latest/tutorials/4_SanUnit_basic.html) on `SanUnit`) and the syntax of creating Pythong classes, we can now learn more specifics about creating subclasses of `SanUnit`."
   ]
  },
  {
   "cell_type": "markdown",
   "metadata": {},
   "source": [
    "### 2.1. Fundamental methods\n",
    "In addition to the `__init__` method for initialization, all `SanUnit` objects have four most fundamental methods (they all start with `_`, as users typically don't interact with them):\n",
    "- `_setup`, which will be called first among all of these methods to set up this unit (e.g., you can set the influent phase)\n",
    "- `_run`, which is used for mass and energy calculation within a unit operation (e.g., if you have an anaerobic reactor that will convert 80% of the organics in the influent, you'll want to put it in `_run`\n",
    "    - There is also a `run` method that will call the `_run` method and any `specification` functions you define, but we will skip it for now\n",
    "- `_design`, this method will be called after `_run` (when you have a `System` with multiple units, then `_design` will only be called *after* all units within the system have converged). The `_design` method contains algorithms that are used in designing the unit (e.g., volume, dimensions, materials)\n",
    "    - Material inventories calculated in `_design` are usually stored in the `design_results` dict of the unit with keys being names (`str`) of the item and values being quantities of the item\n",
    "    - All entires in the `design_results` dict should have corresponding entries in the `_units` dict to provide units of measure to the values in the `design_results` dict\n",
    "- `_cost`, which will be called after `_design` to get the cost of the unit, it may leverage the inventories calculated in `_run` or `_design`\n",
    "    - Purchase cost of the inventory items are usually stored in the `baseline_purhcase_costs` dict, and installed cost of this item will be calcualted using different factors (`F_BM`, `F_D`, `F_P`, and `F_M` for bare module, design, pressure, and material factors, they are all dict).\n",
    "    - Only the bare module factor `F_BM` is mandatory (others will be defaulted to 1 if not given). If you want to assume all material inventory items' purchase costs equal installed costs, you can set `F_BM_default` to 1 when you initialize the subclass"
   ]
  },
  {
   "cell_type": "markdown",
   "metadata": {},
   "source": [
    "These methods will be aggregated into a `simulate` function that will call these methods (and do some other minor stuff)."
   ]
  },
  {
   "cell_type": "markdown",
   "metadata": {},
   "source": [
    "**Note:**\n",
    "\n",
    "You do NOT need to use all of these methods, and you do not need to strictly follow the functionalities above. For \n",
    "example, you can put cost algorithms in `_design` or even `_run`, but the latter will be strongly discouraged unless you have a good reason, as the cost algorithms will be run a lot of times when the `System` is trying to converge, which adds unnecessary overheads."
   ]
  },
  {
   "cell_type": "markdown",
   "metadata": {},
   "source": [
    "### 2.2. Useful attributes\n",
    "Some of the class attributes that you will find useful in making your subclasses:\n",
    "- `_N_ins` and `_N_outs` set the number of influents and effluents of the `SanUnit`\n",
    "    - If you are unsure of how many influents and/or effluents there will be (e.g., they can be dynamic for a mixer), you can instead set `_ins_size_is_fixed` and/or `_outs_size_is_fixed` to `False`\n",
    "- `construction` and `transportation` are tuple of `Construction` and `Transportation` objects for life cycle assessment (will be covered in later tutorials)\n",
    "- `purchase_cost` (float) and `purchase_costs` (dict) contain the total (without the `s`) and itemized purchase costs of this unit (i.e., `purchase_cost` is the sum of all the values in the `purchase_costs` dict). Purchase cost of an item is calculated by multiplying the value in the `baseline_purchase_cost` dict with the corresponding values in the `F_<D/P/M>` dict\n",
    "    - Similarly, `installed_cost` (float) and `installed_costs` (dict) are the total and itemized *installed* costs (i.e., purchase cost multiplied by the the different corresponding factor in the `F_BM` dict)\n",
    "- `F_mass_in` (float), `mass_in` (np.array containing the *mass* of each component), `z_mass_in` (np.array containing the *mass fraction* of each component)\n",
    "    - Similarly, there are `F_mass_out`, `mass_out`, and `z_mass_out`, and the corresponding sets for molar and volume flows (e.g., `F_mol_in`/`F_vol_in`, etc.)\n",
    "- `H_in`/`H_out` (changes with T) and `Hf_in`/`Hf_out` (doesn't change with T), enthalpy and enthalpy of formation of influents and effluents, respectively\n",
    "    - There is also another attribute `Hnet` calculated as `(H_out-H_in)+(Hf_out-Hf_in)`\n",
    "- `_graphics`, how the unit will be represented when you call the `diagram` function. If not given, it will be defaulted to a box\n",
    "    - Note that if you make the subclasses of `Mixer`/`Splitter`/`HXutility`/`HXprocess`, the default graphics will be different because these units have their corresponding graphics\n",
    "- `results`, a method (i.e., you need to call it by `<SanUnit>.results()` instead of just `<SanUnit>.result`) to give you a quick summary of the unit design and cost results"
   ]
  },
  {
   "cell_type": "markdown",
   "metadata": {},
   "source": [
    "[Back to top](#top)"
   ]
  },
  {
   "cell_type": "markdown",
   "metadata": {},
   "source": [
    "## 3. Making a simple AerobicReactor <a class=\"anchor\" id=\"s3\"></a>\n",
    "Alright, all those descriptions are abstract enough, and there are many details that will be best covered in an example. So let's assume we want to design a *very* simple aerobic reactor that will convert 90% of the influent organics into CO2 and H2O."
   ]
  },
  {
   "cell_type": "code",
   "execution_count": 28,
   "metadata": {},
   "outputs": [],
   "source": [
    "# By convention, name of the class will be concatenated capitalized words\n",
    "# (I don't need know if this is a grammerly correction expression, but I trust you can get what I meant)\n",
    "# Now it is the simplest form of the AerobicReactor\n",
    "class AerobicReactor1(qs.SanUnit):\n",
    "    def __init__(self, ID='', ins=None, outs=(), thermo=None, init_with='WasteStream'):\n",
    "        qs.SanUnit.__init__(self, ID, ins, outs, thermo, init_with)\n",
    "    \n",
    "    def _setup(self):\n",
    "        pass\n",
    "    \n",
    "    def _run(self):\n",
    "        pass\n",
    "    \n",
    "    def _design(self):\n",
    "        pass\n",
    "    \n",
    "    def _cost(self):\n",
    "        pass"
   ]
  },
  {
   "cell_type": "code",
   "execution_count": 29,
   "metadata": {
    "scrolled": true
   },
   "outputs": [
    {
     "name": "stdout",
     "output_type": "stream",
     "text": [
      "CompiledComponents([S_H2, S_CH4, S_CH3OH, S_Ac, S_Prop, S_F, S_U_Inf, S_U_E, C_B_Subst, C_B_BAP, C_B_UAP, C_U_Inf, X_B_Subst, X_OHO_PHA, X_GAO_PHA, X_PAO_PHA, X_GAO_Gly, X_PAO_Gly, X_OHO, X_AOO, X_NOO, X_AMO, X_PAO, X_MEOLO, X_FO, X_ACO, X_HMO, X_PRO, X_U_Inf, X_U_OHO_E, X_U_PAO_E, X_Ig_ISS, X_MgCO3, X_CaCO3, X_MAP, X_HAP, X_HDP, X_FePO4, X_AlPO4, X_AlOH, X_FeOH, X_PAO_PP_Lo, X_PAO_PP_Hi, S_NH4, S_NO2, S_NO3, S_PO4, S_K, S_Ca, S_Mg, S_CO3, S_N2, S_O2, S_CAT, S_AN, H2O, O2, CO2])\n"
     ]
    }
   ],
   "source": [
    "# The default components are indeed useful!\n",
    "cmps_default = qs.Components.load_default()\n",
    "kwargs = {'particle_size': 'Dissolved gas',\n",
    "          'degradability': 'Undegradable',\n",
    "          'organic': False}\n",
    "O2 = qs.Component('O2', search_ID='O2', **kwargs)\n",
    "CO2 = qs.Component('CO2', search_ID='CO2', **kwargs)\n",
    "cmps = qs.Components([*cmps_default, O2, CO2])\n",
    "qs.set_thermo(cmps)\n",
    "cmps.show()"
   ]
  },
  {
   "cell_type": "code",
   "execution_count": 30,
   "metadata": {},
   "outputs": [
    {
     "name": "stdout",
     "output_type": "stream",
     "text": [
      "WasteStream: ws1\n",
      " phase: 'l', T: 298.15 K, P: 101325 Pa\n",
      " flow (g/hr): S_CH3OH  500\n",
      "              H2O      1e+06\n",
      " WasteStream-specific properties:\n",
      "  pH         : 7.0\n",
      "  Alkalinity : 2.5 mg/L\n",
      "  COD        : 498.2 mg/L\n",
      "  BOD        : 357.2 mg/L\n",
      "  TC         : 124.4 mg/L\n",
      "  TOC        : 124.4 mg/L\n",
      " Component concentrations (mg/L):\n",
      "  S_CH3OH      498.2\n",
      "  H2O          996395.7\n"
     ]
    }
   ],
   "source": [
    "# Now make a fake waste stream with these components\n",
    "ws = qs.WasteStream(H2O=1000, S_CH3OH=0.5, units='kg/hr')\n",
    "ws.show()"
   ]
  },
  {
   "cell_type": "code",
   "execution_count": 31,
   "metadata": {},
   "outputs": [
    {
     "name": "stdout",
     "output_type": "stream",
     "text": [
      "AerobicReactor1: R1\n",
      "ins...\n",
      "[0] ws1\n",
      "    phase: 'l', T: 298.15 K, P: 101325 Pa\n",
      "    flow (g/hr): S_CH3OH  500\n",
      "                 H2O      1e+06\n",
      "    WasteStream-specific properties:\n",
      "     pH         : 7.0\n",
      "     COD        : 498.2 mg/L\n",
      "     BOD        : 357.2 mg/L\n",
      "     TC         : 124.4 mg/L\n",
      "     TOC        : 124.4 mg/L\n",
      "outs...\n",
      "[0] ws2\n",
      "    phase: 'l', T: 298.15 K, P: 101325 Pa\n",
      "    flow: 0\n",
      "    WasteStream-specific properties: None for empty waste streams\n"
     ]
    }
   ],
   "source": [
    "U1 = AerobicReactor1(ins=ws)\n",
    "U1.simulate()\n",
    "U1.show()"
   ]
  },
  {
   "cell_type": "markdown",
   "metadata": {},
   "source": [
    "OK, with these simple setups, we can \"sort of\" see something, but without the methods above we aren't really doing anything useful, so let's try to implement those methods"
   ]
  },
  {
   "cell_type": "code",
   "execution_count": 32,
   "metadata": {},
   "outputs": [],
   "source": [
    "class AerobicReactor2(qs.SanUnit):\n",
    "    def __init__(self, ID='', ins=None, outs=(), thermo=None, init_with='WasteStream',\n",
    "                 conversion=0.9, # default conversion to be 0.9,\n",
    "                 aeration_rate=5, # assume we need 5 g/L of O2 pumped into the system\n",
    "                 HRT=5, # hydraulic residence time being 5 hours\n",
    "                ):\n",
    "        # Some standard codes you need to include for all subclasses of `SanUnit`\n",
    "        qs.SanUnit.__init__(self, ID, ins, outs, thermo, init_with)\n",
    "        # These are the unique attribures of `AerobicReactor`\n",
    "        self.conversion = conversion\n",
    "        self.aeration_rate = aeration_rate\n",
    "        self.HRT = HRT\n",
    "        \n",
    "        # Assume a bare module factor of 2\n",
    "        self.F_BM = {'Tank': 2}\n",
    "\n",
    "        \n",
    "    # Assume we'll have two influents - the waste stream and O2,\n",
    "    # as well as two effluents - treated waste stream and the generated CO2\n",
    "    _N_ins = 2\n",
    "    _N_outs = 2\n",
    "    \n",
    "    # We will want the O2/CO2 streams in gas phase,\n",
    "    # I'm adding this line here just to use the `_setup` method,\n",
    "    # including it in the `_run` method will be the same\n",
    "    def _setup(self):\n",
    "        self.ins[1].phase = self.outs[1].phase = 'g'\n",
    "    \n",
    "    def _run(self):\n",
    "        # This is equivalent to\n",
    "        # inf=self.ins[0]\n",
    "        # o2=self.ins[1]\n",
    "        inf, o2 = self.ins\n",
    "        \n",
    "        eff, co2 = self.outs\n",
    "        # o2.phase = co2.phase = 'g' # if you don't have the `_setup` method\n",
    "        \n",
    "        # Firstly let's calculate how much O2 we need,\n",
    "        # g/L (kg/m3) * m3/hr = kg/hr\n",
    "        o2_needed = self.aeration_rate * self.F_vol_in\n",
    "        o2.imass['O2'] = o2_needed # `imass` in kg/hr\n",
    "        \n",
    "        # Mix the influent streams\n",
    "        eff.mix_from(self.ins)\n",
    "        \n",
    "        # O2 gas turned into dissolved O2,\n",
    "        # this is equivalent to\n",
    "        # eff.imass['S_O2'] = eff.imass['O2']\n",
    "        # eff.imass['O2'] = 0\n",
    "        eff.copy_flow(eff, 'S_O2', remove=True)\n",
    "        \n",
    "        # Then we will want convert the organics,\n",
    "        # for demo purpose let's make it very simple,\n",
    "        # assume that we know ahead of time that\n",
    "        # we will only have `S_CH3OH`\n",
    "        # so reaction will be\n",
    "        # CH3OH + 1.5 O2 -> CO2 + 2H2O\n",
    "        # with the conversion defined by the user\n",
    "        x = self.conversion\n",
    "        converted_meoh = x * inf.imol['S_CH3OH']\n",
    "        consumed_o2 = 1.5 * converted_meoh\n",
    "        generated_co2 = converted_meoh\n",
    "        generated_h2o = 2 * converted_meoh\n",
    "        eff.imol['S_CH3OH'] -= converted_meoh\n",
    "        eff.imol['S_O2'] -= consumed_o2\n",
    "        eff.imol['H2O'] += generated_h2o\n",
    "        co2.imol['CO2'] = generated_co2\n",
    "        # Assume 5 wt% of MeOH is turned into biomass\n",
    "        eff.imass['X_OHO'] = 0.05 * inf.imass['S_CH3OH']\n",
    "        \n",
    "        \n",
    "    # We can (or seems more straightfoward to) move this into\n",
    "    # the `_design` method, but since these units won't change\n",
    "    # putting it here will save some simulation time\n",
    "    _units = {\n",
    "        'Reactor volume': 'm3',\n",
    "        'Diameter': 'm',\n",
    "        'Height': 'm',\n",
    "        'Stainless steel': 'kg'\n",
    "    }\n",
    "    \n",
    "    # As for the design, let's assume we will have a \n",
    "    # cylinder with a height-to-diameter ratio of 2:1\n",
    "    def _design(self):\n",
    "        D = self.design_results\n",
    "        tot_vol = self.outs[0].F_vol\n",
    "        rx_vol = tot_vol / 0.8 # assume 80% working volume\n",
    "        # You can certainly do `import math; math.pi`\n",
    "        dia = (2*rx_vol/3.14)**(1/3)\n",
    "        D['Volume'] = rx_vol\n",
    "        D['Diameter'] = dia\n",
    "        D['Height'] = H = 2 * dia\n",
    "        \n",
    "        # Assume the tank has a thickness of 3 cm,\n",
    "        # we'll need the cover, but not the bottom\n",
    "        ss = 3.14*(dia**2)*H + 3.14/4*(dia**2)\n",
    "        # Assume the density is 7,500 kg/m3\n",
    "        D['Stainless steel'] = ss * 7500\n",
    "    \n",
    "    # Let's assume that the reactor is\n",
    "    # made of stainless steel with a price of $3/kg\n",
    "    def _cost(self):\n",
    "        self.baseline_purchase_costs['Tank'] = \\\n",
    "            3 * self.design_results['Stainless steel']\n",
    "        # Assume the electricity usage is proportional to the\n",
    "        # volumetric flow rate\n",
    "        self.power_utility.consumption = 0.1 * self.outs[0].F_vol\n",
    "    \n",
    "    \n",
    "    # Now it's a proper use of property,\n",
    "    # see the text enclosed in the pair of triple quotes?\n",
    "    # That's the documentation (e.g., the helpful prompt\n",
    "    # that will show up when users do\n",
    "    # `?AerobicReactor.conversion`)\n",
    "    @property\n",
    "    def conversion(self):\n",
    "        '''[float] Conversion of the organic matters in this reactor.'''\n",
    "        return self._conversion\n",
    "    @conversion.setter\n",
    "    def conversion(self, i):\n",
    "        if not 0 <= i <= 1:\n",
    "            # Include the specific values in the error messgae\n",
    "            # will often help the users (and many times you) in debugging\n",
    "            raise AttributeError('`conversion` must be within [0, 1], '\n",
    "                                f'the provided value {i} is outside this range.')\n",
    "        self._conversion = i"
   ]
  },
  {
   "cell_type": "code",
   "execution_count": 33,
   "metadata": {},
   "outputs": [],
   "source": [
    "# Let's set up this unit again\n",
    "U2 = AerobicReactor2(ins=(ws.copy(), 'o2'), outs=('eff', 'co2'))"
   ]
  },
  {
   "cell_type": "code",
   "execution_count": 34,
   "metadata": {},
   "outputs": [
    {
     "data": {
      "text/html": [
       "<div>\n",
       "<style scoped>\n",
       "    .dataframe tbody tr th:only-of-type {\n",
       "        vertical-align: middle;\n",
       "    }\n",
       "\n",
       "    .dataframe tbody tr th {\n",
       "        vertical-align: top;\n",
       "    }\n",
       "\n",
       "    .dataframe thead th {\n",
       "        text-align: right;\n",
       "    }\n",
       "</style>\n",
       "<table border=\"1\" class=\"dataframe\">\n",
       "  <thead>\n",
       "    <tr style=\"text-align: right;\">\n",
       "      <th></th>\n",
       "      <th>Aerobic reactor2</th>\n",
       "      <th>Units</th>\n",
       "      <th>R2</th>\n",
       "    </tr>\n",
       "  </thead>\n",
       "  <tbody>\n",
       "    <tr>\n",
       "      <th rowspan=\"2\" valign=\"top\">Power</th>\n",
       "      <th>Rate</th>\n",
       "      <td>kW</td>\n",
       "      <td>0.101</td>\n",
       "    </tr>\n",
       "    <tr>\n",
       "      <th>Cost</th>\n",
       "      <td>USD/hr</td>\n",
       "      <td>0.00793</td>\n",
       "    </tr>\n",
       "    <tr>\n",
       "      <th rowspan=\"4\" valign=\"top\">Design</th>\n",
       "      <th>Volume</th>\n",
       "      <td></td>\n",
       "      <td>1.27</td>\n",
       "    </tr>\n",
       "    <tr>\n",
       "      <th>Diameter</th>\n",
       "      <td>m</td>\n",
       "      <td>0.931</td>\n",
       "    </tr>\n",
       "    <tr>\n",
       "      <th>Height</th>\n",
       "      <td>m</td>\n",
       "      <td>1.86</td>\n",
       "    </tr>\n",
       "    <tr>\n",
       "      <th>Stainless steel</th>\n",
       "      <td>kg</td>\n",
       "      <td>4.31e+04</td>\n",
       "    </tr>\n",
       "    <tr>\n",
       "      <th>Purchase cost</th>\n",
       "      <th>Tank</th>\n",
       "      <td>USD</td>\n",
       "      <td>1.29e+05</td>\n",
       "    </tr>\n",
       "    <tr>\n",
       "      <th>Total purchase cost</th>\n",
       "      <th></th>\n",
       "      <td>USD</td>\n",
       "      <td>1.29e+05</td>\n",
       "    </tr>\n",
       "    <tr>\n",
       "      <th>Utility cost</th>\n",
       "      <th></th>\n",
       "      <td>USD/hr</td>\n",
       "      <td>0.00793</td>\n",
       "    </tr>\n",
       "    <tr>\n",
       "      <th>Additional OPEX</th>\n",
       "      <th></th>\n",
       "      <td>USD/hr</td>\n",
       "      <td>0</td>\n",
       "    </tr>\n",
       "  </tbody>\n",
       "</table>\n",
       "</div>"
      ],
      "text/plain": [
       "Aerobic reactor2                      Units       R2\n",
       "Power               Rate                 kW    0.101\n",
       "                    Cost             USD/hr  0.00793\n",
       "Design              Volume                      1.27\n",
       "                    Diameter              m    0.931\n",
       "                    Height                m     1.86\n",
       "                    Stainless steel      kg 4.31e+04\n",
       "Purchase cost       Tank                USD 1.29e+05\n",
       "Total purchase cost                     USD 1.29e+05\n",
       "Utility cost                         USD/hr  0.00793\n",
       "Additional OPEX                      USD/hr        0"
      ]
     },
     "execution_count": 34,
     "metadata": {},
     "output_type": "execute_result"
    }
   ],
   "source": [
    "# Voila!\n",
    "U2.simulate()\n",
    "U2.results()"
   ]
  },
  {
   "cell_type": "code",
   "execution_count": 35,
   "metadata": {},
   "outputs": [
    {
     "data": {
      "image/png": "[encoded data removed]",
      "text/plain": [
       "<IPython.core.display.Image object>"
      ]
     },
     "metadata": {},
     "output_type": "display_data"
    },
    {
     "name": "stdout",
     "output_type": "stream",
     "text": [
      "AerobicReactor2: R2\n",
      "ins...\n",
      "[0] ws3\n",
      "    phase: 'l', T: 298.15 K, P: 101325 Pa\n",
      "    flow (g/hr): S_CH3OH  500\n",
      "                 H2O      1e+06\n",
      "    WasteStream-specific properties:\n",
      "     pH         : 7.0\n",
      "     COD        : 498.2 mg/L\n",
      "     BOD        : 357.2 mg/L\n",
      "     TC         : 124.4 mg/L\n",
      "     TOC        : 124.4 mg/L\n",
      "[1] o2\n",
      "    phase: 'g', T: 298.15 K, P: 101325 Pa\n",
      "    flow (g/hr): O2  5.02e+03\n",
      "    WasteStream-specific properties: None for non-liquid waste streams\n",
      "outs...\n",
      "[0] eff\n",
      "    phase: 'l', T: 298.5 K, P: 101325 Pa\n",
      "    flow (g/hr): S_CH3OH  50\n",
      "                 X_OHO    25\n",
      "                 S_O2     -674\n",
      "                 H2O      1e+06\n",
      "                 O2       5.02e+03\n",
      "    WasteStream-specific properties:\n",
      "     pH         : 33.4\n",
      "     COD        : 74.0 mg/L\n",
      "     BOD        : 49.3 mg/L\n",
      "     TC         : 21.3 mg/L\n",
      "     TOC        : 21.3 mg/L\n",
      "     TN         : 1.7 mg/L\n",
      "     TKN        : 1.7 mg/L\n",
      "     TP         : 0.5 mg/L\n",
      "     TK         : 0.1 mg/L\n",
      "[1] co2\n",
      "    phase: 'g', T: 298.15 K, P: 101325 Pa\n",
      "    flow (g/hr): CO2  618\n",
      "    WasteStream-specific properties: None for non-liquid waste streams\n"
     ]
    }
   ],
   "source": [
    "U2"
   ]
  },
  {
   "cell_type": "code",
   "execution_count": 36,
   "metadata": {},
   "outputs": [],
   "source": [
    "# Trying to put an unrealistic value will show our helpful message\n",
    "# U2.conversion = 1.1"
   ]
  },
  {
   "cell_type": "markdown",
   "metadata": {},
   "source": [
    "## 4. Other convenient features <a class=\"anchor\" id=\"s4\"></a>\n",
    "We've done a good job in making the `AerobicReactor` class, but there are many helpful features that will make our lives much easier"
   ]
  },
  {
   "cell_type": "markdown",
   "metadata": {},
   "source": [
    "### 4.1. Reactions\n",
    "Here's what we did for the reaction of MeOH and O2 to CO2 and H2O:\n",
    "```python\n",
    "converted_meoh = x * inf.imol['S_CH3OH']\n",
    "consumed_o2 = 1.5 * converted_meoh\n",
    "generated_co2 = converted_meoh\n",
    "generated_h2o = 2 * converted_meoh\n",
    "eff.imol['S_CH3OH'] -= converted_meoh\n",
    "eff.imol['S_O2'] -= consumed_o2\n",
    "eff.imol['H2O'] += generated_h2o\n",
    "co2.imol['CO2'] = generated_co2\n",
    "```"
   ]
  },
  {
   "cell_type": "markdown",
   "metadata": {},
   "source": [
    "For reactions like this, we can acutally use `Reaction` in Thermosteam to do it in a much more convenient way:\n",
    "```python\n",
    "from thermosteam.reaction import Reaction as Rxn\n",
    "#                    reaction definition             reactant    conversion\n",
    "aerobic_rxn = Rxn('S_CH3OH + 1.5 O2 -> CO2 + 2 H2O', 'S_CH3OH', self.conversion)\n",
    "```\n",
    "\n",
    "If we have multiple reactions, we can use `ParallelRxn` (if all reactions happen at once) or `SeriesReaction` (if these reactions happen in sequence), and we can use `ReactionSystem` to compile multiple `Reaction`, `ParallelRxn`, and `SeriesReaction` together.\n",
    "\n",
    "For more detailed instructions, refer to [Thermosteam's documentation](https://thermosteam.readthedocs.io/en/latest/reaction/Reaction.html)."
   ]
  },
  {
   "cell_type": "markdown",
   "metadata": {},
   "source": [
    "### 4.2. `cost` decorator\n",
    "If we want to scale the cost of some equipment base on certain variables (e.g., scale the capital cost and electricity of a pump based on the flow rate, we can use the `cost` decorator (usage of decorator starts with the `@` symbol, again recall the `property` decorator).\n",
    "\n",
    "For the demo purpose, let's assume that we need a pump for the aeration that will be scaled based on the mass flow rate of needed O2\n",
    "```python\n",
    "from biosteam.units.decorators import cost\n",
    "\n",
    "@cost('O2 flow rate', # the variable that the equipment is scaled on\n",
    "      'O2 pump', # name of the equipment\n",
    "      CE=522, # chemical engineering plant cost index (CEPCI)\n",
    "      S=40000, # value of the scaling basis\n",
    "      cost=22500, # cost of the equipment when the variable is at the basis value\n",
    "      n=0.8, # exponential scaling factor\n",
    "      kW=75, # electricity usage\n",
    "      N=1, # number of this equipment (will be defaulted to 1 if not given)\n",
    "      BM=2.3) # bare module\n",
    "class AerobicReactor(qs.SanUnit):\n",
    "    ...\n",
    "\n",
    "    # Note that in the unit, you'll need to define what 'O2 flow rate' is\n",
    "    # in the `design_results` dict and its unit in the `_units` dict\n",
    "    _units = {\n",
    "        ...,\n",
    "        'O2 flow rate': 'kg/hr',\n",
    "    }\n",
    "    \n",
    "    def _design(self):\n",
    "        ...\n",
    "        self.design_results['O2 flow rate'] = self.outs[1].F_mass\n",
    "```\n",
    "\n",
    "The scaling equations are (`ub` is the upper bound):\n",
    "\n",
    "$$New\\ cost = N \\cdot cost \\bigg(\\frac{CE_{new}}{CE}\\bigg) \\bigg(\\frac{S_{new}}{N \\cdot S}\\bigg)^{n}$$\n",
    "    \n",
    "$$Electricity\\ rate = kW \\bigg(\\frac{S_{new}}{S}\\bigg)$$\n",
    "\n",
    "$$N = ceil \\bigg( \\frac{S_{new}}{ub} \\bigg)$$"
   ]
  },
  {
   "cell_type": "markdown",
   "metadata": {},
   "source": [
    "**Note:**\n",
    "\n",
    "You can actually add the unit in the `@` expression, e.g., \n",
    "```python\n",
    "@cost('O2 flow rate', ..., units='kg/hr')\n",
    "```\n",
    "But if later you define `_units` in the class definition by using \n",
    "```python\n",
    "_units = {\n",
    "    'Reactor volume': 'm3',\n",
    "    'Diameter': 'm',\n",
    "    'Height': 'm',\n",
    "    'Stainless steel': 'kg'\n",
    "}\n",
    "```\n",
    "You'll throw away the previous definition."
   ]
  },
  {
   "cell_type": "code",
   "execution_count": 37,
   "metadata": {},
   "outputs": [],
   "source": [
    "import qsdsan as qs"
   ]
  },
  {
   "cell_type": "code",
   "execution_count": 38,
   "metadata": {},
   "outputs": [
    {
     "data": {
      "text/plain": [
       "567.5"
      ]
     },
     "execution_count": 38,
     "metadata": {},
     "output_type": "execute_result"
    }
   ],
   "source": [
    "# If you want to know the current CEPCI\n",
    "qs.CEPCI"
   ]
  },
  {
   "cell_type": "code",
   "execution_count": 39,
   "metadata": {},
   "outputs": [
    {
     "data": {
      "text/plain": [
       "{1980: 261,\n",
       " 1981: 297,\n",
       " 1982: 314,\n",
       " 1983: 317,\n",
       " 1984: 323,\n",
       " 1985: 325,\n",
       " 1986: 318,\n",
       " 1987: 324,\n",
       " 1988: 343,\n",
       " 1989: 355,\n",
       " 1990: 358,\n",
       " 1991: 361,\n",
       " 1992: 358,\n",
       " 1993: 359,\n",
       " 1994: 368,\n",
       " 1995: 381,\n",
       " 1996: 382,\n",
       " 1997: 387,\n",
       " 1998: 390,\n",
       " 1999: 391,\n",
       " 2000: 394,\n",
       " 2001: 394,\n",
       " 2002: 396,\n",
       " 2003: 402,\n",
       " 2004: 444,\n",
       " 2005: 468,\n",
       " 2006: 500,\n",
       " 2007: 525,\n",
       " 2008: 575,\n",
       " 2009: 522,\n",
       " 2010: 551,\n",
       " 2011: 586,\n",
       " 2012: 585,\n",
       " 2013: 567,\n",
       " 2014: 576,\n",
       " 2015: 542,\n",
       " 2016: 568,\n",
       " 2018: 603}"
      ]
     },
     "execution_count": 39,
     "metadata": {},
     "output_type": "execute_result"
    }
   ],
   "source": [
    "# If you want to look up CEPCI by year\n",
    "qs.CEPCI_by_year"
   ]
  },
  {
   "cell_type": "markdown",
   "metadata": {},
   "source": [
    "For more details, check out [BioSTEAM's documentation](https://biosteam.readthedocs.io/en/latest/tutorial/Unit_decorators.html)."
   ]
  },
  {
   "cell_type": "code",
   "execution_count": 40,
   "metadata": {},
   "outputs": [],
   "source": [
    "# Let's use `Reaction` and `cost` decorator here,\n",
    "# I removed all the comments to make it shorter\n",
    "from thermosteam.reaction import Reaction as Rxn\n",
    "from biosteam.units.decorators import cost\n",
    "@cost('O2 flow rate', 'O2 pump', CE=522,\n",
    "      S=40000, cost=22500, n=0.8, kW=75, BM=2.3)\n",
    "class AerobicReactor3(qs.SanUnit):\n",
    "    def __init__(self, ID='', ins=None, outs=(), thermo=None, init_with='WasteStream',\n",
    "                 conversion=0.9, aeration_rate=3, HRT=5):\n",
    "        qs.SanUnit.__init__(self, ID, ins, outs, thermo, init_with)\n",
    "        self.conversion = conversion\n",
    "        self.aeration_rate = aeration_rate\n",
    "        self.HRT = HRT\n",
    "        self.F_BM = {'Tank': 2}\n",
    "        self.aerobic_rxn = Rxn('S_CH3OH + 1.5 O2 -> CO2 + 2 H2O', 'S_CH3OH', conversion)\n",
    "\n",
    "    _N_ins = 2\n",
    "    _N_outs = 2\n",
    "    \n",
    "    def _run(self):\n",
    "        inf, o2 = self.ins\n",
    "        eff, co2 = self.outs\n",
    "        o2.phase = co2.phase = 'g'\n",
    "        \n",
    "        o2_needed = self.aeration_rate * self.F_vol_in\n",
    "        o2.imass['O2'] = o2_needed\n",
    "        \n",
    "        eff.mix_from(self.ins)\n",
    "        eff.copy_flow(eff, 'S_O2', remove=True)\n",
    "        \n",
    "        self.aerobic_rxn(eff.mol)\n",
    "\n",
    "        eff.imass['X_OHO'] = 0.05 * inf.imass['S_CH3OH']\n",
    "        eff.imass['S_CH3OH'] -= eff.imass['X_OHO']\n",
    "        \n",
    "    _units = {\n",
    "        'Reactor volume': 'm3',\n",
    "        'Diameter': 'm',\n",
    "        'Height': 'm',\n",
    "        'Stainless steel': 'kg',\n",
    "        'O2 flow rate': 'kg/hr'\n",
    "    }\n",
    "    \n",
    "    def _design(self):\n",
    "        D = self.design_results\n",
    "        tot_vol = self.outs[0].F_vol\n",
    "        rx_vol = tot_vol / 0.8\n",
    "        dia = (2*rx_vol/3.14)**(1/3)\n",
    "        D['Volume'] = rx_vol\n",
    "        D['Diameter'] = dia\n",
    "        D['Height'] = H = 2 * dia\n",
    "\n",
    "        ss = 3.14*(dia**2)*H + 3.14/4*(dia**2)\n",
    "        D['Stainless steel'] = ss * 7500\n",
    "\n",
    "        D['O2 flow rate'] = self.outs[1].F_mass\n",
    "    \n",
    "    \n",
    "    def _cost(self):\n",
    "        self.baseline_purchase_costs['Tank'] = \\\n",
    "            3 * self.design_results['Stainless steel']\n",
    "        self.power_utility.consumption = 0.1 * self.outs[0].F_vol\n",
    "\n",
    "        \n",
    "    @property\n",
    "    def conversion(self):\n",
    "        '''[float] Conversion of the organic matters in this reactor.'''\n",
    "        return self._conversion\n",
    "    @conversion.setter\n",
    "    def conversion(self, i):\n",
    "        if not 0 <= i <= 1:\n",
    "            raise AttributeError('`conversion` must be within [0, 1], '\n",
    "                                f'the provided value {i} is outside this range.')\n",
    "        self._conversion = i"
   ]
  },
  {
   "cell_type": "code",
   "execution_count": 41,
   "metadata": {},
   "outputs": [
    {
     "name": "stderr",
     "output_type": "stream",
     "text": [
      "/Users/yalinli_cabbi/opt/anaconda3/envs/demo/lib/python3.8/site-packages/biosteam/utils/piping.py:216: RuntimeWarning: <WasteStream: o2> has been replaced in registry\n",
      "  else dock(Stream(i, thermo=thermo)) for i in streams]\n",
      "/Users/yalinli_cabbi/opt/anaconda3/envs/demo/lib/python3.8/site-packages/biosteam/utils/piping.py:216: RuntimeWarning: <WasteStream: eff> has been replaced in registry\n",
      "  else dock(Stream(i, thermo=thermo)) for i in streams]\n",
      "/Users/yalinli_cabbi/opt/anaconda3/envs/demo/lib/python3.8/site-packages/biosteam/utils/piping.py:216: RuntimeWarning: <WasteStream: co2> has been replaced in registry\n",
      "  else dock(Stream(i, thermo=thermo)) for i in streams]\n"
     ]
    },
    {
     "data": {
      "text/html": [
       "<div>\n",
       "<style scoped>\n",
       "    .dataframe tbody tr th:only-of-type {\n",
       "        vertical-align: middle;\n",
       "    }\n",
       "\n",
       "    .dataframe tbody tr th {\n",
       "        vertical-align: top;\n",
       "    }\n",
       "\n",
       "    .dataframe thead th {\n",
       "        text-align: right;\n",
       "    }\n",
       "</style>\n",
       "<table border=\"1\" class=\"dataframe\">\n",
       "  <thead>\n",
       "    <tr style=\"text-align: right;\">\n",
       "      <th></th>\n",
       "      <th>Aerobic reactor3</th>\n",
       "      <th>Units</th>\n",
       "      <th>R3</th>\n",
       "    </tr>\n",
       "  </thead>\n",
       "  <tbody>\n",
       "    <tr>\n",
       "      <th rowspan=\"2\" valign=\"top\">Power</th>\n",
       "      <th>Rate</th>\n",
       "      <td>kW</td>\n",
       "      <td>0.101</td>\n",
       "    </tr>\n",
       "    <tr>\n",
       "      <th>Cost</th>\n",
       "      <td>USD/hr</td>\n",
       "      <td>0.0079</td>\n",
       "    </tr>\n",
       "    <tr>\n",
       "      <th rowspan=\"5\" valign=\"top\">Design</th>\n",
       "      <th>Volume</th>\n",
       "      <td></td>\n",
       "      <td>1.26</td>\n",
       "    </tr>\n",
       "    <tr>\n",
       "      <th>Diameter</th>\n",
       "      <td>m</td>\n",
       "      <td>0.93</td>\n",
       "    </tr>\n",
       "    <tr>\n",
       "      <th>Height</th>\n",
       "      <td>m</td>\n",
       "      <td>1.86</td>\n",
       "    </tr>\n",
       "    <tr>\n",
       "      <th>Stainless steel</th>\n",
       "      <td>kg</td>\n",
       "      <td>4.3e+04</td>\n",
       "    </tr>\n",
       "    <tr>\n",
       "      <th>O2 flow rate</th>\n",
       "      <td>kg/hr</td>\n",
       "      <td>0</td>\n",
       "    </tr>\n",
       "    <tr>\n",
       "      <th>Purchase cost</th>\n",
       "      <th>Tank</th>\n",
       "      <td>USD</td>\n",
       "      <td>1.29e+05</td>\n",
       "    </tr>\n",
       "    <tr>\n",
       "      <th>Total purchase cost</th>\n",
       "      <th></th>\n",
       "      <td>USD</td>\n",
       "      <td>1.29e+05</td>\n",
       "    </tr>\n",
       "    <tr>\n",
       "      <th>Utility cost</th>\n",
       "      <th></th>\n",
       "      <td>USD/hr</td>\n",
       "      <td>0.0079</td>\n",
       "    </tr>\n",
       "    <tr>\n",
       "      <th>Additional OPEX</th>\n",
       "      <th></th>\n",
       "      <td>USD/hr</td>\n",
       "      <td>0</td>\n",
       "    </tr>\n",
       "  </tbody>\n",
       "</table>\n",
       "</div>"
      ],
      "text/plain": [
       "Aerobic reactor3                      Units       R3\n",
       "Power               Rate                 kW    0.101\n",
       "                    Cost             USD/hr   0.0079\n",
       "Design              Volume                      1.26\n",
       "                    Diameter              m     0.93\n",
       "                    Height                m     1.86\n",
       "                    Stainless steel      kg  4.3e+04\n",
       "                    O2 flow rate      kg/hr        0\n",
       "Purchase cost       Tank                USD 1.29e+05\n",
       "Total purchase cost                     USD 1.29e+05\n",
       "Utility cost                         USD/hr   0.0079\n",
       "Additional OPEX                      USD/hr        0"
      ]
     },
     "execution_count": 41,
     "metadata": {},
     "output_type": "execute_result"
    }
   ],
   "source": [
    "# Check out the results again\n",
    "U3 = AerobicReactor3(ins=(ws.copy(), 'o2'), outs=('eff', 'co2'))\n",
    "U3.simulate()\n",
    "U3.results()"
   ]
  },
  {
   "cell_type": "code",
   "execution_count": 42,
   "metadata": {},
   "outputs": [
    {
     "data": {
      "image/png": "[encoded data removed]",
      "text/plain": [
       "<IPython.core.display.Image object>"
      ]
     },
     "metadata": {},
     "output_type": "display_data"
    },
    {
     "name": "stdout",
     "output_type": "stream",
     "text": [
      "AerobicReactor3: R3\n",
      "ins...\n",
      "[0] ws4\n",
      "    phase: 'l', T: 298.15 K, P: 101325 Pa\n",
      "    flow (g/hr): S_CH3OH  500\n",
      "                 H2O      1e+06\n",
      "    WasteStream-specific properties:\n",
      "     pH         : 7.0\n",
      "     COD        : 498.2 mg/L\n",
      "     BOD        : 357.2 mg/L\n",
      "     TC         : 124.4 mg/L\n",
      "     TOC        : 124.4 mg/L\n",
      "[1] o2\n",
      "    phase: 'g', T: 298.15 K, P: 101325 Pa\n",
      "    flow (g/hr): O2  3.01e+03\n",
      "    WasteStream-specific properties: None for non-liquid waste streams\n",
      "outs...\n",
      "[0] eff\n",
      "    phase: 'l', T: 298.36 K, P: 101325 Pa\n",
      "    flow (g/hr): S_CH3OH  25\n",
      "                 X_OHO    25\n",
      "                 H2O      1e+06\n",
      "                 O2       2.34e+03\n",
      "                 CO2      618\n",
      "    WasteStream-specific properties:\n",
      "     pH         : 22.9\n",
      "     COD        : 49.5 mg/L\n",
      "     BOD        : 31.8 mg/L\n",
      "     TC         : 182.2 mg/L\n",
      "     TOC        : 15.2 mg/L\n",
      "     TN         : 1.7 mg/L\n",
      "     TKN        : 1.7 mg/L\n",
      "     TP         : 0.5 mg/L\n",
      "     TK         : 0.1 mg/L\n",
      "[1] co2\n",
      "    phase: 'g', T: 298.15 K, P: 101325 Pa\n",
      "    flow: 0\n",
      "    WasteStream-specific properties: None for non-liquid waste streams\n"
     ]
    }
   ],
   "source": [
    "U3"
   ]
  },
  {
   "cell_type": "markdown",
   "metadata": {},
   "source": [
    "### 4.3. `Equipment`\n",
    "If you have multiple equipment that will be used in many of your units, then you might consider using the `Equipment` class. For exemplary usage, check out the [documentation](https://qsdsan.readthedocs.io/en/latest/sanunits/ElectrochemicalCell.html) of `ElecchemicalCell` and the [source codes](https://github.com/QSD-Group/QSDsan/tree/main/qsdsan/equipments) of the corresponding equipment."
   ]
  },
  {
   "cell_type": "markdown",
   "metadata": {},
   "source": [
    "[Back to top](#top)"
   ]
  }
 ],
 "metadata": {
  "kernelspec": {
   "display_name": "Python 3 (ipykernel)",
   "language": "python",
   "name": "python3"
  },
  "language_info": {
   "codemirror_mode": {
    "name": "ipython",
    "version": 3
   },
   "file_extension": ".py",
   "mimetype": "text/x-python",
   "name": "python",
   "nbconvert_exporter": "python",
   "pygments_lexer": "ipython3",
   "version": "3.8.11"
  }
 },
 "nbformat": 4,
 "nbformat_minor": 4
}
