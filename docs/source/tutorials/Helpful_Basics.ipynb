{
 "cells": [
  {
   "cell_type": "markdown",
   "id": "e36ec1d0",
   "metadata": {},
   "source": [
    "# Helpful basics\n",
    "\n",
    "- **Prepared by:**\n",
    "    \n",
    "    - [Yalin Li](zoe.yalin.li@gmail.com)\n",
    "    \n",
    "- **Covered topics:**\n",
    "\n",
    "    - 1. Python and Jupyter Notebook\n",
    "    - 2. `import qsdsan`"
   ]
  },
  {
   "cell_type": "markdown",
   "id": "a08e8b28",
   "metadata": {},
   "source": [
    "## 1. Python and Jupyter Notebook <a class=\"anchor\" id=\"s1\"></a>"
   ]
  },
  {
   "cell_type": "markdown",
   "id": "6a165fa1",
   "metadata": {},
   "source": [
    "- Launching Python through Jupyter Notebook\n",
    "    - Tutorial from [Software Carpentry](https://swcarpentry.github.io/python-novice-inflammation/setup.html)\n",
    "- Make new notebook\n",
    "- Code vs. Markdown cells\n",
    "    - Edit/escape, copy/cut, insert, delete\n",
    "    - Simple Markdown syntax\n",
    "    - For more cheatsheets on Markdown (and markup languages), check out the Supplementary Material module of [EDUxQSD](http://github.com/yalinli2/EDUxQSD)\n",
    "- Close notebook and quit Jupyter Notebook"
   ]
  },
  {
   "cell_type": "markdown",
   "id": "0fa073a3",
   "metadata": {},
   "source": [
    "## 2. `import qsdsan`"
   ]
  },
  {
   "cell_type": "code",
   "execution_count": 1,
   "id": "0cebee1f",
   "metadata": {},
   "outputs": [
    {
     "name": "stdout",
     "output_type": "stream",
     "text": [
      "Path for the first qsdsan package is ['/Users/yalinli_cabbi/opt/anaconda3/envs/demo/lib/python3.8/site-packages/qsdsan'].\n"
     ]
    }
   ],
   "source": [
    "# When I do `import qsdsan`, how does Python know where to look for qsdsan?\n",
    "# This is the same as `import qsdsan`, then `qs1 = qsdsan`\n",
    "import qsdsan as qs1\n",
    "print(f'Path for the first qsdsan package is {qs1.__path__}.')"
   ]
  },
  {
   "cell_type": "markdown",
   "id": "2aefdc92",
   "metadata": {},
   "source": [
    "---\n",
    "### Tip\n",
    "The 'f' prefix stands for \"fancy print\", it allows the plain print function to look nicer. It's a feature of newer Python, before this, you either have to do:"
   ]
  },
  {
   "cell_type": "code",
   "execution_count": 2,
   "id": "acdd1152",
   "metadata": {},
   "outputs": [
    {
     "name": "stdout",
     "output_type": "stream",
     "text": [
      "Path for the first qsdsan package is ['/Users/yalinli_cabbi/opt/anaconda3/envs/demo/lib/python3.8/site-packages/qsdsan'].\n"
     ]
    }
   ],
   "source": [
    "info = 'Path for the first qsdsan package is ' + str(qs1.__path__) + '.'\n",
    "print(info)\n",
    "# `print('Path for the first qsdsan package is', qs1.__path__, '.')` works as well"
   ]
  },
  {
   "cell_type": "code",
   "execution_count": 3,
   "id": "eae057d9",
   "metadata": {},
   "outputs": [
    {
     "name": "stdout",
     "output_type": "stream",
     "text": [
      "Path for the first qsdsan package is ['/Users/yalinli_cabbi/opt/anaconda3/envs/demo/lib/python3.8/site-packages/qsdsan'].\n"
     ]
    }
   ],
   "source": [
    "# Or use something like this:\n",
    "print('Path for the first qsdsan package is {}.'.format(qs1.__path__))"
   ]
  },
  {
   "cell_type": "markdown",
   "id": "1ca984d0",
   "metadata": {},
   "source": [
    "---"
   ]
  },
  {
   "cell_type": "code",
   "execution_count": 4,
   "id": "b808afb3",
   "metadata": {},
   "outputs": [
    {
     "name": "stdout",
     "output_type": "stream",
     "text": [
      "['/Users/yalinli_cabbi/OneDrive/Coding/qs/docs/source/tutorials', '/Users/yalinli_cabbi/opt/anaconda3/envs/demo/lib/python38.zip', '/Users/yalinli_cabbi/opt/anaconda3/envs/demo/lib/python3.8', '/Users/yalinli_cabbi/opt/anaconda3/envs/demo/lib/python3.8/lib-dynload', '', '/Users/yalinli_cabbi/opt/anaconda3/envs/demo/lib/python3.8/site-packages', '/Users/yalinli_cabbi/opt/anaconda3/envs/demo/lib/python3.8/site-packages/aeosa', '/Users/yalinli_cabbi/opt/anaconda3/envs/demo/lib/python3.8/site-packages/locket-0.2.1-py3.8.egg', '/Users/yalinli_cabbi/opt/anaconda3/envs/demo/lib/python3.8/site-packages/pypardiso-0.3.1-py3.9.egg', '/Users/yalinli_cabbi/opt/anaconda3/envs/demo/lib/python3.8/site-packages/IPython/extensions', '/Users/yalinli_cabbi/.ipython']\n"
     ]
    }
   ],
   "source": [
    "# When doing importing, Python will look into the directories (i.e., folders) in the order of the `sys.path` list\n",
    "import os, sys\n",
    "print(sys.path)"
   ]
  },
  {
   "cell_type": "code",
   "execution_count": 5,
   "id": "ccf714fd",
   "metadata": {},
   "outputs": [
    {
     "name": "stdout",
     "output_type": "stream",
     "text": [
      "/Users/yalinli_cabbi/OneDrive/Coding/qs/docs/source/tutorials\n",
      "/Users/yalinli_cabbi/opt/anaconda3/envs/demo/lib/python38.zip\n",
      "/Users/yalinli_cabbi/opt/anaconda3/envs/demo/lib/python3.8\n",
      "/Users/yalinli_cabbi/opt/anaconda3/envs/demo/lib/python3.8/lib-dynload\n",
      "\n",
      "/Users/yalinli_cabbi/opt/anaconda3/envs/demo/lib/python3.8/site-packages\n",
      "/Users/yalinli_cabbi/opt/anaconda3/envs/demo/lib/python3.8/site-packages/aeosa\n",
      "/Users/yalinli_cabbi/opt/anaconda3/envs/demo/lib/python3.8/site-packages/locket-0.2.1-py3.8.egg\n",
      "/Users/yalinli_cabbi/opt/anaconda3/envs/demo/lib/python3.8/site-packages/pypardiso-0.3.1-py3.9.egg\n",
      "/Users/yalinli_cabbi/opt/anaconda3/envs/demo/lib/python3.8/site-packages/IPython/extensions\n",
      "/Users/yalinli_cabbi/.ipython\n"
     ]
    }
   ],
   "source": [
    "# That's way too ugly, let's do it in a nicer way\n",
    "for i in sys.path:\n",
    "    print(i)"
   ]
  },
  {
   "cell_type": "code",
   "execution_count": 6,
   "id": "bb6ef27a",
   "metadata": {},
   "outputs": [],
   "source": [
    "# If Python cannot find the package from any of those directories, it will complain something like\n",
    "# uncomment the following to try\n",
    "# import happy_wednesday"
   ]
  },
  {
   "cell_type": "markdown",
   "id": "9077e07e",
   "metadata": {},
   "source": [
    "So if we want to import the  version of qsdsan, we need to ensure that:\n",
    "1. `cloned_path` is in `sys.path`\n",
    "2. `cloned_path` is of higher priority (e.g., in front of) the pip-installed path, which is usually the one that has \"site-packages\")"
   ]
  },
  {
   "cell_type": "code",
   "execution_count": 7,
   "id": "35973a17",
   "metadata": {},
   "outputs": [],
   "source": [
    "# Currently cloned_path is not in `sys.path`, so we will use the `insert` function to insert it\n",
    "# but what if I don't know how to use that function?\n",
    "# then try this\n",
    "sys.path.insert?"
   ]
  },
  {
   "cell_type": "code",
   "execution_count": 8,
   "id": "2299503c",
   "metadata": {},
   "outputs": [
    {
     "name": "stdout",
     "output_type": "stream",
     "text": [
      "Help on built-in function insert:\n",
      "\n",
      "insert(index, object, /) method of builtins.list instance\n",
      "    Insert object before index.\n",
      "\n"
     ]
    }
   ],
   "source": [
    "# Or this (which is more verbose)\n",
    "help(sys.path.insert)"
   ]
  },
  {
   "cell_type": "markdown",
   "id": "0cb38aec",
   "metadata": {},
   "source": [
    "---\n",
    "### Tip\n",
    "If you look closer, you'll find that the help info says \"insert(index, object, /) method of **builtins.list** instance\", not \"insert(index, object, /) method of **sys.path**\".\n",
    "\n",
    "This is because `sys.path` is an instance of the `list` class, and so it automatically \"inherits\" all the methods (i.e., functions) that are associated with a `list` object, and that is (imo) one the biggest feature/advantage of object orientated programming (OOP)."
   ]
  },
  {
   "cell_type": "markdown",
   "id": "98eddf4c",
   "metadata": {},
   "source": [
    "You may note that I sometimes refer list as a \"class\" but sometimes as an \"object\". Both are correct, because in OOP languages everything is an object.\n",
    "\n",
    "But \"instance\" and \"class\" cannot be used interchangably, \"instance\" is, as the name indicates, a practical example of the \"class\".\n",
    "\n",
    "E.g., you can think me as a postdoc, I have the common attributes of a postdoc (have a Ph.D. degree thus permanent head damage, etc.), but you cannot equate me to the entire postdoc \"class\"."
   ]
  },
  {
   "cell_type": "markdown",
   "id": "92bc1569",
   "metadata": {},
   "source": [
    "There is much more to \"class\", e.g., one instance (or subclass) can belong to multiple classes and inherit attributes from all of its super classes (sub/super sometimes referred to as child/parent). Just like I can also belong to another class called \"cat-owner\", the \"instances\" (i.e., member) of which all have cat(s) (and suffer from grumpy litter-generator creatures like this:"
   ]
  },
  {
   "cell_type": "code",
   "execution_count": 9,
   "id": "a4be8965",
   "metadata": {},
   "outputs": [
    {
     "data": {
      "text/html": [
       "<img src=\"https://upload.wikimedia.org/wikipedia/commons/d/dc/Grumpy_Cat_%2814556024763%29_%28cropped%29.jpg\" width=\"200\"/>"
      ],
      "text/plain": [
       "<IPython.core.display.Image object>"
      ]
     },
     "execution_count": 9,
     "metadata": {},
     "output_type": "execute_result"
    }
   ],
   "source": [
    "from IPython.display import Image\n",
    "Image(url='https://upload.wikimedia.org/wikipedia/commons/d/dc/Grumpy_Cat_%2814556024763%29_%28cropped%29.jpg', width=200)"
   ]
  },
  {
   "cell_type": "code",
   "execution_count": 10,
   "id": "c157e8fa",
   "metadata": {},
   "outputs": [
    {
     "data": {
      "text/plain": [
       "list"
      ]
     },
     "execution_count": 10,
     "metadata": {},
     "output_type": "execute_result"
    }
   ],
   "source": [
    "# So how do I know `sys.path` is a list?\n",
    "type(sys.path)"
   ]
  },
  {
   "cell_type": "code",
   "execution_count": 11,
   "id": "8ec3ccf8",
   "metadata": {},
   "outputs": [
    {
     "data": {
      "text/plain": [
       "True"
      ]
     },
     "execution_count": 11,
     "metadata": {},
     "output_type": "execute_result"
    }
   ],
   "source": [
    "# And another built-in function we often use in `if` statement is\n",
    "isinstance(sys.path, list)"
   ]
  },
  {
   "cell_type": "code",
   "execution_count": 12,
   "id": "ee5d95fd",
   "metadata": {},
   "outputs": [
    {
     "name": "stdout",
     "output_type": "stream",
     "text": [
      "sys.path is a list.\n"
     ]
    }
   ],
   "source": [
    "# E.g.\n",
    "if isinstance(sys.path, list):\n",
    "    print('sys.path is a list.')\n",
    "else:\n",
    "    print('sys path is NOT a list')"
   ]
  },
  {
   "cell_type": "code",
   "execution_count": 13,
   "id": "b181a290",
   "metadata": {},
   "outputs": [
    {
     "name": "stdout",
     "output_type": "stream",
     "text": [
      "sys.path is a list.\n"
     ]
    }
   ],
   "source": [
    "# To make it fancier, (and show off some advanced Python tips), we can change it to a one-liner,\n",
    "# this is exactly the same as the `if... else...` statement above\n",
    "info = 'sys.path is a list.' if isinstance(sys.path, list) else 'sys.path is NOT a list.' \n",
    "print(info)"
   ]
  },
  {
   "cell_type": "code",
   "execution_count": 14,
   "id": "6cb36422",
   "metadata": {},
   "outputs": [
    {
     "name": "stdout",
     "output_type": "stream",
     "text": [
      "The statement that \"sys.path is a list\" is True.\n"
     ]
    }
   ],
   "source": [
    "# Since we have gone into the rabbit hole, why not use fancy print?\n",
    "print(f'The statement that \"sys.path is a list\" is {isinstance(sys.path, list)}.')"
   ]
  },
  {
   "cell_type": "markdown",
   "id": "a5923dfd",
   "metadata": {},
   "source": [
    "Then there are another whole set of issues related to method resolution order (`mro`, i.e., which of the super classes' attributes take priority over others), etc., but that's for advanced Python, and we'll skip this topic now."
   ]
  },
  {
   "cell_type": "markdown",
   "id": "a36f1dc0",
   "metadata": {},
   "source": [
    "---"
   ]
  },
  {
   "cell_type": "markdown",
   "id": "beb38962",
   "metadata": {},
   "source": [
    "**Note:**\n",
    "We need to restart the kernel at this moment, or the already imported, pip-installed `qsdsan` will always be there."
   ]
  },
  {
   "cell_type": "code",
   "execution_count": 1,
   "id": "a24fe6dd",
   "metadata": {},
   "outputs": [],
   "source": [
    "# Now I'll attempt to import another qsdsan (cloned the GitHub version) on my computer,\n",
    "# firstly you need to figure out where that is (i.e., where you cloned it to)\n",
    "# demo on how to find it\n",
    "cloned_path = '/Users/yalinli_cabbi/onedrive/coding/qs'"
   ]
  },
  {
   "cell_type": "code",
   "execution_count": 2,
   "id": "22f6ec3f",
   "metadata": {},
   "outputs": [
    {
     "name": "stdout",
     "output_type": "stream",
     "text": [
      "/Users/yalinli_cabbi/onedrive/coding/qs\n",
      "/Users/yalinli_cabbi/OneDrive/Coding/qs/docs/source/tutorials\n",
      "/Users/yalinli_cabbi/opt/anaconda3/envs/demo/lib/python38.zip\n",
      "/Users/yalinli_cabbi/opt/anaconda3/envs/demo/lib/python3.8\n",
      "/Users/yalinli_cabbi/opt/anaconda3/envs/demo/lib/python3.8/lib-dynload\n",
      "\n",
      "/Users/yalinli_cabbi/opt/anaconda3/envs/demo/lib/python3.8/site-packages\n",
      "/Users/yalinli_cabbi/opt/anaconda3/envs/demo/lib/python3.8/site-packages/aeosa\n",
      "/Users/yalinli_cabbi/opt/anaconda3/envs/demo/lib/python3.8/site-packages/locket-0.2.1-py3.8.egg\n",
      "/Users/yalinli_cabbi/opt/anaconda3/envs/demo/lib/python3.8/site-packages/pypardiso-0.3.1-py3.9.egg\n",
      "/Users/yalinli_cabbi/opt/anaconda3/envs/demo/lib/python3.8/site-packages/IPython/extensions\n",
      "/Users/yalinli_cabbi/.ipython\n"
     ]
    }
   ],
   "source": [
    "# Then let's insert the cloned path into our system path\n",
    "# remember to restart the kernel\n",
    "import sys\n",
    "sys.path.insert(0, cloned_path)\n",
    "for i in sys.path:\n",
    "    print(i)"
   ]
  },
  {
   "cell_type": "markdown",
   "id": "ce4258fa",
   "metadata": {},
   "source": [
    "You can see that the first path is the cloned path"
   ]
  },
  {
   "cell_type": "code",
   "execution_count": 3,
   "id": "5f8f28ac",
   "metadata": {},
   "outputs": [
    {
     "name": "stdout",
     "output_type": "stream",
     "text": [
      "Path for the second qsdsan package is ['/Users/yalinli_cabbi/onedrive/coding/qs/qsdsan'].\n"
     ]
    }
   ],
   "source": [
    "# So now let's try this importing again\n",
    "import qsdsan as qs2\n",
    "print(f'Path for the second qsdsan package is {qs2.__path__}.')"
   ]
  },
  {
   "cell_type": "markdown",
   "id": "529ee05b",
   "metadata": {},
   "source": [
    "So we successfully import qsdsan from another place"
   ]
  },
  {
   "cell_type": "markdown",
   "id": "8b732351",
   "metadata": {},
   "source": [
    "**Note:**\n",
    "The changes to `sys.path` is temporary, so if we restart the kernel and recheck the path:"
   ]
  },
  {
   "cell_type": "code",
   "execution_count": 1,
   "id": "446db098",
   "metadata": {},
   "outputs": [
    {
     "name": "stdout",
     "output_type": "stream",
     "text": [
      "/Users/yalinli_cabbi/OneDrive/Coding/qs/docs/source/tutorials\n",
      "/Users/yalinli_cabbi/opt/anaconda3/envs/demo/lib/python38.zip\n",
      "/Users/yalinli_cabbi/opt/anaconda3/envs/demo/lib/python3.8\n",
      "/Users/yalinli_cabbi/opt/anaconda3/envs/demo/lib/python3.8/lib-dynload\n",
      "\n",
      "/Users/yalinli_cabbi/opt/anaconda3/envs/demo/lib/python3.8/site-packages\n",
      "/Users/yalinli_cabbi/opt/anaconda3/envs/demo/lib/python3.8/site-packages/aeosa\n",
      "/Users/yalinli_cabbi/opt/anaconda3/envs/demo/lib/python3.8/site-packages/locket-0.2.1-py3.8.egg\n",
      "/Users/yalinli_cabbi/opt/anaconda3/envs/demo/lib/python3.8/site-packages/pypardiso-0.3.1-py3.9.egg\n",
      "/Users/yalinli_cabbi/opt/anaconda3/envs/demo/lib/python3.8/site-packages/IPython/extensions\n",
      "/Users/yalinli_cabbi/.ipython\n"
     ]
    }
   ],
   "source": [
    "# Our previous added cloned_path is gone\n",
    "import sys\n",
    "for i in sys.path:\n",
    "    print(i)"
   ]
  },
  {
   "cell_type": "code",
   "execution_count": 2,
   "id": "6599b89d",
   "metadata": {},
   "outputs": [
    {
     "data": {
      "text/plain": [
       "<module 'qsdsan' from '/Users/yalinli_cabbi/opt/anaconda3/envs/demo/lib/python3.8/site-packages/qsdsan/__init__.py'>"
      ]
     },
     "execution_count": 2,
     "metadata": {},
     "output_type": "execute_result"
    }
   ],
   "source": [
    "# Then restart the kernel and try again\n",
    "import qsdsan as qs3\n",
    "qs3"
   ]
  },
  {
   "cell_type": "markdown",
   "id": "53828dee",
   "metadata": {},
   "source": [
    "We are now back to the pip-installed `qsdsan` :)"
   ]
  },
  {
   "cell_type": "code",
   "execution_count": 3,
   "id": "27c3a1d1",
   "metadata": {},
   "outputs": [
    {
     "data": {
      "text/plain": [
       "'0.3.2'"
      ]
     },
     "execution_count": 3,
     "metadata": {},
     "output_type": "execute_result"
    }
   ],
   "source": [
    "# Finally, if you want to see which version of the qsdsan you are running\n",
    "qs3.__version__"
   ]
  }
 ],
 "metadata": {
  "kernelspec": {
   "display_name": "Python 3",
   "language": "python",
   "name": "python3"
  },
  "language_info": {
   "codemirror_mode": {
    "name": "ipython",
    "version": 3
   },
   "file_extension": ".py",
   "mimetype": "text/x-python",
   "name": "python",
   "nbconvert_exporter": "python",
   "pygments_lexer": "ipython3",
   "version": "3.8.2"
  }
 },
 "nbformat": 4,
 "nbformat_minor": 5
}
