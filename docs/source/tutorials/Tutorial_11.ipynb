{
 "cells": [
  {
   "cell_type": "code",
   "execution_count": 1,
   "id": "9b7ba848",
   "metadata": {
    "scrolled": true
   },
   "outputs": [
    {
     "name": "stdout",
     "output_type": "stream",
     "text": [
      "This tutorial was made with qsdsan v1.2.5 and exposan v1.2.5\n"
     ]
    }
   ],
   "source": [
    "import qsdsan as qs, exposan\n",
    "print(f'This tutorial was made with qsdsan v{qs.__version__} and exposan v{exposan.__version__}')"
   ]
  },
  {
   "cell_type": "code",
   "execution_count": 2,
   "id": "a31c8f69",
   "metadata": {},
   "outputs": [
    {
     "name": "stdout",
     "output_type": "stream",
     "text": [
      "System: bsm1_sys\n",
      "ins...\n",
      "[0] wastewater\n",
      "    phase: 'l', T: 293.15 K, P: 101325 Pa\n",
      "    flow (kmol/hr): S_I   23.1\n",
      "                    S_S   53.4\n",
      "                    X_I   39.4\n",
      "                    X_S   155\n",
      "                    X_BH  21.7\n",
      "                    S_NH  1.34\n",
      "                    S_ND  0.381\n",
      "                    ...   4.26e+04\n",
      "outs...\n",
      "[0] effluent\n",
      "    phase: 'l', T: 293.15 K, P: 101325 Pa\n",
      "    flow: 0\n",
      "[1] WAS\n",
      "    phase: 'l', T: 293.15 K, P: 101325 Pa\n",
      "    flow: 0\n"
     ]
    }
   ],
   "source": [
    "# Let's load the BSM1 system first\n",
    "from exposan import bsm1\n",
    "bsm1.load()\n",
    "sys = bsm1.sys\n",
    "sys.show()"
   ]
  },
  {
   "cell_type": "code",
   "execution_count": 3,
   "id": "5fe1776f",
   "metadata": {},
   "outputs": [
    {
     "data": {
      "image/svg+xml": [
       "<svg xmlns=\"http://www.w3.org/2000/svg\" xmlns:xlink=\"http://www.w3.org/1999/xlink\" width=\"1023pt\" height=\"203pt\" viewBox=\"0.00 0.00 1023.00 202.50\">\n",
       "<g id=\"graph0\" class=\"graph\" transform=\"scale(1 1) rotate(0) translate(4 198.5)\">\n",
       "<!-- A1CSTR&#45;&gt;A2CSTR -->\n",
       "<g id=\"edge2\" class=\"edge\">\n",
       "<title>A1CSTR:c-&gt;A2CSTR:c</title>\n",
       "<path fill=\"none\" stroke=\"#90918e\" stroke-dasharray=\"5,2\" d=\"M173.18,-117.65C186.51,-126.35 202.02,-136.47 216.1,-145.66\"/>\n",
       "<polygon fill=\"#90918e\" stroke=\"#90918e\" points=\"214.37,-148.71 224.66,-151.24 218.19,-142.85 214.37,-148.71\"/>\n",
       "<g id=\"a_edge2-label\"><a xlink:title=\"(empty)\">\n",
       "<text text-anchor=\"middle\" x=\"199\" y=\"-146.8\" font-family=\"Arial\" font-size=\"14.00\" fill=\"#90918e\"> ws1</text>\n",
       "</a>\n",
       "</g>\n",
       "</g>\n",
       "<!-- A2CSTR&#45;&gt;O1CSTR -->\n",
       "<g id=\"edge3\" class=\"edge\">\n",
       "<title>A2CSTR:c-&gt;O1CSTR:c</title>\n",
       "<path fill=\"none\" stroke=\"#90918e\" stroke-dasharray=\"5,2\" d=\"M296.03,-173C307.24,-173 319.79,-173 331.65,-173\"/>\n",
       "<polygon fill=\"#90918e\" stroke=\"#90918e\" points=\"331.86,-176.5 341.86,-173 331.86,-169.5 331.86,-176.5\"/>\n",
       "<g id=\"a_edge3-label\"><a xlink:title=\"(empty)\">\n",
       "<text text-anchor=\"middle\" x=\"319\" y=\"-176.8\" font-family=\"Arial\" font-size=\"14.00\" fill=\"#90918e\"> ws3</text>\n",
       "</a>\n",
       "</g>\n",
       "</g>\n",
       "<!-- O1CSTR&#45;&gt;O2CSTR -->\n",
       "<g id=\"edge4\" class=\"edge\">\n",
       "<title>O1CSTR:c-&gt;O2CSTR:c</title>\n",
       "<path fill=\"none\" stroke=\"#90918e\" stroke-dasharray=\"5,2\" d=\"M418.2,-173C430.59,-173 444.55,-173 457.6,-173\"/>\n",
       "<polygon fill=\"#90918e\" stroke=\"#90918e\" points=\"457.82,-176.5 467.82,-173 457.82,-169.5 457.82,-176.5\"/>\n",
       "<g id=\"a_edge4-label\"><a xlink:title=\"(empty)\">\n",
       "<text text-anchor=\"middle\" x=\"443\" y=\"-176.8\" font-family=\"Arial\" font-size=\"14.00\" fill=\"#90918e\"> ws5</text>\n",
       "</a>\n",
       "</g>\n",
       "</g>\n",
       "<!-- O2CSTR&#45;&gt;O3CSTR -->\n",
       "<g id=\"edge5\" class=\"edge\">\n",
       "<title>O2CSTR:c-&gt;O3CSTR:c</title>\n",
       "<path fill=\"none\" stroke=\"#90918e\" stroke-dasharray=\"5,2\" d=\"M540.75,-151.35C554.29,-142.65 570.07,-132.53 584.39,-123.34\"/>\n",
       "<polygon fill=\"#90918e\" stroke=\"#90918e\" points=\"586.57,-126.1 593.09,-117.76 582.78,-120.21 586.57,-126.1\"/>\n",
       "<g id=\"a_edge5-label\"><a xlink:title=\"(empty)\">\n",
       "<text text-anchor=\"middle\" x=\"567\" y=\"-146.8\" font-family=\"Arial\" font-size=\"14.00\" fill=\"#90918e\"> ws7</text>\n",
       "</a>\n",
       "</g>\n",
       "</g>\n",
       "<!-- O3CSTR&#45;&gt;A1CSTR -->\n",
       "<g id=\"edge7\" class=\"edge\">\n",
       "<title>O3CSTR:c-&gt;A1CSTR:c</title>\n",
       "<path fill=\"none\" stroke=\"#90918e\" stroke-dasharray=\"5,2\" d=\"M589.97,-96C566.25,-96 534.81,-96 507,-96 258,-96 258,-96 258,-96 234.41,-96 208.16,-96 186.43,-96\"/>\n",
       "<polygon fill=\"#90918e\" stroke=\"#90918e\" points=\"186.15,-92.5 176.15,-96 186.15,-99.5 186.15,-92.5\"/>\n",
       "<g id=\"a_edge7-label\"><a xlink:title=\"(empty)\">\n",
       "<text text-anchor=\"middle\" x=\"380\" y=\"-99.8\" font-family=\"Arial\" font-size=\"14.00\" fill=\"#90918e\"> RWW</text>\n",
       "</a>\n",
       "</g>\n",
       "</g>\n",
       "<!-- O3CSTR&#45;&gt;C1Flat bottom circular clarifier -->\n",
       "<g id=\"edge9\" class=\"edge\">\n",
       "<title>O3CSTR:c-&gt;C1Flat bottom circular clarifier:c</title>\n",
       "<path fill=\"none\" stroke=\"#90918e\" stroke-dasharray=\"5,2\" d=\"M666.33,-84.81C689.93,-77.74 721.4,-68.3 750.6,-59.55\"/>\n",
       "<polygon fill=\"#90918e\" stroke=\"#90918e\" points=\"751.83,-62.84 760.4,-56.61 749.82,-56.13 751.83,-62.84\"/>\n",
       "<g id=\"a_edge9-label\"><a xlink:title=\"(empty)\">\n",
       "<text text-anchor=\"middle\" x=\"698.5\" y=\"-85.8\" font-family=\"Arial\" font-size=\"14.00\" fill=\"#90918e\"> treated</text>\n",
       "</a>\n",
       "</g>\n",
       "</g>\n",
       "<!-- C1Flat bottom circular clarifier&#45;&gt;A1CSTR -->\n",
       "<g id=\"edge8\" class=\"edge\">\n",
       "<title>C1Flat bottom circular clarifier:c-&gt;A1CSTR:c</title>\n",
       "<path fill=\"none\" stroke=\"#90918e\" stroke-dasharray=\"5,2\" d=\"M730.97,-14.08C698.54,-9 662.39,-5 629,-5 258,-5 258,-5 258,-5 217.15,-5 181.8,-39.62 160.7,-66.16\"/>\n",
       "<polygon fill=\"#90918e\" stroke=\"#90918e\" points=\"157.67,-64.37 154.37,-74.43 163.23,-68.62 157.67,-64.37\"/>\n",
       "<g id=\"a_edge8-label\"><a xlink:title=\"(empty)\">\n",
       "<text text-anchor=\"middle\" x=\"443\" y=\"-8.8\" font-family=\"Arial\" font-size=\"14.00\" fill=\"#90918e\"> RAS</text>\n",
       "</a>\n",
       "</g>\n",
       "</g>\n",
       "<!-- C1Flat bottom circular clarifier&#45;&gt; effluent -->\n",
       "<g id=\"edge6\" class=\"edge\">\n",
       "<title>C1Flat bottom circular clarifier:c-&gt; effluent:w</title>\n",
       "<path fill=\"none\" stroke=\"#90918e\" stroke-dasharray=\"5,2\" d=\"M931.71,-56.51C955.71,-60.27 981.43,-63 1005.5,-63\"/>\n",
       "<g id=\"a_edge6-label\"><a xlink:title=\"(empty)\">\n",
       "<text text-anchor=\"middle\" x=\"970\" y=\"-66.8\" font-family=\"Arial\" font-size=\"14.00\" fill=\"#90918e\"> effluent</text>\n",
       "</a>\n",
       "</g>\n",
       "</g>\n",
       "<!-- C1Flat bottom circular clarifier&#45;&gt; WAS -->\n",
       "<g id=\"edge10\" class=\"edge\">\n",
       "<title>C1Flat bottom circular clarifier:c-&gt; WAS:w</title>\n",
       "<path fill=\"none\" stroke=\"#90918e\" stroke-dasharray=\"5,2\" d=\"M931.71,-13.49C955.71,-9.73 981.43,-7 1005.5,-7\"/>\n",
       "<g id=\"a_edge10-label\"><a xlink:title=\"(empty)\">\n",
       "<text text-anchor=\"middle\" x=\"970\" y=\"-15.8\" font-family=\"Arial\" font-size=\"14.00\" fill=\"#90918e\"> WAS</text>\n",
       "</a>\n",
       "</g>\n",
       "</g>\n",
       "<!--  wastewater&#45;&gt;A1CSTR -->\n",
       "<g id=\"edge1\" class=\"edge\">\n",
       "<title> wastewater:e-&gt;A1CSTR:c</title>\n",
       "<path fill=\"none\" stroke=\"#90918e\" d=\"M11,-96C41.65,-96 76.46,-96 101.87,-96\"/>\n",
       "<g id=\"a_edge1-label\"><a xlink:title=\"Temperature: 293 KPressure: 101325 PaLiquid flow: 4.29e+04 kmol/hr\">\n",
       "<text text-anchor=\"middle\" x=\"56.5\" y=\"-99.8\" font-family=\"Arial\" font-size=\"14.00\" fill=\"#90918e\"> wastewater</text>\n",
       "</a>\n",
       "</g>\n",
       "</g>\n",
       "<!-- A1CSTR -->\n",
       "<g id=\"node1\" class=\"node\">\n",
       "<title>A1CSTR</title>\n",
       "<g id=\"a_node1\"><a xlink:title=\"No capital costs or utilities\">\n",
       "<polygon fill=\"#555f69\" stroke=\"#90918e\" points=\"176,-117.5 102,-117.5 102,-74.5 176,-74.5 176,-117.5\"/>\n",
       "<text text-anchor=\"middle\" x=\"139\" y=\"-92.3\" font-family=\"Arial\" font-size=\"14.00\" fill=\"white\">A1CSTR</text>\n",
       "</a>\n",
       "</g>\n",
       "</g>\n",
       "<!-- A2CSTR -->\n",
       "<g id=\"node2\" class=\"node\">\n",
       "<title>A2CSTR</title>\n",
       "<g id=\"a_node2\"><a xlink:title=\"No capital costs or utilities\">\n",
       "<polygon fill=\"#555f69\" stroke=\"#90918e\" points=\"296,-194.5 222,-194.5 222,-151.5 296,-151.5 296,-194.5\"/>\n",
       "<text text-anchor=\"middle\" x=\"259\" y=\"-169.3\" font-family=\"Arial\" font-size=\"14.00\" fill=\"white\">A2CSTR</text>\n",
       "</a>\n",
       "</g>\n",
       "</g>\n",
       "<!-- O1CSTR -->\n",
       "<g id=\"node3\" class=\"node\">\n",
       "<title>O1CSTR</title>\n",
       "<g id=\"a_node3\"><a xlink:title=\"No capital costs or utilities\">\n",
       "<polygon fill=\"#555f69\" stroke=\"#90918e\" points=\"418,-194.5 342,-194.5 342,-151.5 418,-151.5 418,-194.5\"/>\n",
       "<text text-anchor=\"middle\" x=\"380\" y=\"-169.3\" font-family=\"Arial\" font-size=\"14.00\" fill=\"white\">O1CSTR</text>\n",
       "</a>\n",
       "</g>\n",
       "</g>\n",
       "<!-- O2CSTR -->\n",
       "<g id=\"node4\" class=\"node\">\n",
       "<title>O2CSTR</title>\n",
       "<g id=\"a_node4\"><a xlink:title=\"No capital costs or utilities\">\n",
       "<polygon fill=\"#555f69\" stroke=\"#90918e\" points=\"544,-194.5 468,-194.5 468,-151.5 544,-151.5 544,-194.5\"/>\n",
       "<text text-anchor=\"middle\" x=\"506\" y=\"-169.3\" font-family=\"Arial\" font-size=\"14.00\" fill=\"white\">O2CSTR</text>\n",
       "</a>\n",
       "</g>\n",
       "</g>\n",
       "<!-- O3CSTR -->\n",
       "<g id=\"node5\" class=\"node\">\n",
       "<title>O3CSTR</title>\n",
       "<g id=\"a_node5\"><a xlink:title=\"No capital costs or utilities\">\n",
       "<polygon fill=\"#555f69\" stroke=\"#90918e\" points=\"666,-117.5 590,-117.5 590,-74.5 666,-74.5 666,-117.5\"/>\n",
       "<text text-anchor=\"middle\" x=\"628\" y=\"-92.3\" font-family=\"Arial\" font-size=\"14.00\" fill=\"white\">O3CSTR</text>\n",
       "</a>\n",
       "</g>\n",
       "</g>\n",
       "<!-- C1Flat bottom circular clarifier -->\n",
       "<g id=\"node6\" class=\"node\">\n",
       "<title>C1Flat bottom circular clarifier</title>\n",
       "<g id=\"a_node6\"><a xlink:title=\"No capital costs or utilities\">\n",
       "<polygon fill=\"#555f69\" stroke=\"#90918e\" points=\"936,-56.5 731,-56.5 731,-13.5 936,-13.5 936,-56.5\"/>\n",
       "<text text-anchor=\"middle\" x=\"833.5\" y=\"-31.3\" font-family=\"Arial\" font-size=\"14.00\" fill=\"white\">C1Flat bottom circular clarifier</text>\n",
       "</a>\n",
       "</g>\n",
       "</g>\n",
       "<!--  wastewater -->\n",
       "<g id=\"node7\" class=\"node\">\n",
       "<title> wastewater</title>\n",
       "<polygon fill=\"#f98f60\" stroke=\"#90918e\" points=\"5.5,-101.5 0,-96 5.5,-90.5 11,-96 5.5,-101.5\"/>\n",
       "</g>\n",
       "<!--  effluent -->\n",
       "<g id=\"node8\" class=\"node\">\n",
       "<title> effluent</title>\n",
       "<polygon fill=\"#f98f60\" stroke=\"#90918e\" points=\"1015,-63 1006.75,-70 1006.75,-56 1015,-63\"/>\n",
       "</g>\n",
       "<!--  WAS -->\n",
       "<g id=\"node9\" class=\"node\">\n",
       "<title> WAS</title>\n",
       "<polygon fill=\"#f98f60\" stroke=\"#90918e\" points=\"1015,-7 1006.75,-14 1006.75,0 1015,-7\"/>\n",
       "</g>\n",
       "</g>\n",
       "</svg>"
      ],
      "text/plain": [
       "<IPython.core.display.SVG object>"
      ]
     },
     "metadata": {},
     "output_type": "display_data"
    }
   ],
   "source": [
    "# The BSM1 system is composed of 5 CSTRs in series,\n",
    "# followed by a flat-bottom circular clarifier.\n",
    "sys.diagram()\n",
    "# sys.units"
   ]
  },
  {
   "cell_type": "code",
   "execution_count": 4,
   "id": "98d2662c",
   "metadata": {},
   "outputs": [
    {
     "data": {
      "text/plain": [
       "True"
      ]
     },
     "execution_count": 4,
     "metadata": {},
     "output_type": "execute_result"
    }
   ],
   "source": [
    "# We can verify that by\n",
    "sys.isdynamic"
   ]
  },
  {
   "cell_type": "code",
   "execution_count": 5,
   "id": "e2c64ce0",
   "metadata": {},
   "outputs": [
    {
     "data": {
      "text/plain": [
       "{<CSTR: A1>: True,\n",
       " <CSTR: A2>: True,\n",
       " <CSTR: O1>: True,\n",
       " <CSTR: O2>: True,\n",
       " <CSTR: O3>: True,\n",
       " <FlatBottomCircularClarifier: C1>: True}"
      ]
     },
     "execution_count": 5,
     "metadata": {},
     "output_type": "execute_result"
    }
   ],
   "source": [
    "# This is because the system contains at least one dynamic SanUnit\n",
    "{u: u.isdynamic for u in sys.units}\n",
    "\n",
    "# If we disable dynamic simulation, then `simulate` would work as usual\n",
    "# sys.isdynamic = False\n",
    "# sys.simulate()"
   ]
  },
  {
   "cell_type": "code",
   "execution_count": null,
   "id": "d8cc6e48",
   "metadata": {},
   "outputs": [
    {
     "name": "stderr",
     "output_type": "stream",
     "text": [
      "C:\\Users\\joy_c\\anaconda3\\envs\\tut\\lib\\site-packages\\qsdsan\\sanunits\\_suspended_growth_bioreactor.py:44: NumbaPerformanceWarning: \u001b[1m\u001b[1m'@' is faster on contiguous arrays, called on (array(float64, 1d, A), array(float64, 2d, A))\u001b[0m\u001b[0m\n",
      "  flow_in = Q_ins @ C_ins / V_arr\n",
      "C:\\Users\\joy_c\\anaconda3\\envs\\tut\\lib\\site-packages\\numba\\core\\typing\\npydecl.py:913: NumbaPerformanceWarning: \u001b[1m'@' is faster on contiguous arrays, called on (array(float64, 1d, A), array(float64, 2d, A))\u001b[0m\n",
      "  warnings.warn(NumbaPerformanceWarning(msg))\n"
     ]
    }
   ],
   "source": [
    "# Let's try simulating the BSM1 system from day 0 to day 50\n",
    "sys.simulate(t_span=(0, 50), method='BDF', state_reset_hook='reset_cache')\n",
    "sys.show()"
   ]
  },
  {
   "cell_type": "code",
   "execution_count": null,
   "id": "ba51c0b9",
   "metadata": {},
   "outputs": [],
   "source": [
    "# This shows the units/streams whose state variables are kept track of\n",
    "# during dynamic simulations.\n",
    "sys.scope.subjects"
   ]
  },
  {
   "cell_type": "code",
   "execution_count": null,
   "id": "c4c0bdfd",
   "metadata": {},
   "outputs": [],
   "source": []
  },
  {
   "cell_type": "code",
   "execution_count": null,
   "id": "f1d690bf",
   "metadata": {},
   "outputs": [],
   "source": []
  },
  {
   "cell_type": "code",
   "execution_count": null,
   "id": "c05808bc",
   "metadata": {},
   "outputs": [],
   "source": []
  },
  {
   "cell_type": "code",
   "execution_count": null,
   "id": "37df12a9",
   "metadata": {},
   "outputs": [],
   "source": []
  }
 ],
 "metadata": {
  "kernelspec": {
   "display_name": "Python 3 (ipykernel)",
   "language": "python",
   "name": "python3"
  },
  "language_info": {
   "codemirror_mode": {
    "name": "ipython",
    "version": 3
   },
   "file_extension": ".py",
   "mimetype": "text/x-python",
   "name": "python",
   "nbconvert_exporter": "python",
   "pygments_lexer": "ipython3",
   "version": "3.9.13"
  },
  "varInspector": {
   "cols": {
    "lenName": 16,
    "lenType": 16,
    "lenVar": 40
   },
   "kernels_config": {
    "python": {
     "delete_cmd_postfix": "",
     "delete_cmd_prefix": "del ",
     "library": "var_list.py",
     "varRefreshCmd": "print(var_dic_list())"
    },
    "r": {
     "delete_cmd_postfix": ") ",
     "delete_cmd_prefix": "rm(",
     "library": "var_list.r",
     "varRefreshCmd": "cat(var_dic_list()) "
    }
   },
   "types_to_exclude": [
    "module",
    "function",
    "builtin_function_or_method",
    "instance",
    "_Feature"
   ],
   "window_display": false
  }
 },
 "nbformat": 4,
 "nbformat_minor": 5
}
