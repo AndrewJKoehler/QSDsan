{
 "cells": [
  {
   "cell_type": "markdown",
   "metadata": {},
   "source": [
    "# `WasteStream` <a class=\"anchor\" id=\"top\"></a>\n",
    "\n",
    "- **Prepared by:**\n",
    "    \n",
    "    - [Yalin Li](zoe.yalin.li@gmail.com)\n",
    "    - [Joy Cheung](joycheung1994@gmail.com)\n",
    "\n",
    "- **Covered topics:**\n",
    "\n",
    "    - [1. WasteStream](#s1)"
   ]
  },
  {
   "cell_type": "markdown",
   "metadata": {},
   "source": [
    "---\n",
    "### Note\n",
    "More detailed documentation coming soon!"
   ]
  },
  {
   "cell_type": "markdown",
   "metadata": {},
   "source": [
    "---"
   ]
  },
  {
   "cell_type": "code",
   "execution_count": 1,
   "metadata": {},
   "outputs": [
    {
     "name": "stdout",
     "output_type": "stream",
     "text": [
      "This tutorial is made with qsdsan v0.3.2.\n"
     ]
    }
   ],
   "source": [
    "import qsdsan as qs\n",
    "print(f'This tutorial is made with qsdsan v{qs.__version__}.')"
   ]
  },
  {
   "cell_type": "markdown",
   "metadata": {},
   "source": [
    "## 1. `WasteStream` <a class=\"anchor\" id=\"s1\"></a>\n",
    "A `WasteStream` object can be created by defining flow rate of each `Component` (similar to creation of a `Stream`) or from composite measures (e.g., concentrations of total COD, TKN)"
   ]
  },
  {
   "cell_type": "code",
   "execution_count": 1,
   "metadata": {},
   "outputs": [
    {
     "name": "stdout",
     "output_type": "stream",
     "text": [
      "Object `qs.WasteStream` not found.\n"
     ]
    }
   ],
   "source": [
    "qs.WasteStream?"
   ]
  },
  {
   "cell_type": "code",
   "execution_count": 3,
   "metadata": {},
   "outputs": [],
   "source": [
    "# Before using `WasteStream`, we need to tell qsdsan what components we will be working with\n",
    "# let's load the default components for the demo purpose\n",
    "cmps = qs.Components.load_default()\n",
    "qs.set_thermo(cmps)"
   ]
  },
  {
   "cell_type": "code",
   "execution_count": 4,
   "metadata": {},
   "outputs": [
    {
     "name": "stdout",
     "output_type": "stream",
     "text": [
      "WasteStream: ins2\n",
      " phase: 'l', T: 298.15 K, P: 101325 Pa\n",
      " flow (g/hr): S_NH4  100\n",
      "              H2O    1e+06\n",
      " WasteStream-specific properties:\n",
      "  pH         : 7.0\n",
      "  Alkalinity : 2.5 mg/L\n",
      "  TN         : 99.7 mg/L\n",
      "  TKN        : 99.7 mg/L\n",
      " Component concentrations (mg/L):\n",
      "  S_NH4        99.7\n",
      "  H2O          996859.6\n"
     ]
    }
   ],
   "source": [
    "ins1 = qs.WasteStream('ins1', X_GAO_Gly=.5, H2O=1000, units='kg/hr')\n",
    "ins2 = qs.WasteStream('ins2', S_NH4=.1, H2O=1000, units='kg/hr')\n",
    "ins2"
   ]
  },
  {
   "cell_type": "code",
   "execution_count": 5,
   "metadata": {},
   "outputs": [
    {
     "name": "stdout",
     "output_type": "stream",
     "text": [
      "WasteStream: ws\n",
      " phase: 'l', T: 298.15 K, P: 101325 Pa\n",
      " flow (g/hr): S_F        100\n",
      "              S_U_Inf    25\n",
      "              C_B_Subst  46.5\n",
      "              X_B_Subst  264\n",
      "              X_U_Inf    65\n",
      "              X_Ig_ISS   60.8\n",
      "              S_NH4      25\n",
      "              S_PO4      8\n",
      "              S_K        28\n",
      "              S_Ca       140\n",
      "              S_Mg       50\n",
      "              S_CO3      120\n",
      "              S_N2       18\n",
      "              S_CAT      3\n",
      "              S_AN       12\n",
      "              H2O        9.81e+05\n"
     ]
    },
    {
     "name": "stderr",
     "output_type": "stream",
     "text": [
      "/Users/yalinli_cabbi/opt/anaconda3/envs/demo/lib/python3.8/site-packages/qsdsan/_waste_stream.py:852: UserWarning: ignored concentration specified for H2O:0.0\n",
      "  warn(f'ignored concentration specified for {bulk_liquid_ID}:{C_h2o}')\n"
     ]
    },
    {
     "name": "stdout",
     "output_type": "stream",
     "text": [
      " WasteStream-specific properties:\n",
      "  pH         : 6.8\n",
      "  Alkalinity : 10.0 mg/L\n",
      "  COD        : 500.0 mg/L\n",
      "  BOD        : 257.9 mg/L\n",
      "  TC         : 288.7 mg/L\n",
      "  TOC        : 160.0 mg/L\n",
      "  TN         : 40.0 mg/L\n",
      "  TKN        : 40.0 mg/L\n",
      "  TP         : 11.0 mg/L\n",
      "  TK         : 28.0 mg/L\n",
      " Component concentrations (mg/L):\n",
      "  S_F          100.0\n",
      "  S_U_Inf      25.0\n",
      "  C_B_Subst    46.5\n",
      "  X_B_Subst    263.5\n",
      "  X_U_Inf      65.0\n",
      "  X_Ig_ISS     60.8\n",
      "  S_NH4        25.0\n",
      "  S_PO4        8.0\n",
      "  S_K          28.0\n",
      "  S_Ca         140.0\n",
      "  S_Mg         50.0\n",
      "  S_CO3        120.0\n",
      "  S_N2         18.0\n",
      "  S_CAT        3.0\n",
      "  S_AN         12.0\n",
      "  H2O          981465.4\n"
     ]
    }
   ],
   "source": [
    "# Default to typical raw wastewater composition based on different models\n",
    "ws = qs.WasteStream.codstates_inf_model('ws', flow_tot=1000, pH=6.8, COD=500, TP=11)\n",
    "ws.show(N=20)"
   ]
  },
  {
   "cell_type": "code",
   "execution_count": 6,
   "metadata": {},
   "outputs": [
    {
     "name": "stdout",
     "output_type": "stream",
     "text": [
      "WasteStream: ins1\n",
      " phase: 'l', T: 298.15 K, P: 101325 Pa\n",
      " WasteStream-specific properties:\n",
      "  pH         : 7.0\n",
      "  Alkalinity : 2.5 mg/L\n",
      "  COD        : 495.5 mg/L\n",
      "  BOD        : 287.4 mg/L\n",
      "  TC         : 185.8 mg/L\n",
      "  TOC        : 185.8 mg/L\n",
      " Component concentrations (mg/L):\n",
      "  X_GAO_Gly    495.5\n",
      "  H2O          991095.9\n"
     ]
    }
   ],
   "source": [
    "# You can control whether to see Stream information and details\n",
    "ins1.show(stream_info=False)"
   ]
  },
  {
   "cell_type": "code",
   "execution_count": 7,
   "metadata": {},
   "outputs": [
    {
     "name": "stdout",
     "output_type": "stream",
     "text": [
      "WasteStream: ins1\n",
      " phase: 'l', T: 298.15 K, P: 101325 Pa\n",
      " flow (g/hr): X_GAO_Gly  500\n",
      "              H2O        1e+06\n",
      " WasteStream-specific properties:\n",
      "  pH         : 7.0\n",
      "  Alkalinity : 2.5 mg/L\n",
      "  ...\n",
      " Component concentrations (mg/L):\n",
      "  X_GAO_Gly    495.5\n",
      "  H2O          991095.9\n"
     ]
    }
   ],
   "source": [
    "ins1.show(details=False)"
   ]
  },
  {
   "cell_type": "code",
   "execution_count": 8,
   "metadata": {},
   "outputs": [
    {
     "data": {
      "text/plain": [
       "418.1185699758359"
      ]
     },
     "execution_count": 8,
     "metadata": {},
     "output_type": "execute_result"
    }
   ],
   "source": [
    "# You can also get other information such as TDS, VSS\n",
    "ins1.get_VSS()"
   ]
  },
  {
   "cell_type": "code",
   "execution_count": 9,
   "metadata": {},
   "outputs": [
    {
     "name": "stdout",
     "output_type": "stream",
     "text": [
      "WasteStream: ws_mix\n",
      " phase: 'l', T: 298.15 K, P: 101325 Pa\n",
      " flow (g/hr): X_GAO_Gly  500\n",
      "              H2O        1e+06\n",
      " WasteStream-specific properties:\n",
      "  pH         : 7.0\n",
      "  Alkalinity : 2.5 mg/L\n",
      "  COD        : 495.5 mg/L\n",
      "  BOD        : 287.4 mg/L\n",
      "  TC         : 185.8 mg/L\n",
      "  TOC        : 185.8 mg/L\n",
      " Component concentrations (mg/L):\n",
      "  X_GAO_Gly    495.5\n",
      "  H2O          991095.9\n"
     ]
    }
   ],
   "source": [
    "ins1.mass\n",
    "ins1.vol\n",
    "\n",
    "ws1 = qs.WasteStream()\n",
    "ws2 = qs.WasteStream()\n",
    "ins1.split_to(ws1, ws2, .3)\n",
    "ws1\n",
    "ws2\n",
    "\n",
    "ws_mix = qs.WasteStream('ws_mix')\n",
    "ws_mix.mix_from([ws1, ws2])\n",
    "ws_mix"
   ]
  },
  {
   "cell_type": "code",
   "execution_count": 10,
   "metadata": {},
   "outputs": [
    {
     "data": {
      "text/plain": [
       "287.3565692998722"
      ]
     },
     "execution_count": 10,
     "metadata": {},
     "output_type": "execute_result"
    }
   ],
   "source": [
    "ins1.composite('BOD', particle_size='x')"
   ]
  },
  {
   "cell_type": "code",
   "execution_count": 11,
   "metadata": {},
   "outputs": [
    {
     "data": {
      "text/plain": [
       "0.0"
      ]
     },
     "execution_count": 11,
     "metadata": {},
     "output_type": "execute_result"
    }
   ],
   "source": [
    "ins1.composite('COD', specification='X_Bio')"
   ]
  },
  {
   "cell_type": "code",
   "execution_count": 12,
   "metadata": {},
   "outputs": [
    {
     "data": {
      "text/plain": [
       "0.0"
      ]
     },
     "execution_count": 12,
     "metadata": {},
     "output_type": "execute_result"
    }
   ],
   "source": [
    "ins1.composite('N', specification='S_NOx')"
   ]
  },
  {
   "cell_type": "code",
   "execution_count": 13,
   "metadata": {},
   "outputs": [
    {
     "data": {
      "text/plain": [
       "185.83047554481595"
      ]
     },
     "execution_count": 13,
     "metadata": {},
     "output_type": "execute_result"
    }
   ],
   "source": [
    "ins1.composite('C', organic=True)"
   ]
  },
  {
   "cell_type": "code",
   "execution_count": 14,
   "metadata": {},
   "outputs": [
    {
     "data": {
      "text/plain": [
       "0.0"
      ]
     },
     "execution_count": 14,
     "metadata": {},
     "output_type": "execute_result"
    }
   ],
   "source": [
    "ins1.composite('solids', particle_size='s')"
   ]
  },
  {
   "cell_type": "markdown",
   "metadata": {},
   "source": [
    "---\n",
    "### Note\n",
    "``QSDsan`` can work with three main stream classes: ``Stream``, ``SanStream``, and ``WasteStream``. ``Stream`` is from the package ``Thermosteam`` while ``SanStream`` and ``WasteStream`` are created in ``QSDsan``. The following tutorial is focused on ``WasteStream`` as it is one of the core classes of ``QSDsan``. You can learn more about the different classes in the [documentation](https://qsdsan.readthedocs.io/en/latest/Streams.html).\n",
    "\n",
    "In the future, it is likely that the `SanStream` class will be merged into `ThermoSteam` so that LCA can be implemented for systems developed using `BioSTEAM`."
   ]
  },
  {
   "cell_type": "markdown",
   "metadata": {},
   "source": [
    "---"
   ]
  },
  {
   "cell_type": "markdown",
   "metadata": {},
   "source": [
    "**[Back to Top](#top)**"
   ]
  }
 ],
 "metadata": {
  "kernelspec": {
   "display_name": "Python 3",
   "language": "python",
   "name": "python3"
  },
  "language_info": {
   "codemirror_mode": {
    "name": "ipython",
    "version": 3
   },
   "file_extension": ".py",
   "mimetype": "text/x-python",
   "name": "python",
   "nbconvert_exporter": "python",
   "pygments_lexer": "ipython3",
   "version": "3.8.2"
  }
 },
 "nbformat": 4,
 "nbformat_minor": 4
}
