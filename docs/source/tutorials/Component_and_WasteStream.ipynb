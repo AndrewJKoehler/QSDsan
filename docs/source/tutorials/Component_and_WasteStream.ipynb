{
 "cells": [
  {
   "cell_type": "markdown",
   "metadata": {},
   "source": [
    "# Component and WasteStream\n",
    "\n",
    "* **Prepared by:**\n",
    "\n",
    "    - Joy Cheung\n",
    "    - Yalin Li\n",
    "\n",
    "* **Covered topics:**\n",
    "\n",
    "    - ``Component``, ``Components``, and ``CompiledComponents``\n",
    "    - ``WasteStream``\n",
    "\n",
    "* **Update data:** 2021-01-08\n",
    "* **qsdsan version:** 0.0.2"
   ]
  },
  {
   "cell_type": "markdown",
   "metadata": {},
   "source": [
    "**NEED UPDATING**"
   ]
  },
  {
   "cell_type": "code",
   "execution_count": 2,
   "metadata": {},
   "outputs": [],
   "source": [
    "# If you haven't installed install qsdsan\n",
    "# pip install qsdsan"
   ]
  },
  {
   "cell_type": "code",
   "execution_count": 2,
   "metadata": {},
   "outputs": [],
   "source": [
    "import thermosteam as tmo\n",
    "from qsdsan import Component, Components, WasteStream"
   ]
  },
  {
   "cell_type": "markdown",
   "metadata": {},
   "source": [
    "## Creating a Component object\n",
    "A `Component` object can be created from scratch or from a `Chemical` object."
   ]
  },
  {
   "cell_type": "code",
   "execution_count": 3,
   "metadata": {},
   "outputs": [
    {
     "name": "stdout",
     "output_type": "stream",
     "text": [
      "Component: XPAO (phase_ref=None)\n",
      "[Names]  CAS: XPAO\n",
      "         InChI: None\n",
      "         InChI_key: None\n",
      "         common_name: None\n",
      "         iupac_name: None\n",
      "         pubchemid: None\n",
      "         smiles: None\n",
      "         formula: C5H7O2N\n",
      "[Groups] Dortmund: <Empty>\n",
      "         UNIFAC: <Empty>\n",
      "         PSRK: <Empty>\n",
      "         NIST: <Empty>\n",
      "[Data]   MW: 113.11 g/mol\n",
      "         Tm: None\n",
      "         Tb: None\n",
      "         Tt: None\n",
      "         Tc: None\n",
      "         Pt: None\n",
      "         Pc: None\n",
      "         Vc: None\n",
      "         Hf: None\n",
      "         S0: None\n",
      "         LHV: None\n",
      "         HHV: None\n",
      "         Hfus: None\n",
      "         Sfus: None\n",
      "         omega: None\n",
      "         dipole: None\n",
      "         similarity_variable: None\n",
      "         iscyclic_aliphatic: None\n",
      "         combustion: None\n",
      "\n",
      "Component-specific properties:\n",
      "[Others] i_C: 0 g C/g COD\n",
      "         i_N: 0 g N/g COD\n",
      "         i_P: 0 g P/g COD\n",
      "         i_K: 0 g K/g COD\n",
      "         i_Mg: 0 g Mg/g COD\n",
      "         i_Ca: 0 g Ca/g COD\n",
      "         i_mass: 1 g mass/g COD\n",
      "         i_charge: 0 mol +/g COD\n",
      "         f_BOD5_COD: 0\n",
      "         f_uBOD_COD: 0\n",
      "         f_Vmass_Totmass: 0\n",
      "         particle_size: Particulate\n",
      "         degradability: Biological\n",
      "         organic: True\n",
      "         measured_as: COD\n",
      "         description: None\n"
     ]
    }
   ],
   "source": [
    "# help(Component)\n",
    "XPAO = Component('XPAO', formula = 'C5H7O2N', measured_as = 'COD', \n",
    "                 particle_size = 'Particulate', degradability = 'Biological',\n",
    "                 organic = True)\n",
    "# XPAO\n",
    "XPAO.show(True)"
   ]
  },
  {
   "cell_type": "code",
   "execution_count": 5,
   "metadata": {},
   "outputs": [
    {
     "name": "stdout",
     "output_type": "stream",
     "text": [
      "Component: SNH4 (phase_ref='l') at phase='l'\n",
      "[Names]  CAS: 14798-03-9\n",
      "         InChI: InChI=1S/H3N/h1H3/p+...\n",
      "         InChI_key: QGZKDVFQNNGYKY-U...\n",
      "         common_name: Ammonium\n",
      "         iupac_name: ('azane;hydron'...\n",
      "         pubchemid: 1.6741e+07\n",
      "         smiles: [NH4+]\n",
      "         formula: H4N+\n",
      "[Groups] Dortmund: <Empty>\n",
      "         UNIFAC: <Empty>\n",
      "         PSRK: <Empty>\n",
      "         NIST: <Empty>\n",
      "[Data]   MW: 18.039 g/mol\n",
      "         Tm: None\n",
      "         Tb: None\n",
      "         Tt: None\n",
      "         Tc: None\n",
      "         Pt: None\n",
      "         Pc: None\n",
      "         Vc: None\n",
      "         Hf: None\n",
      "         S0: 0 J/K/mol\n",
      "         LHV: None\n",
      "         HHV: None\n",
      "         Hfus: 0 J/mol\n",
      "         Sfus: None\n",
      "         omega: None\n",
      "         dipole: None\n",
      "         similarity_variable: 0.27718\n",
      "         iscyclic_aliphatic: 0\n",
      "         combustion: None\n",
      "\n",
      "Component-specific properties:\n",
      "[Others] i_C: 0 g C/g N\n",
      "         i_N: 1 g N/g N\n",
      "         i_P: 0 g P/g N\n",
      "         i_K: 0 g K/g N\n",
      "         i_Mg: 0 g Mg/g N\n",
      "         i_Ca: 0 g Ca/g N\n",
      "         i_mass: 1.2878 g mass/g N\n",
      "         i_charge: 0 mol +/g N\n",
      "         f_BOD5_COD: 0\n",
      "         f_uBOD_COD: 0\n",
      "         f_Vmass_Totmass: 0\n",
      "         particle_size: Soluble\n",
      "         degradability: Undegradable\n",
      "         organic: False\n",
      "         measured_as: N\n",
      "         description: None\n"
     ]
    }
   ],
   "source": [
    "H2O = Component.from_chemical('H2O', tmo.Chemical('H2O'), particle_size='Soluble',\n",
    "                              degradability='Undegradable', organic=False)\n",
    "\n",
    "SNH4 = Component.from_chemical('SNH4', tmo.Chemical('Ammonium'), measured_as='N',\n",
    "                               particle_size='Soluble', degradability='Undegradable',\n",
    "                               organic=False)\n",
    "# SNH4.default()\n",
    "SNH4.show(True)"
   ]
  },
  {
   "cell_type": "markdown",
   "metadata": {},
   "source": [
    "*Note that if you create a ``Component`` with molecular formula, attributes such as ``i_C``, ``i_N`` will be automatically calcualted, and ``qsdsan`` will raise an error if you want to change the value.*"
   ]
  },
  {
   "cell_type": "code",
   "execution_count": 21,
   "metadata": {},
   "outputs": [
    {
     "data": {
      "text/plain": [
       "0.0"
      ]
     },
     "execution_count": 21,
     "metadata": {},
     "output_type": "execute_result"
    }
   ],
   "source": [
    "H2O.i_C"
   ]
  },
  {
   "cell_type": "code",
   "execution_count": 13,
   "metadata": {},
   "outputs": [
    {
     "ename": "AttributeError",
     "evalue": "This component has formula, i_C is calculated based on formula, cannot be set.",
     "output_type": "error",
     "traceback": [
      "\u001b[0;31m---------------------------------------------------------------------------\u001b[0m",
      "\u001b[0;31mAttributeError\u001b[0m                            Traceback (most recent call last)",
      "\u001b[0;32m<ipython-input-13-e7bccd188252>\u001b[0m in \u001b[0;36m<module>\u001b[0;34m\u001b[0m\n\u001b[0;32m----> 1\u001b[0;31m \u001b[0mH2O\u001b[0m\u001b[0;34m.\u001b[0m\u001b[0mi_C\u001b[0m \u001b[0;34m=\u001b[0m \u001b[0;36m1\u001b[0m\u001b[0;34m\u001b[0m\u001b[0;34m\u001b[0m\u001b[0m\n\u001b[0m",
      "\u001b[0;32m~/anaconda3/lib/python3.7/site-packages/qsdsan/_component.py\u001b[0m in \u001b[0;36mi_C\u001b[0;34m(self, i)\u001b[0m\n\u001b[1;32m    190\u001b[0m     \u001b[0;34m@\u001b[0m\u001b[0mi_C\u001b[0m\u001b[0;34m.\u001b[0m\u001b[0msetter\u001b[0m\u001b[0;34m\u001b[0m\u001b[0;34m\u001b[0m\u001b[0m\n\u001b[1;32m    191\u001b[0m     \u001b[0;32mdef\u001b[0m \u001b[0mi_C\u001b[0m\u001b[0;34m(\u001b[0m\u001b[0mself\u001b[0m\u001b[0;34m,\u001b[0m \u001b[0mi\u001b[0m\u001b[0;34m)\u001b[0m\u001b[0;34m:\u001b[0m\u001b[0;34m\u001b[0m\u001b[0;34m\u001b[0m\u001b[0m\n\u001b[0;32m--> 192\u001b[0;31m         \u001b[0mself\u001b[0m\u001b[0;34m.\u001b[0m\u001b[0m_i_C\u001b[0m \u001b[0;34m=\u001b[0m \u001b[0mself\u001b[0m\u001b[0;34m.\u001b[0m\u001b[0m_atom_frac_setter\u001b[0m\u001b[0;34m(\u001b[0m\u001b[0mself\u001b[0m\u001b[0;34m,\u001b[0m \u001b[0;34m'C'\u001b[0m\u001b[0;34m,\u001b[0m \u001b[0mi\u001b[0m\u001b[0;34m)\u001b[0m\u001b[0;34m\u001b[0m\u001b[0;34m\u001b[0m\u001b[0m\n\u001b[0m\u001b[1;32m    193\u001b[0m \u001b[0;34m\u001b[0m\u001b[0m\n\u001b[1;32m    194\u001b[0m \u001b[0;34m\u001b[0m\u001b[0m\n",
      "\u001b[0;32m~/anaconda3/lib/python3.7/site-packages/qsdsan/_component.py\u001b[0m in \u001b[0;36m_atom_frac_setter\u001b[0;34m(self, cmp, atom, frac)\u001b[0m\n\u001b[1;32m    159\u001b[0m         \u001b[0;32mif\u001b[0m \u001b[0mcmp\u001b[0m\u001b[0;34m.\u001b[0m\u001b[0mformula\u001b[0m\u001b[0;34m:\u001b[0m\u001b[0;34m\u001b[0m\u001b[0;34m\u001b[0m\u001b[0m\n\u001b[1;32m    160\u001b[0m             \u001b[0;32mif\u001b[0m \u001b[0mfrac\u001b[0m\u001b[0;34m:\u001b[0m\u001b[0;34m\u001b[0m\u001b[0;34m\u001b[0m\u001b[0m\n\u001b[0;32m--> 161\u001b[0;31m                 raise AttributeError('This component has formula, '\n\u001b[0m\u001b[1;32m    162\u001b[0m                                      \u001b[0;34mf'i_{atom} is calculated based on formula, '\u001b[0m\u001b[0;34m\u001b[0m\u001b[0;34m\u001b[0m\u001b[0m\n\u001b[1;32m    163\u001b[0m                                      'cannot be set.')\n",
      "\u001b[0;31mAttributeError\u001b[0m: This component has formula, i_C is calculated based on formula, cannot be set."
     ]
    }
   ],
   "source": [
    "H2O.i_C = 1"
   ]
  },
  {
   "cell_type": "markdown",
   "metadata": {},
   "source": [
    "## Create a CompiledComponent object\n",
    "A `CompiledComponent` object can be created from scratch or by loading the default `Compoenets`."
   ]
  },
  {
   "cell_type": "code",
   "execution_count": 14,
   "metadata": {},
   "outputs": [
    {
     "ename": "RuntimeError",
     "evalue": "XPAO is missing key thermodynamic properties (V, S, H, Cn, Psat, Tb and Hvap); use the `<Chemical>.get_missing_properties()` to check all missing properties",
     "output_type": "error",
     "traceback": [
      "\u001b[0;31m---------------------------------------------------------------------------\u001b[0m",
      "\u001b[0;31mRuntimeError\u001b[0m                              Traceback (most recent call last)",
      "\u001b[0;32m<ipython-input-14-080795492342>\u001b[0m in \u001b[0;36m<module>\u001b[0;34m\u001b[0m\n\u001b[1;32m      8\u001b[0m \u001b[0;31m# The Components object cannot be compiled if any of its Component object is missing key properties,\u001b[0m\u001b[0;34m\u001b[0m\u001b[0;34m\u001b[0m\u001b[0;34m\u001b[0m\u001b[0m\n\u001b[1;32m      9\u001b[0m \u001b[0;31m# so code below will trigger an error\u001b[0m\u001b[0;34m\u001b[0m\u001b[0;34m\u001b[0m\u001b[0;34m\u001b[0m\u001b[0m\n\u001b[0;32m---> 10\u001b[0;31m \u001b[0mcomps1\u001b[0m\u001b[0;34m.\u001b[0m\u001b[0mcompile\u001b[0m\u001b[0;34m(\u001b[0m\u001b[0;34m)\u001b[0m\u001b[0;34m\u001b[0m\u001b[0;34m\u001b[0m\u001b[0m\n\u001b[0m",
      "\u001b[0;32m~/anaconda3/lib/python3.7/site-packages/qsdsan/_components.py\u001b[0m in \u001b[0;36mcompile\u001b[0;34m(self)\u001b[0m\n\u001b[1;32m    115\u001b[0m         \u001b[0;34m'''Cast as a ``CompiledComponents`` object.'''\u001b[0m\u001b[0;34m\u001b[0m\u001b[0;34m\u001b[0m\u001b[0m\n\u001b[1;32m    116\u001b[0m         \u001b[0msetattr\u001b[0m\u001b[0;34m(\u001b[0m\u001b[0mself\u001b[0m\u001b[0;34m,\u001b[0m \u001b[0;34m'__class__'\u001b[0m\u001b[0;34m,\u001b[0m \u001b[0mCompiledComponents\u001b[0m\u001b[0;34m)\u001b[0m\u001b[0;34m\u001b[0m\u001b[0;34m\u001b[0m\u001b[0m\n\u001b[0;32m--> 117\u001b[0;31m         \u001b[0mCompiledComponents\u001b[0m\u001b[0;34m.\u001b[0m\u001b[0m_compile\u001b[0m\u001b[0;34m(\u001b[0m\u001b[0mself\u001b[0m\u001b[0;34m)\u001b[0m\u001b[0;34m\u001b[0m\u001b[0;34m\u001b[0m\u001b[0m\n\u001b[0m\u001b[1;32m    118\u001b[0m \u001b[0;34m\u001b[0m\u001b[0m\n\u001b[1;32m    119\u001b[0m \u001b[0;34m\u001b[0m\u001b[0m\n",
      "\u001b[0;32m~/anaconda3/lib/python3.7/site-packages/qsdsan/_components.py\u001b[0m in \u001b[0;36m_compile\u001b[0;34m(self)\u001b[0m\n\u001b[1;32m    309\u001b[0m         \u001b[0mtuple_\u001b[0m \u001b[0;34m=\u001b[0m \u001b[0mtuple\u001b[0m \u001b[0;31m# this speeds up the code\u001b[0m\u001b[0;34m\u001b[0m\u001b[0;34m\u001b[0m\u001b[0m\n\u001b[1;32m    310\u001b[0m         \u001b[0mcomponents\u001b[0m \u001b[0;34m=\u001b[0m \u001b[0mtuple_\u001b[0m\u001b[0;34m(\u001b[0m\u001b[0mdct\u001b[0m\u001b[0;34m.\u001b[0m\u001b[0mvalues\u001b[0m\u001b[0;34m(\u001b[0m\u001b[0;34m)\u001b[0m\u001b[0;34m)\u001b[0m\u001b[0;34m\u001b[0m\u001b[0;34m\u001b[0m\u001b[0m\n\u001b[0;32m--> 311\u001b[0;31m         \u001b[0mCompiledChemicals\u001b[0m\u001b[0;34m.\u001b[0m\u001b[0m_compile\u001b[0m\u001b[0;34m(\u001b[0m\u001b[0mself\u001b[0m\u001b[0;34m)\u001b[0m\u001b[0;34m\u001b[0m\u001b[0;34m\u001b[0m\u001b[0m\n\u001b[0m\u001b[1;32m    312\u001b[0m \u001b[0;34m\u001b[0m\u001b[0m\n\u001b[1;32m    313\u001b[0m         \u001b[0;32mfor\u001b[0m \u001b[0mcomponent\u001b[0m \u001b[0;32min\u001b[0m \u001b[0mcomponents\u001b[0m\u001b[0;34m:\u001b[0m\u001b[0;34m\u001b[0m\u001b[0;34m\u001b[0m\u001b[0m\n",
      "\u001b[0;32m~/anaconda3/lib/python3.7/site-packages/thermosteam/_chemicals.py\u001b[0m in \u001b[0;36m_compile\u001b[0;34m(self, skip_checks)\u001b[0m\n\u001b[1;32m    425\u001b[0m             \u001b[0mmissing\u001b[0m \u001b[0;34m=\u001b[0m \u001b[0mutils\u001b[0m\u001b[0;34m.\u001b[0m\u001b[0mrepr_listed_values\u001b[0m\u001b[0;34m(\u001b[0m\u001b[0mmissing_properties\u001b[0m\u001b[0;34m)\u001b[0m\u001b[0;34m\u001b[0m\u001b[0;34m\u001b[0m\u001b[0m\n\u001b[1;32m    426\u001b[0m             raise RuntimeError(\n\u001b[0;32m--> 427\u001b[0;31m                 \u001b[0;34mf\"{chemical} is missing key thermodynamic properties ({missing}); \"\u001b[0m\u001b[0;34m\u001b[0m\u001b[0;34m\u001b[0m\u001b[0m\n\u001b[0m\u001b[1;32m    428\u001b[0m                 \u001b[0;34m\"use the `<Chemical>.get_missing_properties()` to check \"\u001b[0m\u001b[0;34m\u001b[0m\u001b[0;34m\u001b[0m\u001b[0m\n\u001b[1;32m    429\u001b[0m                 \"all missing properties\")\n",
      "\u001b[0;31mRuntimeError\u001b[0m: XPAO is missing key thermodynamic properties (V, S, H, Cn, Psat, Tb and Hvap); use the `<Chemical>.get_missing_properties()` to check all missing properties"
     ]
    }
   ],
   "source": [
    "# XPAO.default()\n",
    "# SNH4.default()\n",
    "# XPAO.copy_models_from(H2O, names=('sigma', 'epsilon', 'kappa', 'V', 'Cn', 'mu'))\n",
    "# SNH4.copy_models_from(H2O, names=('sigma', 'epsilon', 'kappa', 'V', 'Cn', 'mu'))\n",
    "\n",
    "comps1 = Components((XPAO, SNH4, H2O))\n",
    "comps1\n",
    "# The Components object cannot be compiled if any of its Component object is missing key properties,\n",
    "# so code below will trigger an error\n",
    "comps1.compile()"
   ]
  },
  {
   "cell_type": "code",
   "execution_count": 15,
   "metadata": {},
   "outputs": [
    {
     "name": "stdout",
     "output_type": "stream",
     "text": [
      "CompiledComponents([SH2, SCH4, SCH3OH, SAc, SProp, SF, SU_Inf, SU_E, CB_Subst, CB_BAP, CB_UAP, CU_Inf, XB_Subst, XOHO_PHA, XGAO_PHA, XPAO_PHA, XGAO_Gly, XPAO_Gly, XOHO, XAOO, XNOO, XAMO, XPAO, XMEOLO, XFO, XACO, XHMO, XPRO, XU_Inf, XU_OHO_E, XU_PAO_E, XIg_ISS, XMgCO3, XCaCO3, XMAP, XHAP, XHDP, XFePO4, XAlPO4, XAlOH, XFeOH, XPAO_PP_Lo, XPAO_PP_Hi, SNH4, SNO2, SNO3, SPO4, SK, SCa, SMg, SCO3, SN2, SO2, SCAT, SAN, H2O])\n"
     ]
    }
   ],
   "source": [
    "comps2 = Components.load_default()\n",
    "comps2.compile()\n",
    "comps2"
   ]
  },
  {
   "cell_type": "code",
   "execution_count": 16,
   "metadata": {},
   "outputs": [
    {
     "data": {
      "text/plain": [
       "'(K0.33Mg0.33PO3)n'"
      ]
     },
     "execution_count": 16,
     "metadata": {},
     "output_type": "execute_result"
    }
   ],
   "source": [
    "# comps2.SCH4\n",
    "comps2.XPAO_PP_Lo.formula"
   ]
  },
  {
   "cell_type": "markdown",
   "metadata": {},
   "source": [
    "### Create a WasteStream object\n",
    "A `WasteStream` object can be created by defining flow rate of each `Component` (similar to creation of a `Stream`) or from composite measures (e.g., concentrations of total COD, TKN)"
   ]
  },
  {
   "cell_type": "code",
   "execution_count": 17,
   "metadata": {},
   "outputs": [
    {
     "name": "stdout",
     "output_type": "stream",
     "text": [
      "WasteStream: ins2\n",
      " phase: 'l', T: 298.15 K, P: 101325 Pa\n",
      " flow (g/hr): SNH4  100\n",
      "              H2O   1e+06\n",
      "\n",
      " WasteStream-specific properties:\n",
      "  pH         : 7.0\n",
      "  Alkalinity : 2.5 mg/L\n",
      "  TN         : 99.7 mg/L\n",
      "  TKN        : 99.7 mg/L\n",
      "\n"
     ]
    }
   ],
   "source": [
    "# tmo.settings.set_thermo(comps1)\n",
    "tmo.settings.set_thermo(comps2)\n",
    "ins1 = WasteStream('ins1', XPAO=.5, H2O=1000, units='kg/hr')\n",
    "ins2 = WasteStream('ins2', SNH4=.1, H2O=1000, units='kg/hr')\n",
    "ins2"
   ]
  },
  {
   "cell_type": "code",
   "execution_count": 23,
   "metadata": {},
   "outputs": [],
   "source": [
    "# Default to typical raw wastewater composition\n",
    "# Below not working now\n",
    "# ws = WasteStream.composite('ws', 1000)\n",
    "# ws = WasteStream.from_composite_measures('ws', flow_tot=1000, pH=6.8, COD=500, TP=11)\n",
    "# ws.show(N=20)"
   ]
  },
  {
   "cell_type": "code",
   "execution_count": 28,
   "metadata": {},
   "outputs": [
    {
     "name": "stdout",
     "output_type": "stream",
     "text": [
      "WasteStream: ins1\n",
      " phase: 'l', T: 298.15 K, P: 101325 Pa\n",
      "\n",
      " WasteStream-specific properties:\n",
      "  pH         : 7.0\n",
      "  Alkalinity : 2.5 mg/L\n",
      "  COD        : 498.3 mg/L\n",
      "  BOD        : 282.3 mg/L\n",
      "  TC         : 182.4 mg/L\n",
      "  TOC        : 182.4 mg/L\n",
      "  TN         : 34.0 mg/L\n",
      "  TKN        : 34.0 mg/L\n",
      "  TP         : 9.5 mg/L\n",
      "  TK         : 2.4 mg/L\n",
      "\n"
     ]
    }
   ],
   "source": [
    "# You can control whether to see Stream information and details\n",
    "ins1.show(stream_info=False)"
   ]
  },
  {
   "cell_type": "code",
   "execution_count": 29,
   "metadata": {},
   "outputs": [
    {
     "name": "stdout",
     "output_type": "stream",
     "text": [
      "WasteStream: ins1\n",
      " phase: 'l', T: 298.15 K, P: 101325 Pa\n",
      " flow (g/hr): XPAO  500\n",
      "              H2O   1e+06\n",
      "\n",
      " WasteStream-specific properties:\n",
      "  pH         : 7.0\n",
      "  Alkalinity : 2.5 mg/L\n",
      "  ...\n",
      "\n"
     ]
    }
   ],
   "source": [
    "ins1.show(details=False)"
   ]
  },
  {
   "cell_type": "code",
   "execution_count": 34,
   "metadata": {},
   "outputs": [
    {
     "data": {
      "text/plain": [
       "0.0"
      ]
     },
     "execution_count": 34,
     "metadata": {},
     "output_type": "execute_result"
    }
   ],
   "source": [
    "# You can also get other information such as TDS\n",
    "ins1.get_TDS()"
   ]
  },
  {
   "cell_type": "code",
   "execution_count": 24,
   "metadata": {},
   "outputs": [
    {
     "data": {
      "text/plain": [
       "(170.88830049374536+0.0026205185573492523j)"
      ]
     },
     "execution_count": 24,
     "metadata": {},
     "output_type": "execute_result"
    }
   ],
   "source": [
    "ws.COD\n",
    "ws.TKN\n",
    "# Recheck the math, by imaginary numbers?\n",
    "ws.get_TDS()\n",
    "ws.get_VSS()"
   ]
  },
  {
   "cell_type": "code",
   "execution_count": 25,
   "metadata": {},
   "outputs": [],
   "source": [
    "# WasteStream._ratios\n",
    "new_r = {'fSF_TotCOD': .3, 'fSNH4_STKN': .85}\n",
    "ws = WasteStream.from_composite_measures('ws', 1200, ratios=new_r)"
   ]
  },
  {
   "cell_type": "code",
   "execution_count": 26,
   "metadata": {},
   "outputs": [
    {
     "name": "stdout",
     "output_type": "stream",
     "text": [
      "WasteStream: ws_mix\n",
      " phase: 'l', T: 298.15 K, P: 101325 Pa\n",
      " flow (kg/hr): SF        0.155\n",
      "               SU_Inf    0.0258\n",
      "               CB_Subst  0.0402\n",
      "               XB_Subst  0.228\n",
      "               XU_Inf    0.0671\n",
      "               XIg_ISS   0.0147\n",
      "               SNH4      0.03\n",
      "               ...\n",
      "\n",
      " WasteStream-specific properties:\n",
      "  pH         : 7.0\n",
      "  Alkalinity : 0.0 [unit]\n",
      "  COD        : 428.4+0.0j [unit]\n",
      "  BOD        : 225.9+0.0j [unit]\n",
      "  TC         : 138.7+0.0j [unit]\n",
      "  TOC        : 137.0+0.0j [unit]\n",
      "  TN         : 40.2+0.0j [unit]\n",
      "  TKN        : 40.2+0.0j [unit]\n",
      "  TP         : 10.0+0.0j [unit]\n",
      "  TK         : 27.9+0.0j [unit]\n",
      "  charge     : 3.8+0.0j [unit]\n",
      "\n"
     ]
    }
   ],
   "source": [
    "ws.mass\n",
    "ws.vol\n",
    "\n",
    "ws1 = WasteStream('ws1')\n",
    "ws2 = WasteStream('ws2')\n",
    "ws.split_to(ws1, ws2, .3)\n",
    "ws1\n",
    "ws2\n",
    "\n",
    "ws_mix = WasteStream('ws_mix')\n",
    "ws_mix.mix_from([ws1, ws2])\n",
    "ws_mix"
   ]
  },
  {
   "cell_type": "code",
   "execution_count": 27,
   "metadata": {},
   "outputs": [
    {
     "data": {
      "text/plain": [
       "(136.9795298730429+0.002100681668629398j)"
      ]
     },
     "execution_count": 27,
     "metadata": {},
     "output_type": "execute_result"
    }
   ],
   "source": [
    "ws.composite('BOD', particle_size='x')\n",
    "ws.composite('COD', specification='XBio')\n",
    "ws.composite('N', specification='SNOx')\n",
    "ws.composite('C', organic=True)"
   ]
  },
  {
   "cell_type": "code",
   "execution_count": 28,
   "metadata": {},
   "outputs": [
    {
     "data": {
      "text/plain": [
       "(349.0131598807137+0.005352373071738224j)"
      ]
     },
     "execution_count": 28,
     "metadata": {},
     "output_type": "execute_result"
    }
   ],
   "source": [
    "ws.composite('Solids', particle_size='s')"
   ]
  },
  {
   "cell_type": "markdown",
   "metadata": {},
   "source": [
    "*Joy, I moved the SanUnit part to a standalone tutorial, I think you can show the GPX models you made, etc.*"
   ]
  }
 ],
 "metadata": {
  "kernelspec": {
   "display_name": "Python 3",
   "language": "python",
   "name": "python3"
  },
  "language_info": {
   "codemirror_mode": {
    "name": "ipython",
    "version": 3
   },
   "file_extension": ".py",
   "mimetype": "text/x-python",
   "name": "python",
   "nbconvert_exporter": "python",
   "pygments_lexer": "ipython3",
   "version": "3.7.6"
  }
 },
 "nbformat": 4,
 "nbformat_minor": 4
}
