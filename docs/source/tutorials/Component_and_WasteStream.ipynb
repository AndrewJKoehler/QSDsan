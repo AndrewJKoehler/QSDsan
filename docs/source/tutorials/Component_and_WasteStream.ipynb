{
 "cells": [
  {
   "cell_type": "markdown",
   "metadata": {},
   "source": [
    "# Component and WasteStream\n",
    "\n",
    "* **Prepared by:**\n",
    "\n",
    "    - Joy Cheung\n",
    "    - Yalin Li\n",
    "\n",
    "* **Covered topics:**\n",
    "\n",
    "    - `Component`, `Components`, and `CompiledComponents`\n",
    "    - `WasteStream`\n",
    "\n",
    "* **Update date:** 2021-03-24\n",
    "* `qsdsan` **version:** 0.2.1"
   ]
  },
  {
   "cell_type": "code",
   "execution_count": 1,
   "metadata": {},
   "outputs": [],
   "source": [
    "# To change directory to the cloned qsdsan (as opposed to the pip installed version)\n",
    "# import os\n",
    "# path = os.path.realpath('')+'/../../../'\n",
    "# os.chdir(path)"
   ]
  },
  {
   "cell_type": "code",
   "execution_count": 2,
   "metadata": {},
   "outputs": [],
   "source": [
    "import thermosteam as tmo\n",
    "from qsdsan import Component, Components, WasteStream"
   ]
  },
  {
   "cell_type": "markdown",
   "metadata": {},
   "source": [
    "**A note at the front**\n",
    "\n",
    "``QSDsan`` can work with three main stream classes: ``Stream``, ``SanStream``, and ``WasteStream``. ``Stream`` is from the package ``Thermosteam`` while ``SanStream`` and ``WasteStream`` are created in ``QSDsan``. The following tutorial is focused on ``WasteStream`` as it is one of the core classes of ``QSDsan``. You can learn more about the different classes in the [documentation](https://qsdsan.readthedocs.io/en/latest/Streams.html)."
   ]
  },
  {
   "cell_type": "markdown",
   "metadata": {},
   "source": [
    "## Creating a `Component` object\n",
    "A `Component` object can be created from scratch or from a `Chemical` object."
   ]
  },
  {
   "cell_type": "code",
   "execution_count": 3,
   "metadata": {},
   "outputs": [
    {
     "name": "stdout",
     "output_type": "stream",
     "text": [
      "Component: XPAO (phase_ref=None)\n",
      "[Names]  CAS: XPAO\n",
      "         InChI: None\n",
      "         InChI_key: None\n",
      "         common_name: None\n",
      "         iupac_name: None\n",
      "         pubchemid: None\n",
      "         smiles: None\n",
      "         formula: C5H7O2N\n",
      "[Groups] Dortmund: <Empty>\n",
      "         UNIFAC: <Empty>\n",
      "         PSRK: <Empty>\n",
      "         NIST: <Empty>\n",
      "[Data]   MW: 113.11 g/mol\n",
      "         Tm: None\n",
      "         Tb: None\n",
      "         Tt: None\n",
      "         Tc: None\n",
      "         Pt: None\n",
      "         Pc: None\n",
      "         Vc: None\n",
      "         Hf: None\n",
      "         S0: None\n",
      "         LHV: None\n",
      "         HHV: None\n",
      "         Hfus: None\n",
      "         Sfus: None\n",
      "         omega: None\n",
      "         dipole: None\n",
      "         similarity_variable: None\n",
      "         iscyclic_aliphatic: None\n",
      "         combustion: None\n",
      "\n",
      "Component-specific properties:\n",
      "[Others] measured_as: COD\n",
      "         description: None\n",
      "         particle_size: Particulate\n",
      "         degradability: Biological\n",
      "         organic: True\n",
      "         i_C: 0.37535 g C/g COD\n",
      "         i_N: 0.087545 g N/g COD\n",
      "         i_P: 0 g P/g COD\n",
      "         i_K: 0 g K/g COD\n",
      "         i_Mg: 0 g Mg/g COD\n",
      "         i_Ca: 0 g Ca/g COD\n",
      "         i_mass: 0.70699 g mass/g COD\n",
      "         i_charge: 0 mol +/g COD\n",
      "         i_COD: 1 g COD/g COD\n",
      "         i_NOD: 0 g NOD/g COD\n",
      "         f_BOD5_COD: 0\n",
      "         f_uBOD_COD: 0\n",
      "         f_Vmass_Totmass: 0\n"
     ]
    }
   ],
   "source": [
    "# help(Component)\n",
    "XPAO = Component('XPAO', formula = 'C5H7O2N', measured_as = 'COD', \n",
    "                 particle_size = 'Particulate', degradability = 'Biological',\n",
    "                 organic = True)\n",
    "# XPAO\n",
    "XPAO.show(True)"
   ]
  },
  {
   "cell_type": "code",
   "execution_count": 4,
   "metadata": {},
   "outputs": [
    {
     "name": "stdout",
     "output_type": "stream",
     "text": [
      "Component: SNH4 (phase_ref='l')\n",
      "[Names]  CAS: 14798-03-9\n",
      "         InChI: InChI=1S/H3N/h1H3/p+...\n",
      "         InChI_key: QGZKDVFQNNGYKY-U...\n",
      "         common_name: Ammonium\n",
      "         iupac_name: ('azane;hydron'...\n",
      "         pubchemid: 1.6741e+07\n",
      "         smiles: [NH4+]\n",
      "         formula: H4N+\n",
      "[Groups] Dortmund: <Empty>\n",
      "         UNIFAC: <Empty>\n",
      "         PSRK: <Empty>\n",
      "         NIST: <Empty>\n",
      "[Data]   MW: 18.039 g/mol\n",
      "         Tm: None\n",
      "         Tb: None\n",
      "         Tt: None\n",
      "         Tc: None\n",
      "         Pt: None\n",
      "         Pc: None\n",
      "         Vc: None\n",
      "         Hf: None\n",
      "         S0: 0 J/K/mol\n",
      "         LHV: None\n",
      "         HHV: None\n",
      "         Hfus: 0 J/mol\n",
      "         Sfus: None\n",
      "         omega: None\n",
      "         dipole: None\n",
      "         similarity_variable: 0.27718\n",
      "         iscyclic_aliphatic: 0\n",
      "         combustion: None\n",
      "\n",
      "Component-specific properties:\n",
      "[Others] measured_as: N\n",
      "         description: None\n",
      "         particle_size: Soluble\n",
      "         degradability: Undegradable\n",
      "         organic: False\n",
      "         i_C: 0 g C/g N\n",
      "         i_N: 1 g N/g N\n",
      "         i_P: 0 g P/g N\n",
      "         i_K: 0 g K/g N\n",
      "         i_Mg: 0 g Mg/g N\n",
      "         i_Ca: 0 g Ca/g N\n",
      "         i_mass: 1.2878 g mass/g N\n",
      "         i_charge: 0.071394 mol +/g N\n",
      "         i_COD: 0 g COD/g N\n",
      "         i_NOD: 0 g NOD/g N\n",
      "         f_BOD5_COD: 0\n",
      "         f_uBOD_COD: 0\n",
      "         f_Vmass_Totmass: 0\n"
     ]
    }
   ],
   "source": [
    "H2O = Component.from_chemical('H2O', tmo.Chemical('H2O'), particle_size='Soluble',\n",
    "                              degradability='Undegradable', organic=False)\n",
    "\n",
    "SNH4 = Component.from_chemical('SNH4', tmo.Chemical('Ammonium'), measured_as='N',\n",
    "                               particle_size='Soluble', degradability='Undegradable',\n",
    "                               organic=False)\n",
    "# SNH4.default()\n",
    "SNH4.show(True)"
   ]
  },
  {
   "cell_type": "code",
   "execution_count": 5,
   "metadata": {},
   "outputs": [
    {
     "data": {
      "text/plain": [
       "0.0"
      ]
     },
     "execution_count": 5,
     "metadata": {},
     "output_type": "execute_result"
    }
   ],
   "source": [
    "# If you create a ``Component`` with molecular formula,\n",
    "# attributes such as ``i_C``, ``i_N`` will be automatically calcualted,\n",
    "# and ``qsdsan`` will raise an error if you want to change the value\n",
    "# H2O.i_C = 1\n",
    "H2O.i_C"
   ]
  },
  {
   "cell_type": "markdown",
   "metadata": {},
   "source": [
    "## Create a `CompiledComponent` object\n",
    "A `CompiledComponent` object can be created from scratch or by loading the default `Compoenets`."
   ]
  },
  {
   "cell_type": "code",
   "execution_count": 6,
   "metadata": {},
   "outputs": [
    {
     "name": "stdout",
     "output_type": "stream",
     "text": [
      "Components([XPAO, SNH4, H2O])\n"
     ]
    }
   ],
   "source": [
    "# XPAO.default()\n",
    "# SNH4.default()\n",
    "# XPAO.copy_models_from(H2O, names=('sigma', 'epsilon', 'kappa', 'V', 'Cn', 'mu'))\n",
    "# SNH4.copy_models_from(H2O, names=('sigma', 'epsilon', 'kappa', 'V', 'Cn', 'mu'))\n",
    "\n",
    "comps1 = Components((XPAO, SNH4, H2O))\n",
    "comps1\n",
    "# The Components object cannot be compiled if any of its Component object is missing key properties,\n",
    "# so code below will trigger an error\n",
    "# comps1.compile()"
   ]
  },
  {
   "cell_type": "code",
   "execution_count": 7,
   "metadata": {},
   "outputs": [
    {
     "name": "stdout",
     "output_type": "stream",
     "text": [
      "CompiledComponents([SH2, SCH4, SCH3OH, SAc, SProp, SF, SU_Inf, SU_E, CB_Subst, CB_BAP, CB_UAP, CU_Inf, XB_Subst, XOHO_PHA, XGAO_PHA, XPAO_PHA, XGAO_Gly, XPAO_Gly, XOHO, XAOO, XNOO, XAMO, XPAO, XMEOLO, XFO, XACO, XHMO, XPRO, XU_Inf, XU_OHO_E, XU_PAO_E, XIg_ISS, XMgCO3, XCaCO3, XMAP, XHAP, XHDP, XFePO4, XAlPO4, XAlOH, XFeOH, XPAO_PP_Lo, XPAO_PP_Hi, SNH4, SNO2, SNO3, SPO4, SK, SCa, SMg, SCO3, SN2, SO2, SCAT, SAN, H2O])\n"
     ]
    }
   ],
   "source": [
    "comps2 = Components.load_default()\n",
    "comps2.compile()\n",
    "comps2"
   ]
  },
  {
   "cell_type": "code",
   "execution_count": 8,
   "metadata": {},
   "outputs": [
    {
     "data": {
      "text/plain": [
       "'(K0.33Mg0.33PO3)n'"
      ]
     },
     "execution_count": 8,
     "metadata": {},
     "output_type": "execute_result"
    }
   ],
   "source": [
    "# comps2.SCH4\n",
    "comps2.XPAO_PP_Lo.formula"
   ]
  },
  {
   "cell_type": "markdown",
   "metadata": {},
   "source": [
    "## Create a `WasteStream` object\n",
    "A `WasteStream` object can be created by defining flow rate of each `Component` (similar to creation of a `Stream`) or from composite measures (e.g., concentrations of total COD, TKN)"
   ]
  },
  {
   "cell_type": "code",
   "execution_count": 9,
   "metadata": {},
   "outputs": [
    {
     "name": "stdout",
     "output_type": "stream",
     "text": [
      "WasteStream: ins2\n",
      " phase: 'l', T: 298.15 K, P: 101325 Pa\n",
      " flow (g/hr): SNH4  100\n",
      "              H2O   1e+06\n",
      "\n",
      " WasteStream-specific properties:\n",
      "  pH         : 7.0\n",
      "  Alkalinity : 2.5 mg/L\n",
      "  TN         : 99.7 mg/L\n",
      "  TKN        : 99.7 mg/L\n",
      "\n"
     ]
    }
   ],
   "source": [
    "# tmo.settings.set_thermo(comps1)\n",
    "tmo.settings.set_thermo(comps2)\n",
    "ins1 = WasteStream('ins1', XPAO=.5, H2O=1000, units='kg/hr')\n",
    "ins2 = WasteStream('ins2', SNH4=.1, H2O=1000, units='kg/hr')\n",
    "ins2"
   ]
  },
  {
   "cell_type": "code",
   "execution_count": 10,
   "metadata": {},
   "outputs": [],
   "source": [
    "# Default to typical raw wastewater composition\n",
    "# Below not working now\n",
    "# ws = WasteStream.composite('ws', 1000)\n",
    "# ws = WasteStream.from_composite_measures('ws', flow_tot=1000, pH=6.8, COD=500, TP=11)\n",
    "# ws.show(N=20)"
   ]
  },
  {
   "cell_type": "code",
   "execution_count": 11,
   "metadata": {},
   "outputs": [
    {
     "name": "stdout",
     "output_type": "stream",
     "text": [
      "WasteStream: ins1\n",
      " phase: 'l', T: 298.15 K, P: 101325 Pa\n",
      "\n",
      " WasteStream-specific properties:\n",
      "  pH         : 7.0\n",
      "  Alkalinity : 2.5 mg/L\n",
      "  COD        : 498.3 mg/L\n",
      "  BOD        : 282.3 mg/L\n",
      "  TC         : 182.4 mg/L\n",
      "  TOC        : 182.4 mg/L\n",
      "  TN         : 34.0 mg/L\n",
      "  TKN        : 34.0 mg/L\n",
      "  TP         : 9.5 mg/L\n",
      "  TK         : 2.4 mg/L\n",
      "\n"
     ]
    }
   ],
   "source": [
    "# You can control whether to see Stream information and details\n",
    "ins1.show(stream_info=False)"
   ]
  },
  {
   "cell_type": "code",
   "execution_count": 12,
   "metadata": {},
   "outputs": [
    {
     "name": "stdout",
     "output_type": "stream",
     "text": [
      "WasteStream: ins1\n",
      " phase: 'l', T: 298.15 K, P: 101325 Pa\n",
      " flow (g/hr): XPAO  500\n",
      "              H2O   1e+06\n",
      "\n",
      " WasteStream-specific properties:\n",
      "  pH         : 7.0\n",
      "  Alkalinity : 2.5 mg/L\n",
      "  ...\n",
      "\n"
     ]
    }
   ],
   "source": [
    "ins1.show(details=False)"
   ]
  },
  {
   "cell_type": "code",
   "execution_count": 13,
   "metadata": {},
   "outputs": [
    {
     "data": {
      "text/plain": [
       "336.6697775354736"
      ]
     },
     "execution_count": 13,
     "metadata": {},
     "output_type": "execute_result"
    }
   ],
   "source": [
    "# You can also get other information such as TDS, VSS\n",
    "ins1.get_VSS()"
   ]
  },
  {
   "cell_type": "code",
   "execution_count": 14,
   "metadata": {},
   "outputs": [],
   "source": [
    "# Need updating\n",
    "# WasteStream._ratios\n",
    "# new_r = {'fSF_TotCOD': .3, 'fSNH4_STKN': .85}\n",
    "# ws = WasteStream.from_composite_measures('ws', 1200, ratios=new_r)"
   ]
  },
  {
   "cell_type": "code",
   "execution_count": 15,
   "metadata": {},
   "outputs": [
    {
     "name": "stdout",
     "output_type": "stream",
     "text": [
      "WasteStream: ws_mix\n",
      " phase: 'l', T: 298.15 K, P: 101325 Pa\n",
      " flow (g/hr): XPAO  500\n",
      "              H2O   1e+06\n",
      "\n",
      " WasteStream-specific properties:\n",
      "  pH         : 7.0\n",
      "  Alkalinity : 2.5 mg/L\n",
      "  COD        : 498.3 mg/L\n",
      "  BOD        : 282.3 mg/L\n",
      "  TC         : 182.4 mg/L\n",
      "  TOC        : 182.4 mg/L\n",
      "  TN         : 34.0 mg/L\n",
      "  TKN        : 34.0 mg/L\n",
      "  TP         : 9.5 mg/L\n",
      "  TK         : 2.4 mg/L\n",
      "\n"
     ]
    }
   ],
   "source": [
    "ins1.mass\n",
    "ins1.vol\n",
    "\n",
    "ws1 = WasteStream('ws1')\n",
    "ws2 = WasteStream('ws2')\n",
    "ins1.split_to(ws1, ws2, .3)\n",
    "ws1\n",
    "ws2\n",
    "\n",
    "ws_mix = WasteStream('ws_mix')\n",
    "ws_mix.mix_from([ws1, ws2])\n",
    "ws_mix"
   ]
  },
  {
   "cell_type": "code",
   "execution_count": 16,
   "metadata": {},
   "outputs": [
    {
     "data": {
      "text/plain": [
       "282.3400834522276"
      ]
     },
     "execution_count": 16,
     "metadata": {},
     "output_type": "execute_result"
    }
   ],
   "source": [
    "ins1.composite('BOD', particle_size='x')"
   ]
  },
  {
   "cell_type": "code",
   "execution_count": 17,
   "metadata": {},
   "outputs": [
    {
     "data": {
      "text/plain": [
       "498.27127054282835"
      ]
     },
     "execution_count": 17,
     "metadata": {},
     "output_type": "execute_result"
    }
   ],
   "source": [
    "ins1.composite('COD', specification='XBio')"
   ]
  },
  {
   "cell_type": "code",
   "execution_count": 18,
   "metadata": {},
   "outputs": [
    {
     "data": {
      "text/plain": [
       "0.0"
      ]
     },
     "execution_count": 18,
     "metadata": {},
     "output_type": "execute_result"
    }
   ],
   "source": [
    "ins1.composite('N', specification='SNOx')"
   ]
  },
  {
   "cell_type": "code",
   "execution_count": 19,
   "metadata": {},
   "outputs": [
    {
     "data": {
      "text/plain": [
       "182.36728501867518"
      ]
     },
     "execution_count": 19,
     "metadata": {},
     "output_type": "execute_result"
    }
   ],
   "source": [
    "ins1.composite('C', organic=True)"
   ]
  },
  {
   "cell_type": "code",
   "execution_count": 20,
   "metadata": {},
   "outputs": [
    {
     "data": {
      "text/plain": [
       "0.0"
      ]
     },
     "execution_count": 20,
     "metadata": {},
     "output_type": "execute_result"
    }
   ],
   "source": [
    "ins1.composite('solids', particle_size='s')"
   ]
  }
 ],
 "metadata": {
  "kernelspec": {
   "display_name": "Python 3",
   "language": "python",
   "name": "python3"
  },
  "language_info": {
   "codemirror_mode": {
    "name": "ipython",
    "version": 3
   },
   "file_extension": ".py",
   "mimetype": "text/x-python",
   "name": "python",
   "nbconvert_exporter": "python",
   "pygments_lexer": "ipython3",
   "version": "3.7.7"
  }
 },
 "nbformat": 4,
 "nbformat_minor": 4
}
