{
 "cells": [
  {
   "cell_type": "markdown",
   "id": "28c4658c",
   "metadata": {},
   "source": [
    "# Process <a class=\"anchor\" id=\"top\"></a>\n",
    "\n",
    "- **Prepared by:**\n",
    "    \n",
    "    - [Joy Zhang](https://qsdsan.readthedocs.io/en/latest/authors/Joy_Zhang.html)\n",
    "    \n",
    "- **Covered topics:**\n",
    "\n",
    "    - [0. Recap](#s0)\n",
    "    - [1. Understanding Process/Processes/processes](#s1)\n",
    "    - [2. Making a simple biokinetic model](#s2)\n",
    "    - [3. Advanced features](#s3)\n",
    "    \n",
    "- **Video demo:**\n",
    "\n",
    "    - [LastName FirstName](link)\n",
    "    \n",
    "To run tutorials in your browser, go to this [Binder page](https://mybinder.org/v2/gh/QSD-Group/QSDsan/main?filepath=%2Fdocs%2Fsource%2Ftutorials).\n",
    "    \n",
    "You can also watch a video demo on [YouTube](link) (subscriptions & likes appreciated!)."
   ]
  },
  {
   "cell_type": "markdown",
   "id": "903ee36f",
   "metadata": {},
   "source": [
    "---"
   ]
  },
  {
   "cell_type": "markdown",
   "id": "f6ac4147",
   "metadata": {},
   "source": [
    "## 0. Recap <a class=\"anchor\" id=\"s0\"></a>\n",
    "Check out this [video](https://www.youtube.com/watch?v=mk3WNCxD6tI) here about `qsdsan`, make sure you understand the UML (unified modeling language) diagram."
   ]
  },
  {
   "cell_type": "code",
   "execution_count": 2,
   "id": "046d7beb",
   "metadata": {},
   "outputs": [
    {
     "data": {
      "text/html": [
       "<img src=\"https://lucid.app/publicSegments/view/c8de361f-7292-47e3-8870-d6f668691728/image.png\" width=\"800\"/>"
      ],
      "text/plain": [
       "<IPython.core.display.Image object>"
      ]
     },
     "execution_count": 2,
     "metadata": {},
     "output_type": "execute_result"
    }
   ],
   "source": [
    "from IPython.display import Image\n",
    "Image(url='https://lucid.app/publicSegments/view/c8de361f-7292-47e3-8870-d6f668691728/image.png', width=800)"
   ]
  },
  {
   "cell_type": "markdown",
   "id": "d00fb6c3",
   "metadata": {},
   "source": [
    "This tutorial will focus on the *Process* module in `qsdsan`. This module was developed to provide modeling capacity for dynamic conversions of waste streams in a `SanUnit`. With this module, simulations can describe not only a system's mass and energy flows at steady states but also the changes of these flows over time."
   ]
  },
  {
   "cell_type": "code",
   "execution_count": 2,
   "id": "3dc1138e",
   "metadata": {},
   "outputs": [
    {
     "name": "stdout",
     "output_type": "stream",
     "text": [
      "This tutorial was made with qsdsan v1.2.2.\n"
     ]
    }
   ],
   "source": [
    "import qsdsan as qs\n",
    "print(f'This tutorial was made with qsdsan v{qs.__version__}.')"
   ]
  },
  {
   "cell_type": "markdown",
   "id": "09ef8e81",
   "metadata": {},
   "source": [
    "[Back to top](#top)"
   ]
  },
  {
   "cell_type": "markdown",
   "id": "bfe4aa18",
   "metadata": {},
   "source": [
    "## 1. Understanding `Process`/`Processes`/`processes` <a class=\"anchor\" id=\"s1\"></a>\n",
    "Similar to the [*Component*](https://qsdsan.readthedocs.io/en/latest/tutorials/2_Component.html) module, the *Process* module includes three main classes: `Process`, `Processes`, and `CompiledProcesses`.\n",
    "\n",
    "The `Process` class is used to model individual dynamic processes with user-defined stoichiometry and reaction kinetics. The `Processes` class is simply a collection of multiple `Process` objects. Compilation of `Processes` yields `CompiledProcesses`, which provides additional attributes of the collection. It is often used to implement (pseudo-)mechanistic models with parellel biological and/or physiochemical processes in dynamic simulations of treatment systems. "
   ]
  },
  {
   "cell_type": "code",
   "execution_count": 140,
   "id": "61b1bd62",
   "metadata": {},
   "outputs": [
    {
     "data": {
      "text/html": [
       "<img src=\"https://lucid.app/publicSegments/view/2c231fa2-6065-46b9-83af-a790ce38b6c0/image.png\" width=\"600\"/>"
      ],
      "text/plain": [
       "<IPython.core.display.Image object>"
      ]
     },
     "execution_count": 140,
     "metadata": {},
     "output_type": "execute_result"
    }
   ],
   "source": [
    "Image(url='https://lucid.app/publicSegments/view/2c231fa2-6065-46b9-83af-a790ce38b6c0/image.png', width=600)"
   ]
  },
  {
   "cell_type": "markdown",
   "id": "b7f9ccfc",
   "metadata": {},
   "source": [
    "In this section, we will focus on understanding the structures of these classes by going over some existing processes in `qsdsan`. [Next section](#s2) will guide you through the creation of your own `Processes` subclass."
   ]
  },
  {
   "cell_type": "markdown",
   "id": "0535456f",
   "metadata": {},
   "source": [
    "### 1.1. `Processes`  vs. `processes`\n",
    "You might remember `SanUnit` vs. `sanunits`. `Processes` and `processes` have similar distinctions."
   ]
  },
  {
   "cell_type": "code",
   "execution_count": 4,
   "id": "75766cf7",
   "metadata": {},
   "outputs": [
    {
     "data": {
      "text/plain": [
       "qsdsan._process.Process"
      ]
     },
     "execution_count": 4,
     "metadata": {},
     "output_type": "execute_result"
    }
   ],
   "source": [
    "# If you check\n",
    "qs.Process\n",
    "# or \n",
    "# qs.Processes\n",
    "# or\n",
    "# qs.CompiledProcesses"
   ]
  },
  {
   "cell_type": "markdown",
   "id": "2f7a09f6",
   "metadata": {},
   "source": [
    "This means `Process`/`Processes`/`CompiledProcesses` is a class in the `_process` module (i.e., the codes defining theses classes are in the `_process.py` file within the `qsdsan` folder)."
   ]
  },
  {
   "cell_type": "code",
   "execution_count": 5,
   "id": "50db4564",
   "metadata": {},
   "outputs": [
    {
     "data": {
      "text/plain": [
       "<module 'qsdsan.processes' from 'C:\\\\Users\\\\joy_c\\\\anaconda3\\\\envs\\\\tut\\\\lib\\\\site-packages\\\\qsdsan\\\\processes\\\\__init__.py'>"
      ]
     },
     "execution_count": 5,
     "metadata": {},
     "output_type": "execute_result"
    }
   ],
   "source": [
    "# If you check\n",
    "qs.processes"
   ]
  },
  {
   "cell_type": "markdown",
   "id": "587963f4",
   "metadata": {},
   "source": [
    "This shows that `processes` is actually a folder. (Why? See [here](https://qsdsan.readthedocs.io/en/latest/tutorials/4_SanUnit_basic.html#Tip).) It contains the process models (i.e., subclasses of `Process` or `CompiledProcesses`) that have been included in `qsdsan`."
   ]
  },
  {
   "cell_type": "code",
   "execution_count": 6,
   "id": "fc717b78",
   "metadata": {},
   "outputs": [
    {
     "data": {
      "text/plain": [
       "('DiffusedAeration',\n",
       " 'create_asm1_cmps',\n",
       " 'ASM1',\n",
       " 'create_asm2d_cmps',\n",
       " 'ASM2d',\n",
       " 'create_adm1_cmps',\n",
       " 'ADM1',\n",
       " 'non_compet_inhibit',\n",
       " 'substr_inhibit',\n",
       " 'T_correction_factor',\n",
       " 'pH_inhibit',\n",
       " 'Hill_inhibit',\n",
       " 'rhos_adm1',\n",
       " 'Decay',\n",
       " 'KineticReaction')"
      ]
     },
     "execution_count": 6,
     "metadata": {},
     "output_type": "execute_result"
    }
   ],
   "source": [
    "# To see the list of objects that can be directly imported from this folder\n",
    "qs.processes.__all__"
   ]
  },
  {
   "cell_type": "markdown",
   "id": "bdc5c49b",
   "metadata": {},
   "source": [
    "The list above include common process models like `ASM1`, `ASM2d`, `ADM1`, which are implemented as subclasses of `CompiledProcesses`. You can also directly import utility functions that create `CompiledComponents` objects corresponding to the state variables in those process models (i.e., `create_<ModelName>_cmps`) among others. \n",
    "\n",
    "`Decay` and `KineticReaction` are classes for simple processes whose state variables can be solved analytically."
   ]
  },
  {
   "cell_type": "code",
   "execution_count": 7,
   "id": "6e6931bb",
   "metadata": {
    "scrolled": true
   },
   "outputs": [
    {
     "data": {
      "text/plain": [
       "{'__all__',\n",
       " '__builtins__',\n",
       " '__cached__',\n",
       " '__doc__',\n",
       " '__file__',\n",
       " '__loader__',\n",
       " '__name__',\n",
       " '__package__',\n",
       " '__path__',\n",
       " '__spec__',\n",
       " '_adm1',\n",
       " '_aeration',\n",
       " '_asm1',\n",
       " '_asm2d',\n",
       " '_decay',\n",
       " '_kinetic_reaction'}"
      ]
     },
     "execution_count": 7,
     "metadata": {},
     "output_type": "execute_result"
    }
   ],
   "source": [
    "# You can see other attributes of the `qs.processes` folder with the `dir` function\n",
    "set(dir(qs.processes)) - set(qs.processes.__all__)"
   ]
  },
  {
   "cell_type": "markdown",
   "id": "ec90fe50",
   "metadata": {},
   "source": [
    "While names with double \"\\_\" on both sides (e.g., `__path__`) are built-in Python attributes, those with a single leading \"\\_\" (e.g., `_asm1`) are individual scripts included in the folder."
   ]
  },
  {
   "cell_type": "code",
   "execution_count": 8,
   "id": "82751cf8",
   "metadata": {},
   "outputs": [
    {
     "data": {
      "text/plain": [
       "<module 'qsdsan.processes._asm1' from 'C:\\\\Users\\\\joy_c\\\\anaconda3\\\\envs\\\\tut\\\\lib\\\\site-packages\\\\qsdsan\\\\processes\\\\_asm1.py'>"
      ]
     },
     "execution_count": 8,
     "metadata": {},
     "output_type": "execute_result"
    }
   ],
   "source": [
    "# For example, `_asm1.py` is a script in the `processes` folder.\n",
    "qs.processes._asm1"
   ]
  },
  {
   "cell_type": "markdown",
   "id": "f53faf8f",
   "metadata": {},
   "source": [
    "For the rest of this section, we will use [activated sludge model no. 1 (ASM1)](https://doi.org/10.2166/9781780402369) as an example to learn about the core classes in the `_process` module.\n",
    "\n",
    "[Back to top](#top)\n",
    "\n",
    "---"
   ]
  },
  {
   "cell_type": "markdown",
   "id": "72eb8c3d",
   "metadata": {},
   "source": [
    "#### ASM1\n",
    "ASM1 is a mathematical model for the activated sludge processes in wastewater treatment systems. It uses **13** components to characterize wastewater and activated sludge, including biomass, organic substrates (COD), organic and inorganic nitrogens (N), dissolved oxygen (DO), alkalinity etc. \n",
    "\n",
    "ASM1 includes **8** transformation processes of the components (e.g., hydrolysis, biomass growth and decay). The stoichiometry of each process considers conservations of COD, N, and electric charges. The process rates are dependent on environmental conditions and state variables (i.e., relevant component concentrations)."
   ]
  },
  {
   "cell_type": "code",
   "execution_count": 9,
   "id": "7e4b98a4",
   "metadata": {},
   "outputs": [
    {
     "name": "stdout",
     "output_type": "stream",
     "text": [
      "CompiledComponents([S_I, S_S, X_I, X_S, X_BH, X_BA, X_P, S_O, S_NO, S_NH, S_ND, X_ND, S_ALK, S_N2, H2O])\n"
     ]
    }
   ],
   "source": [
    "# Before we get to the subsections, let's get ready by loading ASM1-related objects in qsdsan\n",
    "from qsdsan.processes import create_asm1_cmps, ASM1\n",
    "cmps = create_asm1_cmps()\n",
    "cmps.show()"
   ]
  },
  {
   "cell_type": "markdown",
   "id": "04e12c48",
   "metadata": {},
   "source": [
    "This means the `create_asm1_cmps` function returns a `CompiledComponents` object corresponding to  the 13 components in ASM1 besides water.\n",
    "\n",
    "> **Note:** Classes in the `Process` module cannot be used independent of the `Component` module. Therefore, it is common practice to create corresponding `CompiledComponents` objects and set thermo before creating `Process` instances."
   ]
  },
  {
   "cell_type": "code",
   "execution_count": 10,
   "id": "2b7ccd5b",
   "metadata": {},
   "outputs": [
    {
     "name": "stdout",
     "output_type": "stream",
     "text": [
      "Thermo(\n",
      "    chemicals=CompiledComponents([S_I, S_S, X_I, X_S, X_BH, X_BA, X_P, S_O, S_NO, S_NH, S_ND, X_ND, S_ALK, S_N2, H2O]),\n",
      "    mixture=Mixture(\n",
      "        rule='ideal', ...\n",
      "        include_excess_energies=False\n",
      "    ),\n",
      "    Gamma=DortmundActivityCoefficients,\n",
      "    Phi=IdealFugacityCoefficients,\n",
      "    PCF=MockPoyintingCorrectionFactors\n",
      ")\n"
     ]
    }
   ],
   "source": [
    "# By default, the thermo is set with this `CompiledComponents` object upon its creation.\n",
    "# We can verify that by calling the `get_thermo` function\n",
    "qs.get_thermo()"
   ]
  },
  {
   "cell_type": "code",
   "execution_count": 11,
   "id": "948340c9",
   "metadata": {},
   "outputs": [
    {
     "data": {
      "text/plain": [
       "(qsdsan._process.CompiledProcesses,)"
      ]
     },
     "execution_count": 11,
     "metadata": {},
     "output_type": "execute_result"
    }
   ],
   "source": [
    "# Next we need to create an instance of the ASM1 model\n",
    "# We can see that `ASM1` is a subclass of `CompiledProcesses`, so it can be used for demonstration\n",
    "# of the capabilities of the `_process` module.\n",
    "ASM1.__bases__"
   ]
  },
  {
   "cell_type": "code",
   "execution_count": 12,
   "id": "7357bed8",
   "metadata": {
    "scrolled": true
   },
   "outputs": [],
   "source": [
    "# Let's start by reading the documentation of the `ASM1` class\n",
    "?ASM1"
   ]
  },
  {
   "cell_type": "code",
   "execution_count": 13,
   "id": "bdf27943",
   "metadata": {
    "scrolled": true
   },
   "outputs": [
    {
     "name": "stdout",
     "output_type": "stream",
     "text": [
      "ASM1([aero_growth_hetero, anox_growth_hetero, aero_growth_auto, decay_hetero, decay_auto, ammonification, hydrolysis, hydrolysis_N])\n"
     ]
    }
   ],
   "source": [
    "# Without getting into the details of ASM1, we will leave all parameters at their default values \n",
    "asm1 = ASM1()\n",
    "asm1.show()"
   ]
  },
  {
   "cell_type": "markdown",
   "id": "f1a543d1",
   "metadata": {},
   "source": [
    "This shows that `asm1` is composed of the 8 transformation processes.\n",
    "\n",
    "[Back to top](#top)\n",
    "\n",
    "---"
   ]
  },
  {
   "cell_type": "markdown",
   "id": "cc423985",
   "metadata": {},
   "source": [
    "### 1.2. `Process`\n",
    "The `Process` class is developed to model individual *dynamic* processes. *Dynamic* means that the rate of reaction is finite (i.e., the reaction is not instantaneous) and often changes with the state of the system. Each of the eight transformation process in ASM1 is described by a `Process` object. "
   ]
  },
  {
   "cell_type": "code",
   "execution_count": 14,
   "id": "25a826a8",
   "metadata": {},
   "outputs": [
    {
     "name": "stdout",
     "output_type": "stream",
     "text": [
      "Process: aero_growth_hetero\n",
      "[stoichiometry]      S_S: -1.0/Y_H\n",
      "                     X_BH: 1.00\n",
      "                     S_O: 1.0*(Y_H - 1.0)/Y_H\n",
      "                     S_NH: -0.0800\n",
      "[reference]          X_BH\n",
      "[rate equation]      S_NH*S_O*S_S*X_BH*mu_H/((K_N...\n",
      "[parameters]         Y_H: 0.67\n",
      "                     Y_A: 0.24\n",
      "                     f_P: 0.08\n",
      "                     mu_H: 4\n",
      "                     K_S: 10\n",
      "                     K_O_H: 0.2\n",
      "                     K_NO: 0.5\n",
      "                     b_H: 0.3\n",
      "                     mu_A: 0.5\n",
      "                     K_NH: 1\n",
      "                     K_O_A: 0.4\n",
      "                     b_A: 0.05\n",
      "                     eta_g: 0.8\n",
      "                     k_a: 0.05\n",
      "                     k_h: 3\n",
      "                     K_X: 0.1\n",
      "                     eta_h: 0.8\n",
      "[dynamic parameters] \n"
     ]
    }
   ],
   "source": [
    "# Let's take the 0th process in `asm1` as an example to learn about `Process`:\n",
    "# p1 = asm1.tuple[0]\n",
    "\n",
    "# You can also access the process using the typical `getattr` method because\n",
    "# individual processes in a `CompiledProcesses` object are stored as attributes \n",
    "p1 = asm1.aero_growth_hetero\n",
    "p1.show()"
   ]
  },
  {
   "cell_type": "markdown",
   "id": "2eea412e",
   "metadata": {},
   "source": [
    "---\n",
    "\n",
    "### Tip\n",
    "`<Object>.<Attribute>` is essentially identical to `getattr(<Object>, '<AttributeName>')`.\n",
    "\n",
    "---"
   ]
  },
  {
   "cell_type": "markdown",
   "id": "a41e3301",
   "metadata": {},
   "source": [
    "`p1` is an instance of `Process` describing the growth of heterotrophic biomass under aerobic conditions. The `show` method prints `p1`'s defining characteristics: stoichiometry, reference, rate equation, parameters, and dynamic parameters. All of them are stored as the object's attributes."
   ]
  },
  {
   "cell_type": "code",
   "execution_count": 15,
   "id": "baea578a",
   "metadata": {},
   "outputs": [
    {
     "data": {
      "text/plain": [
       "{'S_S': -1.49253731343284,\n",
       " 'X_BH': 1.00000000000000,\n",
       " 'S_O': -0.492537313432836,\n",
       " 'S_NH': -0.0800000000000000}"
      ]
     },
     "execution_count": 15,
     "metadata": {},
     "output_type": "execute_result"
    }
   ],
   "source": [
    "# For example, we can retrieve information on the stoichiometry of this process\n",
    "p1.stoichiometry"
   ]
  },
  {
   "cell_type": "markdown",
   "id": "abdb5953",
   "metadata": {},
   "source": [
    "Unlike what's printed by the `show` method, a dictionary of evaluated stoichiometric coefficients is returned. The coefficients indicate that to produce 1g COD's worth of `X_BH`, approximately 1.49g COD's worth of `S_S`, 0.08g N's worth of `S_NH`, and 0.49g `S_O` are consumed. The values of these stoichiometric coefficients are dependent on the parameter values in the formulas. We'll see how stoichiometry will change in response to different parameter values later.\n",
    "\n",
    "> **Note**: The stoichiometry must be defined and interpreted in consistency with the componenets' units of measure. You can check the units by calling `<Component>.measured_as`.\n",
    "\n",
    "Note that `X_BH` has a stoichiometric coefficient of 1, which means `X_BH` is a \"reference component\" (i.e., the process rate calculated by the rate equation is also `X_BH`'s rate of production/consumption)."
   ]
  },
  {
   "cell_type": "code",
   "execution_count": 16,
   "id": "acb5b8e0",
   "metadata": {},
   "outputs": [
    {
     "data": {
      "text/plain": [
       "'X_BH'"
      ]
     },
     "execution_count": 16,
     "metadata": {},
     "output_type": "execute_result"
    }
   ],
   "source": [
    "# This information can also be accessed by calling the `ref_component` property.\n",
    "p1.ref_component"
   ]
  },
  {
   "cell_type": "code",
   "execution_count": 17,
   "id": "d0612896",
   "metadata": {
    "scrolled": true
   },
   "outputs": [
    {
     "data": {
      "text/latex": [
       "$\\displaystyle \\frac{4.0 S_{NH} S_{O} S_{S} X_{BH}}{\\left(S_{NH} + 1.0\\right) \\left(S_{O} + 0.2\\right) \\left(S_{S} + 10.0\\right)}$"
      ],
      "text/plain": [
       "4.0*S_NH*S_O*S_S*X_BH/((S_NH + 1.0)*(S_O + 0.2)*(S_S + 10.0))"
      ]
     },
     "execution_count": 17,
     "metadata": {},
     "output_type": "execute_result"
    }
   ],
   "source": [
    "# Another defining characteristics of a process is its rate equation, which is stored as a\n",
    "# property of the `Process` object\n",
    "p1.rate_equation"
   ]
  },
  {
   "cell_type": "markdown",
   "id": "91dff6cf",
   "metadata": {},
   "source": [
    "The process rate here is a \"Monod-type\" function of the concentrations (in $g/m^3$) of the four components ($S_{NH}$, $S_O$, $S_S$, and $X_{BH}$) involved in this process.\n",
    "\n",
    "How do I know this function takes concentrations instead of, let's say, mass flowrates as input? Answer is -- we can tell by looking at the units of the parameters, which are defined upon initiation of the `Process` object."
   ]
  },
  {
   "cell_type": "code",
   "execution_count": 18,
   "id": "0ce7b4df",
   "metadata": {},
   "outputs": [
    {
     "data": {
      "text/latex": [
       "$\\displaystyle \\frac{S_{NH} S_{O} S_{S} X_{BH} \\mu_{H}}{\\left(K_{NH} + S_{NH}\\right) \\left(K_{O H} + S_{O}\\right) \\left(K_{S} + S_{S}\\right)}$"
      ],
      "text/plain": [
       "S_NH*S_O*S_S*X_BH*mu_H/((K_NH + S_NH)*(K_O_H + S_O)*(K_S + S_S))"
      ]
     },
     "execution_count": 18,
     "metadata": {},
     "output_type": "execute_result"
    }
   ],
   "source": [
    "# If we access the private attribute\n",
    "p1._rate_equation"
   ]
  },
  {
   "cell_type": "markdown",
   "id": "1fe47073",
   "metadata": {},
   "source": [
    "This shows $\\mu_H$, $K_{NH}$, $K_{OH}$, and $K_S$ are parameters in this rate equation. Although the information on their units are not stored with the `Process` object, we can see their definitions in the documentation of the `ASM1` class."
   ]
  },
  {
   "cell_type": "code",
   "execution_count": 19,
   "id": "50b77ac8",
   "metadata": {},
   "outputs": [],
   "source": [
    "?ASM1"
   ]
  },
  {
   "cell_type": "markdown",
   "id": "c0edbd9d",
   "metadata": {},
   "source": [
    "Since $\\mu_H$ are defined in $d^{-1}$, and $K_{NH}$, $K_{OH}$, and $K_S$ in $g/m^3$, only when $S_{NH}$, $S_O$, $S_S$, and $X_{BH}$ are in $g/m^3$ can this rate equation output process rate in the correct unit (i.e., $d^{-1}$). This is defined by the mathematical formulation of ASM1. It is also common for biokinetic models to define state variables as component concentrations."
   ]
  },
  {
   "cell_type": "code",
   "execution_count": 20,
   "id": "0142f901",
   "metadata": {},
   "outputs": [
    {
     "data": {
      "text/plain": [
       "array([1., 1., 1., 1., 1., 1., 1., 1., 1., 1., 1., 1., 1., 1., 1., 1.])"
      ]
     },
     "execution_count": 20,
     "metadata": {},
     "output_type": "execute_result"
    }
   ],
   "source": [
    "# Now that we've understood the required input to the rate equation, we can try evaluating the\n",
    "# process rate. Let's try with all component concentrations equal to 1.\n",
    "import numpy as np\n",
    "state = np.ones(len(cmps)+1)\n",
    "state"
   ]
  },
  {
   "cell_type": "markdown",
   "id": "7639cee5",
   "metadata": {},
   "source": [
    "This is a numpy array with 15 elements. The first 14 elements are component concentrations in the exact same order as `cmps`, while the last element indicates volumetric flowrate $Q$. Although $Q$ is not used in process rate calculation, it is often an important state variable for the modeling of reactor-scale dynamics. Therefore, it is common for a lot of rate functions to ask for an array of length `len(cmps)+1` as input, but it is ultimately determined by how the rate function is coded."
   ]
  },
  {
   "cell_type": "code",
   "execution_count": 21,
   "id": "aceafb27",
   "metadata": {},
   "outputs": [
    {
     "data": {
      "text/plain": [
       "0.15151515151515152"
      ]
     },
     "execution_count": 21,
     "metadata": {},
     "output_type": "execute_result"
    }
   ],
   "source": [
    "# Note that the `rate_equation` attribute only stores the formula.\n",
    "# The evaluation of process rate is done through the `rate_function` attribute, which is rendered\n",
    "# automatically from the rate equation.\n",
    "p1.rate_function(state)"
   ]
  },
  {
   "cell_type": "markdown",
   "id": "b9fd6405",
   "metadata": {},
   "source": [
    "This result indicates that at the component concentrations and flowrate defined by the `state` array, this process happens at a rate of 0.152 $d^{-1}$ (approximately), which translates to a heterotrophic biomass growth rate of 0.152 $gCOD/m^{3}/d$.\n",
    "\n",
    ">**Note**: Both `stoichiometry` and `rate_equation` are properties of the `Process` object. Changing the formulas of stoichiometric coefficients or rate equation are prohibited after initiation of the object.\n",
    "\n",
    "As you may remember from the `ASM1` documentation and the `asm1.show()` printout above, parameters and/or dynamic parameters are also important attributes for a `Process` object because they represent intrinsic characteristics of the process and affect the evaluation of stoichiometry and process rate."
   ]
  },
  {
   "cell_type": "code",
   "execution_count": 22,
   "id": "62dc9537",
   "metadata": {},
   "outputs": [
    {
     "data": {
      "text/plain": [
       "{'Y_H': 0.67,\n",
       " 'Y_A': 0.24,\n",
       " 'f_P': 0.08,\n",
       " 'mu_H': 4.0,\n",
       " 'K_S': 10.0,\n",
       " 'K_O_H': 0.2,\n",
       " 'K_NO': 0.5,\n",
       " 'b_H': 0.3,\n",
       " 'mu_A': 0.5,\n",
       " 'K_NH': 1.0,\n",
       " 'K_O_A': 0.4,\n",
       " 'b_A': 0.05,\n",
       " 'eta_g': 0.8,\n",
       " 'k_a': 0.05,\n",
       " 'k_h': 3.0,\n",
       " 'K_X': 0.1,\n",
       " 'eta_h': 0.8}"
      ]
     },
     "execution_count": 22,
     "metadata": {},
     "output_type": "execute_result"
    }
   ],
   "source": [
    "# For `asm1` and the individual processes within `asm1`, parameters are stored as a dictionary\n",
    "p1.parameters\n",
    "# asm1.parameters\n",
    "# p1.parameters is asm1.parameters"
   ]
  },
  {
   "cell_type": "markdown",
   "id": "cd5798d1",
   "metadata": {},
   "source": [
    "You may notice `p1` and `asm1` share the dictionary of parameters, although not all parameters included in this dictionary are used in the stoichiometry or process rate calculations for `p1`. This is to make sure the parameter values are consistent across different processes in `asm1`."
   ]
  },
  {
   "cell_type": "code",
   "execution_count": 23,
   "id": "0ab063bf",
   "metadata": {},
   "outputs": [
    {
     "data": {
      "text/plain": [
       "{'Y_H': 0.8,\n",
       " 'Y_A': 0.24,\n",
       " 'f_P': 0.08,\n",
       " 'mu_H': 6.0,\n",
       " 'K_S': 8.0,\n",
       " 'K_O_H': 0.2,\n",
       " 'K_NO': 0.5,\n",
       " 'b_H': 0.3,\n",
       " 'mu_A': 0.5,\n",
       " 'K_NH': 1.0,\n",
       " 'K_O_A': 0.4,\n",
       " 'b_A': 0.05,\n",
       " 'eta_g': 0.8,\n",
       " 'k_a': 0.05,\n",
       " 'k_h': 3.0,\n",
       " 'K_X': 0.1,\n",
       " 'eta_h': 0.8}"
      ]
     },
     "execution_count": 23,
     "metadata": {},
     "output_type": "execute_result"
    }
   ],
   "source": [
    "# If you update parameter values for `p1`, the same parameters will be updated accordingly for\n",
    "# `asm1` and any other processes in `asm1`.\n",
    "p1.set_parameters(mu_H=6.0, K_S=8.0, Y_H=0.8)\n",
    "asm1.parameters"
   ]
  },
  {
   "cell_type": "code",
   "execution_count": 24,
   "id": "c69a557c",
   "metadata": {},
   "outputs": [
    {
     "data": {
      "text/plain": [
       "0.15151515151515152"
      ]
     },
     "execution_count": 24,
     "metadata": {},
     "output_type": "execute_result"
    }
   ],
   "source": [
    "# If you evaluate process rate or stoichiometry again with the same input, \n",
    "# you should now expect different output.\n",
    "# p1.stoichiometry\n",
    "p1.rate_function(state)"
   ]
  },
  {
   "cell_type": "markdown",
   "id": "9d4b20da",
   "metadata": {},
   "source": [
    "In addition to the attributes above, `conserved_for` is another useful attribute, expecially for biochemical processes. It dictates the conservation principles followed by the stoichiometric coefficients of the the process. "
   ]
  },
  {
   "cell_type": "code",
   "execution_count": 25,
   "id": "b7115278",
   "metadata": {},
   "outputs": [
    {
     "data": {
      "text/plain": [
       "('COD', 'charge', 'N')"
      ]
     },
     "execution_count": 25,
     "metadata": {},
     "output_type": "execute_result"
    }
   ],
   "source": [
    "p1.conserved_for"
   ]
  },
  {
   "cell_type": "markdown",
   "id": "e62602b2",
   "metadata": {},
   "source": [
    "We can see `p1` is subject to conservations of COD, N, and electric charge, as defined by ASM1. This information is useful for automatic derivation of unknown stoichiometric coefficients upon initiation of the `Process` object. If numerical values are provided for all stoichiometric coefficients when creating the `Process` object, this information can then be used by `check_conservation` to check if these values satisfy the conservation principles."
   ]
  },
  {
   "cell_type": "code",
   "execution_count": 26,
   "id": "772e7e78",
   "metadata": {},
   "outputs": [],
   "source": [
    "# No return indicates that all materials in `conserved_for` are conserved.\n",
    "# Otherwise, a warning or a `RuntimeError` will be raised.\n",
    "p1.check_conservation()"
   ]
  },
  {
   "cell_type": "markdown",
   "id": "d636d9be",
   "metadata": {},
   "source": [
    "You may have noticed `p1`'s \"dynamic parameters\" is empty. This is because all of the parameters for the calculation of stoichiometric coefficients are static values, i.e., they don't change during simulation. If a process's stoichiometric coefficient is a function of time or other state variables but doesn't have a nice and simple mathematical form, we can create a `DynamicParameter` object and add it to the process. We will learn how to do that in [section 3](#s3).\n",
    "\n",
    "[Back to top](#top)"
   ]
  },
  {
   "cell_type": "markdown",
   "id": "1b9a5fd8",
   "metadata": {},
   "source": [
    "### 1.3. `Processes` and `CompiledProcesses`\n",
    "It is more often than not you're working with more than one dynamic process, which often makes it impossible to derive an analytical solution to the dynamics or the steady state of the system. This is when `Processes` and `CompiledProcesses` come in handy.\n",
    "\n",
    "As is mentioned above, `Processes` is simply a collection of multiple `Process` objects. Compiling a `Processes` object yields a `CompiledProcesses` object. Note that `CompiledProcesses` is also a subclass of `Processes`, i.e., it has all of `Processes`'s attributes and more."
   ]
  },
  {
   "cell_type": "code",
   "execution_count": 27,
   "id": "b5bde6b2",
   "metadata": {},
   "outputs": [
    {
     "data": {
      "text/plain": [
       "(qsdsan._process.Processes,)"
      ]
     },
     "execution_count": 27,
     "metadata": {},
     "output_type": "execute_result"
    }
   ],
   "source": [
    "qs.CompiledProcesses.__bases__"
   ]
  },
  {
   "cell_type": "markdown",
   "id": "ce2eb558",
   "metadata": {},
   "source": [
    "We know that `ASM1` is a subclass of `CompiledProcesses`, which makes `asm1` an instance of `CompiledProcesses`."
   ]
  },
  {
   "cell_type": "code",
   "execution_count": 28,
   "id": "3ee5e0dd",
   "metadata": {},
   "outputs": [
    {
     "data": {
      "text/plain": [
       "True"
      ]
     },
     "execution_count": 28,
     "metadata": {},
     "output_type": "execute_result"
    }
   ],
   "source": [
    "# Let's verify that\n",
    "isinstance(asm1, qs.CompiledProcesses)"
   ]
  },
  {
   "cell_type": "markdown",
   "id": "d16e19f5",
   "metadata": {},
   "source": [
    "So, is there a way to \"decompile\" a `CompiledProcesses` object? Yes!"
   ]
  },
  {
   "cell_type": "code",
   "execution_count": 29,
   "id": "9f6ae9b6",
   "metadata": {},
   "outputs": [
    {
     "name": "stdout",
     "output_type": "stream",
     "text": [
      "Processes([aero_growth_hetero, anox_growth_hetero, aero_growth_auto, decay_hetero, decay_auto, ammonification, hydrolysis, hydrolysis_N])\n"
     ]
    }
   ],
   "source": [
    "asm1 = qs.Processes(asm1.tuple)\n",
    "asm1.show()"
   ]
  },
  {
   "cell_type": "code",
   "execution_count": 30,
   "id": "3b1e8036",
   "metadata": {
    "scrolled": true
   },
   "outputs": [
    {
     "data": {
      "text/plain": [
       "{'aero_growth_hetero': <qsdsan._process.Process at 0x172ae2d35b0>,\n",
       " 'anox_growth_hetero': <qsdsan._process.Process at 0x172bf533430>,\n",
       " 'aero_growth_auto': <qsdsan._process.Process at 0x172bf553670>,\n",
       " 'decay_hetero': <qsdsan._process.Process at 0x172bf51bf70>,\n",
       " 'decay_auto': <qsdsan._process.Process at 0x172bf57a400>,\n",
       " 'ammonification': <qsdsan._process.Process at 0x172bf62d970>,\n",
       " 'hydrolysis': <qsdsan._process.Process at 0x172bf533850>,\n",
       " 'hydrolysis_N': <qsdsan._process.Process at 0x172bf5dcfd0>}"
      ]
     },
     "execution_count": 30,
     "metadata": {},
     "output_type": "execute_result"
    }
   ],
   "source": [
    "# Let's see what difference \"decompiling\" made\n",
    "asm1.__dict__"
   ]
  },
  {
   "cell_type": "markdown",
   "id": "9174ba4e",
   "metadata": {},
   "source": [
    "This shows that a `Processes` object only stores individual `Process` objects as its attributes."
   ]
  },
  {
   "cell_type": "code",
   "execution_count": 31,
   "id": "48443f1d",
   "metadata": {
    "scrolled": true
   },
   "outputs": [
    {
     "data": {
      "text/plain": [
       "{'aero_growth_hetero': <qsdsan._process.Process at 0x172ae2d35b0>,\n",
       " 'anox_growth_hetero': <qsdsan._process.Process at 0x172bf533430>,\n",
       " 'aero_growth_auto': <qsdsan._process.Process at 0x172bf553670>,\n",
       " 'decay_hetero': <qsdsan._process.Process at 0x172bf51bf70>,\n",
       " 'decay_auto': <qsdsan._process.Process at 0x172bf57a400>,\n",
       " 'ammonification': <qsdsan._process.Process at 0x172bf62d970>,\n",
       " 'hydrolysis': <qsdsan._process.Process at 0x172bf533850>,\n",
       " 'hydrolysis_N': <qsdsan._process.Process at 0x172bf5dcfd0>,\n",
       " 'tuple': (<qsdsan._process.Process at 0x172ae2d35b0>,\n",
       "  <qsdsan._process.Process at 0x172bf533430>,\n",
       "  <qsdsan._process.Process at 0x172bf553670>,\n",
       "  <qsdsan._process.Process at 0x172bf51bf70>,\n",
       "  <qsdsan._process.Process at 0x172bf57a400>,\n",
       "  <qsdsan._process.Process at 0x172bf62d970>,\n",
       "  <qsdsan._process.Process at 0x172bf533850>,\n",
       "  <qsdsan._process.Process at 0x172bf5dcfd0>),\n",
       " 'size': 8,\n",
       " 'IDs': ('aero_growth_hetero',\n",
       "  'anox_growth_hetero',\n",
       "  'aero_growth_auto',\n",
       "  'decay_hetero',\n",
       "  'decay_auto',\n",
       "  'ammonification',\n",
       "  'hydrolysis',\n",
       "  'hydrolysis_N'),\n",
       " '_index': {'aero_growth_hetero': 0,\n",
       "  'anox_growth_hetero': 1,\n",
       "  'aero_growth_auto': 2,\n",
       "  'decay_hetero': 3,\n",
       "  'decay_auto': 4,\n",
       "  'ammonification': 5,\n",
       "  'hydrolysis': 6,\n",
       "  'hydrolysis_N': 7},\n",
       " '_components': CompiledComponents([S_I, S_S, X_I, X_S, X_BH, X_BA, X_P, S_O, S_NO, S_NH, S_ND, X_ND, S_ALK, S_N2, H2O]),\n",
       " '_parameters': {'Y_H': 0.8,\n",
       "  'Y_A': 0.24,\n",
       "  'f_P': 0.08,\n",
       "  'mu_H': 6.0,\n",
       "  'K_S': 8.0,\n",
       "  'K_O_H': 0.2,\n",
       "  'K_NO': 0.5,\n",
       "  'b_H': 0.3,\n",
       "  'mu_A': 0.5,\n",
       "  'K_NH': 1.0,\n",
       "  'K_O_A': 0.4,\n",
       "  'b_A': 0.05,\n",
       "  'eta_g': 0.8,\n",
       "  'k_a': 0.05,\n",
       "  'k_h': 3.0,\n",
       "  'K_X': 0.1,\n",
       "  'eta_h': 0.8},\n",
       " '_dyn_params': {},\n",
       " '_stoichiometry': [[0,\n",
       "   -1.25000000000000,\n",
       "   0,\n",
       "   0,\n",
       "   1.00000000000000,\n",
       "   0,\n",
       "   0,\n",
       "   -0.250000000000000,\n",
       "   0,\n",
       "   -0.0800000000000000,\n",
       "   0,\n",
       "   0,\n",
       "   0,\n",
       "   0,\n",
       "   0],\n",
       "  [0,\n",
       "   -1.25000000000000,\n",
       "   0,\n",
       "   0,\n",
       "   1.00000000000000,\n",
       "   0,\n",
       "   0,\n",
       "   0,\n",
       "   -0.0875000000000000,\n",
       "   -0.0800000000000001,\n",
       "   0,\n",
       "   0,\n",
       "   0.0750309673227811,\n",
       "   0.0875000000000000,\n",
       "   0],\n",
       "  [0,\n",
       "   0,\n",
       "   0,\n",
       "   0,\n",
       "   0,\n",
       "   1.00000000000000,\n",
       "   0,\n",
       "   -18.0476190476190,\n",
       "   4.16666666666667,\n",
       "   -4.24666666666667,\n",
       "   0,\n",
       "   0,\n",
       "   -3.57290320584672,\n",
       "   0,\n",
       "   0],\n",
       "  [0,\n",
       "   0,\n",
       "   0,\n",
       "   0.920000000000000,\n",
       "   -1.00000000000000,\n",
       "   0,\n",
       "   0.0800000000000000,\n",
       "   0,\n",
       "   0,\n",
       "   0,\n",
       "   0,\n",
       "   0.0752000000000000,\n",
       "   0,\n",
       "   0,\n",
       "   0],\n",
       "  [0,\n",
       "   0,\n",
       "   0,\n",
       "   0.920000000000000,\n",
       "   0,\n",
       "   -1.00000000000000,\n",
       "   0.0800000000000000,\n",
       "   0,\n",
       "   0,\n",
       "   0,\n",
       "   0,\n",
       "   0.0752000000000000,\n",
       "   0,\n",
       "   0,\n",
       "   0],\n",
       "  [0, 0, 0, 0, 0, 0, 0, 0, 0, 1.00000000000000, -1.00000000000000, 0, 0, 0, 0],\n",
       "  [0, 1.0, 0, -1.0, 0, 0, 0, 0, 0, 0, 0, 0, 0, 0, 0],\n",
       "  [0, 0, 0, 0, 0, 0, 0, 0, 0, 0, 1.0, -1.0, 0, 0, 0]],\n",
       " '_stoichio_lambdified': None,\n",
       " '_rate_equations': (S_NH*S_O*S_S*X_BH*mu_H/((K_NH + S_NH)*(K_O_H + S_O)*(K_S + S_S)),\n",
       "  K_O_H*S_NH*S_NO*S_S*X_BH*eta_g*mu_H/((K_NH + S_NH)*(K_NO + S_NO)*(K_O_H + S_O)*(K_S + S_S)),\n",
       "  S_NH*S_O*X_BA*mu_A/((K_NH + S_NH)*(K_O_A + S_O)),\n",
       "  X_BH*b_H,\n",
       "  X_BA*b_A,\n",
       "  S_ND*X_BH*k_a,\n",
       "  X_BH*X_S*k_h*(K_O_H*S_NO*eta_h/((K_NO + S_NO)*(K_O_H + S_O)) + S_O/(K_O_H + S_O))/(K_X*X_BH + X_S),\n",
       "  X_BH*X_ND*k_h*(K_O_H*S_NO*eta_h/((K_NO + S_NO)*(K_O_H + S_O)) + S_O/(K_O_H + S_O))/(K_X*X_BH + X_S)),\n",
       " '_production_rates': [0,\n",
       "  -1.25*K_O_H*S_NH*S_NO*S_S*X_BH*eta_g*mu_H/((K_NH + S_NH)*(K_NO + S_NO)*(K_O_H + S_O)*(K_S + S_S)) - 1.25*S_NH*S_O*S_S*X_BH*mu_H/((K_NH + S_NH)*(K_O_H + S_O)*(K_S + S_S)) + 1.0*X_BH*X_S*k_h*(K_O_H*S_NO*eta_h/((K_NO + S_NO)*(K_O_H + S_O)) + S_O/(K_O_H + S_O))/(K_X*X_BH + X_S),\n",
       "  0,\n",
       "  0.92*X_BA*b_A - 1.0*X_BH*X_S*k_h*(K_O_H*S_NO*eta_h/((K_NO + S_NO)*(K_O_H + S_O)) + S_O/(K_O_H + S_O))/(K_X*X_BH + X_S) + 0.92*X_BH*b_H,\n",
       "  1.0*K_O_H*S_NH*S_NO*S_S*X_BH*eta_g*mu_H/((K_NH + S_NH)*(K_NO + S_NO)*(K_O_H + S_O)*(K_S + S_S)) + 1.0*S_NH*S_O*S_S*X_BH*mu_H/((K_NH + S_NH)*(K_O_H + S_O)*(K_S + S_S)) - 1.0*X_BH*b_H,\n",
       "  1.0*S_NH*S_O*X_BA*mu_A/((K_NH + S_NH)*(K_O_A + S_O)) - 1.0*X_BA*b_A,\n",
       "  0.08*X_BA*b_A + 0.08*X_BH*b_H,\n",
       "  -0.25*S_NH*S_O*S_S*X_BH*mu_H/((K_NH + S_NH)*(K_O_H + S_O)*(K_S + S_S)) - 18.047619047619*S_NH*S_O*X_BA*mu_A/((K_NH + S_NH)*(K_O_A + S_O)),\n",
       "  -0.0875*K_O_H*S_NH*S_NO*S_S*X_BH*eta_g*mu_H/((K_NH + S_NH)*(K_NO + S_NO)*(K_O_H + S_O)*(K_S + S_S)) + 4.16666666666667*S_NH*S_O*X_BA*mu_A/((K_NH + S_NH)*(K_O_A + S_O)),\n",
       "  -0.0800000000000001*K_O_H*S_NH*S_NO*S_S*X_BH*eta_g*mu_H/((K_NH + S_NH)*(K_NO + S_NO)*(K_O_H + S_O)*(K_S + S_S)) + 1.0*S_ND*X_BH*k_a - 0.08*S_NH*S_O*S_S*X_BH*mu_H/((K_NH + S_NH)*(K_O_H + S_O)*(K_S + S_S)) - 4.24666666666667*S_NH*S_O*X_BA*mu_A/((K_NH + S_NH)*(K_O_A + S_O)),\n",
       "  -1.0*S_ND*X_BH*k_a + 1.0*X_BH*X_ND*k_h*(K_O_H*S_NO*eta_h/((K_NO + S_NO)*(K_O_H + S_O)) + S_O/(K_O_H + S_O))/(K_X*X_BH + X_S),\n",
       "  0.0752*X_BA*b_A - 1.0*X_BH*X_ND*k_h*(K_O_H*S_NO*eta_h/((K_NO + S_NO)*(K_O_H + S_O)) + S_O/(K_O_H + S_O))/(K_X*X_BH + X_S) + 0.0752*X_BH*b_H,\n",
       "  0.0750309673227811*K_O_H*S_NH*S_NO*S_S*X_BH*eta_g*mu_H/((K_NH + S_NH)*(K_NO + S_NO)*(K_O_H + S_O)*(K_S + S_S)) - 3.57290320584672*S_NH*S_O*X_BA*mu_A/((K_NH + S_NH)*(K_O_A + S_O)),\n",
       "  0.0875*K_O_H*S_NH*S_NO*S_S*X_BH*eta_g*mu_H/((K_NH + S_NH)*(K_NO + S_NO)*(K_O_H + S_O)*(K_S + S_S)),\n",
       "  0],\n",
       " '_rate_function': None}"
      ]
     },
     "execution_count": 31,
     "metadata": {},
     "output_type": "execute_result"
    }
   ],
   "source": [
    "asm1.compile()\n",
    "asm1.__dict__"
   ]
  },
  {
   "cell_type": "markdown",
   "id": "a304d82e",
   "metadata": {},
   "source": [
    "In comparison, a `CompiledProcesses` object has many more attributes that are convenient for the application of dynamic process models, although no additional information was provided for `compile`."
   ]
  },
  {
   "cell_type": "code",
   "execution_count": 32,
   "id": "027cbd6b",
   "metadata": {},
   "outputs": [
    {
     "data": {
      "text/html": [
       "<div>\n",
       "<style scoped>\n",
       "    .dataframe tbody tr th:only-of-type {\n",
       "        vertical-align: middle;\n",
       "    }\n",
       "\n",
       "    .dataframe tbody tr th {\n",
       "        vertical-align: top;\n",
       "    }\n",
       "\n",
       "    .dataframe thead th {\n",
       "        text-align: right;\n",
       "    }\n",
       "</style>\n",
       "<table border=\"1\" class=\"dataframe\">\n",
       "  <thead>\n",
       "    <tr style=\"text-align: right;\">\n",
       "      <th></th>\n",
       "      <th>S_I</th>\n",
       "      <th>S_S</th>\n",
       "      <th>X_I</th>\n",
       "      <th>X_S</th>\n",
       "      <th>X_BH</th>\n",
       "      <th>...</th>\n",
       "      <th>S_ND</th>\n",
       "      <th>X_ND</th>\n",
       "      <th>S_ALK</th>\n",
       "      <th>S_N2</th>\n",
       "      <th>H2O</th>\n",
       "    </tr>\n",
       "  </thead>\n",
       "  <tbody>\n",
       "    <tr>\n",
       "      <th>aero_growth_hetero</th>\n",
       "      <td>0</td>\n",
       "      <td>-1.25</td>\n",
       "      <td>0</td>\n",
       "      <td>0</td>\n",
       "      <td>1</td>\n",
       "      <td>...</td>\n",
       "      <td>0</td>\n",
       "      <td>0</td>\n",
       "      <td>0</td>\n",
       "      <td>0</td>\n",
       "      <td>0</td>\n",
       "    </tr>\n",
       "    <tr>\n",
       "      <th>anox_growth_hetero</th>\n",
       "      <td>0</td>\n",
       "      <td>-1.25</td>\n",
       "      <td>0</td>\n",
       "      <td>0</td>\n",
       "      <td>1</td>\n",
       "      <td>...</td>\n",
       "      <td>0</td>\n",
       "      <td>0</td>\n",
       "      <td>0.075</td>\n",
       "      <td>0.0875</td>\n",
       "      <td>0</td>\n",
       "    </tr>\n",
       "    <tr>\n",
       "      <th>aero_growth_auto</th>\n",
       "      <td>0</td>\n",
       "      <td>0</td>\n",
       "      <td>0</td>\n",
       "      <td>0</td>\n",
       "      <td>0</td>\n",
       "      <td>...</td>\n",
       "      <td>0</td>\n",
       "      <td>0</td>\n",
       "      <td>-3.57</td>\n",
       "      <td>0</td>\n",
       "      <td>0</td>\n",
       "    </tr>\n",
       "    <tr>\n",
       "      <th>decay_hetero</th>\n",
       "      <td>0</td>\n",
       "      <td>0</td>\n",
       "      <td>0</td>\n",
       "      <td>0.92</td>\n",
       "      <td>-1</td>\n",
       "      <td>...</td>\n",
       "      <td>0</td>\n",
       "      <td>0.0752</td>\n",
       "      <td>0</td>\n",
       "      <td>0</td>\n",
       "      <td>0</td>\n",
       "    </tr>\n",
       "    <tr>\n",
       "      <th>decay_auto</th>\n",
       "      <td>0</td>\n",
       "      <td>0</td>\n",
       "      <td>0</td>\n",
       "      <td>0.92</td>\n",
       "      <td>0</td>\n",
       "      <td>...</td>\n",
       "      <td>0</td>\n",
       "      <td>0.0752</td>\n",
       "      <td>0</td>\n",
       "      <td>0</td>\n",
       "      <td>0</td>\n",
       "    </tr>\n",
       "    <tr>\n",
       "      <th>ammonification</th>\n",
       "      <td>0</td>\n",
       "      <td>0</td>\n",
       "      <td>0</td>\n",
       "      <td>0</td>\n",
       "      <td>0</td>\n",
       "      <td>...</td>\n",
       "      <td>-1</td>\n",
       "      <td>0</td>\n",
       "      <td>0</td>\n",
       "      <td>0</td>\n",
       "      <td>0</td>\n",
       "    </tr>\n",
       "    <tr>\n",
       "      <th>hydrolysis</th>\n",
       "      <td>0</td>\n",
       "      <td>1</td>\n",
       "      <td>0</td>\n",
       "      <td>-1</td>\n",
       "      <td>0</td>\n",
       "      <td>...</td>\n",
       "      <td>0</td>\n",
       "      <td>0</td>\n",
       "      <td>0</td>\n",
       "      <td>0</td>\n",
       "      <td>0</td>\n",
       "    </tr>\n",
       "    <tr>\n",
       "      <th>hydrolysis_N</th>\n",
       "      <td>0</td>\n",
       "      <td>0</td>\n",
       "      <td>0</td>\n",
       "      <td>0</td>\n",
       "      <td>0</td>\n",
       "      <td>...</td>\n",
       "      <td>1</td>\n",
       "      <td>-1</td>\n",
       "      <td>0</td>\n",
       "      <td>0</td>\n",
       "      <td>0</td>\n",
       "    </tr>\n",
       "  </tbody>\n",
       "</table>\n",
       "<p>8 rows × 15 columns</p>\n",
       "</div>"
      ],
      "text/plain": [
       "                    S_I   S_S  X_I  X_S  X_BH  ...  S_ND   X_ND  S_ALK   S_N2  \\\n",
       "aero_growth_hetero    0 -1.25    0    0     1  ...     0      0      0      0   \n",
       "anox_growth_hetero    0 -1.25    0    0     1  ...     0      0  0.075 0.0875   \n",
       "aero_growth_auto      0     0    0    0     0  ...     0      0  -3.57      0   \n",
       "decay_hetero          0     0    0 0.92    -1  ...     0 0.0752      0      0   \n",
       "decay_auto            0     0    0 0.92     0  ...     0 0.0752      0      0   \n",
       "ammonification        0     0    0    0     0  ...    -1      0      0      0   \n",
       "hydrolysis            0     1    0   -1     0  ...     0      0      0      0   \n",
       "hydrolysis_N          0     0    0    0     0  ...     1     -1      0      0   \n",
       "\n",
       "                    H2O  \n",
       "aero_growth_hetero    0  \n",
       "anox_growth_hetero    0  \n",
       "aero_growth_auto      0  \n",
       "decay_hetero          0  \n",
       "decay_auto            0  \n",
       "ammonification        0  \n",
       "hydrolysis            0  \n",
       "hydrolysis_N          0  \n",
       "\n",
       "[8 rows x 15 columns]"
      ]
     },
     "execution_count": 32,
     "metadata": {},
     "output_type": "execute_result"
    }
   ],
   "source": [
    "# For example, the stoichiometric coefficients of all processes are compiled into a table that\n",
    "# is in consistent format as a Petersen matrix\n",
    "asm1.stoichiometry"
   ]
  },
  {
   "cell_type": "code",
   "execution_count": 33,
   "id": "18541f64",
   "metadata": {},
   "outputs": [
    {
     "data": {
      "text/html": [
       "<div>\n",
       "<style scoped>\n",
       "    .dataframe tbody tr th:only-of-type {\n",
       "        vertical-align: middle;\n",
       "    }\n",
       "\n",
       "    .dataframe tbody tr th {\n",
       "        vertical-align: top;\n",
       "    }\n",
       "\n",
       "    .dataframe thead th {\n",
       "        text-align: right;\n",
       "    }\n",
       "</style>\n",
       "<table border=\"1\" class=\"dataframe\">\n",
       "  <thead>\n",
       "    <tr style=\"text-align: right;\">\n",
       "      <th></th>\n",
       "      <th>rate_equation</th>\n",
       "    </tr>\n",
       "  </thead>\n",
       "  <tbody>\n",
       "    <tr>\n",
       "      <th>aero_growth_hetero</th>\n",
       "      <td>6.0*S_NH*S_O*S_S*X_BH/((S_NH + ...</td>\n",
       "    </tr>\n",
       "    <tr>\n",
       "      <th>anox_growth_hetero</th>\n",
       "      <td>0.96*S_NH*S_NO*S_S*X_BH/((S_NH ...</td>\n",
       "    </tr>\n",
       "    <tr>\n",
       "      <th>aero_growth_auto</th>\n",
       "      <td>0.5*S_NH*S_O*X_BA/((S_NH + 1.0)...</td>\n",
       "    </tr>\n",
       "    <tr>\n",
       "      <th>decay_hetero</th>\n",
       "      <td>0.3*X_BH</td>\n",
       "    </tr>\n",
       "    <tr>\n",
       "      <th>decay_auto</th>\n",
       "      <td>0.05*X_BA</td>\n",
       "    </tr>\n",
       "    <tr>\n",
       "      <th>ammonification</th>\n",
       "      <td>0.05*S_ND*X_BH</td>\n",
       "    </tr>\n",
       "    <tr>\n",
       "      <th>hydrolysis</th>\n",
       "      <td>3.0*X_BH*X_S*(0.16*S_NO/((S_NO ...</td>\n",
       "    </tr>\n",
       "    <tr>\n",
       "      <th>hydrolysis_N</th>\n",
       "      <td>3.0*X_BH*X_ND*(0.16*S_NO/((S_NO...</td>\n",
       "    </tr>\n",
       "  </tbody>\n",
       "</table>\n",
       "</div>"
      ],
      "text/plain": [
       "                                         rate_equation\n",
       "aero_growth_hetero  6.0*S_NH*S_O*S_S*X_BH/((S_NH + ...\n",
       "anox_growth_hetero  0.96*S_NH*S_NO*S_S*X_BH/((S_NH ...\n",
       "aero_growth_auto    0.5*S_NH*S_O*X_BA/((S_NH + 1.0)...\n",
       "decay_hetero                                  0.3*X_BH\n",
       "decay_auto                                   0.05*X_BA\n",
       "ammonification                          0.05*S_ND*X_BH\n",
       "hydrolysis          3.0*X_BH*X_S*(0.16*S_NO/((S_NO ...\n",
       "hydrolysis_N        3.0*X_BH*X_ND*(0.16*S_NO/((S_NO..."
      ]
     },
     "execution_count": 33,
     "metadata": {},
     "output_type": "execute_result"
    }
   ],
   "source": [
    "# Similarly for the rate equations\n",
    "asm1.rate_equations"
   ]
  },
  {
   "cell_type": "code",
   "execution_count": 34,
   "id": "a872533e",
   "metadata": {},
   "outputs": [
    {
     "data": {
      "text/plain": [
       "array([0.152, 0.03 , 0.179, 0.3  , 0.05 , 0.05 , 2.515, 2.515])"
      ]
     },
     "execution_count": 34,
     "metadata": {},
     "output_type": "execute_result"
    }
   ],
   "source": [
    "# More importantly, the `rate_function` attribute of a `CompiledProcesses` now outputs an array\n",
    "# with each element corresponding orderly to the individual processes\n",
    "asm1.rate_function(state)"
   ]
  },
  {
   "cell_type": "markdown",
   "id": "75516266",
   "metadata": {},
   "source": [
    "With this, the evaluation of all process rates can be done with one command and the output data type is convenient for matrix operations.\n",
    "\n",
    "To calculate the overall rate of production for a component, we need to first estimate its rates of production (positive means being produced, negative means being consumed) by each process and then sum them up. In mathematical forms, let's say $a_{ij}$ represents the stoichiometric coefficient of component $j$ in process $i$ (i.e., value on the $i$th row and $j$th column of the stoichiometry matrix). Denote $\\rho_i$ as process $i$'s reaction rate, now the overall production rate of component $j$ should be\n",
    "\n",
    "$$r_j = \\sum_i{a_{ij}\\cdot\\rho_i}$$\n",
    "\n",
    "In matrix notation, this calculation can be neatly described as\n",
    "\n",
    "$$\\mathbf{r} = \\mathbf{A^T} \\mathbf{\\rho}$$\n",
    "\n",
    "where $\\mathbf{A}$ is the stoichiometry matrix and $\\mathbf{\\rho}$ is the array of process rates."
   ]
  },
  {
   "cell_type": "code",
   "execution_count": 35,
   "id": "81541f71",
   "metadata": {},
   "outputs": [
    {
     "data": {
      "text/html": [
       "<div>\n",
       "<style scoped>\n",
       "    .dataframe tbody tr th:only-of-type {\n",
       "        vertical-align: middle;\n",
       "    }\n",
       "\n",
       "    .dataframe tbody tr th {\n",
       "        vertical-align: top;\n",
       "    }\n",
       "\n",
       "    .dataframe thead th {\n",
       "        text-align: right;\n",
       "    }\n",
       "</style>\n",
       "<table border=\"1\" class=\"dataframe\">\n",
       "  <thead>\n",
       "    <tr style=\"text-align: right;\">\n",
       "      <th></th>\n",
       "      <th>rate_of_production</th>\n",
       "    </tr>\n",
       "  </thead>\n",
       "  <tbody>\n",
       "    <tr>\n",
       "      <th>S_I</th>\n",
       "      <td>0</td>\n",
       "    </tr>\n",
       "    <tr>\n",
       "      <th>S_S</th>\n",
       "      <td>-1.2*S_NH*S_NO*S_S*X_BH/((S_NH ...</td>\n",
       "    </tr>\n",
       "    <tr>\n",
       "      <th>X_I</th>\n",
       "      <td>0</td>\n",
       "    </tr>\n",
       "    <tr>\n",
       "      <th>X_S</th>\n",
       "      <td>0.046*X_BA - 3.0*X_BH*X_S*(0.16...</td>\n",
       "    </tr>\n",
       "    <tr>\n",
       "      <th>X_BH</th>\n",
       "      <td>0.96*S_NH*S_NO*S_S*X_BH/((S_NH ...</td>\n",
       "    </tr>\n",
       "    <tr>\n",
       "      <th>X_BA</th>\n",
       "      <td>0.5*S_NH*S_O*X_BA/((S_NH + 1.0)...</td>\n",
       "    </tr>\n",
       "    <tr>\n",
       "      <th>X_P</th>\n",
       "      <td>0.004*X_BA + 0.024*X_BH</td>\n",
       "    </tr>\n",
       "    <tr>\n",
       "      <th>S_O</th>\n",
       "      <td>-1.5*S_NH*S_O*S_S*X_BH/((S_NH +...</td>\n",
       "    </tr>\n",
       "    <tr>\n",
       "      <th>S_NO</th>\n",
       "      <td>-0.084*S_NH*S_NO*S_S*X_BH/((S_N...</td>\n",
       "    </tr>\n",
       "    <tr>\n",
       "      <th>S_NH</th>\n",
       "      <td>0.05*S_ND*X_BH - 0.076800000000...</td>\n",
       "    </tr>\n",
       "    <tr>\n",
       "      <th>S_ND</th>\n",
       "      <td>-0.05*S_ND*X_BH + 3.0*X_BH*X_ND...</td>\n",
       "    </tr>\n",
       "    <tr>\n",
       "      <th>X_ND</th>\n",
       "      <td>0.00376*X_BA - 3.0*X_BH*X_ND*(0...</td>\n",
       "    </tr>\n",
       "    <tr>\n",
       "      <th>S_ALK</th>\n",
       "      <td>0.0720297286298698*S_NH*S_NO*S_...</td>\n",
       "    </tr>\n",
       "    <tr>\n",
       "      <th>S_N2</th>\n",
       "      <td>0.084*S_NH*S_NO*S_S*X_BH/((S_NH...</td>\n",
       "    </tr>\n",
       "    <tr>\n",
       "      <th>H2O</th>\n",
       "      <td>0</td>\n",
       "    </tr>\n",
       "  </tbody>\n",
       "</table>\n",
       "</div>"
      ],
      "text/plain": [
       "                       rate_of_production\n",
       "S_I                                     0\n",
       "S_S    -1.2*S_NH*S_NO*S_S*X_BH/((S_NH ...\n",
       "X_I                                     0\n",
       "X_S    0.046*X_BA - 3.0*X_BH*X_S*(0.16...\n",
       "X_BH   0.96*S_NH*S_NO*S_S*X_BH/((S_NH ...\n",
       "X_BA   0.5*S_NH*S_O*X_BA/((S_NH + 1.0)...\n",
       "X_P               0.004*X_BA + 0.024*X_BH\n",
       "S_O    -1.5*S_NH*S_O*S_S*X_BH/((S_NH +...\n",
       "S_NO   -0.084*S_NH*S_NO*S_S*X_BH/((S_N...\n",
       "S_NH   0.05*S_ND*X_BH - 0.076800000000...\n",
       "S_ND   -0.05*S_ND*X_BH + 3.0*X_BH*X_ND...\n",
       "X_ND   0.00376*X_BA - 3.0*X_BH*X_ND*(0...\n",
       "S_ALK  0.0720297286298698*S_NH*S_NO*S_...\n",
       "S_N2   0.084*S_NH*S_NO*S_S*X_BH/((S_NH...\n",
       "H2O                                     0"
      ]
     },
     "execution_count": 35,
     "metadata": {},
     "output_type": "execute_result"
    }
   ],
   "source": [
    "# This matrix operation is already streamlined for `CompiledProcesses` objects, you can see the \n",
    "# mathematical form of the rates of production as a function of component concentrations.\n",
    "asm1.production_rates"
   ]
  },
  {
   "cell_type": "code",
   "execution_count": 36,
   "id": "b508e20f",
   "metadata": {},
   "outputs": [
    {
     "data": {
      "text/plain": [
       "array([ 0.000e+00,  2.289e+00,  0.000e+00, -2.193e+00, -1.189e-01,\n",
       "        1.286e-01,  2.800e-02, -3.261e+00,  7.415e-01, -7.228e-01,\n",
       "        2.465e+00, -2.489e+00, -6.358e-01,  2.593e-03,  0.000e+00])"
      ]
     },
     "execution_count": 36,
     "metadata": {},
     "output_type": "execute_result"
    }
   ],
   "source": [
    "# To evaluate the rates of production for all components, all you need to\n",
    "# do is to call the `production_rates_eval` method.\n",
    "asm1.production_rates_eval(state)"
   ]
  },
  {
   "cell_type": "markdown",
   "id": "d83291b1",
   "metadata": {},
   "source": [
    "With these convenient evaluation methods, `asm1` can now be used in `SanUnit` to model system dynamics (e.g., reactor effluent concentrations over time). We will introduce how to integrate process models with `SanUnit` subclasses and how to enable dynamic simulations in a separate tutorial.\n",
    "\n",
    "[Back to top](#top)"
   ]
  },
  {
   "cell_type": "markdown",
   "id": "ce48aa2e",
   "metadata": {},
   "source": [
    "## 2. Making a simple biokinetic model <a class=\"anchor\" id=\"s2\"></a>\n",
    "Congratulations! You've understood the structure and the core capacities of the `_process` module. 🎉 \n",
    "\n",
    "In this section, we will get some hands-on experience with the `_process` module. For demonstration purpose, we will implement a simple biokinetic model with the classes we learned in the [previous section](#s1). It's even better if you have your own mathematical model of dynamic processes in mind.\n",
    "\n",
    "Let's get started with defining the mathematical model.\n",
    "\n",
    "---"
   ]
  },
  {
   "cell_type": "markdown",
   "id": "b6a928f2",
   "metadata": {},
   "source": [
    "### The model <a class=\"anchor\" id=\"bkm\"></a>\n",
    "Let's consider a simplified activated sludge system with 5 components besides water: \n",
    "- particulate organic substrate ($X_S$, measured as COD)\n",
    "- soluble organic substrate ($S_S$, measured as COD)\n",
    "- dissolved oxygen ($O_2$, measured as itself)\n",
    "- dissolved CO2 ($CO_2$, measured as C)\n",
    "- biomass ($X_B$, measured as COD)\n",
    "\n",
    "This model uses 3 dynamic processes to describe the transformations among the components:\n",
    "1. Hydrolysis (i.e., $X_S$ transforming into $S_S$)\n",
    "2. Growth of biomass (i.e., $X_B$ utilizing $S_S$ and $O_2$ to grow)\n",
    "3. Decay of biomass (i.e., $X_B$ dying and transforming into $X_S$)\n",
    "\n",
    "To mathematically characterize these processes, we need to define the stoichiometry and the process rate equation of each process. Let's say, for process 1 and 3:\n",
    "$$X_S \\Rightarrow S_S,~~\\rho_1 = k_{hyd}X_S$$\n",
    "$$X_B \\Rightarrow X_S,~~\\rho_3 = b\\cdot X_B$$\n",
    "where $k_{hyd}$ is the hydrolysis rate constant, $b$ is the biomass decay rate constant, both in $d^{-1}\\cdot m^3\\cdot g^{-1}$.\n",
    "\n",
    "For biomass growth, assuming the yield of biomass is $y_B$ \\[gCOD $X_B$/gCOD $S_S$\\], then the stoichiometry can be defined as:\n",
    "$$\\frac{1}{y_B}S_S + a_1O_2 \\Rightarrow X_B + a_2CO_2$$\n",
    "where $a_1$ and $a_2$ need to be determined by conservations of COD and carbon.\n",
    "Similar to other activated sludge models, we can use a Monod-type function to represent biomass growth rate, i.e.,\n",
    "$$\\rho_2 = \\mu_B\\cdot \\frac{S_S}{K_S+S_S}X_B$$\n",
    "\n",
    "---"
   ]
  },
  {
   "cell_type": "markdown",
   "id": "b51bd5c3",
   "metadata": {},
   "source": [
    "### 2.1. Defining the components\n",
    "For convenience, we will find similar components that have been defined in the default set. Note that we will need to consider conservations of COD and C in the stoichiometry of process 2. Therefore, we should make sure the `Component` objects we pick have appropriate values for COD content (`i_COD`) and carbon content (`i_C`). "
   ]
  },
  {
   "cell_type": "code",
   "execution_count": 3,
   "id": "cad5a69b",
   "metadata": {},
   "outputs": [
    {
     "name": "stdout",
     "output_type": "stream",
     "text": [
      "CompiledComponents([X_S, S_S, O2, CO2, X_B, H2O])\n"
     ]
    }
   ],
   "source": [
    "# Load the default set of components\n",
    "cmps_all = qs.Components.load_default()\n",
    "\n",
    "# Copy select components from the default set and give them new IDs\n",
    "X_S = cmps_all.X_B_Subst.copy('X_S')\n",
    "S_S = cmps_all.S_F.copy('S_S')\n",
    "O2 = cmps_all.S_O2.copy('O2')\n",
    "CO2 = cmps_all.S_CO3.copy('CO2')\n",
    "X_B = cmps_all.X_OHO.copy('X_B')\n",
    "\n",
    "# Compile them into a new set. Don't forget the water!\n",
    "cmps_bkm = qs.Components([X_S, S_S, O2, CO2, X_B, cmps_all.H2O])\n",
    "cmps_bkm.compile()\n",
    "cmps_bkm.show()"
   ]
  },
  {
   "cell_type": "markdown",
   "id": "1e0c82ed",
   "metadata": {},
   "source": [
    "> **Note**: You might've noticed H2O isn't an active component in any process but is always included in the `CompiledComponents` set. This is because water is assumed to be the bulk liquid and is needed for the convergence of total volumetric flows in simulation regardless of the process model."
   ]
  },
  {
   "cell_type": "code",
   "execution_count": 4,
   "id": "494eb3e8",
   "metadata": {},
   "outputs": [
    {
     "data": {
      "text/plain": [
       "True"
      ]
     },
     "execution_count": 4,
     "metadata": {},
     "output_type": "execute_result"
    }
   ],
   "source": [
    "# Now we can check if their `measured_as` attributes are corrected set\n",
    "# X_S.measured_as == 'COD'\n",
    "# CO2.measured_as == 'C'\n",
    "O2.measured_as == None"
   ]
  },
  {
   "cell_type": "code",
   "execution_count": 5,
   "id": "2de7d166",
   "metadata": {},
   "outputs": [
    {
     "data": {
      "text/plain": [
       "-1.0"
      ]
     },
     "execution_count": 5,
     "metadata": {},
     "output_type": "execute_result"
    }
   ],
   "source": [
    "# Then you can check relevant `i_` properties of the components\n",
    "# For example, O2 should have a negative COD content, or more specifically -1 gCOD/gO2\n",
    "O2.i_COD"
   ]
  },
  {
   "cell_type": "markdown",
   "id": "3767f498",
   "metadata": {},
   "source": [
    "---\n",
    "### Tip\n",
    "It is not always `i_COD` and `i_C` that are important. For example, if a model involves nitrification/denitrification processes, it is critical that the components' `i_N` values are set correctly. It ultimately boils down to what conservation principles need to be considered.\n",
    "\n",
    "---"
   ]
  },
  {
   "cell_type": "code",
   "execution_count": 6,
   "id": "7b264f76",
   "metadata": {},
   "outputs": [],
   "source": [
    "# A final preparation step is to set thermo with the components\n",
    "qs.set_thermo(cmps_bkm)"
   ]
  },
  {
   "cell_type": "markdown",
   "id": "9d9a485a",
   "metadata": {},
   "source": [
    "It is common practice to wrap up the creation of model-specific `CompiledComponents` objects in a function for convenient reuse. The `create_<ModelName>_cmps` functions we've seen in the previous section is a good example.\n",
    "\n",
    "[Back to top](#top)"
   ]
  },
  {
   "cell_type": "markdown",
   "id": "5ab8d5af",
   "metadata": {},
   "source": [
    "### 2.2. Defining the processes\n",
    "With the components ready, we can now define individual dynamic processes in [the model](#bkm) as `Process` objects."
   ]
  },
  {
   "cell_type": "code",
   "execution_count": 42,
   "id": "1906bcd6",
   "metadata": {},
   "outputs": [],
   "source": [
    "# As always, let's take a look at the documentation, especially the init signature.\n",
    "?qs.Process"
   ]
  },
  {
   "cell_type": "markdown",
   "id": "8fcc2ab6",
   "metadata": {},
   "source": [
    "For process 1 and process 3, the stoichiometric coefficients are known and the rate equations take simple forms with just one parameter."
   ]
  },
  {
   "cell_type": "code",
   "execution_count": 7,
   "id": "7b7437a4",
   "metadata": {},
   "outputs": [],
   "source": [
    "# To define `Process` objects for these two processes, we just need to input their \n",
    "# stoichiometries and rate equations\n",
    "\n",
    "# Process 1: hydrolysis\n",
    "pc1 = qs.Process(ID='hydrolysis',\n",
    "                reaction='X_S -> S_S',\n",
    "                ref_component='X_S',\n",
    "                rate_equation='k_hyd*X_S',\n",
    "                conserved_for=(),\n",
    "                parameters=('k_hyd',))"
   ]
  },
  {
   "cell_type": "markdown",
   "id": "097171ce",
   "metadata": {},
   "source": [
    "Note that the information on stoichiometry is reflected in the `reaction` argument. `ref_component` is set to be `X_S` because its stoichiometric coefficient is -1. \n",
    "\n",
    "No conservation principle is used in the initiation of `pc1` (i.e., `conserved_for` is an empty tuple). This is fine, because there's no unknown stoichiometric coefficient that relies on conservation principles to solve. However, this doesn't mean the process isn't subject to any conservation principle. The 1 to 1 stoichiometry of this process reflects the conservation of COD, as both $X_S$ and $S_S$ are measured as COD."
   ]
  },
  {
   "cell_type": "code",
   "execution_count": 8,
   "id": "4f98d569",
   "metadata": {},
   "outputs": [],
   "source": [
    "# We can verify this with the `check_conservation` method\n",
    "# To do that, `conserved_for` needs to be set first\n",
    "pc1.conserved_for = ('COD',)\n",
    "pc1.check_conservation()"
   ]
  },
  {
   "cell_type": "markdown",
   "id": "265192c8",
   "metadata": {},
   "source": [
    "No return means `pc1` conserves COD.\n",
    "\n",
    ">**Note**:`conserved_for` is treated as an iterable in the `check_conservation` method. So, when there's only one conservation principle, we should make sure the entire string is recognized as one element in iteration."
   ]
  },
  {
   "cell_type": "code",
   "execution_count": 49,
   "id": "c7ce74d2",
   "metadata": {},
   "outputs": [],
   "source": [
    "# For example, if we do this, we will get an error message because the function interprets it as \n",
    "# checking conservations of 'C', 'O', and 'D', respectively\n",
    "# pc1.conserved_for = ('COD')\n",
    "# pc1.check_conservation()"
   ]
  },
  {
   "cell_type": "markdown",
   "id": "3b1edaeb",
   "metadata": {},
   "source": [
    "Note that the initiation also asks for `parameters`. This is to help identify any symbolic parameter in the stoichiometry and the rate equation."
   ]
  },
  {
   "cell_type": "code",
   "execution_count": 9,
   "id": "e7facea8",
   "metadata": {},
   "outputs": [
    {
     "name": "stdout",
     "output_type": "stream",
     "text": [
      "Process: hydrolysis\n",
      "[stoichiometry]      X_S: -1\n",
      "                     S_S: 1\n",
      "[reference]          X_S\n",
      "[rate equation]      X_S*k_hyd\n",
      "[parameters]         k_hyd: k_hyd\n",
      "[dynamic parameters] \n"
     ]
    }
   ],
   "source": [
    "# Upon initiation, the parameters are stored as symbols. We still need to set values to them\n",
    "# before we can evalute process rate.\n",
    "pc1.show()"
   ]
  },
  {
   "cell_type": "code",
   "execution_count": 10,
   "id": "9d199cf0",
   "metadata": {},
   "outputs": [
    {
     "name": "stdout",
     "output_type": "stream",
     "text": [
      "Process: growth\n",
      "[stoichiometry]      S_S: -1/y_B\n",
      "                     O2: (y_B - 1.0)/y_B\n",
      "                     CO2: 0.002*(160.0 - 183.0*y_B)/y_B\n",
      "                     X_B: 1.00\n",
      "[reference]          X_B\n",
      "[rate equation]      S_S*X_B*mu_B/(K_S + S_S)\n",
      "[parameters]         y_B: y_B\n",
      "                     mu_B: mu_B\n",
      "                     K_S: K_S\n",
      "[dynamic parameters] \n"
     ]
    }
   ],
   "source": [
    "# At this point, the initiation of process 3 should be quite straightforward.\n",
    "# Here shows an alternative way to input stoichiometry\n",
    "pc3 = qs.Process('decay',\n",
    "                reaction={'X_B':-1, 'X_S':1},\n",
    "                ref_component='X_B',\n",
    "                rate_equation='b*X_B',\n",
    "                conserved_for=('COD',),\n",
    "                parameters=('b',))\n",
    "\n",
    "# But how do we initiate process 2, which has known stoichiometric coefficients?\n",
    "pc2 = qs.Process('growth',\n",
    "                reaction='[1/y_B]S_S + [?]O2 -> X_B + [?]CO2',\n",
    "                ref_component='X_B',\n",
    "                rate_equation='mu_B * S_S/(K_S+S_S) * X_B',\n",
    "                conserved_for=('COD', 'C'),\n",
    "                parameters=('y_B', 'mu_B', 'K_S'))\n",
    "pc2.show()"
   ]
  },
  {
   "cell_type": "markdown",
   "id": "68105aaf",
   "metadata": {},
   "source": [
    "Because there're two unknown stoichiometric coefficients, we need two conservation principles (i.e., two equations) to determine their values. It is convenient to solve for stoichiometric coefficients marked as `?` by specifying `conserved_for` in the initiation of `Process` objects.\n",
    "\n",
    "[Back to top](#top)"
   ]
  },
  {
   "cell_type": "markdown",
   "id": "93a8008d",
   "metadata": {},
   "source": [
    "### 2.3. Compiling the processes"
   ]
  },
  {
   "cell_type": "code",
   "execution_count": 11,
   "id": "18d7995b",
   "metadata": {
    "scrolled": true
   },
   "outputs": [
    {
     "name": "stdout",
     "output_type": "stream",
     "text": [
      "CompiledProcesses([hydrolysis, growth, decay])\n"
     ]
    }
   ],
   "source": [
    "# Now the final step is to compile the individual processes into a biokinetic model\n",
    "bkm = qs.Processes([pc1, pc2, pc3])\n",
    "bkm.compile()\n",
    "bkm.show()"
   ]
  },
  {
   "cell_type": "code",
   "execution_count": 12,
   "id": "0a4159a3",
   "metadata": {},
   "outputs": [
    {
     "data": {
      "text/plain": [
       "{'k_hyd': k_hyd, 'y_B': y_B, 'mu_B': mu_B, 'K_S': K_S, 'b': b}"
      ]
     },
     "execution_count": 12,
     "metadata": {},
     "output_type": "execute_result"
    }
   ],
   "source": [
    "# Parameters in the stoichiometry and rate equations across all processes are compiled into\n",
    "# a shared dictionary.\n",
    "# This also means, we should absolutely avoid using the same symbol for different parameters in \n",
    "# multiple processes.\n",
    "bkm.parameters"
   ]
  },
  {
   "cell_type": "code",
   "execution_count": 13,
   "id": "6bec6d90",
   "metadata": {},
   "outputs": [
    {
     "data": {
      "text/html": [
       "<div>\n",
       "<style scoped>\n",
       "    .dataframe tbody tr th:only-of-type {\n",
       "        vertical-align: middle;\n",
       "    }\n",
       "\n",
       "    .dataframe tbody tr th {\n",
       "        vertical-align: top;\n",
       "    }\n",
       "\n",
       "    .dataframe thead th {\n",
       "        text-align: right;\n",
       "    }\n",
       "</style>\n",
       "<table border=\"1\" class=\"dataframe\">\n",
       "  <thead>\n",
       "    <tr style=\"text-align: right;\">\n",
       "      <th></th>\n",
       "      <th>X_S</th>\n",
       "      <th>S_S</th>\n",
       "      <th>O2</th>\n",
       "      <th>CO2</th>\n",
       "      <th>X_B</th>\n",
       "      <th>H2O</th>\n",
       "    </tr>\n",
       "  </thead>\n",
       "  <tbody>\n",
       "    <tr>\n",
       "      <th>hydrolysis</th>\n",
       "      <td>-1</td>\n",
       "      <td>1</td>\n",
       "      <td>0</td>\n",
       "      <td>0</td>\n",
       "      <td>0</td>\n",
       "      <td>0</td>\n",
       "    </tr>\n",
       "    <tr>\n",
       "      <th>growth</th>\n",
       "      <td>0</td>\n",
       "      <td>-1.25</td>\n",
       "      <td>-0.25</td>\n",
       "      <td>0.034</td>\n",
       "      <td>1</td>\n",
       "      <td>0</td>\n",
       "    </tr>\n",
       "    <tr>\n",
       "      <th>decay</th>\n",
       "      <td>1</td>\n",
       "      <td>0</td>\n",
       "      <td>0</td>\n",
       "      <td>0</td>\n",
       "      <td>-1</td>\n",
       "      <td>0</td>\n",
       "    </tr>\n",
       "  </tbody>\n",
       "</table>\n",
       "</div>"
      ],
      "text/plain": [
       "            X_S   S_S    O2   CO2  X_B  H2O\n",
       "hydrolysis   -1     1     0     0    0    0\n",
       "growth        0 -1.25 -0.25 0.034    1    0\n",
       "decay         1     0     0     0   -1    0"
      ]
     },
     "execution_count": 13,
     "metadata": {},
     "output_type": "execute_result"
    }
   ],
   "source": [
    "# After setting parameter values, the model will be ready\n",
    "bkm.set_parameters(k_hyd=3.0, y_B=0.8, mu_B=4.0, K_S=9.0, b=0.4)\n",
    "bkm.stoichiometry"
   ]
  },
  {
   "cell_type": "code",
   "execution_count": 14,
   "id": "f13307e3",
   "metadata": {},
   "outputs": [
    {
     "data": {
      "text/html": [
       "<div>\n",
       "<style scoped>\n",
       "    .dataframe tbody tr th:only-of-type {\n",
       "        vertical-align: middle;\n",
       "    }\n",
       "\n",
       "    .dataframe tbody tr th {\n",
       "        vertical-align: top;\n",
       "    }\n",
       "\n",
       "    .dataframe thead th {\n",
       "        text-align: right;\n",
       "    }\n",
       "</style>\n",
       "<table border=\"1\" class=\"dataframe\">\n",
       "  <thead>\n",
       "    <tr style=\"text-align: right;\">\n",
       "      <th></th>\n",
       "      <th>rate_of_production</th>\n",
       "    </tr>\n",
       "  </thead>\n",
       "  <tbody>\n",
       "    <tr>\n",
       "      <th>X_S</th>\n",
       "      <td>0.4*X_B - 3.0*X_S</td>\n",
       "    </tr>\n",
       "    <tr>\n",
       "      <th>S_S</th>\n",
       "      <td>-5.0*S_S*X_B/(S_S + 9.0) + 3.0*X_S</td>\n",
       "    </tr>\n",
       "    <tr>\n",
       "      <th>O2</th>\n",
       "      <td>-1.0*S_S*X_B/(S_S + 9.0)</td>\n",
       "    </tr>\n",
       "    <tr>\n",
       "      <th>CO2</th>\n",
       "      <td>0.136*S_S*X_B/(S_S + 9.0)</td>\n",
       "    </tr>\n",
       "    <tr>\n",
       "      <th>X_B</th>\n",
       "      <td>4.0*S_S*X_B/(S_S + 9.0) - 0.4*X_B</td>\n",
       "    </tr>\n",
       "    <tr>\n",
       "      <th>H2O</th>\n",
       "      <td>0</td>\n",
       "    </tr>\n",
       "  </tbody>\n",
       "</table>\n",
       "</div>"
      ],
      "text/plain": [
       "                     rate_of_production\n",
       "X_S                   0.4*X_B - 3.0*X_S\n",
       "S_S  -5.0*S_S*X_B/(S_S + 9.0) + 3.0*X_S\n",
       "O2             -1.0*S_S*X_B/(S_S + 9.0)\n",
       "CO2           0.136*S_S*X_B/(S_S + 9.0)\n",
       "X_B   4.0*S_S*X_B/(S_S + 9.0) - 0.4*X_B\n",
       "H2O                                   0"
      ]
     },
     "execution_count": 14,
     "metadata": {},
     "output_type": "execute_result"
    }
   ],
   "source": [
    "bkm.production_rates"
   ]
  },
  {
   "cell_type": "markdown",
   "id": "7703ff15",
   "metadata": {},
   "source": [
    "[Back to top](#top)"
   ]
  },
  {
   "cell_type": "markdown",
   "id": "737dcc12",
   "metadata": {},
   "source": [
    "### 2.4. Batch mode for creating processes\n",
    "It'd be very tedious to create individual `Process` objects one by one and compile them, especially for models with a large number of parallel processes and/or components. Therefore, the `_process` module includes convenient classmethods to create processes in batch."
   ]
  },
  {
   "cell_type": "code",
   "execution_count": 15,
   "id": "1b8ebfca",
   "metadata": {},
   "outputs": [
    {
     "data": {
      "text/html": [
       "<div>\n",
       "<style scoped>\n",
       "    .dataframe tbody tr th:only-of-type {\n",
       "        vertical-align: middle;\n",
       "    }\n",
       "\n",
       "    .dataframe tbody tr th {\n",
       "        vertical-align: top;\n",
       "    }\n",
       "\n",
       "    .dataframe thead th {\n",
       "        text-align: right;\n",
       "    }\n",
       "</style>\n",
       "<table border=\"1\" class=\"dataframe\">\n",
       "  <thead>\n",
       "    <tr style=\"text-align: right;\">\n",
       "      <th></th>\n",
       "      <th>X_S</th>\n",
       "      <th>S_S</th>\n",
       "      <th>O2</th>\n",
       "      <th>CO2</th>\n",
       "      <th>X_B</th>\n",
       "      <th>H2O</th>\n",
       "      <th>Unnamed: 7</th>\n",
       "    </tr>\n",
       "  </thead>\n",
       "  <tbody>\n",
       "    <tr>\n",
       "      <th>hydrolysis</th>\n",
       "      <td>-1</td>\n",
       "      <td>1</td>\n",
       "      <td>0</td>\n",
       "      <td>0</td>\n",
       "      <td>0</td>\n",
       "      <td>0</td>\n",
       "      <td>k_hyd*X_S</td>\n",
       "    </tr>\n",
       "    <tr>\n",
       "      <th>growth</th>\n",
       "      <td>0</td>\n",
       "      <td>(-1)/y_B</td>\n",
       "      <td>?</td>\n",
       "      <td>?</td>\n",
       "      <td>1</td>\n",
       "      <td>0</td>\n",
       "      <td>mu_B*S_S/(K_S + S_S)*X_B</td>\n",
       "    </tr>\n",
       "    <tr>\n",
       "      <th>decay</th>\n",
       "      <td>1</td>\n",
       "      <td>0</td>\n",
       "      <td>0</td>\n",
       "      <td>0</td>\n",
       "      <td>-1</td>\n",
       "      <td>0</td>\n",
       "      <td>b*X_B</td>\n",
       "    </tr>\n",
       "  </tbody>\n",
       "</table>\n",
       "</div>"
      ],
      "text/plain": [
       "            X_S       S_S O2 CO2  X_B  H2O                Unnamed: 7\n",
       "hydrolysis   -1         1  0   0    0    0                 k_hyd*X_S\n",
       "growth        0  (-1)/y_B  ?   ?    1    0  mu_B*S_S/(K_S + S_S)*X_B\n",
       "decay         1         0  0   0   -1    0                     b*X_B"
      ]
     },
     "execution_count": 15,
     "metadata": {},
     "output_type": "execute_result"
    }
   ],
   "source": [
    "# Stoichiometry and rate equations are usually described in a table format\n",
    "from qsdsan.utils import load_data\n",
    "df_bkm = load_data('_bkm.tsv', index_col=0)\n",
    "df_bkm"
   ]
  },
  {
   "cell_type": "markdown",
   "id": "2d6bd7c2",
   "metadata": {},
   "source": [
    "This table contains the stoichiometry matrix and the array of rate equations. If the table is organized with process IDs as row indices and component IDs as column names, we can use it as direct input to the `Processes.load_from_file` classmethod to create processes in batch."
   ]
  },
  {
   "cell_type": "code",
   "execution_count": 16,
   "id": "8703f7bf",
   "metadata": {},
   "outputs": [
    {
     "name": "stdout",
     "output_type": "stream",
     "text": [
      "CompiledProcesses([hydrolysis, growth, decay])\n"
     ]
    }
   ],
   "source": [
    "# The same amount of information is still required to create the model.\n",
    "bkm_batch = qs.Processes.load_from_file(\n",
    "    path='_bkm.tsv', \n",
    "    conserved_for=('COD', 'C'),\n",
    "    parameters=('k_hyd', 'y_B', 'mu_B', 'K_S', 'b'),\n",
    "    compile=True\n",
    ")\n",
    "bkm_batch.show()"
   ]
  },
  {
   "cell_type": "code",
   "execution_count": 17,
   "id": "4105ea73",
   "metadata": {},
   "outputs": [
    {
     "data": {
      "text/html": [
       "<div>\n",
       "<style scoped>\n",
       "    .dataframe tbody tr th:only-of-type {\n",
       "        vertical-align: middle;\n",
       "    }\n",
       "\n",
       "    .dataframe tbody tr th {\n",
       "        vertical-align: top;\n",
       "    }\n",
       "\n",
       "    .dataframe thead th {\n",
       "        text-align: right;\n",
       "    }\n",
       "</style>\n",
       "<table border=\"1\" class=\"dataframe\">\n",
       "  <thead>\n",
       "    <tr style=\"text-align: right;\">\n",
       "      <th></th>\n",
       "      <th>X_S</th>\n",
       "      <th>S_S</th>\n",
       "      <th>O2</th>\n",
       "      <th>CO2</th>\n",
       "      <th>X_B</th>\n",
       "      <th>H2O</th>\n",
       "    </tr>\n",
       "  </thead>\n",
       "  <tbody>\n",
       "    <tr>\n",
       "      <th>hydrolysis</th>\n",
       "      <td>-1</td>\n",
       "      <td>1</td>\n",
       "      <td>0</td>\n",
       "      <td>0</td>\n",
       "      <td>0</td>\n",
       "      <td>0</td>\n",
       "    </tr>\n",
       "    <tr>\n",
       "      <th>growth</th>\n",
       "      <td>0</td>\n",
       "      <td>-1.0/y_B</td>\n",
       "      <td>1.0*(y_B - 1.0)/y_B</td>\n",
       "      <td>0.002*(160.0 - 183.0*y_B)/y_B</td>\n",
       "      <td>1.00000000000000</td>\n",
       "      <td>0</td>\n",
       "    </tr>\n",
       "    <tr>\n",
       "      <th>decay</th>\n",
       "      <td>1</td>\n",
       "      <td>0</td>\n",
       "      <td>0</td>\n",
       "      <td>0</td>\n",
       "      <td>-1</td>\n",
       "      <td>0</td>\n",
       "    </tr>\n",
       "  </tbody>\n",
       "</table>\n",
       "</div>"
      ],
      "text/plain": [
       "            X_S       S_S                   O2                            CO2               X_B  H2O\n",
       "hydrolysis   -1         1                    0                              0                 0    0\n",
       "growth        0  -1.0/y_B  1.0*(y_B - 1.0)/y_B  0.002*(160.0 - 183.0*y_B)/y_B  1.00000000000000    0\n",
       "decay         1         0                    0                              0                -1    0"
      ]
     },
     "execution_count": 17,
     "metadata": {},
     "output_type": "execute_result"
    }
   ],
   "source": [
    "# You can see `bkm_batch` is equivalent to the `bkm` we created above\n",
    "bkm_batch.stoichiometry\n",
    "# bkm_batch.rate_equations\n",
    "# bkm_batch.parameters"
   ]
  },
  {
   "cell_type": "code",
   "execution_count": 18,
   "id": "ba36c5ed",
   "metadata": {},
   "outputs": [
    {
     "data": {
      "text/plain": [
       "'X_S'"
      ]
     },
     "execution_count": 18,
     "metadata": {},
     "output_type": "execute_result"
    }
   ],
   "source": [
    "# The reference component of each process is inferred from its stoichiometry\n",
    "bkm_batch.decay.ref_component"
   ]
  },
  {
   "cell_type": "code",
   "execution_count": 19,
   "id": "57c80cc6",
   "metadata": {},
   "outputs": [
    {
     "ename": "RuntimeError",
     "evalue": "The following materials are unconserved by the stoichiometric coefficients. A positive value means the material is created, a negative value means the material is destroyed:\n C: -0.05",
     "output_type": "error",
     "traceback": [
      "\u001b[1;31m---------------------------------------------------------------------------\u001b[0m",
      "\u001b[1;31mRuntimeError\u001b[0m                              Traceback (most recent call last)",
      "Cell \u001b[1;32mIn [19], line 2\u001b[0m\n\u001b[0;32m      1\u001b[0m \u001b[38;5;66;03m# `conserved_for` now applies to all processes\u001b[39;00m\n\u001b[1;32m----> 2\u001b[0m \u001b[43mbkm_batch\u001b[49m\u001b[38;5;241;43m.\u001b[39;49m\u001b[43mdecay\u001b[49m\u001b[38;5;241;43m.\u001b[39;49m\u001b[43mcheck_conservation\u001b[49m\u001b[43m(\u001b[49m\u001b[43m)\u001b[49m\n",
      "File \u001b[1;32m~\\Dropbox\\PhD\\Research\\QSD\\codes_developing\\QSDsan\\qsdsan\\_process.py:486\u001b[0m, in \u001b[0;36mProcess.check_conservation\u001b[1;34m(self, rtol, atol)\u001b[0m\n\u001b[0;32m    484\u001b[0m         materials \u001b[38;5;241m=\u001b[39m \u001b[38;5;28mself\u001b[39m\u001b[38;5;241m.\u001b[39m_conserved_for\n\u001b[0;32m    485\u001b[0m         unconserved \u001b[38;5;241m=\u001b[39m [(materials[i], ic_dot_v[i]) \u001b[38;5;28;01mfor\u001b[39;00m i, conserved \u001b[38;5;129;01min\u001b[39;00m \u001b[38;5;28menumerate\u001b[39m(conserved_arr) \u001b[38;5;28;01mif\u001b[39;00m \u001b[38;5;129;01mnot\u001b[39;00m conserved]\n\u001b[1;32m--> 486\u001b[0m         \u001b[38;5;28;01mraise\u001b[39;00m \u001b[38;5;167;01mRuntimeError\u001b[39;00m(\u001b[38;5;124m\"\u001b[39m\u001b[38;5;124mThe following materials are unconserved by the \u001b[39m\u001b[38;5;124m\"\u001b[39m\n\u001b[0;32m    487\u001b[0m                            \u001b[38;5;124m\"\u001b[39m\u001b[38;5;124mstoichiometric coefficients. A positive value \u001b[39m\u001b[38;5;124m\"\u001b[39m\n\u001b[0;32m    488\u001b[0m                            \u001b[38;5;124m\"\u001b[39m\u001b[38;5;124mmeans the material is created, a negative value \u001b[39m\u001b[38;5;124m\"\u001b[39m\n\u001b[0;32m    489\u001b[0m                            \u001b[38;5;124m\"\u001b[39m\u001b[38;5;124mmeans the material is destroyed:\u001b[39m\u001b[38;5;130;01m\\n\u001b[39;00m\u001b[38;5;124m \u001b[39m\u001b[38;5;124m\"\u001b[39m\n\u001b[0;32m    490\u001b[0m                            \u001b[38;5;241m+\u001b[39m \u001b[38;5;124m\"\u001b[39m\u001b[38;5;130;01m\\n\u001b[39;00m\u001b[38;5;124m \u001b[39m\u001b[38;5;124m\"\u001b[39m\u001b[38;5;241m.\u001b[39mjoin([\u001b[38;5;124mf\u001b[39m\u001b[38;5;124m\"\u001b[39m\u001b[38;5;132;01m{\u001b[39;00mmaterial\u001b[38;5;132;01m}\u001b[39;00m\u001b[38;5;124m: \u001b[39m\u001b[38;5;132;01m{\u001b[39;00mvalue\u001b[38;5;132;01m:\u001b[39;00m\u001b[38;5;124m.2f\u001b[39m\u001b[38;5;132;01m}\u001b[39;00m\u001b[38;5;124m\"\u001b[39m \u001b[38;5;28;01mfor\u001b[39;00m material, value \u001b[38;5;129;01min\u001b[39;00m unconserved]))\n\u001b[0;32m    491\u001b[0m \u001b[38;5;28;01melif\u001b[39;00m isa(v, \u001b[38;5;28mlist\u001b[39m):\n\u001b[0;32m    492\u001b[0m     \u001b[38;5;28;01mif\u001b[39;00m ic \u001b[38;5;129;01mis\u001b[39;00m \u001b[38;5;28;01mNone\u001b[39;00m:\n",
      "\u001b[1;31mRuntimeError\u001b[0m: The following materials are unconserved by the stoichiometric coefficients. A positive value means the material is created, a negative value means the material is destroyed:\n C: -0.05"
     ]
    }
   ],
   "source": [
    "# `conserved_for` now applies to all processes\n",
    "bkm_batch.decay.check_conservation()"
   ]
  },
  {
   "cell_type": "markdown",
   "id": "e9e75735",
   "metadata": {},
   "source": [
    "This means the decay process defined above conserves COD but not carbon, suggesting that we could revisit the `i_C` values for $X_B$ and $X_S$ or consider whether there are other carbon-containing products in this process."
   ]
  },
  {
   "cell_type": "code",
   "execution_count": 20,
   "id": "cf5c08b4",
   "metadata": {},
   "outputs": [
    {
     "data": {
      "text/plain": [
       "{'X_S': 0.32, 'S_S': 0.32, 'O2': 0.0, 'CO2': 1.0, 'X_B': 0.366, 'H2O': 0.0}"
      ]
     },
     "execution_count": 20,
     "metadata": {},
     "output_type": "execute_result"
    }
   ],
   "source": [
    "# `i_C` values for each component\n",
    "dict(zip(cmps_bkm.IDs, cmps_bkm.i_C))"
   ]
  },
  {
   "cell_type": "markdown",
   "id": "042213bf",
   "metadata": {},
   "source": [
    "[Back to top](#top)"
   ]
  },
  {
   "cell_type": "markdown",
   "id": "dfad74b6",
   "metadata": {},
   "source": [
    "## 3. Advanced features <a class=\"anchor\" id=\"s3\"></a>\n",
    "`qsdsan` aims to provide a flexible and user-friendly platform for process modeling. Therefore, many advanced features are included in the `_process` module to streamline the implementation of process models with various mathematical complexity.\n",
    "\n",
    "Let's again use [the model](#bkm) above as an example to learn about these features. \n",
    "\n",
    "### 3.1. `DynamicParameter`\n",
    "What if the yield of biomass growth is dependent on the abundance of soluble organic substrate? Assume this relation can be described as\n",
    "$$y_B = y_{max}\\cdot\\sqrt{\\frac{S_S}{X_S + S_S}}$$\n",
    "\n",
    "In this case, we will need to define $y_B$ as a `DynamicParameter` object because its value changes with system state during simulation."
   ]
  },
  {
   "cell_type": "code",
   "execution_count": 21,
   "id": "29c15cb9",
   "metadata": {},
   "outputs": [],
   "source": [
    "@pc2.dynamic_parameter(symbol='y_B', params={'y_max':0.8})\n",
    "def yB_eval(state_arr, params):\n",
    "    X_S, S_S = state_arr[:2]  # assuming the first 6 elements are component concentrations\n",
    "    y_max = params['y_max']\n",
    "    y_B = y_max * (S_S/(X_S+S_S))**(1/2)\n",
    "    return y_B"
   ]
  },
  {
   "cell_type": "markdown",
   "id": "f3cb8fee",
   "metadata": {},
   "source": [
    "The function `yB_eval` must take no more than two positional arguments, with the first one expecting an array of state variable values and the second one expecting a dictionary of additional inputs required for the evaluation of this dynamic parameter.\n",
    "\n",
    "Previous tutorials have covered the use of `decorator`. You can revisit this [tutorial](https://www.programiz.com/python-programming/decorator) for more details."
   ]
  },
  {
   "cell_type": "code",
   "execution_count": 22,
   "id": "7fe90104",
   "metadata": {},
   "outputs": [
    {
     "data": {
      "text/plain": [
       "{'k_hyd': 3.0, 'y_B': 0.8, 'mu_B': 4.0, 'K_S': 9.0, 'b': 0.4}"
      ]
     },
     "execution_count": 22,
     "metadata": {},
     "output_type": "execute_result"
    }
   ],
   "source": [
    "# At this point, the value for `y_B` is not updated yet, since we haven't evalutated it\n",
    "# with input of component concentrations\n",
    "bkm.parameters"
   ]
  },
  {
   "cell_type": "code",
   "execution_count": 23,
   "id": "9121e9cc",
   "metadata": {},
   "outputs": [
    {
     "name": "stdout",
     "output_type": "stream",
     "text": [
      "Process: growth\n",
      "[stoichiometry]      S_S: -1/y_B\n",
      "                     O2: (y_B - 1.0)/y_B\n",
      "                     CO2: 0.002*(160.0 - 183.0*y_B)/y_B\n",
      "                     X_B: 1.00\n",
      "[reference]          X_B\n",
      "[rate equation]      S_S*X_B*mu_B/(K_S + S_S)\n",
      "[parameters]         k_hyd: 3\n",
      "                     y_B: 0.8\n",
      "                     mu_B: 4\n",
      "                     K_S: 9\n",
      "                     b: 0.4\n",
      "[dynamic parameters] <DynamicParameter: y_B>\n"
     ]
    }
   ],
   "source": [
    "# But the list of dynamic parameters have been updated\n",
    "pc2.show()"
   ]
  },
  {
   "cell_type": "code",
   "execution_count": 24,
   "id": "248e0922",
   "metadata": {},
   "outputs": [
    {
     "data": {
      "text/plain": [
       "qsdsan._process.DynamicParameter"
      ]
     },
     "execution_count": 24,
     "metadata": {},
     "output_type": "execute_result"
    }
   ],
   "source": [
    "# `y_B` is now a `DynamicParameter` object stored in the `_dyn_params` attribute of the process\n",
    "type(pc2._dyn_params['y_B'])"
   ]
  },
  {
   "cell_type": "code",
   "execution_count": 28,
   "id": "9dc27821",
   "metadata": {
    "scrolled": false
   },
   "outputs": [
    {
     "data": {
      "text/plain": [
       "{'k_hyd': 3.0, 'y_B': 0.5656854249492381, 'mu_B': 4.0, 'K_S': 9.0, 'b': 0.4}"
      ]
     },
     "execution_count": 28,
     "metadata": {},
     "output_type": "execute_result"
    }
   ],
   "source": [
    "# Assuming component concentrations are all 1.\n",
    "state_bkm = np.ones(6)\n",
    "\n",
    "# This function evaluates the dynamic parameters\n",
    "bkm.params_eval(state_bkm)\n",
    "bkm.parameters"
   ]
  },
  {
   "cell_type": "code",
   "execution_count": 29,
   "id": "d765098e",
   "metadata": {},
   "outputs": [
    {
     "data": {
      "text/html": [
       "<div>\n",
       "<style scoped>\n",
       "    .dataframe tbody tr th:only-of-type {\n",
       "        vertical-align: middle;\n",
       "    }\n",
       "\n",
       "    .dataframe tbody tr th {\n",
       "        vertical-align: top;\n",
       "    }\n",
       "\n",
       "    .dataframe thead th {\n",
       "        text-align: right;\n",
       "    }\n",
       "</style>\n",
       "<table border=\"1\" class=\"dataframe\">\n",
       "  <thead>\n",
       "    <tr style=\"text-align: right;\">\n",
       "      <th></th>\n",
       "      <th>X_S</th>\n",
       "      <th>S_S</th>\n",
       "      <th>O2</th>\n",
       "      <th>CO2</th>\n",
       "      <th>X_B</th>\n",
       "      <th>H2O</th>\n",
       "    </tr>\n",
       "  </thead>\n",
       "  <tbody>\n",
       "    <tr>\n",
       "      <th>hydrolysis</th>\n",
       "      <td>-1</td>\n",
       "      <td>1</td>\n",
       "      <td>0</td>\n",
       "      <td>0</td>\n",
       "      <td>0</td>\n",
       "      <td>0</td>\n",
       "    </tr>\n",
       "    <tr>\n",
       "      <th>growth</th>\n",
       "      <td>0</td>\n",
       "      <td>-1.77</td>\n",
       "      <td>-0.768</td>\n",
       "      <td>0.2</td>\n",
       "      <td>1</td>\n",
       "      <td>0</td>\n",
       "    </tr>\n",
       "    <tr>\n",
       "      <th>decay</th>\n",
       "      <td>1</td>\n",
       "      <td>0</td>\n",
       "      <td>0</td>\n",
       "      <td>0</td>\n",
       "      <td>-1</td>\n",
       "      <td>0</td>\n",
       "    </tr>\n",
       "  </tbody>\n",
       "</table>\n",
       "</div>"
      ],
      "text/plain": [
       "            X_S   S_S     O2  CO2  X_B  H2O\n",
       "hydrolysis   -1     1      0    0    0    0\n",
       "growth        0 -1.77 -0.768  0.2    1    0\n",
       "decay         1     0      0    0   -1    0"
      ]
     },
     "execution_count": 29,
     "metadata": {},
     "output_type": "execute_result"
    }
   ],
   "source": [
    "# Then the stoichiometry is updated accordingly\n",
    "bkm.stoichiometry"
   ]
  },
  {
   "cell_type": "markdown",
   "id": "9a01e9ae",
   "metadata": {},
   "source": [
    "Note that in simulations, you don't need to call the `params_eval` method explicitly unless you would like to capture the dynamics of parameter values. The evaluation of dynamic parameters is performed within `production_rates_eval` (i.e., the calculation of overall production rates of the components).\n",
    "\n",
    "[Back to top](#top)"
   ]
  },
  {
   "cell_type": "markdown",
   "id": "6b94a0b7",
   "metadata": {},
   "source": [
    "### 3.2. `Kinetics` and `MultiKinetics`\n",
    "`Kinetics` and `MultiKinetics` are classes that allow defining process rates as functions.\n",
    "\n",
    "`Kinetics` is a subclass of `DynamicParameter`, because process rate in essence is also a function of state variables and additional static parameters."
   ]
  },
  {
   "cell_type": "code",
   "execution_count": 31,
   "id": "cb7c404e",
   "metadata": {},
   "outputs": [
    {
     "data": {
      "text/plain": [
       "<Kinetics: decay>"
      ]
     },
     "execution_count": 31,
     "metadata": {},
     "output_type": "execute_result"
    }
   ],
   "source": [
    "# The use of `Kinetics` to define process rate is also similar\n",
    "# For example, for the decay process\n",
    "@pc3.kinetics(parameters={'b':0.4})\n",
    "def rho3_eval(state_arr, params):\n",
    "    X_B = state_arr[4]\n",
    "    b = params['b']\n",
    "    return b*X_B\n",
    "\n",
    "pc3.rate_function"
   ]
  },
  {
   "cell_type": "markdown",
   "id": "157bf1b6",
   "metadata": {},
   "source": [
    "This may seem trivial, but it's helpful when the form of process rate gets more complex. For example, the rate of substrate uptake in [anaerobic digestion model no.1](https://doi.org/10.2166/wst.2002.0292) is dependent on pH, which is dynamically determined by a linear equation system and thus cannot be expressed neatly as a function of state variables.\n",
    "\n",
    "`MultiKinetics` serves a similar purpose but calculates the rate of multiple processes at onces. It is designed to be used with `CompiledProcesses` objects. This is convenient for models with similar process rate algorithms across multiple processes in the sense that vectorizing the shared algorithm can often improve computational speed in simulation. Another application of `MultiKinetics` is models sharing intermediate variables (e.g., pH) across multiple process rate calculation.\n",
    "\n",
    "Let's assume the reaction rates of all three processes in [the model](#bkm) above are now dependent on the abundance of oxygen. Here are the new rate equations:\n",
    "$$\\rho_1 = k_{hyd}X_S\\cdot \\sqrt{\\frac{O_2}{O_2+K_{O2}}}$$\n",
    "$$\\rho_2 = \\mu_BX_B\\cdot \\frac{S_S}{K_S+S_S} \\sqrt{\\frac{O_2}{O_2+K_{O2}}}$$\n",
    "$$\\rho_3 = b\\cdot X_B\\cdot (1.5- \\sqrt{\\frac{O_2}{O_2+K_{O2}}})$$\n",
    "\n",
    "How do we use `MultiKinetics` to implement this change?"
   ]
  },
  {
   "cell_type": "code",
   "execution_count": 32,
   "id": "5fdddd88",
   "metadata": {},
   "outputs": [
    {
     "data": {
      "text/plain": [
       "array([1.732, 2.309, 0.369])"
      ]
     },
     "execution_count": 32,
     "metadata": {},
     "output_type": "execute_result"
    }
   ],
   "source": [
    "# Define the function\n",
    "def rhos_eval(state_arr, params):\n",
    "    X_S, S_S, O2, CO2, X_B = state_arr[:5]\n",
    "    I_O2 = (O2/(O2+params['K_O2']))**(1/2)\n",
    "    rho1 = params['k_hyd']*X_S*I_O2\n",
    "    rho2 = params['mu_B']*X_B*I_O2\n",
    "    rho3 = params['b']*X_B*(1.5-I_O2)\n",
    "    return np.array([rho1, rho2, rho3])\n",
    "\n",
    "# Set it as the rate function of the `CompiledProcesses` object\n",
    "bkm.set_rate_function(rhos_eval)\n",
    "\n",
    "# Assign parameter values\n",
    "bkm.rate_function.set_params(K_O2=2.0, **bkm.parameters)\n",
    "\n",
    "# The evaluation of the rate function is the same as before\n",
    "bkm.rate_function(state_bkm)"
   ]
  },
  {
   "cell_type": "markdown",
   "id": "a8a2069c",
   "metadata": {},
   "source": [
    "[Back to top](#top)"
   ]
  }
 ],
 "metadata": {
  "kernelspec": {
   "display_name": "Python [conda env:tut]",
   "language": "python",
   "name": "conda-env-tut-py"
  },
  "language_info": {
   "codemirror_mode": {
    "name": "ipython",
    "version": 3
   },
   "file_extension": ".py",
   "mimetype": "text/x-python",
   "name": "python",
   "nbconvert_exporter": "python",
   "pygments_lexer": "ipython3",
   "version": "3.9.0"
  }
 },
 "nbformat": 4,
 "nbformat_minor": 5
}
