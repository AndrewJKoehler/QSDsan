{
 "cells": [
  {
   "cell_type": "markdown",
   "metadata": {},
   "source": [
    "# System <a class=\"anchor\" id=\"top\"></a>\n",
    "\n",
    "* **Prepared by:**\n",
    "    \n",
    "    - Yalin Li\n",
    "\n",
    "* **Covered topics:**\n",
    "\n",
    "    - `System`\n",
    "\n",
    "* **Update date:** 2021-04-27\n",
    "* `qsdsan` **version:** 0.2.4"
   ]
  },
  {
   "cell_type": "markdown",
   "metadata": {},
   "source": [
    "---\n",
    "### Note\n",
    "This tutorial is pending updates (more detailed ones coming soon!)\n",
    "\n",
    "Make sure to add:\n",
    "- want to talk about the concept of flowsheet\n",
    "- pipe-notation"
   ]
  },
  {
   "cell_type": "markdown",
   "metadata": {},
   "source": [
    "---"
   ]
  },
  {
   "cell_type": "code",
   "execution_count": 2,
   "metadata": {},
   "outputs": [],
   "source": [
    "import biosteam as bst\n",
    "import qsdsan as qs\n",
    "from qsdsan import sanunits as su"
   ]
  },
  {
   "cell_type": "markdown",
   "metadata": {},
   "source": [
    "## Making a simple `System`\n",
    "You can also make `System` objects with `SanUnit`."
   ]
  },
  {
   "cell_type": "code",
   "execution_count": 7,
   "metadata": {},
   "outputs": [
    {
     "name": "stdout",
     "output_type": "stream",
     "text": [
      "System: System\n",
      "Highest convergence error among components in recycle\n",
      "stream M2-0 after 3 loops:\n",
      "- flow rate   0.00e+00 kmol/hr (0%)\n",
      "- temperature 1.59e-11 K (5.3e-12%)\n",
      "ins...\n",
      "[0] ins1\n",
      "    phase: 'l', T: 298.15 K, P: 1 Pa\n",
      "    flow (kmol/hr): NH3  0.587\n",
      "                    H2O  55.5\n",
      "[1] ws14\n",
      "    phase: 'l', T: 298.15 K, P: 1 Pa\n",
      "    flow (kmol/hr): NH3  0.587\n",
      "                    H2O  55.5\n",
      "[2] ins4\n",
      "    phase: 'l', T: 298.15 K, P: 101325 Pa\n",
      "    flow (kmol/hr): Mg   0.288\n",
      "                    H2O  55.5\n",
      "outs...\n",
      "[0] s6\n",
      "    phase: 'l', T: 298.15 K, P: 101325 Pa\n",
      "    flow (kmol/hr): NH3  1.17\n",
      "                    Mg   0.288\n",
      "                    H2O  167\n",
      "[1] s8\n",
      "    phase: 'l', T: 298.15 K, P: 101325 Pa\n",
      "    flow (kmol/hr): NH3  0.294\n",
      "                    Mg   0.36\n",
      "                    H2O  97.1\n"
     ]
    },
    {
     "data": {
      "image/png": "[encoded data removed]",
      "text/plain": [
       "<IPython.core.display.Image object>"
      ]
     },
     "metadata": {},
     "output_type": "display_data"
    }
   ],
   "source": [
    "System = bst.System('System', path=(M1, S1, P1, M2), recycle=M2-0)\n",
    "System.simulate()\n",
    "System.show()\n",
    "System.diagram()"
   ]
  },
  {
   "cell_type": "code",
   "execution_count": 8,
   "metadata": {},
   "outputs": [
    {
     "name": "stdout",
     "output_type": "stream",
     "text": [
      "MixTank: M2\n",
      "ins...\n",
      "[0] s5  from  Splitter-S1\n",
      "    phase: 'l', T: 298.15 K, P: 101325 Pa\n",
      "    flow (g/hr): NH3  5e+03\n",
      "                 Mg   1.75e+03\n",
      "                 H2O  7.5e+05\n",
      "[1] s7  from  Pump-P1\n",
      "    phase: 'l', T: 298.15 K, P: 101325 Pa\n",
      "    flow (g/hr): Mg   7e+03\n",
      "                 H2O  1e+06\n",
      "outs...\n",
      "[0] s8\n",
      "    phase: 'l', T: 298.15 K, P: 101325 Pa\n",
      "    flow (g/hr): NH3  5e+03\n",
      "                 Mg   8.75e+03\n",
      "                 H2O  1.75e+06\n"
     ]
    },
    {
     "data": {
      "text/html": [
       "<div>\n",
       "<style scoped>\n",
       "    .dataframe tbody tr th:only-of-type {\n",
       "        vertical-align: middle;\n",
       "    }\n",
       "\n",
       "    .dataframe tbody tr th {\n",
       "        vertical-align: top;\n",
       "    }\n",
       "\n",
       "    .dataframe thead th {\n",
       "        text-align: right;\n",
       "    }\n",
       "</style>\n",
       "<table border=\"1\" class=\"dataframe\">\n",
       "  <thead>\n",
       "    <tr style=\"text-align: right;\">\n",
       "      <th></th>\n",
       "      <th>Mix tank</th>\n",
       "      <th>Units</th>\n",
       "      <th>M2</th>\n",
       "    </tr>\n",
       "  </thead>\n",
       "  <tbody>\n",
       "    <tr>\n",
       "      <th rowspan=\"2\" valign=\"top\">Power</th>\n",
       "      <th>Rate</th>\n",
       "      <td>kW</td>\n",
       "      <td>0.436</td>\n",
       "    </tr>\n",
       "    <tr>\n",
       "      <th>Cost</th>\n",
       "      <td>USD/hr</td>\n",
       "      <td>0.0742</td>\n",
       "    </tr>\n",
       "    <tr>\n",
       "      <th rowspan=\"3\" valign=\"top\">Design</th>\n",
       "      <th>Residence time</th>\n",
       "      <td>hr</td>\n",
       "      <td>2</td>\n",
       "    </tr>\n",
       "    <tr>\n",
       "      <th>Total volume</th>\n",
       "      <td>m^3</td>\n",
       "      <td>4.43</td>\n",
       "    </tr>\n",
       "    <tr>\n",
       "      <th>Number of tanks</th>\n",
       "      <td></td>\n",
       "      <td>1</td>\n",
       "    </tr>\n",
       "    <tr>\n",
       "      <th>Purchase cost</th>\n",
       "      <th>Tanks</th>\n",
       "      <td>USD</td>\n",
       "      <td>2.85e+04</td>\n",
       "    </tr>\n",
       "    <tr>\n",
       "      <th>Total purchase cost</th>\n",
       "      <th></th>\n",
       "      <td>USD</td>\n",
       "      <td>2.85e+04</td>\n",
       "    </tr>\n",
       "    <tr>\n",
       "      <th>Utility cost</th>\n",
       "      <th></th>\n",
       "      <td>USD/hr</td>\n",
       "      <td>0.0742</td>\n",
       "    </tr>\n",
       "  </tbody>\n",
       "</table>\n",
       "</div>"
      ],
      "text/plain": [
       "Mix tank                              Units       M2\n",
       "Power               Rate                 kW    0.436\n",
       "                    Cost             USD/hr   0.0742\n",
       "Design              Residence time       hr        2\n",
       "                    Total volume        m^3     4.43\n",
       "                    Number of tanks                1\n",
       "Purchase cost       Tanks               USD 2.85e+04\n",
       "Total purchase cost                     USD 2.85e+04\n",
       "Utility cost                         USD/hr   0.0742"
      ]
     },
     "execution_count": 8,
     "metadata": {},
     "output_type": "execute_result"
    }
   ],
   "source": [
    "M2.show()\n",
    "M2.results()"
   ]
  },
  {
   "cell_type": "markdown",
   "metadata": {},
   "source": [
    "[Back to top](#top)"
   ]
  }
 ],
 "metadata": {
  "kernelspec": {
   "display_name": "Python 3 (ipykernel)",
   "language": "python",
   "name": "python3"
  },
  "language_info": {
   "codemirror_mode": {
    "name": "ipython",
    "version": 3
   },
   "file_extension": ".py",
   "mimetype": "text/x-python",
   "name": "python",
   "nbconvert_exporter": "python",
   "pygments_lexer": "ipython3",
   "version": "3.8.11"
  }
 },
 "nbformat": 4,
 "nbformat_minor": 4
}
