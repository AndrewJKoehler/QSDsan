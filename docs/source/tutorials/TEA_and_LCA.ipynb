{
 "cells": [
  {
   "cell_type": "markdown",
   "metadata": {},
   "source": [
    "# TEA and LCA\n",
    "\n",
    "* **Prepared by:**\n",
    "\n",
    "    - Yalin Li\n",
    "\n",
    "* **Covered topics:**\n",
    "\n",
    "    - Techno-economic analysis with ``TEA`` and ``SimpleTEA``\n",
    "    - ``ImpactIndicator``\n",
    "    - ``ImpactItem``, and ``StreamImpactItem``\n",
    "    - ``Construction``, ``Transportation``, and other impacts\n",
    "    - Life cycle assessment with ``LCA``\n",
    "\n",
    "* **Update data:** 2021-01-XX\n",
    "* **qsdsan version:** 0.0.X"
   ]
  },
  {
   "cell_type": "markdown",
   "metadata": {},
   "source": [
    "**NOT READY YET**"
   ]
  }
 ],
 "metadata": {
  "kernelspec": {
   "display_name": "Python 3",
   "language": "python",
   "name": "python3"
  },
  "language_info": {
   "codemirror_mode": {
    "name": "ipython",
    "version": 3
   },
   "file_extension": ".py",
   "mimetype": "text/x-python",
   "name": "python",
   "nbconvert_exporter": "python",
   "pygments_lexer": "ipython3",
   "version": "3.7.6"
  }
 },
 "nbformat": 4,
 "nbformat_minor": 4
}
