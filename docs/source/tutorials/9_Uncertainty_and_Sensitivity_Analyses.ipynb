{
 "cells": [
  {
   "cell_type": "markdown",
   "id": "72695384",
   "metadata": {},
   "source": [
    "# Uncertainty and Sensitivity Analyses <a class=\"anchor\" id=\"top\"></a>\n",
    "\n",
    "* **Prepared by:**\n",
    "\n",
    "    - [Yalin Li](mailto:zoe.yalin.li@gmail.com)\n",
    "\n",
    "* **Covered topics:**\n",
    "\n",
    "    - [1. Model, Parameter, and Metric](#s1)\n",
    "    - [2. Uncertainty Analysis](#s2)\n",
    "    - [3. Sensitivity Analysis](#s3)\n",
    "\n",
    "To run tutorials in your browser, go to this [Binder page](https://mybinder.org/v2/gh/QSD-Group/QSDsan/main?filepath=%2Fdocs%2Fsource%2Ftutorials)."
   ]
  },
  {
   "cell_type": "markdown",
   "id": "30370f39",
   "metadata": {},
   "source": [
    "---\n",
    "### Note\n",
    "\n",
    "This tutorial is still under development and will be updated soon"
   ]
  },
  {
   "cell_type": "markdown",
   "id": "ce940797",
   "metadata": {},
   "source": [
    "---"
   ]
  },
  {
   "cell_type": "code",
   "execution_count": 1,
   "id": "10f22a45",
   "metadata": {},
   "outputs": [
    {
     "name": "stdout",
     "output_type": "stream",
     "text": [
      "This tutorial was made with qsdsan v0.3.9.\n"
     ]
    }
   ],
   "source": [
    "import qsdsan as qs\n",
    "print(f'This tutorial was made with qsdsan v{qs.__version__}.')"
   ]
  },
  {
   "cell_type": "markdown",
   "id": "2aae4f13",
   "metadata": {},
   "source": [
    "## 1. `Model`, `Parameter`, and `Metric` <a class=\"anchor\" id=\"s1\"></a>\n",
    "To perform uncertainty and sensitivity analyses, we firstly need to use the `Model` class to establish a system model and link it to the system we are interested in."
   ]
  },
  {
   "cell_type": "markdown",
   "id": "071eb251",
   "metadata": {},
   "source": [
    "Let's make a very simple system with a splitter, a heat exchanger, and a mixing tank"
   ]
  },
  {
   "cell_type": "code",
   "execution_count": 4,
   "id": "a277eee6",
   "metadata": {},
   "outputs": [
    {
     "name": "stderr",
     "output_type": "stream",
     "text": [
      "/Users/yalinli_cabbi/opt/anaconda3/envs/demo/lib/python3.8/site-packages/qsdsan/_waste_stream.py:945: UserWarning: ignored concentration specified for H2O:0.0\n",
      "  warn(f'ignored concentration specified for {bulk_liquid_ID}:{C_bulk}')\n"
     ]
    }
   ],
   "source": [
    "cmps = qs.Components.load_default()\n",
    "qs.set_thermo(cmps)\n",
    "ww1 = qs.WasteStream.codstates_inf_model('ww1', 1000)\n",
    "ww2 = qs.WasteStream.bodbased_inf_model('ww2', 100)"
   ]
  },
  {
   "cell_type": "code",
   "execution_count": 6,
   "id": "c3be03d1",
   "metadata": {
    "scrolled": false
   },
   "outputs": [
    {
     "name": "stderr",
     "output_type": "stream",
     "text": [
      "/Users/yalinli_cabbi/opt/anaconda3/envs/demo/lib/python3.8/site-packages/IPython/core/interactiveshell.py:3441: RuntimeWarning: <Splitter: S1> has been replaced in registry\n",
      "  exec(code_obj, self.user_global_ns, self.user_ns)\n",
      "/Users/yalinli_cabbi/opt/anaconda3/envs/demo/lib/python3.8/site-packages/biosteam/utils/piping.py:216: RuntimeWarning: <Stream: to_HX> has been replaced in registry\n",
      "  else dock(Stream(i, thermo=thermo)) for i in streams]\n",
      "/Users/yalinli_cabbi/opt/anaconda3/envs/demo/lib/python3.8/site-packages/biosteam/utils/piping.py:216: RuntimeWarning: <Stream: to_mixer> has been replaced in registry\n",
      "  else dock(Stream(i, thermo=thermo)) for i in streams]\n",
      "/Users/yalinli_cabbi/opt/anaconda3/envs/demo/lib/python3.8/site-packages/IPython/core/interactiveshell.py:3441: RuntimeWarning: <HXutility: H1> has been replaced in registry\n",
      "  exec(code_obj, self.user_global_ns, self.user_ns)\n",
      "/Users/yalinli_cabbi/opt/anaconda3/envs/demo/lib/python3.8/site-packages/IPython/core/interactiveshell.py:3441: RuntimeWarning: <MixTank: M1> has been replaced in registry\n",
      "  exec(code_obj, self.user_global_ns, self.user_ns)\n",
      "/var/folders/m0/nkxljwvx1nlg1hw9npshjgm40000gn/T/ipykernel_39279/4079253197.py:5: RuntimeWarning: <System: sys> has been replaced in registry\n",
      "  sys = qs.System('sys', path=(S1, H1, M1))\n"
     ]
    },
    {
     "data": {
      "image/png": "[encoded data removed]",
      "text/plain": [
       "<IPython.core.display.Image object>"
      ]
     },
     "metadata": {},
     "output_type": "display_data"
    }
   ],
   "source": [
    "su = qs.sanunits\n",
    "S1 = su.Splitter('S1', ins=ww1, outs=('to_HX', 'to_mixer'), split=0.2)\n",
    "H1 = su.HXutility('H1', ins=S1-0, T=273.15+50)\n",
    "M1 = su.MixTank('M1', ins=(S1-1, ww2), tau=2)\n",
    "sys = qs.System('sys', path=(S1, H1, M1))\n",
    "sys.simulate()\n",
    "sys.diagram()"
   ]
  },
  {
   "cell_type": "code",
   "execution_count": null,
   "id": "5205defc",
   "metadata": {},
   "outputs": [],
   "source": []
  },
  {
   "cell_type": "code",
   "execution_count": null,
   "id": "490e5f34",
   "metadata": {},
   "outputs": [],
   "source": []
  },
  {
   "cell_type": "code",
   "execution_count": null,
   "id": "1d199e0a",
   "metadata": {},
   "outputs": [],
   "source": []
  },
  {
   "cell_type": "code",
   "execution_count": null,
   "id": "6001d9a4",
   "metadata": {},
   "outputs": [],
   "source": []
  },
  {
   "cell_type": "code",
   "execution_count": null,
   "id": "829199f2",
   "metadata": {},
   "outputs": [],
   "source": []
  },
  {
   "cell_type": "code",
   "execution_count": null,
   "id": "869f129d",
   "metadata": {},
   "outputs": [],
   "source": []
  },
  {
   "cell_type": "code",
   "execution_count": null,
   "id": "ffe79344",
   "metadata": {},
   "outputs": [],
   "source": []
  },
  {
   "cell_type": "code",
   "execution_count": null,
   "id": "a55b02c0",
   "metadata": {},
   "outputs": [],
   "source": []
  },
  {
   "cell_type": "code",
   "execution_count": null,
   "id": "fc8b9523",
   "metadata": {},
   "outputs": [],
   "source": []
  },
  {
   "cell_type": "code",
   "execution_count": null,
   "id": "37749565",
   "metadata": {},
   "outputs": [],
   "source": []
  },
  {
   "cell_type": "code",
   "execution_count": null,
   "id": "853d1adc",
   "metadata": {},
   "outputs": [],
   "source": []
  },
  {
   "cell_type": "code",
   "execution_count": null,
   "id": "74d6bd47",
   "metadata": {},
   "outputs": [],
   "source": []
  },
  {
   "cell_type": "code",
   "execution_count": null,
   "id": "020b2c21",
   "metadata": {},
   "outputs": [],
   "source": []
  },
  {
   "cell_type": "code",
   "execution_count": null,
   "id": "645c9bb0",
   "metadata": {},
   "outputs": [],
   "source": []
  },
  {
   "cell_type": "code",
   "execution_count": null,
   "id": "f8bce25f",
   "metadata": {},
   "outputs": [],
   "source": []
  },
  {
   "cell_type": "code",
   "execution_count": null,
   "id": "bf841033",
   "metadata": {},
   "outputs": [],
   "source": []
  },
  {
   "cell_type": "markdown",
   "id": "5533e352",
   "metadata": {},
   "source": [
    "[Back to top](#top)"
   ]
  }
 ],
 "metadata": {
  "kernelspec": {
   "display_name": "Python 3 (ipykernel)",
   "language": "python",
   "name": "python3"
  },
  "language_info": {
   "codemirror_mode": {
    "name": "ipython",
    "version": 3
   },
   "file_extension": ".py",
   "mimetype": "text/x-python",
   "name": "python",
   "nbconvert_exporter": "python",
   "pygments_lexer": "ipython3",
   "version": "3.8.2"
  }
 },
 "nbformat": 4,
 "nbformat_minor": 5
}
