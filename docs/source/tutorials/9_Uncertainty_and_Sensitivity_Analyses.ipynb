{
 "cells": [
  {
   "cell_type": "markdown",
   "id": "72695384",
   "metadata": {},
   "source": [
    "# Uncertainty and Sensitivity Analyses <a class=\"anchor\" id=\"top\"></a>\n",
    "\n",
    "* **Prepared by:**\n",
    "\n",
    "    - [Yalin Li](mailto:zoe.yalin.li@gmail.com)\n",
    "\n",
    "* **Covered topics:**\n",
    "\n",
    "    - [1. Model, Parameter, and Metric](#s1)\n",
    "    - [2. Uncertainty Analysis](#s2)\n",
    "    - [3. Sensitivity Analysis](#s3)\n",
    "\n",
    "To run tutorials in your browser, go to this [Binder page](https://mybinder.org/v2/gh/QSD-Group/QSDsan/main?filepath=%2Fdocs%2Fsource%2Ftutorials)."
   ]
  },
  {
   "cell_type": "markdown",
   "id": "30370f39",
   "metadata": {},
   "source": [
    "---\n",
    "### Note\n",
    "\n",
    "This tutorial is still under development and will be updated soon"
   ]
  },
  {
   "cell_type": "markdown",
   "id": "ce940797",
   "metadata": {},
   "source": [
    "---"
   ]
  },
  {
   "cell_type": "code",
   "execution_count": 1,
   "id": "10f22a45",
   "metadata": {},
   "outputs": [
    {
     "name": "stdout",
     "output_type": "stream",
     "text": [
      "This tutorial was made with qsdsan v0.3.9.\n"
     ]
    }
   ],
   "source": [
    "import qsdsan as qs\n",
    "print(f'This tutorial was made with qsdsan v{qs.__version__}.')"
   ]
  },
  {
   "cell_type": "markdown",
   "id": "2aae4f13",
   "metadata": {},
   "source": [
    "## 1. `Model`, `Parameter`, and `Metric` <a class=\"anchor\" id=\"s1\"></a>\n",
    "To perform uncertainty and sensitivity analyses, we firstly need to use the `Model` class to establish a system model and link it to the system we are interested in."
   ]
  },
  {
   "cell_type": "markdown",
   "id": "071eb251",
   "metadata": {},
   "source": [
    "Let's make a very simple system with a splitter, a mixing tank, and a heat exchanger"
   ]
  },
  {
   "cell_type": "code",
   "execution_count": 1,
   "id": "a277eee6",
   "metadata": {},
   "outputs": [
    {
     "ename": "NameError",
     "evalue": "name 'qs' is not defined",
     "output_type": "error",
     "traceback": [
      "\u001b[0;31m---------------------------------------------------------------------------\u001b[0m",
      "\u001b[0;31mNameError\u001b[0m                                 Traceback (most recent call last)",
      "\u001b[0;32m/var/folders/m0/nkxljwvx1nlg1hw9npshjgm40000gn/T/ipykernel_35144/308564664.py\u001b[0m in \u001b[0;36m<module>\u001b[0;34m\u001b[0m\n\u001b[0;32m----> 1\u001b[0;31m \u001b[0mcmps\u001b[0m \u001b[0;34m=\u001b[0m \u001b[0mqs\u001b[0m\u001b[0;34m.\u001b[0m\u001b[0mComponents\u001b[0m\u001b[0;34m.\u001b[0m\u001b[0mload_default\u001b[0m\u001b[0;34m(\u001b[0m\u001b[0;34m)\u001b[0m\u001b[0;34m\u001b[0m\u001b[0;34m\u001b[0m\u001b[0m\n\u001b[0m\u001b[1;32m      2\u001b[0m \u001b[0mqs\u001b[0m\u001b[0;34m.\u001b[0m\u001b[0mset_thermo\u001b[0m\u001b[0;34m(\u001b[0m\u001b[0mcmps\u001b[0m\u001b[0;34m)\u001b[0m\u001b[0;34m\u001b[0m\u001b[0;34m\u001b[0m\u001b[0m\n",
      "\u001b[0;31mNameError\u001b[0m: name 'qs' is not defined"
     ]
    }
   ],
   "source": [
    "cmps = qs.Components.load_default()\n",
    "qs.set_thermo(cmps)\n",
    "ww = qs.WasteStream('ww')"
   ]
  },
  {
   "cell_type": "code",
   "execution_count": null,
   "id": "c3be03d1",
   "metadata": {},
   "outputs": [],
   "source": []
  },
  {
   "cell_type": "code",
   "execution_count": null,
   "id": "fc8b9523",
   "metadata": {},
   "outputs": [],
   "source": []
  },
  {
   "cell_type": "code",
   "execution_count": null,
   "id": "37749565",
   "metadata": {},
   "outputs": [],
   "source": []
  },
  {
   "cell_type": "code",
   "execution_count": null,
   "id": "853d1adc",
   "metadata": {},
   "outputs": [],
   "source": []
  },
  {
   "cell_type": "code",
   "execution_count": null,
   "id": "74d6bd47",
   "metadata": {},
   "outputs": [],
   "source": []
  },
  {
   "cell_type": "code",
   "execution_count": null,
   "id": "020b2c21",
   "metadata": {},
   "outputs": [],
   "source": []
  },
  {
   "cell_type": "code",
   "execution_count": null,
   "id": "645c9bb0",
   "metadata": {},
   "outputs": [],
   "source": []
  },
  {
   "cell_type": "code",
   "execution_count": null,
   "id": "f8bce25f",
   "metadata": {},
   "outputs": [],
   "source": []
  },
  {
   "cell_type": "code",
   "execution_count": null,
   "id": "bf841033",
   "metadata": {},
   "outputs": [],
   "source": []
  },
  {
   "cell_type": "markdown",
   "id": "5533e352",
   "metadata": {},
   "source": [
    "[Back to top](#top)"
   ]
  }
 ],
 "metadata": {
  "kernelspec": {
   "display_name": "Python 3 (ipykernel)",
   "language": "python",
   "name": "python3"
  },
  "language_info": {
   "codemirror_mode": {
    "name": "ipython",
    "version": 3
   },
   "file_extension": ".py",
   "mimetype": "text/x-python",
   "name": "python",
   "nbconvert_exporter": "python",
   "pygments_lexer": "ipython3",
   "version": "3.8.11"
  }
 },
 "nbformat": 4,
 "nbformat_minor": 5
}
