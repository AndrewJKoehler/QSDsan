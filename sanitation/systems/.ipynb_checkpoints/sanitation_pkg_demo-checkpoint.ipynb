{
 "cells": [
  {
   "cell_type": "code",
   "execution_count": 18,
   "metadata": {},
   "outputs": [],
   "source": [
    "import os \n",
    "import biosteam as bst\n",
    "import thermosteam as tmo\n",
    "from inspect import signature\n",
    "\n",
    "os.chdir(\"C:/Users/joy_c/Dropbox/PhD/Research/QSD/codes_developing/QSD-for-WaSH/sanitation\")\n",
    "from sanitation import Component, Components, WasteStream, units"
   ]
  },
  {
   "cell_type": "markdown",
   "metadata": {},
   "source": [
    "### Create a Component object\n",
    "A `Component` object can be created from scratch or from a `Chemical` object.  "
   ]
  },
  {
   "cell_type": "code",
   "execution_count": 16,
   "metadata": {},
   "outputs": [
    {
     "name": "stdout",
     "output_type": "stream",
     "text": [
      "Component: XPAO (phase_ref=None) at phase='l'\n",
      "[Names]  CAS: XPAO\n",
      "         InChI: None\n",
      "         InChI_key: None\n",
      "         common_name: None\n",
      "         iupac_name: None\n",
      "         pubchemid: None\n",
      "         smiles: None\n",
      "         formula: C5H7O2N\n",
      "[Groups] Dortmund: <Empty>\n",
      "         UNIFAC: <Empty>\n",
      "         PSRK: <Empty>\n",
      "[Data]   MW: 15.999 g/mol\n",
      "         Tm: None\n",
      "         Tb: None\n",
      "         Tt: None\n",
      "         Tc: None\n",
      "         Pt: None\n",
      "         Pc: None\n",
      "         Vc: None\n",
      "         Hf: None\n",
      "         LHV: None\n",
      "         HHV: None\n",
      "         Hfus: None\n",
      "         omega: None\n",
      "         dipole: None\n",
      "         similarity_variable: None\n",
      "         iscyclic_aliphatic: None\n",
      "         combustion: None\n",
      "\n",
      "Component-specific properties:\n",
      "[Others] i_C: None\n",
      "         i_N: None\n",
      "         i_P: None\n",
      "         i_K: None\n",
      "         i_mass: None\n",
      "         i_charge: None\n",
      "         f_BOD5_COD: None\n",
      "         f_uBOD_COD: None\n",
      "         f_Vmass_Totmass: None\n",
      "         particle_size: Particulate\n",
      "         degradability: Biological\n",
      "         organic: True\n",
      "         measured_as: COD\n",
      "         description: None\n"
     ]
    }
   ],
   "source": [
    "# help(Component)\n",
    "XPAO = Component('XPAO', formula = 'C5H7O2N', measured_as = 'COD', \n",
    "                 particle_size = 'Particulate', degradability = 'Biological', organic = True)\n",
    "XPAO\n",
    "# XPAO.show(True)"
   ]
  },
  {
   "cell_type": "code",
   "execution_count": 39,
   "metadata": {},
   "outputs": [
    {
     "name": "stdout",
     "output_type": "stream",
     "text": [
      "Component: SNH4 (phase_ref='l')\n",
      "[Names]  CAS: 14798-03-9\n",
      "         InChI: H3N/h1H3/p+1\n",
      "         InChI_key: QGZKDVFQNNGYKY-U...\n",
      "         common_name: ammonium\n",
      "         iupac_name: ('azanium',)\n",
      "         pubchemid: 223\n",
      "         smiles: [NH4+]\n",
      "         formula: H4N+\n",
      "[Groups] Dortmund: {}\n",
      "         UNIFAC: {}\n",
      "         PSRK: {}\n",
      "[Data]   MW: 14.007 g/mol\n",
      "         Tm: None\n",
      "         Tb: None\n",
      "         Tt: None\n",
      "         Tc: None\n",
      "         Pt: None\n",
      "         Pc: None\n",
      "         Vc: None\n",
      "         Hf: None\n",
      "         LHV: None\n",
      "         HHV: None\n",
      "         Hfus: 0 J/mol\n",
      "         omega: None\n",
      "         dipole: None\n",
      "         similarity_variable: 0.27719\n",
      "         iscyclic_aliphatic: 0\n",
      "         combustion: None\n",
      "\n",
      "Component-specific properties:\n",
      "[Others] i_C: 0 g C/g N\n",
      "         i_N: 1 g N/g N\n",
      "         i_P: 0 g P/g N\n",
      "         i_K: 0 g K/g N\n",
      "         i_mass: 1.289 g mass/g N\n",
      "         i_charge: 0.071 mol +/g N\n",
      "         f_BOD5_COD: 0\n",
      "         f_uBOD_COD: 0\n",
      "         f_Vmass_Totmass: 0\n",
      "         particle_size: Soluble\n",
      "         degradability: Undegradable\n",
      "         organic: False\n",
      "         measured_as: N\n",
      "         description: None\n"
     ]
    }
   ],
   "source": [
    "H2O = Component.from_chemical('H2O', tmo.Chemical('H2O'),\n",
    "                              particle_size='Soluble', degradability='Undegradable', organic=False,\n",
    "                              i_C=0, i_N=0, i_P=0, i_K=0, i_mass=1, i_charge=0, \n",
    "                              f_BOD5_COD=0, f_uBOD_COD=0, f_Vmass_Totmass=0)\n",
    "\n",
    "SNH4 = Component.from_chemical('SNH4', tmo.Chemical('Ammonium'), measured_as='N',\n",
    "                               particle_size='Soluble', degradability='Undegradable', organic=False,\n",
    "                               i_C=0, i_N=1, i_P=0, i_K=0, i_mass=1.289, i_charge=.071, \n",
    "                               f_BOD5_COD=0, f_uBOD_COD=0, f_Vmass_Totmass=0)\n",
    "# SNH4.default()\n",
    "SNH4.show(True)"
   ]
  },
  {
   "cell_type": "markdown",
   "metadata": {},
   "source": [
    "### Create a CompiledComponent object\n",
    "A `CompiledComponent` object can be created from scratch or by loading the default `Compoenets`."
   ]
  },
  {
   "cell_type": "code",
   "execution_count": 53,
   "metadata": {},
   "outputs": [
    {
     "ename": "RuntimeError",
     "evalue": "SNH4 is missing key thermodynamic properties (Psat, Tb and Hvap); use the `<Chemical>.get_missing_properties()` to check all missing properties",
     "output_type": "error",
     "traceback": [
      "\u001b[1;31m---------------------------------------------------------------------------\u001b[0m",
      "\u001b[1;31mRuntimeError\u001b[0m                              Traceback (most recent call last)",
      "\u001b[1;32m<ipython-input-53-c56ab225af02>\u001b[0m in \u001b[0;36m<module>\u001b[1;34m\u001b[0m\n\u001b[0;32m      6\u001b[0m \u001b[0mcomps1\u001b[0m \u001b[1;33m=\u001b[0m \u001b[0mComponents\u001b[0m\u001b[1;33m(\u001b[0m\u001b[1;33m(\u001b[0m\u001b[0mXPAO\u001b[0m\u001b[1;33m,\u001b[0m \u001b[0mSNH4\u001b[0m\u001b[1;33m,\u001b[0m \u001b[0mH2O\u001b[0m\u001b[1;33m)\u001b[0m\u001b[1;33m)\u001b[0m\u001b[1;33m\u001b[0m\u001b[1;33m\u001b[0m\u001b[0m\n\u001b[0;32m      7\u001b[0m \u001b[0mcomps1\u001b[0m\u001b[1;33m\u001b[0m\u001b[1;33m\u001b[0m\u001b[0m\n\u001b[1;32m----> 8\u001b[1;33m \u001b[0mcomps1\u001b[0m\u001b[1;33m.\u001b[0m\u001b[0mcompile\u001b[0m\u001b[1;33m(\u001b[0m\u001b[1;33m)\u001b[0m\u001b[1;33m\u001b[0m\u001b[1;33m\u001b[0m\u001b[0m\n\u001b[0m",
      "\u001b[1;32m~\\Dropbox\\PhD\\Research\\QSD\\codes_developing\\QSD-for-WaSH\\sanitation\\sanitation\\_components.py\u001b[0m in \u001b[0;36mcompile\u001b[1;34m(self)\u001b[0m\n\u001b[0;32m     99\u001b[0m     \u001b[1;32mdef\u001b[0m \u001b[0mcompile\u001b[0m\u001b[1;33m(\u001b[0m\u001b[0mself\u001b[0m\u001b[1;33m)\u001b[0m\u001b[1;33m:\u001b[0m\u001b[1;33m\u001b[0m\u001b[1;33m\u001b[0m\u001b[0m\n\u001b[0;32m    100\u001b[0m         \u001b[1;34m'''Cast as a CompiledComponents object'''\u001b[0m\u001b[1;33m\u001b[0m\u001b[1;33m\u001b[0m\u001b[0m\n\u001b[1;32m--> 101\u001b[1;33m         \u001b[0mCompiledComponents\u001b[0m\u001b[1;33m.\u001b[0m\u001b[0m_compile\u001b[0m\u001b[1;33m(\u001b[0m\u001b[0mself\u001b[0m\u001b[1;33m)\u001b[0m\u001b[1;33m\u001b[0m\u001b[1;33m\u001b[0m\u001b[0m\n\u001b[0m\u001b[0;32m    102\u001b[0m         \u001b[0msetattr\u001b[0m\u001b[1;33m(\u001b[0m\u001b[0mself\u001b[0m\u001b[1;33m,\u001b[0m \u001b[1;34m'__class__'\u001b[0m\u001b[1;33m,\u001b[0m \u001b[0mCompiledComponents\u001b[0m\u001b[1;33m)\u001b[0m\u001b[1;33m\u001b[0m\u001b[1;33m\u001b[0m\u001b[0m\n\u001b[0;32m    103\u001b[0m \u001b[1;33m\u001b[0m\u001b[0m\n",
      "\u001b[1;32m~\\Dropbox\\PhD\\Research\\QSD\\codes_developing\\QSD-for-WaSH\\sanitation\\sanitation\\_components.py\u001b[0m in \u001b[0;36m_compile\u001b[1;34m(self)\u001b[0m\n\u001b[0;32m    204\u001b[0m         \u001b[0mtuple_\u001b[0m \u001b[1;33m=\u001b[0m \u001b[0mtuple\u001b[0m \u001b[1;31m# to differentiate it from dct['tuple']?\u001b[0m\u001b[1;33m\u001b[0m\u001b[1;33m\u001b[0m\u001b[0m\n\u001b[0;32m    205\u001b[0m         \u001b[0mcomponents\u001b[0m \u001b[1;33m=\u001b[0m \u001b[0mtuple_\u001b[0m\u001b[1;33m(\u001b[0m\u001b[0mdct\u001b[0m\u001b[1;33m.\u001b[0m\u001b[0mvalues\u001b[0m\u001b[1;33m(\u001b[0m\u001b[1;33m)\u001b[0m\u001b[1;33m)\u001b[0m\u001b[1;33m\u001b[0m\u001b[1;33m\u001b[0m\u001b[0m\n\u001b[1;32m--> 206\u001b[1;33m         \u001b[0mCompiledChemicals\u001b[0m\u001b[1;33m.\u001b[0m\u001b[0m_compile\u001b[0m\u001b[1;33m(\u001b[0m\u001b[0mself\u001b[0m\u001b[1;33m)\u001b[0m\u001b[1;33m\u001b[0m\u001b[1;33m\u001b[0m\u001b[0m\n\u001b[0m\u001b[0;32m    207\u001b[0m \u001b[1;33m\u001b[0m\u001b[0m\n\u001b[0;32m    208\u001b[0m         \u001b[1;32mfor\u001b[0m \u001b[0mcomponent\u001b[0m \u001b[1;32min\u001b[0m \u001b[0mcomponents\u001b[0m\u001b[1;33m:\u001b[0m\u001b[1;33m\u001b[0m\u001b[1;33m\u001b[0m\u001b[0m\n",
      "\u001b[1;32m~\\anaconda3\\lib\\site-packages\\thermosteam\\_chemicals.py\u001b[0m in \u001b[0;36m_compile\u001b[1;34m(self)\u001b[0m\n\u001b[0;32m    307\u001b[0m             \u001b[0mmissing\u001b[0m \u001b[1;33m=\u001b[0m \u001b[0mrepr_listed_values\u001b[0m\u001b[1;33m(\u001b[0m\u001b[0mmissing_properties\u001b[0m\u001b[1;33m)\u001b[0m\u001b[1;33m\u001b[0m\u001b[1;33m\u001b[0m\u001b[0m\n\u001b[0;32m    308\u001b[0m             raise RuntimeError(\n\u001b[1;32m--> 309\u001b[1;33m                 \u001b[1;34mf\"{chemical} is missing key thermodynamic properties ({missing}); \"\u001b[0m\u001b[1;33m\u001b[0m\u001b[1;33m\u001b[0m\u001b[0m\n\u001b[0m\u001b[0;32m    310\u001b[0m                 \u001b[1;34m\"use the `<Chemical>.get_missing_properties()` to check \"\u001b[0m\u001b[1;33m\u001b[0m\u001b[1;33m\u001b[0m\u001b[0m\n\u001b[0;32m    311\u001b[0m                 \"all missing properties\")\n",
      "\u001b[1;31mRuntimeError\u001b[0m: SNH4 is missing key thermodynamic properties (Psat, Tb and Hvap); use the `<Chemical>.get_missing_properties()` to check all missing properties"
     ]
    }
   ],
   "source": [
    "# XPAO.default()\n",
    "# SNH4.default()\n",
    "# XPAO.copy_models_from(H2O, names=('sigma', 'epsilon', 'kappa', 'V', 'Cn', 'mu'))\n",
    "# SNH4.copy_models_from(H2O, names=('sigma', 'epsilon', 'kappa', 'V', 'Cn', 'mu'))\n",
    "\n",
    "comps1 = Components((XPAO, SNH4, H2O))\n",
    "comps1\n",
    "comps1.compile()"
   ]
  },
  {
   "cell_type": "code",
   "execution_count": 54,
   "metadata": {},
   "outputs": [
    {
     "data": {
      "text/plain": [
       "CompiledComponents([SH2, SCH4, SCH3OH, SAc, SProp, SF, SU_Inf, SU_E, CB_Subst, CB_BAP, CB_UAP, CU_Inf, XB_Subst, XOHO_PHA, XGAO_PHA, XPAO_PHA, XGAO_Gly, XPAO_Gly, XOHO, XAOO, XNOO, XAMO, XPAO, XMEOLO, XACO, XHMO, XPRO, XU_Inf, XU_OHO_E, XU_PAO_E, XIg_ISS, XMAP, XHAP, XMeP, XHDP, XMeOH, XPAO_PP_Lo, XPAO_PP_Hi, SNH4, SNO2, SNO3, SPO4, SK, SCa, SMg, SN2, SO2, SCAT, SAN, H2O])"
      ]
     },
     "execution_count": 54,
     "metadata": {},
     "output_type": "execute_result"
    }
   ],
   "source": [
    "comps2 = Components.load_default()\n",
    "comps2.compile()\n",
    "comps2"
   ]
  },
  {
   "cell_type": "code",
   "execution_count": 55,
   "metadata": {},
   "outputs": [
    {
     "data": {
      "text/plain": [
       "'(K0.33Mg0.33PO3)n'"
      ]
     },
     "execution_count": 55,
     "metadata": {},
     "output_type": "execute_result"
    }
   ],
   "source": [
    "comps2.SCH4\n",
    "comps2.XPAO_PP_Lo.formula"
   ]
  },
  {
   "cell_type": "markdown",
   "metadata": {},
   "source": [
    "### Create a WasteStream object\n",
    "A `WasteStream` object can be created by defining flow rate of each `Component` (similar to creation of a `Stream`) or from composite measures (e.g., concentrations of total COD, TKN)"
   ]
  },
  {
   "cell_type": "code",
   "execution_count": 62,
   "metadata": {},
   "outputs": [
    {
     "name": "stdout",
     "output_type": "stream",
     "text": [
      "WasteStream: ins2\n",
      " phase: 'l', T: 298.15 K, P: 101325 Pa\n",
      " flow (kg/hr): SNH4  0.1\n",
      "               H2O   1e+03\n",
      "\n",
      " WasteStream-specific properties:\n",
      "  pH: 7.0\n",
      "  Alkalinity: None [unit]\n",
      "\n"
     ]
    }
   ],
   "source": [
    "bst.settings.set_thermo(comps1)\n",
    "# bst.settings.set_thermo(comps2)\n",
    "ins1 = WasteStream('ins1', XPAO=.5, H2O=1000, units='kg/hr')\n",
    "ins2 = WasteStream('ins2', SNH4=.1, H2O=1000, units='kg/hr')\n",
    "ins2"
   ]
  },
  {
   "cell_type": "code",
   "execution_count": 81,
   "metadata": {},
   "outputs": [
    {
     "name": "stdout",
     "output_type": "stream",
     "text": [
      "WasteStream: ws\n",
      " phase: 'l', T: 298.15 K, P: 101325 Pa\n",
      " flow (kg/hr): SF        0.15\n",
      "               SU_Inf    0.025\n",
      "               CB_Subst  0.039\n",
      "               XB_Subst  0.221\n",
      "               XU_Inf    0.065\n",
      "               XIg_ISS   0.0142\n",
      "               SNH4      0.025\n",
      "               SPO4      0.008\n",
      "               SK        0.028\n",
      "               SCa       0.14\n",
      "               SMg       0.05\n",
      "               SN2       0.018\n",
      "               SCAT      0.003\n",
      "               SAN       0.012\n",
      "               H2O       1e+03\n",
      "\n",
      " WasteStream-specific properties:\n",
      "  pH: 6.8\n",
      "  Alkalinity: 150.0 [unit]\n",
      "\n"
     ]
    }
   ],
   "source": [
    "# default to typical raw wastewater composition\n",
    "ws = WasteStream.from_composite_measures('ws', flow_tot=1000)\n",
    "ws = WasteStream.from_composite_measures('ws', flow_tot=1000, pH=6.8, COD=500, TP=11)\n",
    "ws.show(N=20)"
   ]
  },
  {
   "cell_type": "code",
   "execution_count": 72,
   "metadata": {},
   "outputs": [
    {
     "data": {
      "text/plain": [
       "('fBAP_CB',\n",
       " 'fCB_XCB',\n",
       " 'fCUInf_XCUInf',\n",
       " 'fHi_XPAOPP',\n",
       " 'fSProp_TotCOD',\n",
       " 'fSAc_TotCOD',\n",
       " 'fSCH3OH_TotCOD',\n",
       " 'fSF_TotCOD',\n",
       " 'fSNH4_STKN',\n",
       " 'fSUE_TotCOD',\n",
       " 'fSUInf_TotCOD',\n",
       " 'fUAP_CB',\n",
       " 'fXACO_TotCOD',\n",
       " 'fXAMO_TotCOD',\n",
       " 'fXAOO_TotCOD',\n",
       " 'fXCUInf_TotCOD',\n",
       " 'fXGAOGly_TotCOD',\n",
       " 'fXGAOPHA_TotCOD',\n",
       " 'fXHMO_TotCOD',\n",
       " 'fXMEOLO_TotCOD',\n",
       " 'fXNOO_TotCOD',\n",
       " 'fXOHO_TotCOD',\n",
       " 'fXOHOPHA_TotCOD',\n",
       " 'fXPAO_TotCOD',\n",
       " 'fXPAOGly_TotCOD',\n",
       " 'fXPAOPHA_TotCOD',\n",
       " 'fXPRO_TotCOD',\n",
       " 'fXUOHOE_TotCOD',\n",
       " 'fXUPAOE_TotCOD',\n",
       " 'iVSS_TSS')"
      ]
     },
     "execution_count": 72,
     "metadata": {},
     "output_type": "execute_result"
    }
   ],
   "source": [
    "WasteStream._ratios\n",
    "new_r = {'fSF_TotCOD': .3, 'fSNH4_STKN': .85}\n",
    "ws = WasteStream.from_composite_measures('ws', 1200, ratios=new_r)"
   ]
  },
  {
   "cell_type": "code",
   "execution_count": 77,
   "metadata": {},
   "outputs": [
    {
     "name": "stdout",
     "output_type": "stream",
     "text": [
      "WasteStream: ws_mix\n",
      " phase: 'l', T: 298.15 K, P: 101325 Pa\n",
      " flow (kg/hr): SF        0.255\n",
      "               SU_Inf    0.0508\n",
      "               CB_Subst  0.0867\n",
      "               XB_Subst  0.492\n",
      "               XU_Inf    0.132\n",
      "               XIg_ISS   0.0285\n",
      "               SNH4      0.055\n",
      "               ...\n",
      "\n",
      " WasteStream-specific properties:\n",
      "  pH: 7.0\n",
      "  Alkalinity: None [unit]\n",
      "\n"
     ]
    }
   ],
   "source": [
    "ws.mass\n",
    "# ws.vol\n",
    "\n",
    "# ws1 = WasteStream('ws21')\n",
    "# ws2 = WasteStream('ws22')\n",
    "# ws.split_to(ws1, ws2, .3)\n",
    "# ws1\n",
    "# ws2\n",
    "\n",
    "# ws_mix = WasteStream('ws_mix')\n",
    "# ws_mix.mix_from([ws1, ws2])\n",
    "# ws_mix"
   ]
  },
  {
   "cell_type": "code",
   "execution_count": null,
   "metadata": {},
   "outputs": [],
   "source": [
    "ws.composite('BOD', particle_size='x')\n",
    "ws.composite('COD', specification='XBio')\n",
    "ws.composite('N', specification='SNOx')\n",
    "ws.composite('C', organic=True)\n",
    "\n",
    "ws.COD\n",
    "ws.TKN\n",
    "ws.TDS()\n",
    "ws.VSS()"
   ]
  },
  {
   "cell_type": "markdown",
   "metadata": {},
   "source": [
    "### Interact with SanUnit objects\n",
    "`WasteStream` objects interact with `SanUnit` objects just as `Stream` with `Unit`."
   ]
  },
  {
   "cell_type": "code",
   "execution_count": 93,
   "metadata": {},
   "outputs": [
    {
     "name": "stdout",
     "output_type": "stream",
     "text": [
      "Mixer: M1\n",
      "ins...\n",
      "[0] ins1\n",
      "    phase: 'l', T: 298.15 K, P: 101325 Pa\n",
      "    flow (kmol/hr): XPAO  0.0313\n",
      "                    H2O   55.5\n",
      "[1] ins2\n",
      "    phase: 'l', T: 298.15 K, P: 101325 Pa\n",
      "    flow (kmol/hr): SNH4  0.00714\n",
      "                    H2O   55.5\n",
      "[2] ws23\n",
      "    phase: 'l', T: 298.15 K, P: 101325 Pa\n",
      "    flow: 0\n",
      "outs...\n",
      "[0] mixture\n",
      "    phase: 'l', T: 298.15 K, P: 101325 Pa\n",
      "    flow (kmol/hr): XPAO  0.0313\n",
      "                    SNH4  0.00714\n",
      "                    H2O   111\n"
     ]
    }
   ],
   "source": [
    "bst.settings.set_thermo(comps2)\n",
    "M1 = units.Mixer('M1', ins=(ins1, ins2, ''), outs='mixture')\n",
    "M1.simulate()\n",
    "M1.show()\n",
    "# M1.diagram()"
   ]
  },
  {
   "cell_type": "code",
   "execution_count": 94,
   "metadata": {},
   "outputs": [
    {
     "name": "stdout",
     "output_type": "stream",
     "text": [
      "Mixer: M1\n",
      "ins...\n",
      "[0] ins1\n",
      "    phase: 'l', T: 298.15 K, P: 101325 Pa\n",
      "    flow (kmol/hr): XPAO  0.0313\n",
      "                    H2O   55.5\n",
      "[1] ins2\n",
      "    phase: 'l', T: 298.15 K, P: 101325 Pa\n",
      "    flow (kmol/hr): SNH4  0.00714\n",
      "                    H2O   55.5\n",
      "[2] ws27  from  MixTank-M2\n",
      "    phase: 'l', T: 298.15 K, P: 101325 Pa\n",
      "    flow: 0\n",
      "outs...\n",
      "[0] mixture  to  Splitter-S1\n",
      "    phase: 'l', T: 298.15 K, P: 101325 Pa\n",
      "    flow (kmol/hr): XPAO  0.0313\n",
      "                    SNH4  0.00714\n",
      "                    H2O   111\n"
     ]
    }
   ],
   "source": [
    "S1 = units.Splitter('S1', ins=M1-0, outs=('', ''), split=0.2)\n",
    "ins3 = WasteStream('ins3', SF=7, H2O=1000, units='kg/hr')\n",
    "P1 = units.Pump('P1', ins=ins3)\n",
    "M2 = units.MixTank('M2', ins=(S1-0, P1-0), tau=2)\n",
    "M2-0-2-M1"
   ]
  },
  {
   "cell_type": "code",
   "execution_count": 95,
   "metadata": {},
   "outputs": [
    {
     "name": "stdout",
     "output_type": "stream",
     "text": [
      "System: System\n",
      " recycle: ws27\n",
      " path: (M1, S1, P1, M2)\n",
      " convergence error: Flow rate   0.00e+00 kmol/hr\n",
      "                    Temperature 0.00e+00 K\n",
      " iterations: 0\n",
      "System: System\n",
      " recycle: ws27\n",
      " path: (M1, S1, P1, M2)\n",
      " convergence error: Flow rate   2.17e-19 kmol/hr\n",
      "                    Temperature 0.00e+00 K\n",
      " iterations: 3\n"
     ]
    }
   ],
   "source": [
    "System = bst.System('System', path=(M1, S1, P1, M2), recycle=M2-0)\n",
    "System.show()\n",
    "System.simulate()\n",
    "System.show()\n",
    "# System.diagram()"
   ]
  },
  {
   "cell_type": "code",
   "execution_count": 97,
   "metadata": {},
   "outputs": [
    {
     "name": "stdout",
     "output_type": "stream",
     "text": [
      "MixTank: M2\n",
      "ins...\n",
      "[0] ws24  from  Splitter-S1\n",
      "    phase: 'l', T: 298.15 K, P: 101325 Pa\n",
      "    flow (kmol/hr): SF    0.109\n",
      "                    XPAO  0.00781\n",
      "                    SNH4  0.00178\n",
      "                    H2O   41.6\n",
      "[1] ws26  from  Pump-P1\n",
      "    phase: 'l', T: 298.15 K, P: 101325 Pa\n",
      "    flow (kmol/hr): SF   0.438\n",
      "                    H2O  55.5\n",
      "outs...\n",
      "[0] ws27  to  Mixer-M1\n",
      "    phase: 'l', T: 298.15 K, P: 101325 Pa\n",
      "    flow (kmol/hr): SF    0.547\n",
      "                    XPAO  0.00781\n",
      "                    SNH4  0.00178\n",
      "                    H2O   97.1\n"
     ]
    },
    {
     "data": {
      "text/html": [
       "<div>\n",
       "<style scoped>\n",
       "    .dataframe tbody tr th:only-of-type {\n",
       "        vertical-align: middle;\n",
       "    }\n",
       "\n",
       "    .dataframe tbody tr th {\n",
       "        vertical-align: top;\n",
       "    }\n",
       "\n",
       "    .dataframe thead th {\n",
       "        text-align: right;\n",
       "    }\n",
       "</style>\n",
       "<table border=\"1\" class=\"dataframe\">\n",
       "  <thead>\n",
       "    <tr style=\"text-align: right;\">\n",
       "      <th></th>\n",
       "      <th>Mix tank</th>\n",
       "      <th>Units</th>\n",
       "      <th>M2</th>\n",
       "    </tr>\n",
       "  </thead>\n",
       "  <tbody>\n",
       "    <tr>\n",
       "      <th rowspan=\"2\" valign=\"top\">Power</th>\n",
       "      <th>Rate</th>\n",
       "      <td>kW</td>\n",
       "      <td>0.434</td>\n",
       "    </tr>\n",
       "    <tr>\n",
       "      <th>Cost</th>\n",
       "      <td>USD/hr</td>\n",
       "      <td>0.034</td>\n",
       "    </tr>\n",
       "    <tr>\n",
       "      <th rowspan=\"3\" valign=\"top\">Design</th>\n",
       "      <th>Residence time</th>\n",
       "      <td></td>\n",
       "      <td>2</td>\n",
       "    </tr>\n",
       "    <tr>\n",
       "      <th>Total volume</th>\n",
       "      <td>m^3</td>\n",
       "      <td>4.41</td>\n",
       "    </tr>\n",
       "    <tr>\n",
       "      <th>Number of tanks</th>\n",
       "      <td></td>\n",
       "      <td>1</td>\n",
       "    </tr>\n",
       "    <tr>\n",
       "      <th>Purchase cost</th>\n",
       "      <th>Tanks</th>\n",
       "      <td>USD</td>\n",
       "      <td>2.84e+04</td>\n",
       "    </tr>\n",
       "    <tr>\n",
       "      <th>Total purchase cost</th>\n",
       "      <th></th>\n",
       "      <td>USD</td>\n",
       "      <td>2.84e+04</td>\n",
       "    </tr>\n",
       "    <tr>\n",
       "      <th>Utility cost</th>\n",
       "      <th></th>\n",
       "      <td>USD/hr</td>\n",
       "      <td>0.034</td>\n",
       "    </tr>\n",
       "  </tbody>\n",
       "</table>\n",
       "</div>"
      ],
      "text/plain": [
       "Mix tank                              Units       M2\n",
       "Power               Rate                 kW    0.434\n",
       "                    Cost             USD/hr    0.034\n",
       "Design              Residence time                 2\n",
       "                    Total volume        m^3     4.41\n",
       "                    Number of tanks                1\n",
       "Purchase cost       Tanks               USD 2.84e+04\n",
       "Total purchase cost                     USD 2.84e+04\n",
       "Utility cost                         USD/hr    0.034"
      ]
     },
     "execution_count": 97,
     "metadata": {},
     "output_type": "execute_result"
    }
   ],
   "source": [
    "M2.show()\n",
    "M2.results()"
   ]
  }
 ],
 "metadata": {
  "kernelspec": {
   "display_name": "Python 3",
   "language": "python",
   "name": "python3"
  },
  "language_info": {
   "codemirror_mode": {
    "name": "ipython",
    "version": 3
   },
   "file_extension": ".py",
   "mimetype": "text/x-python",
   "name": "python",
   "nbconvert_exporter": "python",
   "pygments_lexer": "ipython3",
   "version": "3.7.6"
  }
 },
 "nbformat": 4,
 "nbformat_minor": 4
}
