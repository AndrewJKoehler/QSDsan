{
 "cells": [
  {
   "cell_type": "code",
   "execution_count": 1,
   "metadata": {},
   "outputs": [],
   "source": [
    "import os \n",
    "import biosteam as bst\n",
    "import thermosteam as tmo\n",
    "from inspect import signature\n",
    "\n",
    "os.chdir(\"/Users/yalinli_cabbi/OneDrive/Coding/sanitation_root/\")\n",
    "from sanitation import Component, Components, WasteStream, units"
   ]
  },
  {
   "cell_type": "markdown",
   "metadata": {},
   "source": [
    "### Create a Component object\n",
    "A `Component` object can be created from scratch or from a `Chemical` object."
   ]
  },
  {
   "cell_type": "code",
   "execution_count": 2,
   "metadata": {},
   "outputs": [
    {
     "name": "stdout",
     "output_type": "stream",
     "text": [
      "Component: XPAO (phase_ref='l') at phase='l'\n",
      "[Names]  CAS: XPAO\n",
      "         InChI: None\n",
      "         InChI_key: None\n",
      "         common_name: None\n",
      "         iupac_name: None\n",
      "         pubchemid: None\n",
      "         smiles: None\n",
      "         formula: C5H7O2N\n",
      "[Groups] Dortmund: <Empty>\n",
      "         UNIFAC: <Empty>\n",
      "         PSRK: <Empty>\n",
      "[Data]   MW: 15.999 g/mol\n",
      "         Tm: None\n",
      "         Tb: None\n",
      "         Tt: None\n",
      "         Tc: None\n",
      "         Pt: None\n",
      "         Pc: None\n",
      "         Vc: None\n",
      "         Hf: None\n",
      "         LHV: None\n",
      "         HHV: None\n",
      "         Hfus: None\n",
      "         omega: None\n",
      "         dipole: None\n",
      "         similarity_variable: None\n",
      "         iscyclic_aliphatic: None\n",
      "         combustion: None\n",
      "\n",
      "Component-specific properties:\n",
      "[Others] i_C: None\n",
      "         i_N: None\n",
      "         i_P: None\n",
      "         i_K: None\n",
      "         i_mass: None\n",
      "         i_charge: None\n",
      "         f_BOD5_COD: None\n",
      "         f_uBOD_COD: None\n",
      "         f_Vmass_Totmass: None\n",
      "         particle_size: Particulate\n",
      "         degradability: Biological\n",
      "         organic: True\n",
      "         measured_as: COD\n",
      "         description: None\n"
     ]
    }
   ],
   "source": [
    "# help(Component)\n",
    "XPAO = Component('XPAO', formula = 'C5H7O2N', measured_as = 'COD', \n",
    "                 particle_size = 'Particulate', degradability = 'Biological', organic = True)\n",
    "# XPAO\n",
    "XPAO.show(True)"
   ]
  },
  {
   "cell_type": "code",
   "execution_count": 3,
   "metadata": {},
   "outputs": [
    {
     "name": "stdout",
     "output_type": "stream",
     "text": [
      "Component: SNH4 (phase_ref='l')\n",
      "[Names]  CAS: 14798-03-9\n",
      "         InChI: InChI=1S/H3N/h1H3/p+...\n",
      "         InChI_key: QGZKDVFQNNGYKY-U...\n",
      "         common_name: Ammonium\n",
      "         iupac_name: ('azane;hydron'...\n",
      "         pubchemid: 1.6741e+07\n",
      "         smiles: [NH4+]\n",
      "         formula: H4N+\n",
      "[Groups] Dortmund: {}\n",
      "         UNIFAC: {}\n",
      "         PSRK: {}\n",
      "[Data]   MW: 14.007 g/mol\n",
      "         Tm: None\n",
      "         Tb: None\n",
      "         Tt: None\n",
      "         Tc: None\n",
      "         Pt: None\n",
      "         Pc: None\n",
      "         Vc: None\n",
      "         Hf: None\n",
      "         LHV: None\n",
      "         HHV: None\n",
      "         Hfus: 0 J/mol\n",
      "         omega: None\n",
      "         dipole: None\n",
      "         similarity_variable: 0.27718\n",
      "         iscyclic_aliphatic: 0\n",
      "         combustion: None\n",
      "\n",
      "Component-specific properties:\n",
      "[Others] i_C: 0 g C/g N\n",
      "         i_N: 1 g N/g N\n",
      "         i_P: 0 g P/g N\n",
      "         i_K: 0 g K/g N\n",
      "         i_mass: 1.289 g mass/g N\n",
      "         i_charge: 0.071 mol +/g N\n",
      "         f_BOD5_COD: 0\n",
      "         f_uBOD_COD: 0\n",
      "         f_Vmass_Totmass: 0\n",
      "         particle_size: Soluble\n",
      "         degradability: Undegradable\n",
      "         organic: False\n",
      "         measured_as: N\n",
      "         description: None\n"
     ]
    }
   ],
   "source": [
    "H2O = Component.from_chemical('H2O', tmo.Chemical('H2O'),\n",
    "                              particle_size='Soluble', degradability='Undegradable', organic=False,\n",
    "                              i_C=0, i_N=0, i_P=0, i_K=0, i_mass=1, i_charge=0, \n",
    "                              f_BOD5_COD=0, f_uBOD_COD=0, f_Vmass_Totmass=0)\n",
    "\n",
    "SNH4 = Component.from_chemical('SNH4', tmo.Chemical('Ammonium'), measured_as='N',\n",
    "                               particle_size='Soluble', degradability='Undegradable', organic=False,\n",
    "                               i_C=0, i_N=1, i_P=0, i_K=0, i_mass=1.289, i_charge=.071, \n",
    "                               f_BOD5_COD=0, f_uBOD_COD=0, f_Vmass_Totmass=0)\n",
    "# SNH4.default()\n",
    "SNH4.show(True)"
   ]
  },
  {
   "cell_type": "markdown",
   "metadata": {},
   "source": [
    "### Create a CompiledComponent object\n",
    "A `CompiledComponent` object can be created from scratch or by loading the default `Compoenets`."
   ]
  },
  {
   "cell_type": "code",
   "execution_count": 4,
   "metadata": {},
   "outputs": [
    {
     "ename": "RuntimeError",
     "evalue": "XPAO is missing key thermodynamic properties (V, S, H and Cn); use the `<Chemical>.get_missing_properties()` to check all missing properties",
     "output_type": "error",
     "traceback": [
      "\u001b[0;31m---------------------------------------------------------------------------\u001b[0m",
      "\u001b[0;31mRuntimeError\u001b[0m                              Traceback (most recent call last)",
      "\u001b[0;32m<ipython-input-4-080795492342>\u001b[0m in \u001b[0;36m<module>\u001b[0;34m\u001b[0m\n\u001b[1;32m      8\u001b[0m \u001b[0;31m# The Components object cannot be compiled if any of its Component object is missing key properties,\u001b[0m\u001b[0;34m\u001b[0m\u001b[0;34m\u001b[0m\u001b[0;34m\u001b[0m\u001b[0m\n\u001b[1;32m      9\u001b[0m \u001b[0;31m# so code below will trigger an error\u001b[0m\u001b[0;34m\u001b[0m\u001b[0;34m\u001b[0m\u001b[0;34m\u001b[0m\u001b[0m\n\u001b[0;32m---> 10\u001b[0;31m \u001b[0mcomps1\u001b[0m\u001b[0;34m.\u001b[0m\u001b[0mcompile\u001b[0m\u001b[0;34m(\u001b[0m\u001b[0;34m)\u001b[0m\u001b[0;34m\u001b[0m\u001b[0;34m\u001b[0m\u001b[0m\n\u001b[0m",
      "\u001b[0;32m~/OneDrive/Coding/sanitation_root/sanitation/_components.py\u001b[0m in \u001b[0;36mcompile\u001b[0;34m(self)\u001b[0m\n\u001b[1;32m    107\u001b[0m     \u001b[0;32mdef\u001b[0m \u001b[0mcompile\u001b[0m\u001b[0;34m(\u001b[0m\u001b[0mself\u001b[0m\u001b[0;34m)\u001b[0m\u001b[0;34m:\u001b[0m\u001b[0;34m\u001b[0m\u001b[0;34m\u001b[0m\u001b[0m\n\u001b[1;32m    108\u001b[0m         \u001b[0;34m'''Cast as a CompiledComponents object.'''\u001b[0m\u001b[0;34m\u001b[0m\u001b[0;34m\u001b[0m\u001b[0m\n\u001b[0;32m--> 109\u001b[0;31m         \u001b[0mCompiledComponents\u001b[0m\u001b[0;34m.\u001b[0m\u001b[0m_compile\u001b[0m\u001b[0;34m(\u001b[0m\u001b[0mself\u001b[0m\u001b[0;34m)\u001b[0m\u001b[0;34m\u001b[0m\u001b[0;34m\u001b[0m\u001b[0m\n\u001b[0m\u001b[1;32m    110\u001b[0m         \u001b[0msetattr\u001b[0m\u001b[0;34m(\u001b[0m\u001b[0mself\u001b[0m\u001b[0;34m,\u001b[0m \u001b[0;34m'__class__'\u001b[0m\u001b[0;34m,\u001b[0m \u001b[0mCompiledComponents\u001b[0m\u001b[0;34m)\u001b[0m\u001b[0;34m\u001b[0m\u001b[0;34m\u001b[0m\u001b[0m\n\u001b[1;32m    111\u001b[0m \u001b[0;34m\u001b[0m\u001b[0m\n",
      "\u001b[0;32m~/OneDrive/Coding/sanitation_root/sanitation/_components.py\u001b[0m in \u001b[0;36m_compile\u001b[0;34m(self)\u001b[0m\n\u001b[1;32m    265\u001b[0m         \u001b[0mtuple_\u001b[0m \u001b[0;34m=\u001b[0m \u001b[0mtuple\u001b[0m \u001b[0;31m# to differentiate it from dct['tuple']?\u001b[0m\u001b[0;34m\u001b[0m\u001b[0;34m\u001b[0m\u001b[0m\n\u001b[1;32m    266\u001b[0m         \u001b[0mcomponents\u001b[0m \u001b[0;34m=\u001b[0m \u001b[0mtuple_\u001b[0m\u001b[0;34m(\u001b[0m\u001b[0mdct\u001b[0m\u001b[0;34m.\u001b[0m\u001b[0mvalues\u001b[0m\u001b[0;34m(\u001b[0m\u001b[0;34m)\u001b[0m\u001b[0;34m)\u001b[0m\u001b[0;34m\u001b[0m\u001b[0;34m\u001b[0m\u001b[0m\n\u001b[0;32m--> 267\u001b[0;31m         \u001b[0mCompiledChemicals\u001b[0m\u001b[0;34m.\u001b[0m\u001b[0m_compile\u001b[0m\u001b[0;34m(\u001b[0m\u001b[0mself\u001b[0m\u001b[0;34m)\u001b[0m\u001b[0;34m\u001b[0m\u001b[0;34m\u001b[0m\u001b[0m\n\u001b[0m\u001b[1;32m    268\u001b[0m \u001b[0;34m\u001b[0m\u001b[0m\n\u001b[1;32m    269\u001b[0m         \u001b[0;32mfor\u001b[0m \u001b[0mcomponent\u001b[0m \u001b[0;32min\u001b[0m \u001b[0mcomponents\u001b[0m\u001b[0;34m:\u001b[0m\u001b[0;34m\u001b[0m\u001b[0;34m\u001b[0m\u001b[0m\n",
      "\u001b[0;32m~/anaconda3/lib/python3.7/site-packages/thermosteam/_chemicals.py\u001b[0m in \u001b[0;36m_compile\u001b[0;34m(self)\u001b[0m\n\u001b[1;32m    377\u001b[0m             \u001b[0mmissing\u001b[0m \u001b[0;34m=\u001b[0m \u001b[0mutils\u001b[0m\u001b[0;34m.\u001b[0m\u001b[0mrepr_listed_values\u001b[0m\u001b[0;34m(\u001b[0m\u001b[0mmissing_properties\u001b[0m\u001b[0;34m)\u001b[0m\u001b[0;34m\u001b[0m\u001b[0;34m\u001b[0m\u001b[0m\n\u001b[1;32m    378\u001b[0m             raise RuntimeError(\n\u001b[0;32m--> 379\u001b[0;31m                 \u001b[0;34mf\"{chemical} is missing key thermodynamic properties ({missing}); \"\u001b[0m\u001b[0;34m\u001b[0m\u001b[0;34m\u001b[0m\u001b[0m\n\u001b[0m\u001b[1;32m    380\u001b[0m                 \u001b[0;34m\"use the `<Chemical>.get_missing_properties()` to check \"\u001b[0m\u001b[0;34m\u001b[0m\u001b[0;34m\u001b[0m\u001b[0m\n\u001b[1;32m    381\u001b[0m                 \"all missing properties\")\n",
      "\u001b[0;31mRuntimeError\u001b[0m: XPAO is missing key thermodynamic properties (V, S, H and Cn); use the `<Chemical>.get_missing_properties()` to check all missing properties"
     ]
    }
   ],
   "source": [
    "# XPAO.default()\n",
    "# SNH4.default()\n",
    "# XPAO.copy_models_from(H2O, names=('sigma', 'epsilon', 'kappa', 'V', 'Cn', 'mu'))\n",
    "# SNH4.copy_models_from(H2O, names=('sigma', 'epsilon', 'kappa', 'V', 'Cn', 'mu'))\n",
    "\n",
    "comps1 = Components((XPAO, SNH4, H2O))\n",
    "comps1\n",
    "# The Components object cannot be compiled if any of its Component object is missing key properties,\n",
    "# so code below will trigger an error\n",
    "comps1.compile()"
   ]
  },
  {
   "cell_type": "code",
   "execution_count": 5,
   "metadata": {},
   "outputs": [
    {
     "data": {
      "text/plain": [
       "CompiledComponents([SH2, SCH4, SCH3OH, SAc, SProp, SF, SU_Inf, SU_E, CB_Subst, CB_BAP, CB_UAP, CU_Inf, XB_Subst, XOHO_PHA, XGAO_PHA, XPAO_PHA, XGAO_Gly, XPAO_Gly, XOHO, XAOO, XNOO, XAMO, XPAO, XMEOLO, XACO, XHMO, XPRO, XU_Inf, XU_OHO_E, XU_PAO_E, XIg_ISS, XMAP, XHAP, XMeP, XHDP, XMeOH, XPAO_PP_Lo, XPAO_PP_Hi, SNH4, SNO2, SNO3, SPO4, SK, SCa, SMg, SN2, SO2, SCAT, SAN, H2O])"
      ]
     },
     "execution_count": 5,
     "metadata": {},
     "output_type": "execute_result"
    }
   ],
   "source": [
    "comps2 = Components.load_default()\n",
    "comps2.compile()\n",
    "comps2"
   ]
  },
  {
   "cell_type": "code",
   "execution_count": 6,
   "metadata": {},
   "outputs": [
    {
     "data": {
      "text/plain": [
       "'(K0.33Mg0.33PO3)n'"
      ]
     },
     "execution_count": 6,
     "metadata": {},
     "output_type": "execute_result"
    }
   ],
   "source": [
    "# comps2.SCH4\n",
    "comps2.XPAO_PP_Lo.formula"
   ]
  },
  {
   "cell_type": "markdown",
   "metadata": {},
   "source": [
    "### Create a WasteStream object\n",
    "A `WasteStream` object can be created by defining flow rate of each `Component` (similar to creation of a `Stream`) or from composite measures (e.g., concentrations of total COD, TKN)"
   ]
  },
  {
   "cell_type": "code",
   "execution_count": 7,
   "metadata": {},
   "outputs": [
    {
     "name": "stdout",
     "output_type": "stream",
     "text": [
      "WasteStream: ins2\n",
      " phase: 'l', T: 298.15 K, P: 101325 Pa\n",
      " flow (kg/hr): SNH4  0.1\n",
      "               H2O   1e+03\n",
      "\n",
      " WasteStream-specific properties:\n",
      "  pH         : 7.0\n",
      "  Alkalinity : 0.0 [unit]\n",
      "  COD        : 0.0 [unit]\n",
      "  BOD        : 0.0 [unit]\n",
      "  TC         : 0.0 [unit]\n",
      "  TOC        : 0.0 [unit]\n",
      "  TN         : 99.7 [unit]\n",
      "  TKN        : 99.7 [unit]\n",
      "  TP         : 0.0 [unit]\n",
      "  TK         : 0.0 [unit]\n",
      "  charge     : 7.1 [unit]\n",
      "\n"
     ]
    }
   ],
   "source": [
    "# bst.settings.set_thermo(comps1)\n",
    "bst.settings.set_thermo(comps2)\n",
    "ins1 = WasteStream('ins1', XPAO=.5, H2O=1000, units='kg/hr')\n",
    "ins2 = WasteStream('ins2', SNH4=.1, H2O=1000, units='kg/hr')\n",
    "ins2"
   ]
  },
  {
   "cell_type": "code",
   "execution_count": 23,
   "metadata": {},
   "outputs": [
    {
     "name": "stdout",
     "output_type": "stream",
     "text": [
      "WasteStream: ws\n",
      " phase: 'l', T: 298.15 K, P: 101325 Pa\n",
      " flow (kg/hr): SF        0.15\n",
      "               SU_Inf    0.025\n",
      "               CB_Subst  0.039\n",
      "               XB_Subst  0.221\n",
      "               XU_Inf    0.065\n",
      "               XIg_ISS   0.0142\n",
      "               SNH4      0.025\n",
      "               SPO4      0.008\n",
      "               SK        0.028\n",
      "               SCa       0.14\n",
      "               SMg       0.05\n",
      "               SN2       0.018\n",
      "               SCAT      0.003\n",
      "               SAN       0.012\n",
      "               H2O       1e+03\n",
      "\n",
      " WasteStream-specific properties:\n",
      "  pH         : 6.8\n",
      "  Alkalinity : 150.0 [unit]\n",
      "  COD        : 498.1+0.0j [unit]\n",
      "  BOD        : 262.6+0.0j [unit]\n",
      "  TC         : 161.3+0.0j [unit]\n",
      "  TOC        : 159.3+0.0j [unit]\n",
      "  TN         : 39.5+0.0j [unit]\n",
      "  TKN        : 39.5+0.0j [unit]\n",
      "  TP         : 11.0+0.0j [unit]\n",
      "  TK         : 27.9+0.0j [unit]\n",
      "  charge     : 3.8+0.0j [unit]\n",
      "\n"
     ]
    }
   ],
   "source": [
    "# default to typical raw wastewater composition\n",
    "ws = WasteStream.from_composite_measures('ws', flow_tot=1000)\n",
    "ws = WasteStream.from_composite_measures('ws', flow_tot=1000, pH=6.8, COD=500, TP=11)\n",
    "ws.show(N=20)"
   ]
  },
  {
   "cell_type": "code",
   "execution_count": 24,
   "metadata": {},
   "outputs": [
    {
     "data": {
      "text/plain": [
       "(170.88830049374536+0.0026205185573492523j)"
      ]
     },
     "execution_count": 24,
     "metadata": {},
     "output_type": "execute_result"
    }
   ],
   "source": [
    "ws.COD\n",
    "ws.TKN\n",
    "# Recheck the math, by imaginary numbers?\n",
    "ws.get_TDS()\n",
    "ws.get_VSS()"
   ]
  },
  {
   "cell_type": "code",
   "execution_count": 25,
   "metadata": {},
   "outputs": [],
   "source": [
    "# WasteStream._ratios\n",
    "new_r = {'fSF_TotCOD': .3, 'fSNH4_STKN': .85}\n",
    "ws = WasteStream.from_composite_measures('ws', 1200, ratios=new_r)"
   ]
  },
  {
   "cell_type": "code",
   "execution_count": 26,
   "metadata": {},
   "outputs": [
    {
     "name": "stdout",
     "output_type": "stream",
     "text": [
      "WasteStream: ws_mix\n",
      " phase: 'l', T: 298.15 K, P: 101325 Pa\n",
      " flow (kg/hr): SF        0.155\n",
      "               SU_Inf    0.0258\n",
      "               CB_Subst  0.0402\n",
      "               XB_Subst  0.228\n",
      "               XU_Inf    0.0671\n",
      "               XIg_ISS   0.0147\n",
      "               SNH4      0.03\n",
      "               ...\n",
      "\n",
      " WasteStream-specific properties:\n",
      "  pH         : 7.0\n",
      "  Alkalinity : 0.0 [unit]\n",
      "  COD        : 428.4+0.0j [unit]\n",
      "  BOD        : 225.9+0.0j [unit]\n",
      "  TC         : 138.7+0.0j [unit]\n",
      "  TOC        : 137.0+0.0j [unit]\n",
      "  TN         : 40.2+0.0j [unit]\n",
      "  TKN        : 40.2+0.0j [unit]\n",
      "  TP         : 10.0+0.0j [unit]\n",
      "  TK         : 27.9+0.0j [unit]\n",
      "  charge     : 3.8+0.0j [unit]\n",
      "\n"
     ]
    }
   ],
   "source": [
    "ws.mass\n",
    "ws.vol\n",
    "\n",
    "ws1 = WasteStream('ws1')\n",
    "ws2 = WasteStream('ws2')\n",
    "ws.split_to(ws1, ws2, .3)\n",
    "ws1\n",
    "ws2\n",
    "\n",
    "ws_mix = WasteStream('ws_mix')\n",
    "ws_mix.mix_from([ws1, ws2])\n",
    "ws_mix"
   ]
  },
  {
   "cell_type": "code",
   "execution_count": 27,
   "metadata": {},
   "outputs": [
    {
     "data": {
      "text/plain": [
       "(136.9795298730429+0.002100681668629398j)"
      ]
     },
     "execution_count": 27,
     "metadata": {},
     "output_type": "execute_result"
    }
   ],
   "source": [
    "ws.composite('BOD', particle_size='x')\n",
    "ws.composite('COD', specification='XBio')\n",
    "ws.composite('N', specification='SNOx')\n",
    "ws.composite('C', organic=True)"
   ]
  },
  {
   "cell_type": "code",
   "execution_count": 28,
   "metadata": {},
   "outputs": [
    {
     "data": {
      "text/plain": [
       "(349.0131598807137+0.005352373071738224j)"
      ]
     },
     "execution_count": 28,
     "metadata": {},
     "output_type": "execute_result"
    }
   ],
   "source": [
    "ws.composite('Solids', particle_size='s')"
   ]
  },
  {
   "cell_type": "markdown",
   "metadata": {},
   "source": [
    "### Interact with SanUnit objects\n",
    "`WasteStream` objects interact with `SanUnit` objects just as `Stream` with `Unit`."
   ]
  },
  {
   "cell_type": "code",
   "execution_count": 30,
   "metadata": {},
   "outputs": [
    {
     "name": "stdout",
     "output_type": "stream",
     "text": [
      "Mixer: M1\n",
      "ins...\n",
      "[0] ins1\n",
      "    phase: 'l', T: 298.15 K, P: 101325 Pa\n",
      "    flow (kg/hr): XPAO  0.5\n",
      "                  H2O   1e+03\n",
      "\n",
      "    WasteStream-specific properties:\n",
      "     pH         : 7.0\n",
      "     Alkalinity : 0.0 [unit]\n",
      "     COD        : 498.3 [unit]\n",
      "     BOD        : 282.3 [unit]\n",
      "     TC         : 186.3 [unit]\n",
      "     TOC        : 186.3 [unit]\n",
      "     TN         : 43.5 [unit]\n",
      "     TKN        : 43.5 [unit]\n",
      "     TP         : 10.0 [unit]\n",
      "     TK         : 0.0 [unit]\n",
      "     charge     : 0.0 [unit]\n",
      "\n",
      "[1] ins2\n",
      "    phase: 'l', T: 298.15 K, P: 101325 Pa\n",
      "    flow (kg/hr): SNH4  0.1\n",
      "                  H2O   1e+03\n",
      "\n",
      "    WasteStream-specific properties:\n",
      "     pH         : 7.0\n",
      "     Alkalinity : 0.0 [unit]\n",
      "     COD        : 0.0 [unit]\n",
      "     BOD        : 0.0 [unit]\n",
      "     TC         : 0.0 [unit]\n",
      "     TOC        : 0.0 [unit]\n",
      "     TN         : 99.7 [unit]\n",
      "     TKN        : 99.7 [unit]\n",
      "     TP         : 0.0 [unit]\n",
      "     TK         : 0.0 [unit]\n",
      "     charge     : 7.1 [unit]\n",
      "\n",
      "[2] ws2\n",
      "    phase: 'l', T: 298.15 K, P: 101325 Pa\n",
      "    flow: 0\n",
      "\n",
      "    WasteStream-specific properties: None\n",
      "outs...\n",
      "[0] mixture\n",
      "    phase: 'l', T: 298.15 K, P: 101325 Pa\n",
      "    flow (kg/hr): XPAO  0.5\n",
      "                  SNH4  0.1\n",
      "                  H2O   2e+03\n",
      "\n",
      "    WasteStream-specific properties:\n",
      "     pH         : 7.0\n",
      "     Alkalinity : 0.0 [unit]\n",
      "     COD        : 249.2 [unit]\n",
      "     BOD        : 141.2 [unit]\n",
      "     TC         : 93.2 [unit]\n",
      "     TOC        : 93.2 [unit]\n",
      "     TN         : 71.6 [unit]\n",
      "     TKN        : 71.6 [unit]\n",
      "     TP         : 5.0 [unit]\n",
      "     TK         : 0.0 [unit]\n",
      "     charge     : 3.6 [unit]\n",
      "\n"
     ]
    },
    {
     "data": {
      "image/png": "[encoded data removed]",
      "text/plain": [
       "<IPython.core.display.Image object>"
      ]
     },
     "metadata": {},
     "output_type": "display_data"
    }
   ],
   "source": [
    "bst.settings.set_thermo(comps2)\n",
    "M1 = units.Mixer('M1', ins=(ins1, ins2, ''), outs='mixture')\n",
    "M1.simulate()\n",
    "M1.show()\n",
    "M1.diagram()"
   ]
  },
  {
   "cell_type": "code",
   "execution_count": 31,
   "metadata": {},
   "outputs": [
    {
     "data": {
      "image/png": "[encoded data removed]",
      "text/plain": [
       "<IPython.core.display.Image object>"
      ]
     },
     "metadata": {},
     "output_type": "display_data"
    },
    {
     "name": "stdout",
     "output_type": "stream",
     "text": [
      "Mixer: M1\n",
      "ins...\n",
      "[0] ins1\n",
      "    phase: 'l', T: 298.15 K, P: 101325 Pa\n",
      "    flow (kg/hr): XPAO  0.5\n",
      "                  H2O   1e+03\n",
      "\n",
      "    WasteStream-specific properties:\n",
      "     pH         : 7.0\n",
      "     Alkalinity : 0.0 [unit]\n",
      "     COD        : 498.3 [unit]\n",
      "     BOD        : 282.3 [unit]\n",
      "     TC         : 186.3 [unit]\n",
      "     TOC        : 186.3 [unit]\n",
      "     TN         : 43.5 [unit]\n",
      "     TKN        : 43.5 [unit]\n",
      "     TP         : 10.0 [unit]\n",
      "     TK         : 0.0 [unit]\n",
      "     charge     : 0.0 [unit]\n",
      "\n",
      "[1] ins2\n",
      "    phase: 'l', T: 298.15 K, P: 101325 Pa\n",
      "    flow (kg/hr): SNH4  0.1\n",
      "                  H2O   1e+03\n",
      "\n",
      "    WasteStream-specific properties:\n",
      "     pH         : 7.0\n",
      "     Alkalinity : 0.0 [unit]\n",
      "     COD        : 0.0 [unit]\n",
      "     BOD        : 0.0 [unit]\n",
      "     TC         : 0.0 [unit]\n",
      "     TOC        : 0.0 [unit]\n",
      "     TN         : 99.7 [unit]\n",
      "     TKN        : 99.7 [unit]\n",
      "     TP         : 0.0 [unit]\n",
      "     TK         : 0.0 [unit]\n",
      "     charge     : 7.1 [unit]\n",
      "\n",
      "[2] ws6  from  MixTank-M2\n",
      "    phase: 'l', T: 298.15 K, P: 101325 Pa\n",
      "    flow: 0\n",
      "\n",
      "    WasteStream-specific properties: None\n",
      "outs...\n",
      "[0] mixture  to  Splitter-S1\n",
      "    phase: 'l', T: 298.15 K, P: 101325 Pa\n",
      "    flow (kg/hr): XPAO  0.5\n",
      "                  SNH4  0.1\n",
      "                  H2O   2e+03\n",
      "\n",
      "    WasteStream-specific properties:\n",
      "     pH         : 7.0\n",
      "     Alkalinity : 0.0 [unit]\n",
      "     COD        : 249.2 [unit]\n",
      "     BOD        : 141.2 [unit]\n",
      "     TC         : 93.2 [unit]\n",
      "     TOC        : 93.2 [unit]\n",
      "     TN         : 71.6 [unit]\n",
      "     TKN        : 71.6 [unit]\n",
      "     TP         : 5.0 [unit]\n",
      "     TK         : 0.0 [unit]\n",
      "     charge     : 3.6 [unit]\n",
      "\n"
     ]
    }
   ],
   "source": [
    "S1 = units.Splitter('S1', ins=M1-0, outs=('', ''), split=0.2)\n",
    "ins3 = WasteStream('ins3', SF=7, H2O=1000, units='kg/hr')\n",
    "P1 = units.Pump('P1', ins=ins3)\n",
    "M2 = units.MixTank('M2', ins=(S1-0, P1-0), tau=2)\n",
    "M2-0-2-M1"
   ]
  },
  {
   "cell_type": "code",
   "execution_count": 32,
   "metadata": {},
   "outputs": [
    {
     "name": "stdout",
     "output_type": "stream",
     "text": [
      "System: System\n",
      " recycle: ws6\n",
      " path: (M1, S1, P1, M2)\n",
      " convergence error: Flow rate   0.00e+00 kmol/hr\n",
      "                    Temperature 0.00e+00 K\n",
      " iterations: 0\n",
      "System: System\n",
      " recycle: ws6\n",
      " path: (M1, S1, P1, M2)\n",
      " convergence error: Flow rate   2.17e-19 kmol/hr\n",
      "                    Temperature 0.00e+00 K\n",
      " iterations: 3\n",
      "WasteStream: ws6 from <MixTank: M2> to <Mixer: M1>\n",
      " phase: 'l', T: 298.15 K, P: 101325 Pa\n",
      " flow (kg/hr): SF    8.75\n",
      "               XPAO  0.125\n",
      "               SNH4  0.025\n",
      "               H2O   1.75e+03\n",
      "\n",
      " WasteStream-specific properties:\n",
      "  pH         : 7.0\n",
      "  Alkalinity : 0.0 [unit]\n",
      "  COD        : 5032.0 [unit]\n",
      "  BOD        : 3595.6 [unit]\n",
      "  TC         : 1609.0 [unit]\n",
      "  TOC        : 1609.0 [unit]\n",
      "  TN         : 169.2 [unit]\n",
      "  TKN        : 169.2 [unit]\n",
      "  TP         : 51.0 [unit]\n",
      "  TK         : 0.0 [unit]\n",
      "  charge     : 1.0 [unit]\n",
      "\n"
     ]
    },
    {
     "data": {
      "image/png": "[encoded data removed]",
      "text/plain": [
       "<IPython.core.display.Image object>"
      ]
     },
     "metadata": {},
     "output_type": "display_data"
    }
   ],
   "source": [
    "System = bst.System('System', path=(M1, S1, P1, M2), recycle=M2-0)\n",
    "System.show()\n",
    "System.simulate()\n",
    "System.show()\n",
    "System.diagram()"
   ]
  },
  {
   "cell_type": "code",
   "execution_count": 33,
   "metadata": {},
   "outputs": [
    {
     "name": "stdout",
     "output_type": "stream",
     "text": [
      "MixTank: M2\n",
      "ins...\n",
      "[0] ws3  from  Splitter-S1\n",
      "    phase: 'l', T: 298.15 K, P: 101325 Pa\n",
      "    flow (kg/hr): SF    1.75\n",
      "                  XPAO  0.125\n",
      "                  SNH4  0.025\n",
      "                  H2O   750\n",
      "\n",
      "    WasteStream-specific properties:\n",
      "     pH         : 7.0\n",
      "     Alkalinity : 0.0 [unit]\n",
      "     COD        : 2486.6 [unit]\n",
      "     BOD        : 1757.2 [unit]\n",
      "     TC         : 802.3 [unit]\n",
      "     TOC        : 802.3 [unit]\n",
      "     TN         : 117.2 [unit]\n",
      "     TKN        : 117.2 [unit]\n",
      "     TP         : 26.5 [unit]\n",
      "     TK         : 0.0 [unit]\n",
      "     charge     : 2.4 [unit]\n",
      "\n",
      "[1] ws5  from  Pump-P1\n",
      "    phase: 'l', T: 298.15 K, P: 101325 Pa\n",
      "    flow (kg/hr): SF   7\n",
      "                  H2O  1e+03\n",
      "\n",
      "    WasteStream-specific properties:\n",
      "     pH         : 7.0\n",
      "     Alkalinity : 0.0 [unit]\n",
      "     COD        : 6933.0 [unit]\n",
      "     BOD        : 4968.7 [unit]\n",
      "     TC         : 2211.5 [unit]\n",
      "     TOC        : 2211.5 [unit]\n",
      "     TN         : 208.0 [unit]\n",
      "     TKN        : 208.0 [unit]\n",
      "     TP         : 69.3 [unit]\n",
      "     TK         : 0.0 [unit]\n",
      "     charge     : 0.0 [unit]\n",
      "\n",
      "outs...\n",
      "[0] ws6  to  Mixer-M1\n",
      "    phase: 'l', T: 298.15 K, P: 101325 Pa\n",
      "    flow (kg/hr): SF    8.75\n",
      "                  XPAO  0.125\n",
      "                  SNH4  0.025\n",
      "                  H2O   1.75e+03\n",
      "\n",
      "    WasteStream-specific properties:\n",
      "     pH         : 7.0\n",
      "     Alkalinity : 0.0 [unit]\n",
      "     COD        : 5032.0 [unit]\n",
      "     BOD        : 3595.6 [unit]\n",
      "     TC         : 1609.0 [unit]\n",
      "     TOC        : 1609.0 [unit]\n",
      "     TN         : 169.2 [unit]\n",
      "     TKN        : 169.2 [unit]\n",
      "     TP         : 51.0 [unit]\n",
      "     TK         : 0.0 [unit]\n",
      "     charge     : 1.0 [unit]\n",
      "\n"
     ]
    },
    {
     "data": {
      "text/html": [
       "<div>\n",
       "<style scoped>\n",
       "    .dataframe tbody tr th:only-of-type {\n",
       "        vertical-align: middle;\n",
       "    }\n",
       "\n",
       "    .dataframe tbody tr th {\n",
       "        vertical-align: top;\n",
       "    }\n",
       "\n",
       "    .dataframe thead th {\n",
       "        text-align: right;\n",
       "    }\n",
       "</style>\n",
       "<table border=\"1\" class=\"dataframe\">\n",
       "  <thead>\n",
       "    <tr style=\"text-align: right;\">\n",
       "      <th></th>\n",
       "      <th>Mix tank</th>\n",
       "      <th>Units</th>\n",
       "      <th>M2</th>\n",
       "    </tr>\n",
       "  </thead>\n",
       "  <tbody>\n",
       "    <tr>\n",
       "      <th rowspan=\"2\" valign=\"top\">Power</th>\n",
       "      <th>Rate</th>\n",
       "      <td>kW</td>\n",
       "      <td>0.434</td>\n",
       "    </tr>\n",
       "    <tr>\n",
       "      <th>Cost</th>\n",
       "      <td>USD/hr</td>\n",
       "      <td>0.034</td>\n",
       "    </tr>\n",
       "    <tr>\n",
       "      <th rowspan=\"3\" valign=\"top\">Design</th>\n",
       "      <th>Residence time</th>\n",
       "      <td>hr</td>\n",
       "      <td>2</td>\n",
       "    </tr>\n",
       "    <tr>\n",
       "      <th>Total volume</th>\n",
       "      <td>m^3</td>\n",
       "      <td>4.41</td>\n",
       "    </tr>\n",
       "    <tr>\n",
       "      <th>Number of tanks</th>\n",
       "      <td></td>\n",
       "      <td>1</td>\n",
       "    </tr>\n",
       "    <tr>\n",
       "      <th>Purchase cost</th>\n",
       "      <th>Tanks</th>\n",
       "      <td>USD</td>\n",
       "      <td>2.84e+04</td>\n",
       "    </tr>\n",
       "    <tr>\n",
       "      <th>Total purchase cost</th>\n",
       "      <th></th>\n",
       "      <td>USD</td>\n",
       "      <td>2.84e+04</td>\n",
       "    </tr>\n",
       "    <tr>\n",
       "      <th>Utility cost</th>\n",
       "      <th></th>\n",
       "      <td>USD/hr</td>\n",
       "      <td>0.034</td>\n",
       "    </tr>\n",
       "  </tbody>\n",
       "</table>\n",
       "</div>"
      ],
      "text/plain": [
       "Mix tank                              Units       M2\n",
       "Power               Rate                 kW    0.434\n",
       "                    Cost             USD/hr    0.034\n",
       "Design              Residence time       hr        2\n",
       "                    Total volume        m^3     4.41\n",
       "                    Number of tanks                1\n",
       "Purchase cost       Tanks               USD 2.84e+04\n",
       "Total purchase cost                     USD 2.84e+04\n",
       "Utility cost                         USD/hr    0.034"
      ]
     },
     "execution_count": 33,
     "metadata": {},
     "output_type": "execute_result"
    }
   ],
   "source": [
    "M2.show()\n",
    "M2.results()"
   ]
  }
 ],
 "metadata": {
  "kernelspec": {
   "display_name": "Python 3",
   "language": "python",
   "name": "python3"
  },
  "language_info": {
   "codemirror_mode": {
    "name": "ipython",
    "version": 3
   },
   "file_extension": ".py",
   "mimetype": "text/x-python",
   "name": "python",
   "nbconvert_exporter": "python",
   "pygments_lexer": "ipython3",
   "version": "3.7.6"
  }
 },
 "nbformat": 4,
 "nbformat_minor": 4
}
